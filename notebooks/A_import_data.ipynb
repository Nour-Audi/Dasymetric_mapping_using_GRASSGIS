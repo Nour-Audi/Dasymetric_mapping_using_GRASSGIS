{
 "cells": [
  {
   "cell_type": "code",
   "execution_count": null,
   "metadata": {
    "collapsed": true
   },
   "outputs": [],
   "source": [
    "%load_ext autoreload\n",
    "%autoreload 2   # Change to %autoreload when development phase is over"
   ]
  },
  {
   "cell_type": "markdown",
   "metadata": {},
   "source": [
    "**Table of Contents**"
   ]
  },
  {
   "cell_type": "markdown",
   "metadata": {},
   "source": [
    "<div id=\"toc\"></div>"
   ]
  },
  {
   "cell_type": "markdown",
   "metadata": {},
   "source": [
    "The following cell is a Javascript section of code for building the Jupyter notebook's table of content."
   ]
  },
  {
   "cell_type": "code",
   "execution_count": null,
   "metadata": {
    "scrolled": false
   },
   "outputs": [],
   "source": [
    "%%javascript\n",
    "$.getScript('https://kmahelona.github.io/ipython_notebook_goodies/ipython_notebook_toc.js')"
   ]
  },
  {
   "cell_type": "markdown",
   "metadata": {},
   "source": [
    "**-_-_-_-_-_-_-_-_-_-_-_-_-_-_-_-_-_-_-_-_-_-_-_-_-_-_-_-_-_-_-_-_-_-_-_-_-_-_-_-_-_-_-_-_-_-_-_-_-_-_-_-_-_-_-_-_-_-_-_-_-**"
   ]
  },
  {
   "cell_type": "markdown",
   "metadata": {},
   "source": [
    "# Define working environment"
   ]
  },
  {
   "cell_type": "markdown",
   "metadata": {},
   "source": [
    "**Import libraries**"
   ]
  },
  {
   "cell_type": "code",
   "execution_count": null,
   "metadata": {
    "collapsed": true
   },
   "outputs": [],
   "source": [
    "## Import libraries needed for setting parameters of operating system \n",
    "import os\n",
    "import sys"
   ]
  },
  {
   "cell_type": "markdown",
   "metadata": {},
   "source": [
    "** Add folder with SCR provided belong to this notebook**"
   ]
  },
  {
   "cell_type": "code",
   "execution_count": null,
   "metadata": {
    "collapsed": true,
    "scrolled": false
   },
   "outputs": [],
   "source": [
    "# Add local module to the path\n",
    "src = os.path.abspath('../SRC')\n",
    "if src not in sys.path:\n",
    "    sys.path.append(src)"
   ]
  },
  {
   "cell_type": "markdown",
   "metadata": {},
   "source": [
    "** Environment variables when working on Linux Mint **"
   ]
  },
  {
   "cell_type": "code",
   "execution_count": null,
   "metadata": {
    "collapsed": true
   },
   "outputs": [],
   "source": [
    "import environ_variables as envi"
   ]
  },
  {
   "cell_type": "code",
   "execution_count": null,
   "metadata": {
    "scrolled": true
   },
   "outputs": [],
   "source": [
    "# Set environmental variables\n",
    "envi.setup_environmental_variables() \n",
    "# Display current environment variables of your computer\n",
    "envi.print_environmental_variables()"
   ]
  },
  {
   "cell_type": "markdown",
   "metadata": {},
   "source": [
    "** GRASS GIS Python libraries **"
   ]
  },
  {
   "cell_type": "code",
   "execution_count": null,
   "metadata": {
    "collapsed": true
   },
   "outputs": [],
   "source": [
    "## Import libraries needed to launch GRASS GIS in the jupyter notebook\n",
    "import grass.script.setup as gsetup\n",
    "## Import libraries needed to call GRASS using Python\n",
    "import grass.script as gscript"
   ]
  },
  {
   "cell_type": "markdown",
   "metadata": {},
   "source": [
    "** Functions defined by the user **"
   ]
  },
  {
   "cell_type": "code",
   "execution_count": null,
   "metadata": {
    "collapsed": true
   },
   "outputs": [],
   "source": [
    "# Import function that check existance and create GRASS GIS database folder if needed\n",
    "from grass_database import check_gisdb\n",
    "from grass_database import check_location\n",
    "from grass_database import check_mapset\n",
    "from grass_database import working_mapset"
   ]
  },
  {
   "cell_type": "code",
   "execution_count": null,
   "metadata": {
    "collapsed": true
   },
   "outputs": [],
   "source": [
    "## Import functions for processing time information\n",
    "from processing_time import start_processing\n",
    "from processing_time import print_processing_time"
   ]
  },
  {
   "cell_type": "code",
   "execution_count": null,
   "metadata": {},
   "outputs": [],
   "source": [
    "# Import function that generate a random name in the GRASS GIS environement\n",
    "from random_layer_name import random_layer_name"
   ]
  },
  {
   "cell_type": "code",
   "execution_count": null,
   "metadata": {
    "collapsed": true
   },
   "outputs": [],
   "source": [
    "# Import function that create color file for raster\n",
    "from colorise_raster import create_color_rule"
   ]
  },
  {
   "cell_type": "code",
   "execution_count": null,
   "metadata": {},
   "outputs": [],
   "source": [
    "# Import function that clip multiple raster according to extention of a vector layer\n",
    "from clip_multiple_raster import clip_multiple_raster"
   ]
  },
  {
   "cell_type": "markdown",
   "metadata": {},
   "source": [
    "**-_-_-_-_-_-_-_-_-_-_-_-_-_-_-_-_-_-_-_-_-_-_-_-_-_-_-_-_-_-_-_-_-_-_-_-_-_-_-_-_-_-_-_-_-_-_-_-_-_-_-_-_-_-_-_-_-_-_-_-_-**"
   ]
  },
  {
   "cell_type": "markdown",
   "metadata": {},
   "source": [
    "# User inputs"
   ]
  },
  {
   "cell_type": "code",
   "execution_count": null,
   "metadata": {
    "collapsed": true
   },
   "outputs": [],
   "source": [
    "## Define a empty dictionnary for saving user inputs\n",
    "user={}"
   ]
  },
  {
   "cell_type": "markdown",
   "metadata": {},
   "source": [
    "Here after:\n",
    "- Enter the path to the directory you want to use as \"[GRASSDATA](https://grass.osgeo.org/programming7/loc_struct.png)\". \n",
    "- Enter the name of the location in which you want to work and its projection information in [EPSG code](http://spatialreference.org/ref/epsg/) format. Please note that the GRASSDATA folder and locations will be automatically created if not existing yet. If the location name already exists, the projection information will not be used.  \n",
    "- Enter the name you want for the mapsets which will be used later for Unsupervised Segmentation Parameter Optimization (USPO), Segmentation and Classification steps."
   ]
  },
  {
   "cell_type": "code",
   "execution_count": null,
   "metadata": {
    "collapsed": true
   },
   "outputs": [],
   "source": [
    "## Enter the path to GRASSDATA folder\n",
    "user[\"gisdb\"] = \"/media/tais/My_Book_1/MAUPP/Traitement/Population_modelling_dasymetry/GRASSDATA\"\n",
    "## Enter the name of the location (existing or for a new one)\n",
    "user[\"location\"] = \"Dakar_32628\"\n",
    "## Enter the EPSG code for this location \n",
    "user[\"locationepsg\"] = \"32628\"\n",
    "## Enter the name of the permanent mapset\n",
    "user[\"permanent_mapset\"] = \"PERMANENT\""
   ]
  },
  {
   "cell_type": "markdown",
   "metadata": {
    "collapsed": true
   },
   "source": [
    "## Administrative units\n",
    "In the next cell, please provide paths to the shapefiles of the **administrative units**. Please notice that youre administrative units data should contain with the population count in one of the columns of the attribute table. \n",
    "\n",
    "Remark: Admin0 is considered as the finest level available (spatially more detailed). Admin1 is considered as the upper lever (the level just above admin0). If you want, you can generate this upper level by aggregating the lower level units using a dedicated Python code available here: [https://github.com/tgrippa/Spatial_kmeans_aggregate_polygon](https://github.com/tgrippa/Spatial_kmeans_aggregate_polygon)."
   ]
  },
  {
   "cell_type": "code",
   "execution_count": null,
   "metadata": {
    "collapsed": true
   },
   "outputs": [],
   "source": [
    "# Path to shapefiles of administrative units (level 0 and upper lever)\n",
    "path_admin0='/media/tais/My_Book_1/MAUPP/Traitement/Population_modelling_dasymetry/data/dakar/population/Dakar_pop_admin5_clip.shp'\n",
    "path_admin1='/media/tais/My_Book_1/MAUPP/Traitement/Population_modelling_dasymetry/Results/Dakar/admin0_aggregation/admin0.shp'"
   ]
  },
  {
   "cell_type": "code",
   "execution_count": null,
   "metadata": {
    "collapsed": true
   },
   "outputs": [],
   "source": [
    "## Name of the column containing the population count\n",
    "population_column=\"POPULATION\""
   ]
  },
  {
   "cell_type": "markdown",
   "metadata": {
    "collapsed": true
   },
   "source": [
    "## Medium resolution built-up layer\n",
    "In the next cell, please provide paths to the medium resolution built-up layer (raster)."
   ]
  },
  {
   "cell_type": "code",
   "execution_count": null,
   "metadata": {
    "collapsed": true
   },
   "outputs": [],
   "source": [
    "## Set the path to the land cover raster\n",
    "path_to_mr_builtup=\"/media/tais/My_Book_1/MAUPP/Traitement/Dakar/Results/WP1/DAKAR_WP1_Builtup_mask.tif\""
   ]
  },
  {
   "cell_type": "markdown",
   "metadata": {
    "collapsed": true
   },
   "source": [
    "## Very-high resolution land cover\n",
    "In the next cell, please provide paths to the raster with the land cover."
   ]
  },
  {
   "cell_type": "code",
   "execution_count": null,
   "metadata": {
    "collapsed": true
   },
   "outputs": [],
   "source": [
    "## Set the path to the land cover raster\n",
    "path_to_lc_raster=\"/media/tais/My_Book_1/MAUPP/Traitement/Dakar/Results/LANDCOVER/POSTCLASSIF/postclassif_map_8_slitbuildings_modalfilter5.tif\""
   ]
  },
  {
   "cell_type": "markdown",
   "metadata": {
    "collapsed": true
   },
   "source": [
    "## Land use\n",
    "In the next cell, please provide paths to the shapefile with the land use map."
   ]
  },
  {
   "cell_type": "code",
   "execution_count": null,
   "metadata": {
    "collapsed": true
   },
   "outputs": [],
   "source": [
    "## Set the path to the land cover raster\n",
    "path_to_lu_vector=\"/media/tais/My_Book_1/MAUPP/Traitement/Population_modelling_dasymetry/data/dakar/Landuse/Dakar_landuse_dasym.shp\""
   ]
  },
  {
   "cell_type": "markdown",
   "metadata": {
    "collapsed": true
   },
   "source": [
    "In the next cell, please provide:\n",
    "- the name of the columns containing the land use class\n",
    "- a dictionnary (KEY:VALUE), with the name of each class of land use in your map as KEY, and the pixel value to be assigned for each class, as VALUE\n",
    "- a dictionnary (KEY:VALUE), with the pixel value as KEY, and the color code (R:G:B format) as VALUE"
   ]
  },
  {
   "cell_type": "code",
   "execution_count": null,
   "metadata": {
    "collapsed": true
   },
   "outputs": [],
   "source": [
    "## Name of the column containing the class name\n",
    "classname_column=\"MAP_LABEL\""
   ]
  },
  {
   "cell_type": "code",
   "execution_count": null,
   "metadata": {
    "collapsed": true
   },
   "outputs": [],
   "source": [
    "## Pairs of class=pixelvalue to use\n",
    "class_value={}\n",
    "class_value[\"AGRI\"]=1\n",
    "class_value[\"VEG\"]=2\n",
    "class_value[\"BARE\"]=3\n",
    "class_value[\"ACS\"]=4\n",
    "class_value[\"PLAN\"]=5\n",
    "class_value[\"PLAN_LD\"]=6\n",
    "class_value[\"DEPR\"]=7\n",
    "class_value[\"UNCERT\"]=8"
   ]
  },
  {
   "cell_type": "code",
   "execution_count": null,
   "metadata": {
    "collapsed": true
   },
   "outputs": [],
   "source": [
    "## Colors to be use for the raster of land use\n",
    "color_value={}\n",
    "color_value[1]=\"96:218:105\"\n",
    "color_value[2]=\"52:164:0\"\n",
    "color_value[3]=\"246:237:197\"\n",
    "color_value[4]=\"207:67:205\"\n",
    "color_value[5]=\"229:107:54\"\n",
    "color_value[6]=\"255:184:61\"\n",
    "color_value[7]=\"227:23:50\"\n",
    "color_value[8]=\"176:176:176\""
   ]
  },
  {
   "cell_type": "markdown",
   "metadata": {
    "collapsed": true
   },
   "source": [
    "# Check for existance of GRASSDATA folder, location and mapsets"
   ]
  },
  {
   "cell_type": "markdown",
   "metadata": {},
   "source": [
    "Here after, the python script will check if GRASSDATA folder, locations and mapsets already exist. If not, they will be automatically created."
   ]
  },
  {
   "cell_type": "code",
   "execution_count": null,
   "metadata": {
    "scrolled": false
   },
   "outputs": [],
   "source": [
    "# Check if the GRASS GIS database exists and create it if not\n",
    "check_gisdb(user[\"gisdb\"])"
   ]
  },
  {
   "cell_type": "code",
   "execution_count": null,
   "metadata": {},
   "outputs": [],
   "source": [
    "# Check if the location exists and create it if not, with the CRS defined by the epsg code \n",
    "check_location(user[\"gisdb\"],user[\"location\"],user[\"locationepsg\"])"
   ]
  },
  {
   "cell_type": "code",
   "execution_count": null,
   "metadata": {},
   "outputs": [],
   "source": [
    "# Check if the mapset exists and create it if not\n",
    "check_mapset(user[\"gisdb\"],user[\"location\"],user[\"permanent_mapset\"])"
   ]
  },
  {
   "cell_type": "markdown",
   "metadata": {
    "collapsed": true
   },
   "source": [
    "**Launch GRASS GIS working session on PERMANENT mapset**"
   ]
  },
  {
   "cell_type": "code",
   "execution_count": null,
   "metadata": {},
   "outputs": [],
   "source": [
    "# Change the current working GRASS GIS session mapset\n",
    "working_mapset(user[\"gisdb\"],user[\"location\"],'PERMANENT')"
   ]
  },
  {
   "cell_type": "markdown",
   "metadata": {},
   "source": [
    "**-_-_-_-_-_-_-_-_-_-_-_-_-_-_-_-_-_-_-_-_-_-_-_-_-_-_-_-_-_-_-_-_-_-_-_-_-_-_-_-_-_-_-_-_-_-_-_-_-_-_-_-_-_-_-_-_-_-_-_-_-**"
   ]
  },
  {
   "cell_type": "markdown",
   "metadata": {},
   "source": [
    "# Importing data"
   ]
  },
  {
   "cell_type": "markdown",
   "metadata": {},
   "source": [
    "In GRASS GIS, original data are usually imported and stored in the \"PERMANENT\" mapset (automatically created when creating a new location).\n",
    "\n",
    "**Important remark:** When importing vectorial data (shapefile), please be carefull to import a layer which is topologicaly clean."
   ]
  },
  {
   "cell_type": "code",
   "execution_count": null,
   "metadata": {
    "collapsed": true,
    "scrolled": true
   },
   "outputs": [],
   "source": [
    "## Saving current time for processing time management\n",
    "begintime_full=start_processing()"
   ]
  },
  {
   "cell_type": "markdown",
   "metadata": {},
   "source": [
    "## Import population data (shapefile)"
   ]
  },
  {
   "cell_type": "code",
   "execution_count": null,
   "metadata": {},
   "outputs": [],
   "source": [
    "# Import the shapefile of admin0\n",
    "gscript.run_command('v.in.ogr', overwrite=True, flags='o', input=path_admin0, output='admin_level0')\n",
    "# Import the shapefile of admin1\n",
    "gscript.run_command('v.in.ogr', overwrite=True, flags='o', input=path_admin1, output='admin_level1')"
   ]
  },
  {
   "cell_type": "markdown",
   "metadata": {},
   "source": [
    "### Check if total of population is the same for both levels"
   ]
  },
  {
   "cell_type": "code",
   "execution_count": null,
   "metadata": {},
   "outputs": [],
   "source": [
    "# Get the sum of population columns on both levels\n",
    "level1 = gscript.parse_command('v.db.univar', flags='g', map='admin_level1', column=population_column)['sum']\n",
    "level0 = gscript.parse_command('v.db.univar', flags='g', map='admin_level0', column=population_column)['sum']\n",
    "# Check if values correspond\n",
    "if not level1 == level0:\n",
    "    sys.exit(\"Sum of population differ between both level, which is not suppose to. Please fix it\")\n",
    "else:\n",
    "    print \"Sum of population well correspond on both level\""
   ]
  },
  {
   "cell_type": "markdown",
   "metadata": {},
   "source": [
    "## Import VHR land cover map"
   ]
  },
  {
   "cell_type": "code",
   "execution_count": null,
   "metadata": {
    "collapsed": true
   },
   "outputs": [],
   "source": [
    "## Set the name of the land cover raster\n",
    "lc='landcover'"
   ]
  },
  {
   "cell_type": "code",
   "execution_count": null,
   "metadata": {},
   "outputs": [],
   "source": [
    "## Saving current time for processing time management\n",
    "begintime=start_processing()\n",
    "## Import raster\n",
    "print (\"Importing land cover raster at \" + time.ctime())\n",
    "gscript.run_command('r.import', input=path_to_lc_raster, output=lc, overwrite=True)       \n",
    "print_processing_time(begintime ,\"Land cover raster has been imported in \")"
   ]
  },
  {
   "cell_type": "markdown",
   "metadata": {},
   "source": [
    "## Import MR built-up layer"
   ]
  },
  {
   "cell_type": "code",
   "execution_count": null,
   "metadata": {
    "collapsed": true
   },
   "outputs": [],
   "source": [
    "## Set the name of the land cover raster\n",
    "mr_builtup='MR_builtup'"
   ]
  },
  {
   "cell_type": "code",
   "execution_count": null,
   "metadata": {},
   "outputs": [],
   "source": [
    "## Saving current time for processing time management\n",
    "begintime=start_processing()\n",
    "## Import raster\n",
    "print (\"Importing MR built-up layer at \" + time.ctime())\n",
    "gscript.run_command('r.import', input=path_to_mr_builtup, output=mr_builtup, overwrite=True)       \n",
    "print_processing_time(begintime ,\"MR built-up layer has been imported in \")"
   ]
  },
  {
   "cell_type": "code",
   "execution_count": null,
   "metadata": {},
   "outputs": [],
   "source": [
    "# Set null pixels\n",
    "gscript.run_command('r.null', map=mr_builtup, setnull='0')\n",
    "# Set colors\n",
    "gscript.run_command('r.colors', flags='n', map=mr_builtup, color='grey')"
   ]
  },
  {
   "cell_type": "markdown",
   "metadata": {},
   "source": [
    "## Import land use"
   ]
  },
  {
   "cell_type": "code",
   "execution_count": null,
   "metadata": {
    "collapsed": true
   },
   "outputs": [],
   "source": [
    "## Set a name for the land use layer\n",
    "lu='landuse'"
   ]
  },
  {
   "cell_type": "code",
   "execution_count": null,
   "metadata": {},
   "outputs": [],
   "source": [
    "## Saving current time for processing time management\n",
    "begintime=start_processing()\n",
    "## Import vector layer as temporary\n",
    "print (\"Importing temporary land use vector at \" + time.ctime())\n",
    "tmp_name=random_layer_name()\n",
    "gscript.run_command('v.import', input=path_to_lu_vector, output=tmp_name, overwrite=True)       \n",
    "print_processing_time(begintime ,\"Land use vector has been imported in \")"
   ]
  },
  {
   "cell_type": "markdown",
   "metadata": {},
   "source": [
    "# Convert land use vector to raster"
   ]
  },
  {
   "cell_type": "markdown",
   "metadata": {},
   "source": [
    "The next processings will require the land use as raster format. Here, the shapefile data will be converted to raster with the same spatial resolution than the land cover product."
   ]
  },
  {
   "cell_type": "markdown",
   "metadata": {},
   "source": [
    "**Add column with class value (pixel value) in the attribute table**"
   ]
  },
  {
   "cell_type": "code",
   "execution_count": null,
   "metadata": {
    "scrolled": true
   },
   "outputs": [],
   "source": [
    "## Add a column in the attribute table\n",
    "gscript.run_command('v.db.addcolumn', map=tmp_name, columns='value int')\n",
    "## Update the new column with value to attribute to the pixels for the land use raster\n",
    "for key in class_value.keys():\n",
    "    gscript.run_command('v.db.update', map=tmp_name, column='value', value=class_value[key],\n",
    "                        where=\"%s='%s'\"%(classname_column,key))\n",
    "    print \"Pixel value updated for class '%s'\"%key"
   ]
  },
  {
   "cell_type": "markdown",
   "metadata": {},
   "source": [
    "**Vector to raster convertion**"
   ]
  },
  {
   "cell_type": "code",
   "execution_count": null,
   "metadata": {},
   "outputs": [],
   "source": [
    "## Convertion from vector to ratser\n",
    "gscript.run_command('g.region', raster=lc)\n",
    "gscript.run_command('v.to.rast', overwrite=True, input=tmp_name, output=lu, \n",
    "                    use='attr', attribute_column='value', \n",
    "                    label_column=classname_column, memory='5000')"
   ]
  },
  {
   "cell_type": "markdown",
   "metadata": {},
   "source": [
    "**Remove initial land use vector**"
   ]
  },
  {
   "cell_type": "code",
   "execution_count": null,
   "metadata": {
    "scrolled": true
   },
   "outputs": [],
   "source": [
    "## Remove the initial vector layer\n",
    "gscript.run_command('g.remove', flags='f', type='vector', name=tmp_name)"
   ]
  },
  {
   "cell_type": "markdown",
   "metadata": {},
   "source": [
    "**Update colors of the raster**"
   ]
  },
  {
   "cell_type": "code",
   "execution_count": null,
   "metadata": {
    "scrolled": false
   },
   "outputs": [],
   "source": [
    "# Generate the color file to be used with 'r.colors' and save it in a temp file\n",
    "color_table=create_color_rule(color_value)"
   ]
  },
  {
   "cell_type": "code",
   "execution_count": null,
   "metadata": {
    "scrolled": true
   },
   "outputs": [],
   "source": [
    "# Apply the color scheme to the raster\n",
    "gscript.run_command('r.colors', map=lu, rules=color_table)"
   ]
  },
  {
   "cell_type": "markdown",
   "metadata": {},
   "source": [
    "# Clip the rasters to match the extend of administrative layer"
   ]
  },
  {
   "cell_type": "code",
   "execution_count": null,
   "metadata": {},
   "outputs": [],
   "source": [
    "## Instal required add-on if not yet installed\n",
    "if \"r.clip\" not in gscript.parse_command('g.extension', flags=\"a\"):\n",
    "    gscript.run_command('g.extension', extension=\"r.clip\")\n",
    "    print \"r.clip have been installed on your computer\"\n",
    "else: print \"r.clip is already installed on your computer\" "
   ]
  },
  {
   "cell_type": "code",
   "execution_count": null,
   "metadata": {
    "scrolled": true
   },
   "outputs": [],
   "source": [
    "## Define the list with names of raster layers to clip\n",
    "raster_to_clip = [lc,lu,mr_builtup]\n",
    "print \"\\n\".join(raster_to_clip)"
   ]
  },
  {
   "cell_type": "code",
   "execution_count": null,
   "metadata": {},
   "outputs": [],
   "source": [
    "# Define the region\n",
    "gscript.run_command('g.region', vector='admin_level0', align=lc)\n",
    "# Define MASK and get a copy is needed\n",
    "gscript.run_command('r.mask', overwrite=True, vector='admin_level0')\n",
    "gscript.run_command('g.copy', overwrite=True, raster='MASK,maskcopy')\n",
    "# Clip multiple rasters \n",
    "clip_multiple_raster(raster_to_clip, overwrite=True, n_jobs=10)\n",
    "# Rename raster to overwrite the original one\n",
    "[gscript.run_command('g.rename', overwrite=True, raster='%s_clip,%s'%(name,name)) for name in raster_to_clip]\n",
    "# Remove MASK\n",
    "gscript.run_command('r.mask', flags='r')"
   ]
  },
  {
   "cell_type": "code",
   "execution_count": null,
   "metadata": {
    "collapsed": true
   },
   "outputs": [],
   "source": []
  }
 ],
 "metadata": {
  "anaconda-cloud": {},
  "kernelspec": {
   "display_name": "Python 2",
   "language": "python",
   "name": "python2"
  },
  "language_info": {
   "codemirror_mode": {
    "name": "ipython",
    "version": 2
   },
   "file_extension": ".py",
   "mimetype": "text/x-python",
   "name": "python",
   "nbconvert_exporter": "python",
   "pygments_lexer": "ipython2",
   "version": "2.7.12"
  }
 },
 "nbformat": 4,
 "nbformat_minor": 1
}
