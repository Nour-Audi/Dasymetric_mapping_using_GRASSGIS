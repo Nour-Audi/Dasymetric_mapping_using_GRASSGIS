{
 "cells": [
  {
   "cell_type": "markdown",
   "metadata": {},
   "source": [
    "**Table of Contents**"
   ]
  },
  {
   "cell_type": "markdown",
   "metadata": {},
   "source": [
    "<div id=\"toc\"></div>"
   ]
  },
  {
   "cell_type": "markdown",
   "metadata": {},
   "source": [
    "The following cell is a Javascript section of code for building the Jupyter notebook's table of content."
   ]
  },
  {
   "cell_type": "code",
   "execution_count": 1,
   "metadata": {
    "scrolled": false
   },
   "outputs": [
    {
     "data": {
      "application/javascript": [
       "$.getScript('https://kmahelona.github.io/ipython_notebook_goodies/ipython_notebook_toc.js')"
      ],
      "text/plain": [
       "<IPython.core.display.Javascript object>"
      ]
     },
     "metadata": {},
     "output_type": "display_data"
    }
   ],
   "source": [
    "%%javascript\n",
    "$.getScript('https://kmahelona.github.io/ipython_notebook_goodies/ipython_notebook_toc.js')"
   ]
  },
  {
   "cell_type": "markdown",
   "metadata": {},
   "source": [
    "**-_-_-_-_-_-_-_-_-_-_-_-_-_-_-_-_-_-_-_-_-_-_-_-_-_-_-_-_-_-_-_-_-_-_-_-_-_-_-_-_-_-_-_-_-_-_-_-_-_-_-_-_-_-_-_-_-_-_-_-_-**"
   ]
  },
  {
   "cell_type": "markdown",
   "metadata": {},
   "source": [
    "# Define working environment"
   ]
  },
  {
   "cell_type": "markdown",
   "metadata": {},
   "source": [
    "**Import libraries**"
   ]
  },
  {
   "cell_type": "code",
   "execution_count": 2,
   "metadata": {
    "collapsed": true
   },
   "outputs": [],
   "source": [
    "## Import libraries needed for setting parameters of operating system \n",
    "import os\n",
    "import sys\n",
    "import time"
   ]
  },
  {
   "cell_type": "code",
   "execution_count": 3,
   "metadata": {
    "collapsed": true
   },
   "outputs": [],
   "source": [
    "## Import Geopandas\n",
    "import geopandas as gpd"
   ]
  },
  {
   "cell_type": "markdown",
   "metadata": {},
   "source": [
    "** Add folder with SCR provided belong to this notebook**"
   ]
  },
  {
   "cell_type": "code",
   "execution_count": 4,
   "metadata": {
    "collapsed": true,
    "scrolled": false
   },
   "outputs": [],
   "source": [
    "# Add local module to the path\n",
    "src = os.path.abspath('../SRC')\n",
    "if src not in sys.path:\n",
    "    sys.path.append(src)"
   ]
  },
  {
   "cell_type": "markdown",
   "metadata": {},
   "source": [
    "** Environment variables when working on Linux Mint **"
   ]
  },
  {
   "cell_type": "code",
   "execution_count": 5,
   "metadata": {
    "collapsed": true
   },
   "outputs": [],
   "source": [
    "import environ_variables as envi"
   ]
  },
  {
   "cell_type": "code",
   "execution_count": 6,
   "metadata": {
    "scrolled": true
   },
   "outputs": [
    {
     "name": "stdout",
     "output_type": "stream",
     "text": [
      "MDMSESSION = mate \t\n",
      "MANDATORY_PATH = /usr/share/gconf/mate.mandatory.path \t\n",
      "MATE_DESKTOP_SESSION_ID = this-is-deprecated \t\n",
      "LESSOPEN = | /usr/bin/lesspipe %s \t\n",
      "MDM_LANG = fr_BE.UTF-8 \t\n",
      "LOGNAME = tais \t\n",
      "USER = tais \t\n",
      "HOME = /home/tais \t\n",
      "XDG_VTNR = 8 \t\n",
      "PATH = /usr/local/bin:/home/tais/BIN:/home/tais/bin:/home/tais/.local/bin:/usr/local/sbin:/usr/local/bin:/usr/sbin:/usr/bin:/sbin:/bin:/usr/games:/usr/local/games:/home/tais/SRC/GRASS/grass_trunk/dist.x86_64-pc-linux-gnu/bin:/home/tais/SRC/GRASS/grass_trunk/dist.x86_64-pc-linux-gnu/script:/home/tais/SRC/GRASS/grass_trunk/dist.x86_64-pc-linux-gnu/lib \t\n",
      "CLICOLOR = 1 \t\n",
      "DISPLAY = :0.0 \t\n",
      "SSH_AGENT_PID = 23350 \t\n",
      "LANG = fr_BE.UTF-8 \t\n",
      "TERM = xterm-color \t\n",
      "SHELL = /bin/bash \t\n",
      "GIS_LOCK = $$ \t\n",
      "XAUTHORITY = /home/tais/.Xauthority \t\n",
      "SESSION_MANAGER = local/tais-HP-Z620-Workstation:@/tmp/.ICE-unix/23279,unix/tais-HP-Z620-Workstation:/tmp/.ICE-unix/23279 \t\n",
      "SHLVL = 1 \t\n",
      "QT_LINUX_ACCESSIBILITY_ALWAYS_ON = 1 \t\n",
      "INSIDE_CAJA_PYTHON =  \t\n",
      "QT_ACCESSIBILITY = 1 \t\n",
      "LD_LIBRARY_PATH = :/home/tais/SRC/GRASS/grass_trunk/dist.x86_64-pc-linux-gnu/lib \t\n",
      "COMPIZ_CONFIG_PROFILE = mate \t\n",
      "WINDOWPATH = 8 \t\n",
      "GTK_OVERLAY_SCROLLING = 0 \t\n",
      "PYTHONPATH = :/home/tais/SRC/GRASS/grass_trunk/dist.x86_64-pc-linux-gnu/etc/python:/home/tais/SRC/GRASS/grass_trunk/dist.x86_64-pc-linux-gnu/etc/python/grass:/home/tais/SRC/GRASS/grass_trunk/dist.x86_64-pc-linux-gnu/etc/python/grass/script \t\n",
      "GISBASE = /home/tais/SRC/GRASS/grass_trunk/dist.x86_64-pc-linux-gnu \t\n",
      "CLUTTER_BACKEND = x11 \t\n",
      "USERNAME = tais \t\n",
      "XDG_SESSION_DESKTOP = mate \t\n",
      "GDM_XSERVER_LOCATION = local \t\n",
      "XDG_RUNTIME_DIR = /run/user/1000 \t\n",
      "JPY_PARENT_PID = 24629 \t\n",
      "QT_STYLE_OVERRIDE = gtk \t\n",
      "SSH_AUTH_SOCK = /run/user/1000/keyring/ssh \t\n",
      "VTE_VERSION = 4205 \t\n",
      "GDMSESSION = mate \t\n",
      "GISRC = /home/tais/.grass7/rc \t\n",
      "GIT_PAGER = cat \t\n",
      "XDG_CONFIG_DIRS = /etc/xdg/xdg-mate:/etc/xdg \t\n",
      "XDG_CURRENT_DESKTOP = MATE \t\n",
      "XDG_SESSION_ID = c22 \t\n",
      "DBUS_SESSION_BUS_ADDRESS = unix:abstract=/tmp/dbus-xdym3eTAWO,guid=52e7fafde79454df643477325bf482ea \t\n",
      "_ = /usr/local/bin/jupyter \t\n",
      "XDG_SESSION_COOKIE = 8441891e86e24d76b9616edf516d5734-1542750954.483395-365921662 \t\n",
      "GDAL_DATA = /usr/local/lib/python2.7/dist-packages/fiona/gdal_data \t\n",
      "DESKTOP_SESSION = mate \t\n",
      "WINDOWID = 81788934 \t\n",
      "LESSCLOSE = /usr/bin/lesspipe %s %s \t\n",
      "DEFAULTS_PATH = /usr/share/gconf/mate.default.path \t\n",
      "MPLBACKEND = module://ipykernel.pylab.backend_inline \t\n",
      "PROJ_LIB = /usr/local/lib/python2.7/dist-packages/fiona/proj_data \t\n",
      "MDM_XSERVER_LOCATION = local \t\n",
      "GTK_MODULES = gail:atk-bridge \t\n",
      "XDG_DATA_DIRS = /usr/share/mate:/usr/local/share/:/usr/share/:/usr/share/mdm/ \t\n",
      "PWD = /media/tais/data/Dropbox/ULB/MAUPP/Traitements/population_modeling \t\n",
      "COLORTERM = mate-terminal \t\n",
      "PYTHONLIB = /usr/lib/python2.7 \t\n",
      "LS_COLORS = rs=0:di=01;34:ln=01;36:mh=00:pi=40;33:so=01;35:do=01;35:bd=40;33;01:cd=40;33;01:or=40;31;01:mi=00:su=37;41:sg=30;43:ca=30;41:tw=30;42:ow=34;42:st=37;44:ex=01;32:*.tar=01;31:*.tgz=01;31:*.arc=01;31:*.arj=01;31:*.taz=01;31:*.lha=01;31:*.lz4=01;31:*.lzh=01;31:*.lzma=01;31:*.tlz=01;31:*.txz=01;31:*.tzo=01;31:*.t7z=01;31:*.zip=01;31:*.z=01;31:*.Z=01;31:*.dz=01;31:*.gz=01;31:*.lrz=01;31:*.lz=01;31:*.lzo=01;31:*.xz=01;31:*.bz2=01;31:*.bz=01;31:*.tbz=01;31:*.tbz2=01;31:*.tz=01;31:*.deb=01;31:*.rpm=01;31:*.jar=01;31:*.war=01;31:*.ear=01;31:*.sar=01;31:*.rar=01;31:*.alz=01;31:*.ace=01;31:*.zoo=01;31:*.cpio=01;31:*.7z=01;31:*.rz=01;31:*.cab=01;31:*.jpg=01;35:*.jpeg=01;35:*.gif=01;35:*.bmp=01;35:*.pbm=01;35:*.pgm=01;35:*.ppm=01;35:*.tga=01;35:*.xbm=01;35:*.xpm=01;35:*.tif=01;35:*.tiff=01;35:*.png=01;35:*.svg=01;35:*.svgz=01;35:*.mng=01;35:*.pcx=01;35:*.mov=01;35:*.mpg=01;35:*.mpeg=01;35:*.m2v=01;35:*.mkv=01;35:*.webm=01;35:*.ogm=01;35:*.mp4=01;35:*.m4v=01;35:*.mp4v=01;35:*.vob=01;35:*.qt=01;35:*.nuv=01;35:*.wmv=01;35:*.asf=01;35:*.rm=01;35:*.rmvb=01;35:*.flc=01;35:*.avi=01;35:*.fli=01;35:*.flv=01;35:*.gl=01;35:*.dl=01;35:*.xcf=01;35:*.xwd=01;35:*.yuv=01;35:*.cgm=01;35:*.emf=01;35:*.ogv=01;35:*.ogx=01;35:*.aac=00;36:*.au=00;36:*.flac=00;36:*.m4a=00;36:*.mid=00;36:*.midi=00;36:*.mka=00;36:*.mp3=00;36:*.mpc=00;36:*.ogg=00;36:*.ra=00;36:*.wav=00;36:*.oga=00;36:*.opus=00;36:*.spx=00;36:*.xspf=00;36: \t\n",
      "PAGER = cat \t\n",
      "XDG_SEAT = seat0 \t\n"
     ]
    }
   ],
   "source": [
    "# Set environmental variables\n",
    "envi.setup_environmental_variables() \n",
    "# Display current environment variables of your computer\n",
    "envi.print_environmental_variables()"
   ]
  },
  {
   "cell_type": "markdown",
   "metadata": {},
   "source": [
    "** GRASS GIS Python libraries **"
   ]
  },
  {
   "cell_type": "code",
   "execution_count": 7,
   "metadata": {
    "collapsed": true
   },
   "outputs": [],
   "source": [
    "## Import libraries needed to launch GRASS GIS in the jupyter notebook\n",
    "import grass.script.setup as gsetup\n",
    "## Import libraries needed to call GRASS using Python\n",
    "import grass.script as gscript"
   ]
  },
  {
   "cell_type": "markdown",
   "metadata": {},
   "source": [
    "** Functions defined by the user **"
   ]
  },
  {
   "cell_type": "code",
   "execution_count": 8,
   "metadata": {
    "collapsed": true
   },
   "outputs": [],
   "source": [
    "# Import function that check existance and create GRASS GIS database folder if needed\n",
    "from grass_database import check_gisdb, check_location, check_mapset, working_mapset"
   ]
  },
  {
   "cell_type": "code",
   "execution_count": 9,
   "metadata": {
    "collapsed": true
   },
   "outputs": [],
   "source": [
    "## Import functions for processing time information\n",
    "from processing_time import start_processing, print_processing_time"
   ]
  },
  {
   "cell_type": "code",
   "execution_count": 10,
   "metadata": {
    "collapsed": true
   },
   "outputs": [],
   "source": [
    "# Import function that generate a random name in the GRASS GIS environement\n",
    "from random_layer_name import random_layer_name"
   ]
  },
  {
   "cell_type": "code",
   "execution_count": 11,
   "metadata": {
    "collapsed": true
   },
   "outputs": [],
   "source": [
    "# Import function that create color file for raster\n",
    "from colorise_raster import create_color_rule"
   ]
  },
  {
   "cell_type": "code",
   "execution_count": 12,
   "metadata": {
    "collapsed": true
   },
   "outputs": [],
   "source": [
    "# Import function that clip multiple raster according to extention of a vector layer\n",
    "from clip_multiple_raster import clip_multiple_raster"
   ]
  },
  {
   "cell_type": "markdown",
   "metadata": {},
   "source": [
    "**-_-_-_-_-_-_-_-_-_-_-_-_-_-_-_-_-_-_-_-_-_-_-_-_-_-_-_-_-_-_-_-_-_-_-_-_-_-_-_-_-_-_-_-_-_-_-_-_-_-_-_-_-_-_-_-_-_-_-_-_-**"
   ]
  },
  {
   "cell_type": "markdown",
   "metadata": {},
   "source": [
    "# User inputs"
   ]
  },
  {
   "cell_type": "code",
   "execution_count": 13,
   "metadata": {
    "collapsed": true
   },
   "outputs": [],
   "source": [
    "## Define a empty dictionnary for saving user inputs\n",
    "user={}"
   ]
  },
  {
   "cell_type": "markdown",
   "metadata": {},
   "source": [
    "Here after:\n",
    "- Enter the path to the directory you want to use as \"[GRASSDATA](https://grass.osgeo.org/programming7/loc_struct.png)\". \n",
    "- Enter the name of the location in which you want to work and its projection information in [EPSG code](http://spatialreference.org/ref/epsg/) format. Please note that the GRASSDATA folder and locations will be automatically created if not existing yet. If the location name already exists, the projection information will not be used.  \n",
    "- Enter the name you want for the mapsets which will be used later for Unsupervised Segmentation Parameter Optimization (USPO), Segmentation and Classification steps."
   ]
  },
  {
   "cell_type": "code",
   "execution_count": 14,
   "metadata": {
    "collapsed": true
   },
   "outputs": [],
   "source": [
    "## Enter the path to GRASSDATA folder\n",
    "user[\"gisdb\"] = \"/media/tais/My_Book_1/MAUPP/Traitement/Population_modelling_dasymetry/GRASSDATA\"\n",
    "## Enter the name of the location (existing or for a new one)\n",
    "user[\"location\"] = \"Dakar_32628\"\n",
    "## Enter the EPSG code for this location \n",
    "user[\"locationepsg\"] = \"32628\"\n",
    "## Enter the name of the permanent mapset\n",
    "user[\"permanent_mapset\"] = \"PERMANENT\""
   ]
  },
  {
   "cell_type": "code",
   "execution_count": 15,
   "metadata": {
    "collapsed": true
   },
   "outputs": [],
   "source": [
    "# Set the name of the layers\n",
    "Land_cover = 'landcover'  # VHR Land cover map\n",
    "Land_use = 'landuse' # VHR Land use map\n",
    "mr_builtup = 'MR_builtup' # MR built-up map\n",
    "mr_built_pixelvalue = '1' # The value of built pixels in the MR built-up map\n",
    "## Name of the column containing the population count\n",
    "population_column = \"POPULATION\"\n",
    "## Name of the column containing the density (response variable)\n",
    "response_column = \"popdens\""
   ]
  },
  {
   "cell_type": "markdown",
   "metadata": {
    "collapsed": true
   },
   "source": [
    "# Check for existance of GRASSDATA folder, location and mapsets"
   ]
  },
  {
   "cell_type": "markdown",
   "metadata": {},
   "source": [
    "Here after, the python script will check if GRASSDATA folder, locations and mapsets already exist. If not, they will be automatically created."
   ]
  },
  {
   "cell_type": "code",
   "execution_count": 16,
   "metadata": {
    "scrolled": false
   },
   "outputs": [
    {
     "name": "stdout",
     "output_type": "stream",
     "text": [
      "GRASSDATA folder already exist\n"
     ]
    }
   ],
   "source": [
    "# Check if the GRASS GIS database exists and create it if not\n",
    "check_gisdb(user[\"gisdb\"])"
   ]
  },
  {
   "cell_type": "code",
   "execution_count": 17,
   "metadata": {},
   "outputs": [
    {
     "name": "stdout",
     "output_type": "stream",
     "text": [
      "Location Dakar_32628 already exist\n"
     ]
    }
   ],
   "source": [
    "# Check if the location exists and create it if not, with the CRS defined by the epsg code \n",
    "check_location(user[\"gisdb\"],user[\"location\"],user[\"locationepsg\"])"
   ]
  },
  {
   "cell_type": "code",
   "execution_count": 18,
   "metadata": {},
   "outputs": [
    {
     "name": "stdout",
     "output_type": "stream",
     "text": [
      "'PERMANENT' mapset already exists in location 'Dakar_32628'\n"
     ]
    }
   ],
   "source": [
    "# Check if the mapset exists and create it if not\n",
    "check_mapset(user[\"gisdb\"],user[\"location\"],user[\"permanent_mapset\"])"
   ]
  },
  {
   "cell_type": "markdown",
   "metadata": {},
   "source": [
    "**-_-_-_-_-_-_-_-_-_-_-_-_-_-_-_-_-_-_-_-_-_-_-_-_-_-_-_-_-_-_-_-_-_-_-_-_-_-_-_-_-_-_-_-_-_-_-_-_-_-_-_-_-_-_-_-_-_-_-_-_-**"
   ]
  },
  {
   "cell_type": "markdown",
   "metadata": {
    "collapsed": true
   },
   "source": [
    "# Launch GRASS GIS working session on PERMANENT mapset"
   ]
  },
  {
   "cell_type": "markdown",
   "metadata": {},
   "source": [
    "In GRASS GIS, original data are usually imported and stored in the \"PERMANENT\" mapset (automatically created when creating a new location)."
   ]
  },
  {
   "cell_type": "code",
   "execution_count": 19,
   "metadata": {
    "collapsed": true,
    "scrolled": true
   },
   "outputs": [],
   "source": [
    "## Saving current time for processing time management\n",
    "begintime_full=start_processing()"
   ]
  },
  {
   "cell_type": "code",
   "execution_count": 20,
   "metadata": {},
   "outputs": [
    {
     "name": "stdout",
     "output_type": "stream",
     "text": [
      "You are now working in mapset 'PERMANENT'\n"
     ]
    }
   ],
   "source": [
    "# Change the current working GRASS GIS session mapset\n",
    "working_mapset(user[\"gisdb\"],user[\"location\"],'PERMANENT')"
   ]
  },
  {
   "cell_type": "markdown",
   "metadata": {
    "collapsed": true
   },
   "source": [
    "# Import very-high resolution land cover\n",
    "In the next cell, please provide paths to the raster with the land cover."
   ]
  },
  {
   "cell_type": "code",
   "execution_count": 21,
   "metadata": {
    "collapsed": true
   },
   "outputs": [],
   "source": [
    "## Set the path to the land cover raster\n",
    "path_to_lc_raster=\"/media/tais/My_Book_1/MAUPP/Traitement/Dakar/Results/LANDCOVER/POSTCLASSIF/postclassif_map_8_slitbuildings_modalfilter5.tif\""
   ]
  },
  {
   "cell_type": "code",
   "execution_count": 22,
   "metadata": {},
   "outputs": [
    {
     "name": "stdout",
     "output_type": "stream",
     "text": [
      "Importing land cover raster at Tue Nov 20 23:33:58 2018\n"
     ]
    },
    {
     "data": {
      "text/plain": [
       "'Land cover raster has been imported in 1 minutes and 45.1 seconds'"
      ]
     },
     "execution_count": 22,
     "metadata": {},
     "output_type": "execute_result"
    }
   ],
   "source": [
    "## Saving current time for processing time management\n",
    "begintime=start_processing()\n",
    "## Import raster\n",
    "print (\"Importing land cover raster at \" + time.ctime())\n",
    "gscript.run_command('r.import', input=path_to_lc_raster, output=Land_cover, overwrite=True)       \n",
    "print_processing_time(begintime ,\"Land cover raster has been imported in \")"
   ]
  },
  {
   "cell_type": "markdown",
   "metadata": {
    "collapsed": true
   },
   "source": [
    "# Import medium resolution built-up layer\n",
    "In the next cell, please provide paths to the medium resolution built-up layer (raster)."
   ]
  },
  {
   "cell_type": "code",
   "execution_count": 23,
   "metadata": {
    "collapsed": true
   },
   "outputs": [],
   "source": [
    "## Set the path to the land cover raster\n",
    "path_to_mr_builtup=\"/media/tais/My_Book_1/MAUPP/Traitement/Dakar/Results/WP1/DAKAR_WP1_Builtup_mask_V2.tif\""
   ]
  },
  {
   "cell_type": "code",
   "execution_count": 24,
   "metadata": {},
   "outputs": [
    {
     "name": "stdout",
     "output_type": "stream",
     "text": [
      "Importing MR built-up layer at Tue Nov 20 23:35:43 2018\n"
     ]
    },
    {
     "data": {
      "text/plain": [
       "'MR built-up layer has been imported in 1.4 seconds'"
      ]
     },
     "execution_count": 24,
     "metadata": {},
     "output_type": "execute_result"
    }
   ],
   "source": [
    "## Saving current time for processing time management\n",
    "begintime=start_processing()\n",
    "## Import raster\n",
    "print (\"Importing MR built-up layer at \" + time.ctime())\n",
    "gscript.run_command('r.import', input=path_to_mr_builtup, output=mr_builtup, overwrite=True)       \n",
    "print_processing_time(begintime ,\"MR built-up layer has been imported in \")"
   ]
  },
  {
   "cell_type": "code",
   "execution_count": 25,
   "metadata": {},
   "outputs": [
    {
     "data": {
      "text/plain": [
       "0"
      ]
     },
     "execution_count": 25,
     "metadata": {},
     "output_type": "execute_result"
    }
   ],
   "source": [
    "# Set colors\n",
    "gscript.run_command('r.colors', flags='n', map=mr_builtup, color='grey')"
   ]
  },
  {
   "cell_type": "markdown",
   "metadata": {
    "collapsed": true
   },
   "source": [
    "# Import land use\n",
    "In the next cell, please provide paths to the shapefile with the land use map.\n",
    "\n",
    "**Important remark:** When importing vectorial data (shapefile), please be carefull to import a layer which is topologicaly clean."
   ]
  },
  {
   "cell_type": "code",
   "execution_count": 26,
   "metadata": {
    "collapsed": true
   },
   "outputs": [],
   "source": [
    "## Set the path to the land cover raster\n",
    "path_to_lu_vector=\"/media/tais/My_Book_1/MAUPP/Traitement/Population_modelling_dasymetry/data/dakar/Landuse/Dakar_landuse_dasym.shp\""
   ]
  },
  {
   "cell_type": "markdown",
   "metadata": {
    "collapsed": true
   },
   "source": [
    "In the next cell, please provide:\n",
    "- the name of the columns containing the land use class\n",
    "- a dictionnary (KEY:VALUE), with the name of each class of land use in your map as KEY, and the pixel value to be assigned for each class, as VALUE\n",
    "- a dictionnary (KEY:VALUE), with the pixel value as KEY, and the color code (R:G:B format) as VALUE"
   ]
  },
  {
   "cell_type": "code",
   "execution_count": 27,
   "metadata": {
    "collapsed": true
   },
   "outputs": [],
   "source": [
    "## Name of the column containing the class name\n",
    "classname_column=\"MAP_LABEL\""
   ]
  },
  {
   "cell_type": "code",
   "execution_count": 28,
   "metadata": {
    "collapsed": true
   },
   "outputs": [],
   "source": [
    "## Pairs of class=pixelvalue to use\n",
    "class_value={}\n",
    "class_value[\"AGRI\"]=1\n",
    "class_value[\"VEG\"]=2\n",
    "class_value[\"BARE\"]=3\n",
    "class_value[\"ACS\"]=4\n",
    "class_value[\"PLAN\"]=5\n",
    "class_value[\"PLAN_LD\"]=6\n",
    "class_value[\"DEPR\"]=7\n",
    "class_value[\"UNCERT\"]=8"
   ]
  },
  {
   "cell_type": "code",
   "execution_count": 29,
   "metadata": {
    "collapsed": true
   },
   "outputs": [],
   "source": [
    "## Colors to be use for the raster of land use\n",
    "color_value={}\n",
    "color_value[1]=\"96:218:105\"\n",
    "color_value[2]=\"52:164:0\"\n",
    "color_value[3]=\"246:237:197\"\n",
    "color_value[4]=\"207:67:205\"\n",
    "color_value[5]=\"229:107:54\"\n",
    "color_value[6]=\"255:184:61\"\n",
    "color_value[7]=\"227:23:50\"\n",
    "color_value[8]=\"176:176:176\""
   ]
  },
  {
   "cell_type": "code",
   "execution_count": 30,
   "metadata": {},
   "outputs": [
    {
     "name": "stdout",
     "output_type": "stream",
     "text": [
      "Importing temporary land use vector at Tue Nov 20 23:35:44 2018\n"
     ]
    },
    {
     "data": {
      "text/plain": [
       "'Land use vector has been imported in 43.6 seconds'"
      ]
     },
     "execution_count": 30,
     "metadata": {},
     "output_type": "execute_result"
    }
   ],
   "source": [
    "## Saving current time for processing time management\n",
    "begintime=start_processing()\n",
    "## Import vector layer as temporary\n",
    "print (\"Importing temporary land use vector at \" + time.ctime())\n",
    "tmp_name=random_layer_name()\n",
    "gscript.run_command('v.import', input=path_to_lu_vector, output=tmp_name, overwrite=True)       \n",
    "print_processing_time(begintime ,\"Land use vector has been imported in \")"
   ]
  },
  {
   "cell_type": "markdown",
   "metadata": {},
   "source": [
    "## Convert land use vector to raster"
   ]
  },
  {
   "cell_type": "markdown",
   "metadata": {},
   "source": [
    "The next processings will require the land use as raster format. Here, the shapefile data will be converted to raster with the same spatial resolution than the land cover product."
   ]
  },
  {
   "cell_type": "markdown",
   "metadata": {},
   "source": [
    "**Add column with class value (pixel value) in the attribute table**"
   ]
  },
  {
   "cell_type": "code",
   "execution_count": 31,
   "metadata": {
    "scrolled": true
   },
   "outputs": [
    {
     "name": "stdout",
     "output_type": "stream",
     "text": [
      "Pixel value updated for class 'DEPR'\n",
      "Pixel value updated for class 'ACS'\n",
      "Pixel value updated for class 'VEG'\n",
      "Pixel value updated for class 'BARE'\n",
      "Pixel value updated for class 'PLAN'\n",
      "Pixel value updated for class 'AGRI'\n",
      "Pixel value updated for class 'PLAN_LD'\n",
      "Pixel value updated for class 'UNCERT'\n",
      "1 96:218:105\n",
      "2 52:164:0\n",
      "3 246:237:197\n",
      "4 207:67:205\n",
      "5 229:107:54\n",
      "6 255:184:61\n",
      "7 227:23:50\n",
      "8 176:176:176\n",
      "\n",
      "Color rule file saved in: '/media/tais/My_Book_1/MAUPP/Traitement/Population_modelling_dasymetry/GRASSDATA/Dakar_32628/PERMANENT/.tmp/tais-HP-Z620-Workstation/28946.1'\n"
     ]
    },
    {
     "data": {
      "text/plain": [
       "0"
      ]
     },
     "execution_count": 31,
     "metadata": {},
     "output_type": "execute_result"
    }
   ],
   "source": [
    "## Add a column in the attribute table\n",
    "gscript.run_command('v.db.addcolumn', map=tmp_name, columns='value int')\n",
    "## Update the new column with value to attribute to the pixels for the land use raster\n",
    "for key in class_value.keys():\n",
    "    gscript.run_command('v.db.update', map=tmp_name, column='value', value=class_value[key],\n",
    "                        where=\"%s='%s'\"%(classname_column,key))\n",
    "    print \"Pixel value updated for class '%s'\"%key\n",
    "    \n",
    "## Convertion from vector to ratser\n",
    "gscript.run_command('g.region', raster=Land_cover)\n",
    "gscript.run_command('v.to.rast', overwrite=True, input=tmp_name, output=Land_use, \n",
    "                    use='attr', attribute_column='value', \n",
    "                    label_column=classname_column, memory='5000')\n",
    "\n",
    "## Remove the initial vector layer\n",
    "gscript.run_command('g.remove', flags='f', type='vector', name=tmp_name)\n",
    "# Generate the color file to be used with 'r.colors' and save it in a temp file\n",
    "color_table=create_color_rule(color_value)\n",
    "# Apply the color scheme to the raster\n",
    "gscript.run_command('r.colors', map=Land_use, rules=color_table)"
   ]
  },
  {
   "cell_type": "markdown",
   "metadata": {},
   "source": [
    "# Administrative units population data (shapefile)\n",
    "In the next cell, please provide paths to the shapefiles of the **administrative units**. Please notice that youre administrative units data should contain with the population count in one of the columns of the attribute table. "
   ]
  },
  {
   "cell_type": "markdown",
   "metadata": {
    "collapsed": true
   },
   "source": [
    "Remark: Admin0 is considered as the finest level available (spatially more detailed). Admin1 is considered as the upper lever (the level just above admin0). If you want, you can generate this upper level by aggregating the lower level units using a dedicated Python code available here: [https://github.com/tgrippa/Spatial_kmeans_aggregate_polygon](https://github.com/tgrippa/Spatial_kmeans_aggregate_polygon)."
   ]
  },
  {
   "cell_type": "markdown",
   "metadata": {},
   "source": [
    "### Add response variable (population density)"
   ]
  },
  {
   "cell_type": "raw",
   "metadata": {
    "collapsed": true
   },
   "source": [
    "# Path to shapefiles of LEVEL 1 units (validation level)\n",
    "path_level1='/media/tais/My_Book_1/MAUPP/Traitement/Population_modelling_dasymetry/Results/Dakar/Test_limited_data/Level1.shp'\n",
    "# Path to shapefiles of LEVEL 0 units (training level)\n",
    "path_level0='/media/tais/My_Book_1/MAUPP/Traitement/Population_modelling_dasymetry/Results/Dakar/Test_limited_data/Level0.shp'"
   ]
  },
  {
   "cell_type": "code",
   "execution_count": 32,
   "metadata": {
    "collapsed": true
   },
   "outputs": [],
   "source": [
    "# Path to shapefiles of LEVEL 1 units (validation level)\n",
    "path_level1='/media/tais/My_Book_1/MAUPP/Traitement/Population_modelling_dasymetry/Results/Dakar/admin0_aggregation/Dakar_level1.shp'\n",
    "# Path to shapefiles of LEVEL 0 units (training level)\n",
    "path_level0='/media/tais/My_Book_1/MAUPP/Traitement/Population_modelling_dasymetry/Results/Dakar/admin0_aggregation/Dakar_level0.shp'"
   ]
  },
  {
   "cell_type": "code",
   "execution_count": 33,
   "metadata": {},
   "outputs": [
    {
     "data": {
      "text/html": [
       "<div>\n",
       "<style scoped>\n",
       "    .dataframe tbody tr th:only-of-type {\n",
       "        vertical-align: middle;\n",
       "    }\n",
       "\n",
       "    .dataframe tbody tr th {\n",
       "        vertical-align: top;\n",
       "    }\n",
       "\n",
       "    .dataframe thead th {\n",
       "        text-align: right;\n",
       "    }\n",
       "</style>\n",
       "<table border=\"1\" class=\"dataframe\">\n",
       "  <thead>\n",
       "    <tr style=\"text-align: right;\">\n",
       "      <th></th>\n",
       "      <th>dissolve_i</th>\n",
       "      <th>CONCESSION</th>\n",
       "      <th>MENAGE</th>\n",
       "      <th>HOMME</th>\n",
       "      <th>FEMME</th>\n",
       "      <th>POPULATION</th>\n",
       "      <th>area</th>\n",
       "      <th>geometry</th>\n",
       "      <th>popdens</th>\n",
       "    </tr>\n",
       "  </thead>\n",
       "  <tbody>\n",
       "    <tr>\n",
       "      <th>0</th>\n",
       "      <td>0</td>\n",
       "      <td>310</td>\n",
       "      <td>343</td>\n",
       "      <td>1124</td>\n",
       "      <td>1142</td>\n",
       "      <td>2266</td>\n",
       "      <td>10.4294</td>\n",
       "      <td>POLYGON ((250391.4934 1629353.1556, 250319.658...</td>\n",
       "      <td>217.27</td>\n",
       "    </tr>\n",
       "    <tr>\n",
       "      <th>1</th>\n",
       "      <td>1</td>\n",
       "      <td>233</td>\n",
       "      <td>406</td>\n",
       "      <td>1725</td>\n",
       "      <td>1736</td>\n",
       "      <td>3460</td>\n",
       "      <td>15.9977</td>\n",
       "      <td>POLYGON ((250113.2289000005 1629602.2348, 2501...</td>\n",
       "      <td>216.28</td>\n",
       "    </tr>\n",
       "    <tr>\n",
       "      <th>2</th>\n",
       "      <td>2</td>\n",
       "      <td>487</td>\n",
       "      <td>610</td>\n",
       "      <td>1817</td>\n",
       "      <td>1866</td>\n",
       "      <td>3682</td>\n",
       "      <td>43.8812</td>\n",
       "      <td>POLYGON ((249124.5202000001 1630661.2543, 2490...</td>\n",
       "      <td>83.91</td>\n",
       "    </tr>\n",
       "    <tr>\n",
       "      <th>3</th>\n",
       "      <td>3</td>\n",
       "      <td>139</td>\n",
       "      <td>182</td>\n",
       "      <td>670</td>\n",
       "      <td>678</td>\n",
       "      <td>1348</td>\n",
       "      <td>16.2603</td>\n",
       "      <td>POLYGON ((249543.9823000003 1630134.403100001,...</td>\n",
       "      <td>82.90</td>\n",
       "    </tr>\n",
       "    <tr>\n",
       "      <th>4</th>\n",
       "      <td>4</td>\n",
       "      <td>248</td>\n",
       "      <td>365</td>\n",
       "      <td>1348</td>\n",
       "      <td>1272</td>\n",
       "      <td>2620</td>\n",
       "      <td>25.1994</td>\n",
       "      <td>POLYGON ((248771.7659 1630380.8135, 248812.657...</td>\n",
       "      <td>103.97</td>\n",
       "    </tr>\n",
       "  </tbody>\n",
       "</table>\n",
       "</div>"
      ],
      "text/plain": [
       "   dissolve_i  CONCESSION  MENAGE  HOMME  FEMME  POPULATION     area  \\\n",
       "0           0         310     343   1124   1142        2266  10.4294   \n",
       "1           1         233     406   1725   1736        3460  15.9977   \n",
       "2           2         487     610   1817   1866        3682  43.8812   \n",
       "3           3         139     182    670    678        1348  16.2603   \n",
       "4           4         248     365   1348   1272        2620  25.1994   \n",
       "\n",
       "                                            geometry  popdens  \n",
       "0  POLYGON ((250391.4934 1629353.1556, 250319.658...   217.27  \n",
       "1  POLYGON ((250113.2289000005 1629602.2348, 2501...   216.28  \n",
       "2  POLYGON ((249124.5202000001 1630661.2543, 2490...    83.91  \n",
       "3  POLYGON ((249543.9823000003 1630134.403100001,...    82.90  \n",
       "4  POLYGON ((248771.7659 1630380.8135, 248812.657...   103.97  "
      ]
     },
     "execution_count": 33,
     "metadata": {},
     "output_type": "execute_result"
    }
   ],
   "source": [
    "gdf1 = gpd.read_file(path_level1)  # Load shapefile as GeoDataframe\n",
    "gdf1[response_column] = (gdf1[population_column]/(gdf1.geometry.area/10000)).apply(lambda x:round(x,2))  # Add population density\n",
    "gdf1[response_column] = gdf1[response_column].apply(lambda x: 0.001 if x <= 0 else x)  # Set zero value to a low positive value (The log used in the RF not allow for zero values)\n",
    "gdf1.to_file(path_level1)\n",
    "gdf1.head()"
   ]
  },
  {
   "cell_type": "code",
   "execution_count": 34,
   "metadata": {},
   "outputs": [
    {
     "data": {
      "text/html": [
       "<div>\n",
       "<style scoped>\n",
       "    .dataframe tbody tr th:only-of-type {\n",
       "        vertical-align: middle;\n",
       "    }\n",
       "\n",
       "    .dataframe tbody tr th {\n",
       "        vertical-align: top;\n",
       "    }\n",
       "\n",
       "    .dataframe thead th {\n",
       "        text-align: right;\n",
       "    }\n",
       "</style>\n",
       "<table border=\"1\" class=\"dataframe\">\n",
       "  <thead>\n",
       "    <tr style=\"text-align: right;\">\n",
       "      <th></th>\n",
       "      <th>cluster</th>\n",
       "      <th>CONCESSION</th>\n",
       "      <th>MENAGE</th>\n",
       "      <th>HOMME</th>\n",
       "      <th>FEMME</th>\n",
       "      <th>POPULATION</th>\n",
       "      <th>area</th>\n",
       "      <th>count</th>\n",
       "      <th>NEIGHBORS</th>\n",
       "      <th>geometry</th>\n",
       "      <th>popdens</th>\n",
       "    </tr>\n",
       "  </thead>\n",
       "  <tbody>\n",
       "    <tr>\n",
       "      <th>0</th>\n",
       "      <td>0</td>\n",
       "      <td>5434</td>\n",
       "      <td>9774</td>\n",
       "      <td>38807</td>\n",
       "      <td>38722</td>\n",
       "      <td>77532</td>\n",
       "      <td>191.9426</td>\n",
       "      <td>10</td>\n",
       "      <td>39, 54, 58, 63, 75, 97, 98</td>\n",
       "      <td>POLYGON ((244912.2615999999 1634584.199200001,...</td>\n",
       "      <td>403.93</td>\n",
       "    </tr>\n",
       "    <tr>\n",
       "      <th>1</th>\n",
       "      <td>1</td>\n",
       "      <td>4242</td>\n",
       "      <td>15590</td>\n",
       "      <td>40896</td>\n",
       "      <td>36498</td>\n",
       "      <td>77393</td>\n",
       "      <td>142.7944</td>\n",
       "      <td>10</td>\n",
       "      <td>14, 45, 71, 80, 95</td>\n",
       "      <td>POLYGON ((237101.4611 1627658.625700001, 23708...</td>\n",
       "      <td>541.99</td>\n",
       "    </tr>\n",
       "    <tr>\n",
       "      <th>2</th>\n",
       "      <td>2</td>\n",
       "      <td>2063</td>\n",
       "      <td>2867</td>\n",
       "      <td>11603</td>\n",
       "      <td>12644</td>\n",
       "      <td>20738</td>\n",
       "      <td>174.6872</td>\n",
       "      <td>9</td>\n",
       "      <td>32, 37, 84, 85</td>\n",
       "      <td>POLYGON ((252555.4655999998 1632195.273800001,...</td>\n",
       "      <td>118.72</td>\n",
       "    </tr>\n",
       "    <tr>\n",
       "      <th>3</th>\n",
       "      <td>3</td>\n",
       "      <td>3361</td>\n",
       "      <td>8854</td>\n",
       "      <td>26702</td>\n",
       "      <td>25727</td>\n",
       "      <td>52430</td>\n",
       "      <td>126.9770</td>\n",
       "      <td>6</td>\n",
       "      <td>27, 60, 67, 69, 88, 99</td>\n",
       "      <td>POLYGON ((236582.3422999997 1632091.1066, 2366...</td>\n",
       "      <td>412.91</td>\n",
       "    </tr>\n",
       "    <tr>\n",
       "      <th>4</th>\n",
       "      <td>4</td>\n",
       "      <td>2017</td>\n",
       "      <td>2860</td>\n",
       "      <td>11488</td>\n",
       "      <td>11517</td>\n",
       "      <td>23000</td>\n",
       "      <td>167.5672</td>\n",
       "      <td>11</td>\n",
       "      <td>20, 46, 49, 52, 86</td>\n",
       "      <td>POLYGON ((251215.5873999996 1635589.1175, 2512...</td>\n",
       "      <td>137.26</td>\n",
       "    </tr>\n",
       "  </tbody>\n",
       "</table>\n",
       "</div>"
      ],
      "text/plain": [
       "   cluster  CONCESSION  MENAGE  HOMME  FEMME  POPULATION      area  count  \\\n",
       "0        0        5434    9774  38807  38722       77532  191.9426     10   \n",
       "1        1        4242   15590  40896  36498       77393  142.7944     10   \n",
       "2        2        2063    2867  11603  12644       20738  174.6872      9   \n",
       "3        3        3361    8854  26702  25727       52430  126.9770      6   \n",
       "4        4        2017    2860  11488  11517       23000  167.5672     11   \n",
       "\n",
       "                    NEIGHBORS  \\\n",
       "0  39, 54, 58, 63, 75, 97, 98   \n",
       "1          14, 45, 71, 80, 95   \n",
       "2              32, 37, 84, 85   \n",
       "3      27, 60, 67, 69, 88, 99   \n",
       "4          20, 46, 49, 52, 86   \n",
       "\n",
       "                                            geometry  popdens  \n",
       "0  POLYGON ((244912.2615999999 1634584.199200001,...   403.93  \n",
       "1  POLYGON ((237101.4611 1627658.625700001, 23708...   541.99  \n",
       "2  POLYGON ((252555.4655999998 1632195.273800001,...   118.72  \n",
       "3  POLYGON ((236582.3422999997 1632091.1066, 2366...   412.91  \n",
       "4  POLYGON ((251215.5873999996 1635589.1175, 2512...   137.26  "
      ]
     },
     "execution_count": 34,
     "metadata": {},
     "output_type": "execute_result"
    }
   ],
   "source": [
    "gdf0 = gpd.read_file(path_level0)  # Load shapefile as GeoDataframe\n",
    "gdf0[response_column] = (gdf0[population_column]/(gdf0.geometry.area/10000)).apply(lambda x:round(x,2))  # Add population density\n",
    "gdf0[response_column] = gdf0[response_column].apply(lambda x: 0.001 if x <= 0 else x)  # Set zero value to a low positive value (The log used in the RF not allow for zero values)\n",
    "gdf0.to_file(path_level0)\n",
    "gdf0.head()"
   ]
  },
  {
   "cell_type": "markdown",
   "metadata": {},
   "source": [
    "### Import shapefiles in GRASS"
   ]
  },
  {
   "cell_type": "code",
   "execution_count": 35,
   "metadata": {},
   "outputs": [
    {
     "data": {
      "text/plain": [
       "0"
      ]
     },
     "execution_count": 35,
     "metadata": {},
     "output_type": "execute_result"
    }
   ],
   "source": [
    "# Import the shapefile of level 1\n",
    "gscript.run_command('v.in.ogr', overwrite=True, flags='o', input=path_level1, output='admin_level1')\n",
    "# Import the shapefile of level 0\n",
    "gscript.run_command('v.in.ogr', overwrite=True, flags='o', input=path_level0, output='admin_level0')"
   ]
  },
  {
   "cell_type": "markdown",
   "metadata": {},
   "source": [
    "### Check if total of population is the same for both levels"
   ]
  },
  {
   "cell_type": "code",
   "execution_count": 36,
   "metadata": {},
   "outputs": [
    {
     "name": "stdout",
     "output_type": "stream",
     "text": [
      "The sum of population well correspond on both level\n"
     ]
    }
   ],
   "source": [
    "# Get the sum of population columns on both levels\n",
    "level1 = gscript.parse_command('v.db.univar', flags='g', map='admin_level1', column=population_column)['sum']\n",
    "level0 = gscript.parse_command('v.db.univar', flags='g', map='admin_level0', column=population_column)['sum']\n",
    "# Check if values correspond\n",
    "if not level1 == level0:\n",
    "    sys.exit(\"The sum of population differs between both level, which is not suppose to. Please fix it\")\n",
    "else:\n",
    "    print \"The sum of population well correspond on both level\""
   ]
  },
  {
   "cell_type": "markdown",
   "metadata": {},
   "source": [
    "# Clip the rasters to match the extend of administrative layer"
   ]
  },
  {
   "cell_type": "code",
   "execution_count": 37,
   "metadata": {},
   "outputs": [
    {
     "name": "stdout",
     "output_type": "stream",
     "text": [
      "r.clip is already installed on your computer\n"
     ]
    }
   ],
   "source": [
    "## Instal required add-on if not yet installed\n",
    "if \"r.clip\" not in gscript.parse_command('g.extension', flags=\"a\"):\n",
    "    gscript.run_command('g.extension', extension=\"r.clip\")\n",
    "    print \"r.clip have been installed on your computer\"\n",
    "else: print \"r.clip is already installed on your computer\" "
   ]
  },
  {
   "cell_type": "code",
   "execution_count": 38,
   "metadata": {
    "scrolled": false
   },
   "outputs": [
    {
     "name": "stdout",
     "output_type": "stream",
     "text": [
      "landcover\n",
      "landuse\n"
     ]
    }
   ],
   "source": [
    "## Define the list with names of raster layers to clip\n",
    "raster_to_clip = [Land_cover,Land_use]\n",
    "print \"\\n\".join(raster_to_clip)"
   ]
  },
  {
   "cell_type": "code",
   "execution_count": null,
   "metadata": {},
   "outputs": [],
   "source": [
    "# Define the region\n",
    "gscript.run_command('g.region', vector='admin_level0', align=Land_cover)\n",
    "# Define MASK and get a copy is needed\n",
    "gscript.run_command('r.mask', overwrite=True, vector='admin_level0')\n",
    "gscript.run_command('g.copy', overwrite=True, raster='MASK,maskcopy')\n",
    "# Clip multiple rasters (land use and land cover that have the same resolution)\n",
    "clip_multiple_raster(raster_to_clip, overwrite=True, resample=True, n_jobs=10)\n",
    "# Clip multiple rasters (land use and land cover that have the same resolution)\n",
    "gscript.run_command('g.region', vector='admin_level0', align=mr_builtup, flags=\"a\")\n",
    "clip_multiple_raster([mr_builtup], overwrite=True, resample=True, n_jobs=1)\n",
    "# Rename raster to overwrite the original one\n",
    "[gscript.run_command('g.rename', overwrite=True, raster='%s_clip,%s'%(name,name)) for name in raster_to_clip]\n",
    "gscript.run_command('g.rename', overwrite=True, raster='%s_clip,%s'%(mr_builtup,mr_builtup))\n",
    "# Remove MASK\n",
    "gscript.run_command('r.mask', flags='r')"
   ]
  },
  {
   "cell_type": "markdown",
   "metadata": {},
   "source": [
    "# Export for use in other GIS"
   ]
  },
  {
   "cell_type": "code",
   "execution_count": null,
   "metadata": {
    "collapsed": true
   },
   "outputs": [],
   "source": [
    "# Get list of raster to export\n",
    "raster_export = list(raster_to_clip)\n",
    "raster_export.append(mr_builtup)\n",
    "\n",
    "# Export\n",
    "output_folder = '/media/tais/data/Dropbox/Articles/GRIPPA_Data_Assesing_contribution_VHR_for_population_disagregation/Illustrations_files/Rasters'\n",
    "for rast in raster_export:\n",
    "    output_file = os.path.join(output_folder,'clip_%s.tiff'%rast)\n",
    "    gscript.run_command('g.region', raster=rast)\n",
    "    gscript.run_command('r.out.gdal', overwrite=True, input=rast, output=output_file, format='GTiff', createopt='COMPRESS=DEFLATE')"
   ]
  },
  {
   "cell_type": "code",
   "execution_count": null,
   "metadata": {
    "collapsed": true
   },
   "outputs": [],
   "source": []
  }
 ],
 "metadata": {
  "anaconda-cloud": {},
  "kernelspec": {
   "display_name": "Python 2",
   "language": "python",
   "name": "python2"
  },
  "language_info": {
   "codemirror_mode": {
    "name": "ipython",
    "version": 2
   },
   "file_extension": ".py",
   "mimetype": "text/x-python",
   "name": "python",
   "nbconvert_exporter": "python",
   "pygments_lexer": "ipython2",
   "version": "2.7.12"
  }
 },
 "nbformat": 4,
 "nbformat_minor": 1
}
