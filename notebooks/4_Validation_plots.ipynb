{
 "cells": [
  {
   "cell_type": "code",
   "execution_count": 1,
   "metadata": {
    "collapsed": true
   },
   "outputs": [],
   "source": [
    "import os\n",
    "import seaborn as sns\n",
    "import pandas as pd\n",
    "import geopandas as gpd\n",
    "from matplotlib import pyplot as plt"
   ]
  },
  {
   "cell_type": "code",
   "execution_count": 2,
   "metadata": {
    "collapsed": true
   },
   "outputs": [],
   "source": [
    "# Set style preset parameters from Seaborn \n",
    "#sns.set()\n",
    "sns.set_style(\"darkgrid\")\n",
    "sns.set_context(\"paper\")\n",
    "sns.set(font='Times New Roman')"
   ]
  },
  {
   "cell_type": "code",
   "execution_count": 3,
   "metadata": {
    "collapsed": true
   },
   "outputs": [],
   "source": [
    "# For plot to appear in the notebook\n",
    "%matplotlib inline "
   ]
  },
  {
   "cell_type": "code",
   "execution_count": 4,
   "metadata": {
    "collapsed": true
   },
   "outputs": [],
   "source": [
    "# Layers used in each test\n",
    "test_dict={\n",
    "\"A\":\"MR-BU\",\n",
    "\"B\":\"VHR-BU\",\n",
    "\"C\":\"VHR-3BU\",\n",
    "\"D\":\"VHR-LC\" ,\n",
    "\"E\":\"VHR-LU\",\n",
    "\"F\":\"MR-BU,VHR-LU\",\n",
    "\"G\":\"VHR-BU,VHR-LU\",\n",
    "\"H\":\"VHR-3BU,VHR-LU\",\n",
    "\"I\":\"VHR-LC,VHR-LU\",\n",
    "\"J\":\"MR-BU,VHR-LC,VHR-LU\"}"
   ]
  },
  {
   "cell_type": "code",
   "execution_count": 20,
   "metadata": {
    "collapsed": true
   },
   "outputs": [],
   "source": [
    "value_column = 'prcterror'\n",
    "tests_df = pd.DataFrame()\n",
    "for test in ['A','B','C','D','E','F','G','H','I','J']:\n",
    "    folder = \"/media/tais/My_Book_1/MAUPP/Traitement/Population_modelling_dasymetry/Results/Dakar/Random_Forest/Test_%s\"%test\n",
    "    file_name = \"Test_%s_validation_level1\"%test\n",
    "    filepath = os.path.join(folder, file_name + '.dbf')\n",
    "    gdf = gpd.read_file(filepath)\n",
    "    tests_df['Test %s (%s)'%(test,test_dict[test])] = abs(gdf[value_column])"
   ]
  },
  {
   "cell_type": "code",
   "execution_count": 21,
   "metadata": {
    "scrolled": true
   },
   "outputs": [
    {
     "data": {
      "text/html": [
       "<div>\n",
       "<style scoped>\n",
       "    .dataframe tbody tr th:only-of-type {\n",
       "        vertical-align: middle;\n",
       "    }\n",
       "\n",
       "    .dataframe tbody tr th {\n",
       "        vertical-align: top;\n",
       "    }\n",
       "\n",
       "    .dataframe thead th {\n",
       "        text-align: right;\n",
       "    }\n",
       "</style>\n",
       "<table border=\"1\" class=\"dataframe\">\n",
       "  <thead>\n",
       "    <tr style=\"text-align: right;\">\n",
       "      <th></th>\n",
       "      <th>Test A (MR-BU)</th>\n",
       "      <th>Test B (VHR-BU)</th>\n",
       "      <th>Test C (VHR-3BU)</th>\n",
       "      <th>Test D (VHR-LC)</th>\n",
       "      <th>Test E (VHR-LU)</th>\n",
       "      <th>Test F (MR-BU,VHR-LU)</th>\n",
       "      <th>Test G (VHR-BU,VHR-LU)</th>\n",
       "      <th>Test H (VHR-3BU,VHR-LU)</th>\n",
       "      <th>Test I (VHR-LC,VHR-LU)</th>\n",
       "      <th>Test J (MR-BU,VHR-LC,VHR-LU)</th>\n",
       "    </tr>\n",
       "  </thead>\n",
       "  <tbody>\n",
       "    <tr>\n",
       "      <th>0</th>\n",
       "      <td>83.415033</td>\n",
       "      <td>52.053060</td>\n",
       "      <td>37.223523</td>\n",
       "      <td>40.035189</td>\n",
       "      <td>54.796907</td>\n",
       "      <td>51.111332</td>\n",
       "      <td>42.531472</td>\n",
       "      <td>39.297351</td>\n",
       "      <td>39.721740</td>\n",
       "      <td>37.989025</td>\n",
       "    </tr>\n",
       "    <tr>\n",
       "      <th>1</th>\n",
       "      <td>50.151290</td>\n",
       "      <td>28.024803</td>\n",
       "      <td>49.713917</td>\n",
       "      <td>37.385677</td>\n",
       "      <td>29.947317</td>\n",
       "      <td>19.940957</td>\n",
       "      <td>18.749599</td>\n",
       "      <td>26.275571</td>\n",
       "      <td>23.382871</td>\n",
       "      <td>24.075157</td>\n",
       "    </tr>\n",
       "    <tr>\n",
       "      <th>2</th>\n",
       "      <td>12.947257</td>\n",
       "      <td>9.314880</td>\n",
       "      <td>57.067438</td>\n",
       "      <td>17.668439</td>\n",
       "      <td>29.627222</td>\n",
       "      <td>42.874710</td>\n",
       "      <td>33.335187</td>\n",
       "      <td>45.966470</td>\n",
       "      <td>24.401234</td>\n",
       "      <td>28.162084</td>\n",
       "    </tr>\n",
       "    <tr>\n",
       "      <th>3</th>\n",
       "      <td>2.578890</td>\n",
       "      <td>26.755643</td>\n",
       "      <td>29.074738</td>\n",
       "      <td>31.612642</td>\n",
       "      <td>34.948250</td>\n",
       "      <td>3.448015</td>\n",
       "      <td>19.267403</td>\n",
       "      <td>26.293892</td>\n",
       "      <td>25.601335</td>\n",
       "      <td>21.092202</td>\n",
       "    </tr>\n",
       "    <tr>\n",
       "      <th>4</th>\n",
       "      <td>14.542841</td>\n",
       "      <td>18.172752</td>\n",
       "      <td>5.003015</td>\n",
       "      <td>7.657519</td>\n",
       "      <td>18.248086</td>\n",
       "      <td>15.553693</td>\n",
       "      <td>18.055960</td>\n",
       "      <td>13.521349</td>\n",
       "      <td>12.854861</td>\n",
       "      <td>13.828460</td>\n",
       "    </tr>\n",
       "  </tbody>\n",
       "</table>\n",
       "</div>"
      ],
      "text/plain": [
       "   Test A (MR-BU)  Test B (VHR-BU)  Test C (VHR-3BU)  Test D (VHR-LC)  \\\n",
       "0       83.415033        52.053060         37.223523        40.035189   \n",
       "1       50.151290        28.024803         49.713917        37.385677   \n",
       "2       12.947257         9.314880         57.067438        17.668439   \n",
       "3        2.578890        26.755643         29.074738        31.612642   \n",
       "4       14.542841        18.172752          5.003015         7.657519   \n",
       "\n",
       "   Test E (VHR-LU)  Test F (MR-BU,VHR-LU)  Test G (VHR-BU,VHR-LU)  \\\n",
       "0        54.796907              51.111332               42.531472   \n",
       "1        29.947317              19.940957               18.749599   \n",
       "2        29.627222              42.874710               33.335187   \n",
       "3        34.948250               3.448015               19.267403   \n",
       "4        18.248086              15.553693               18.055960   \n",
       "\n",
       "   Test H (VHR-3BU,VHR-LU)  Test I (VHR-LC,VHR-LU)  \\\n",
       "0                39.297351               39.721740   \n",
       "1                26.275571               23.382871   \n",
       "2                45.966470               24.401234   \n",
       "3                26.293892               25.601335   \n",
       "4                13.521349               12.854861   \n",
       "\n",
       "   Test J (MR-BU,VHR-LC,VHR-LU)  \n",
       "0                     37.989025  \n",
       "1                     24.075157  \n",
       "2                     28.162084  \n",
       "3                     21.092202  \n",
       "4                     13.828460  "
      ]
     },
     "execution_count": 21,
     "metadata": {},
     "output_type": "execute_result"
    }
   ],
   "source": [
    "tests_df.head()"
   ]
  },
  {
   "cell_type": "code",
   "execution_count": 27,
   "metadata": {
    "collapsed": true
   },
   "outputs": [],
   "source": [
    "plot_df = pd.melt(tests_df, value_vars=list(tests_df.columns), value_name='abs_'+value_column)"
   ]
  },
  {
   "cell_type": "code",
   "execution_count": 28,
   "metadata": {},
   "outputs": [
    {
     "data": {
      "text/html": [
       "<div>\n",
       "<style scoped>\n",
       "    .dataframe tbody tr th:only-of-type {\n",
       "        vertical-align: middle;\n",
       "    }\n",
       "\n",
       "    .dataframe tbody tr th {\n",
       "        vertical-align: top;\n",
       "    }\n",
       "\n",
       "    .dataframe thead th {\n",
       "        text-align: right;\n",
       "    }\n",
       "</style>\n",
       "<table border=\"1\" class=\"dataframe\">\n",
       "  <thead>\n",
       "    <tr style=\"text-align: right;\">\n",
       "      <th></th>\n",
       "      <th>variable</th>\n",
       "      <th>abs_prcterror</th>\n",
       "    </tr>\n",
       "  </thead>\n",
       "  <tbody>\n",
       "    <tr>\n",
       "      <th>0</th>\n",
       "      <td>Test A (MR-BU)</td>\n",
       "      <td>83.415033</td>\n",
       "    </tr>\n",
       "    <tr>\n",
       "      <th>1</th>\n",
       "      <td>Test A (MR-BU)</td>\n",
       "      <td>50.151290</td>\n",
       "    </tr>\n",
       "    <tr>\n",
       "      <th>2</th>\n",
       "      <td>Test A (MR-BU)</td>\n",
       "      <td>12.947257</td>\n",
       "    </tr>\n",
       "    <tr>\n",
       "      <th>3</th>\n",
       "      <td>Test A (MR-BU)</td>\n",
       "      <td>2.578890</td>\n",
       "    </tr>\n",
       "    <tr>\n",
       "      <th>4</th>\n",
       "      <td>Test A (MR-BU)</td>\n",
       "      <td>14.542841</td>\n",
       "    </tr>\n",
       "  </tbody>\n",
       "</table>\n",
       "</div>"
      ],
      "text/plain": [
       "         variable  abs_prcterror\n",
       "0  Test A (MR-BU)      83.415033\n",
       "1  Test A (MR-BU)      50.151290\n",
       "2  Test A (MR-BU)      12.947257\n",
       "3  Test A (MR-BU)       2.578890\n",
       "4  Test A (MR-BU)      14.542841"
      ]
     },
     "execution_count": 28,
     "metadata": {},
     "output_type": "execute_result"
    }
   ],
   "source": [
    "plot_df.head()"
   ]
  },
  {
   "cell_type": "code",
   "execution_count": 36,
   "metadata": {
    "scrolled": false
   },
   "outputs": [
    {
     "data": {
      "image/png": "[encoded data removed]",
      "text/plain": [
       "<Figure size 576x720 with 1 Axes>"
      ]
     },
     "metadata": {},
     "output_type": "display_data"
    }
   ],
   "source": [
    "plt.figure(figsize=(8,10))\n",
    "#sns.boxplot(x=\"variable\", y=value_column, data=plot_df, orient=\"v\")\n",
    "ax = sns.boxplot(x='abs_'+value_column, y=\"variable\", data=plot_df, orient=\"h\", whis=[0,95], showfliers=False)\n",
    "ax.set(xlabel='Absolute percentage error (%)', ylabel='')\n",
    "result_folder = \"/media/tais/My_Book_1/MAUPP/Traitement/Population_modelling_dasymetry/Results/Dakar/Random_Forest\"\n",
    "plt.savefig(os.path.join(result_folder, \"Dakar_boxplot_%s.svg\"%value_column), dpi=300, bbox_inches='tight')"
   ]
  },
  {
   "cell_type": "code",
   "execution_count": 31,
   "metadata": {
    "scrolled": false
   },
   "outputs": [
    {
     "name": "stderr",
     "output_type": "stream",
     "text": [
      "/usr/local/lib/python2.7/dist-packages/scipy/stats/stats.py:1713: FutureWarning: Using a non-tuple sequence for multidimensional indexing is deprecated; use `arr[tuple(seq)]` instead of `arr[seq]`. In the future this will be interpreted as an array index, `arr[np.array(seq)]`, which will result either in an error or a different result.\n",
      "  return np.add.reduce(sorted[indexer] * weights, axis=axis) / sumval\n"
     ]
    },
    {
     "data": {
      "image/png": "[encoded data removed]",
      "text/plain": [
       "<Figure size 576x720 with 1 Axes>"
      ]
     },
     "metadata": {},
     "output_type": "display_data"
    }
   ],
   "source": [
    "plt.figure(figsize=(8,10))\n",
    "ax = sns.violinplot(x='abs_'+value_column, y=\"variable\", data=plot_df, orient=\"h\", cut=0)\n",
    "#sns.violinplot(x=value_column, y=\"variable\", data=plot_df[plot_df[value_column] < 200], orient=\"h\", cut=0)\n",
    "ax.set(xlabel='Percentage error', ylabel='')\n",
    "result_folder = \"/media/tais/My_Book_1/MAUPP/Traitement/Population_modelling_dasymetry/Results/Dakar/Random_Forest\"\n",
    "plt.savefig(os.path.join(result_folder, \"Dakar_violin_%s.svg\"%value_column), dpi=300, bbox_inches='tight')"
   ]
  },
  {
   "cell_type": "code",
   "execution_count": null,
   "metadata": {
    "collapsed": true
   },
   "outputs": [],
   "source": []
  },
  {
   "cell_type": "code",
   "execution_count": null,
   "metadata": {
    "collapsed": true
   },
   "outputs": [],
   "source": []
  },
  {
   "cell_type": "code",
   "execution_count": null,
   "metadata": {
    "collapsed": true
   },
   "outputs": [],
   "source": []
  },
  {
   "cell_type": "code",
   "execution_count": null,
   "metadata": {
    "collapsed": true
   },
   "outputs": [],
   "source": []
  },
  {
   "cell_type": "code",
   "execution_count": null,
   "metadata": {
    "collapsed": true
   },
   "outputs": [],
   "source": []
  },
  {
   "cell_type": "code",
   "execution_count": 5,
   "metadata": {
    "collapsed": true
   },
   "outputs": [],
   "source": [
    "value_column = 'abserror'\n",
    "tests_df = pd.DataFrame()\n",
    "for test in ['A','B','C','D','E','F','G','H','I','J']:\n",
    "    folder = \"/media/tais/My_Book_1/MAUPP/Traitement/Population_modelling_dasymetry/Results/Dakar/Random_Forest/Test_%s\"%test\n",
    "    file_name = \"Test_%s_validation_level1\"%test\n",
    "    filepath = os.path.join(folder, file_name + '.dbf')\n",
    "    gdf = gpd.read_file(filepath)\n",
    "    tests_df['Test %s (%s)'%(test,test_dict[test])] = gdf[value_column]"
   ]
  },
  {
   "cell_type": "code",
   "execution_count": 6,
   "metadata": {
    "scrolled": true
   },
   "outputs": [
    {
     "data": {
      "text/html": [
       "<div>\n",
       "<style scoped>\n",
       "    .dataframe tbody tr th:only-of-type {\n",
       "        vertical-align: middle;\n",
       "    }\n",
       "\n",
       "    .dataframe tbody tr th {\n",
       "        vertical-align: top;\n",
       "    }\n",
       "\n",
       "    .dataframe thead th {\n",
       "        text-align: right;\n",
       "    }\n",
       "</style>\n",
       "<table border=\"1\" class=\"dataframe\">\n",
       "  <thead>\n",
       "    <tr style=\"text-align: right;\">\n",
       "      <th></th>\n",
       "      <th>Test A (MR-BU)</th>\n",
       "      <th>Test B (VHR-BU)</th>\n",
       "      <th>Test C (VHR-3BU)</th>\n",
       "      <th>Test D (VHR-LC)</th>\n",
       "      <th>Test E (VHR-LU)</th>\n",
       "      <th>Test F (MR-BU,VHR-LU)</th>\n",
       "      <th>Test G (VHR-BU,VHR-LU)</th>\n",
       "      <th>Test H (VHR-3BU,VHR-LU)</th>\n",
       "      <th>Test I (VHR-LC,VHR-LU)</th>\n",
       "      <th>Test J (MR-BU,VHR-LC,VHR-LU)</th>\n",
       "    </tr>\n",
       "  </thead>\n",
       "  <tbody>\n",
       "    <tr>\n",
       "      <th>0</th>\n",
       "      <td>1890.184656</td>\n",
       "      <td>1179.522330</td>\n",
       "      <td>843.485028</td>\n",
       "      <td>907.197371</td>\n",
       "      <td>1241.697904</td>\n",
       "      <td>1158.182779</td>\n",
       "      <td>963.763165</td>\n",
       "      <td>890.477977</td>\n",
       "      <td>900.094630</td>\n",
       "      <td>860.831313</td>\n",
       "    </tr>\n",
       "    <tr>\n",
       "      <th>1</th>\n",
       "      <td>1735.234639</td>\n",
       "      <td>969.658179</td>\n",
       "      <td>1720.101535</td>\n",
       "      <td>1293.544440</td>\n",
       "      <td>1036.177151</td>\n",
       "      <td>689.957119</td>\n",
       "      <td>648.736127</td>\n",
       "      <td>909.134744</td>\n",
       "      <td>809.047328</td>\n",
       "      <td>833.000444</td>\n",
       "    </tr>\n",
       "    <tr>\n",
       "      <th>2</th>\n",
       "      <td>476.717989</td>\n",
       "      <td>342.973874</td>\n",
       "      <td>2101.223085</td>\n",
       "      <td>650.551906</td>\n",
       "      <td>1090.874299</td>\n",
       "      <td>1578.646824</td>\n",
       "      <td>1227.401594</td>\n",
       "      <td>1692.485434</td>\n",
       "      <td>898.453442</td>\n",
       "      <td>1036.927949</td>\n",
       "    </tr>\n",
       "    <tr>\n",
       "      <th>3</th>\n",
       "      <td>34.763443</td>\n",
       "      <td>360.666074</td>\n",
       "      <td>391.927465</td>\n",
       "      <td>426.138408</td>\n",
       "      <td>471.102404</td>\n",
       "      <td>46.479244</td>\n",
       "      <td>259.724594</td>\n",
       "      <td>354.441671</td>\n",
       "      <td>345.105991</td>\n",
       "      <td>284.322885</td>\n",
       "    </tr>\n",
       "    <tr>\n",
       "      <th>4</th>\n",
       "      <td>381.022431</td>\n",
       "      <td>476.126101</td>\n",
       "      <td>131.079002</td>\n",
       "      <td>200.627010</td>\n",
       "      <td>478.099853</td>\n",
       "      <td>407.506768</td>\n",
       "      <td>473.066145</td>\n",
       "      <td>354.259338</td>\n",
       "      <td>336.797368</td>\n",
       "      <td>362.305643</td>\n",
       "    </tr>\n",
       "  </tbody>\n",
       "</table>\n",
       "</div>"
      ],
      "text/plain": [
       "   Test A (MR-BU)  Test B (VHR-BU)  Test C (VHR-3BU)  Test D (VHR-LC)  \\\n",
       "0     1890.184656      1179.522330        843.485028       907.197371   \n",
       "1     1735.234639       969.658179       1720.101535      1293.544440   \n",
       "2      476.717989       342.973874       2101.223085       650.551906   \n",
       "3       34.763443       360.666074        391.927465       426.138408   \n",
       "4      381.022431       476.126101        131.079002       200.627010   \n",
       "\n",
       "   Test E (VHR-LU)  Test F (MR-BU,VHR-LU)  Test G (VHR-BU,VHR-LU)  \\\n",
       "0      1241.697904            1158.182779              963.763165   \n",
       "1      1036.177151             689.957119              648.736127   \n",
       "2      1090.874299            1578.646824             1227.401594   \n",
       "3       471.102404              46.479244              259.724594   \n",
       "4       478.099853             407.506768              473.066145   \n",
       "\n",
       "   Test H (VHR-3BU,VHR-LU)  Test I (VHR-LC,VHR-LU)  \\\n",
       "0               890.477977              900.094630   \n",
       "1               909.134744              809.047328   \n",
       "2              1692.485434              898.453442   \n",
       "3               354.441671              345.105991   \n",
       "4               354.259338              336.797368   \n",
       "\n",
       "   Test J (MR-BU,VHR-LC,VHR-LU)  \n",
       "0                    860.831313  \n",
       "1                    833.000444  \n",
       "2                   1036.927949  \n",
       "3                    284.322885  \n",
       "4                    362.305643  "
      ]
     },
     "execution_count": 6,
     "metadata": {},
     "output_type": "execute_result"
    }
   ],
   "source": [
    "tests_df.head()"
   ]
  },
  {
   "cell_type": "code",
   "execution_count": 7,
   "metadata": {
    "collapsed": true
   },
   "outputs": [],
   "source": [
    "plot_df = pd.melt(tests_df, value_vars=list(tests_df.columns), value_name=value_column)"
   ]
  },
  {
   "cell_type": "code",
   "execution_count": 8,
   "metadata": {},
   "outputs": [
    {
     "data": {
      "text/html": [
       "<div>\n",
       "<style scoped>\n",
       "    .dataframe tbody tr th:only-of-type {\n",
       "        vertical-align: middle;\n",
       "    }\n",
       "\n",
       "    .dataframe tbody tr th {\n",
       "        vertical-align: top;\n",
       "    }\n",
       "\n",
       "    .dataframe thead th {\n",
       "        text-align: right;\n",
       "    }\n",
       "</style>\n",
       "<table border=\"1\" class=\"dataframe\">\n",
       "  <thead>\n",
       "    <tr style=\"text-align: right;\">\n",
       "      <th></th>\n",
       "      <th>variable</th>\n",
       "      <th>abserror</th>\n",
       "    </tr>\n",
       "  </thead>\n",
       "  <tbody>\n",
       "    <tr>\n",
       "      <th>0</th>\n",
       "      <td>Test A (MR-BU)</td>\n",
       "      <td>1890.184656</td>\n",
       "    </tr>\n",
       "    <tr>\n",
       "      <th>1</th>\n",
       "      <td>Test A (MR-BU)</td>\n",
       "      <td>1735.234639</td>\n",
       "    </tr>\n",
       "    <tr>\n",
       "      <th>2</th>\n",
       "      <td>Test A (MR-BU)</td>\n",
       "      <td>476.717989</td>\n",
       "    </tr>\n",
       "    <tr>\n",
       "      <th>3</th>\n",
       "      <td>Test A (MR-BU)</td>\n",
       "      <td>34.763443</td>\n",
       "    </tr>\n",
       "    <tr>\n",
       "      <th>4</th>\n",
       "      <td>Test A (MR-BU)</td>\n",
       "      <td>381.022431</td>\n",
       "    </tr>\n",
       "  </tbody>\n",
       "</table>\n",
       "</div>"
      ],
      "text/plain": [
       "         variable     abserror\n",
       "0  Test A (MR-BU)  1890.184656\n",
       "1  Test A (MR-BU)  1735.234639\n",
       "2  Test A (MR-BU)   476.717989\n",
       "3  Test A (MR-BU)    34.763443\n",
       "4  Test A (MR-BU)   381.022431"
      ]
     },
     "execution_count": 8,
     "metadata": {},
     "output_type": "execute_result"
    }
   ],
   "source": [
    "plot_df.head()"
   ]
  },
  {
   "cell_type": "code",
   "execution_count": 10,
   "metadata": {
    "scrolled": false
   },
   "outputs": [
    {
     "data": {
      "image/png": "[encoded data removed]",
      "text/plain": [
       "<Figure size 576x720 with 1 Axes>"
      ]
     },
     "metadata": {},
     "output_type": "display_data"
    }
   ],
   "source": [
    "plt.figure(figsize=(8,10))\n",
    "#sns.boxplot(x=\"variable\", y=value_column, data=plot_df, orient=\"v\")\n",
    "ax = sns.boxplot(x=value_column, y=\"variable\", data=plot_df, orient=\"h\", whis=0.98, showfliers=False)\n",
    "ax.set(xlabel='Absolute error', ylabel='')\n",
    "result_folder = \"/media/tais/My_Book_1/MAUPP/Traitement/Population_modelling_dasymetry/Results/Dakar/Random_Forest\"\n",
    "plt.savefig(os.path.join(result_folder, \"Dakar_boxplot_%s.svg\"%value_column), dpi=300, bbox_inches='tight')"
   ]
  },
  {
   "cell_type": "code",
   "execution_count": null,
   "metadata": {
    "collapsed": true
   },
   "outputs": [],
   "source": []
  }
 ],
 "metadata": {
  "kernelspec": {
   "display_name": "Python 2",
   "language": "python",
   "name": "python2"
  },
  "language_info": {
   "codemirror_mode": {
    "name": "ipython",
    "version": 2
   },
   "file_extension": ".py",
   "mimetype": "text/x-python",
   "name": "python",
   "nbconvert_exporter": "python",
   "pygments_lexer": "ipython2",
   "version": "2.7.12"
  }
 },
 "nbformat": 4,
 "nbformat_minor": 2
}
