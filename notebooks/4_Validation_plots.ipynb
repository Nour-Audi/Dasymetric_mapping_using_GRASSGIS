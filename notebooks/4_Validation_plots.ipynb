{
 "cells": [
  {
   "cell_type": "code",
   "execution_count": 8,
   "metadata": {
    "collapsed": true
   },
   "outputs": [],
   "source": [
    "import os\n",
    "import seaborn as sns\n",
    "import pandas as pd\n",
    "import geopandas as gpd\n",
    "from matplotlib import pyplot as plt"
   ]
  },
  {
   "cell_type": "code",
   "execution_count": 9,
   "metadata": {},
   "outputs": [],
   "source": [
    "# Set style preset parameters from Seaborn \n",
    "#sns.set()\n",
    "sns.set_style(\"darkgrid\")\n",
    "sns.set_context(\"paper\")\n",
    "sns.set(font='Times New Roman')"
   ]
  },
  {
   "cell_type": "code",
   "execution_count": 10,
   "metadata": {
    "collapsed": true
   },
   "outputs": [],
   "source": [
    "# For plot to appear in the notebook\n",
    "%matplotlib inline "
   ]
  },
  {
   "cell_type": "code",
   "execution_count": 11,
   "metadata": {
    "collapsed": true
   },
   "outputs": [],
   "source": [
    "value_column = 'prcterror'\n",
    "tests_df = pd.DataFrame()\n",
    "for test in ['A','B','C','D','E','F','G','H','I','J']:\n",
    "    folder = \"/media/tais/My_Book_1/MAUPP/Traitement/Population_modelling_dasymetry/Results/Dakar/Random_Forest/Test_%s\"%test\n",
    "    file_name = \"Test_%s_validation_level1\"%test\n",
    "    filepath = os.path.join(folder, file_name + '.dbf')\n",
    "    gdf = gpd.read_file(filepath)\n",
    "    tests_df['Test %s'%test] = gdf[value_column]"
   ]
  },
  {
   "cell_type": "code",
   "execution_count": 12,
   "metadata": {
    "scrolled": true
   },
   "outputs": [
    {
     "data": {
      "text/html": [
       "<div>\n",
       "<style scoped>\n",
       "    .dataframe tbody tr th:only-of-type {\n",
       "        vertical-align: middle;\n",
       "    }\n",
       "\n",
       "    .dataframe tbody tr th {\n",
       "        vertical-align: top;\n",
       "    }\n",
       "\n",
       "    .dataframe thead th {\n",
       "        text-align: right;\n",
       "    }\n",
       "</style>\n",
       "<table border=\"1\" class=\"dataframe\">\n",
       "  <thead>\n",
       "    <tr style=\"text-align: right;\">\n",
       "      <th></th>\n",
       "      <th>Test A</th>\n",
       "      <th>Test B</th>\n",
       "      <th>Test C</th>\n",
       "      <th>Test D</th>\n",
       "      <th>Test E</th>\n",
       "      <th>Test F</th>\n",
       "      <th>Test G</th>\n",
       "      <th>Test H</th>\n",
       "      <th>Test I</th>\n",
       "      <th>Test J</th>\n",
       "    </tr>\n",
       "  </thead>\n",
       "  <tbody>\n",
       "    <tr>\n",
       "      <th>0</th>\n",
       "      <td>-83.415033</td>\n",
       "      <td>-52.053060</td>\n",
       "      <td>-37.223523</td>\n",
       "      <td>-40.035189</td>\n",
       "      <td>-54.796907</td>\n",
       "      <td>-51.111332</td>\n",
       "      <td>-42.531472</td>\n",
       "      <td>-39.297351</td>\n",
       "      <td>-39.721740</td>\n",
       "      <td>-37.989025</td>\n",
       "    </tr>\n",
       "    <tr>\n",
       "      <th>1</th>\n",
       "      <td>-50.151290</td>\n",
       "      <td>-28.024803</td>\n",
       "      <td>-49.713917</td>\n",
       "      <td>-37.385677</td>\n",
       "      <td>-29.947317</td>\n",
       "      <td>-19.940957</td>\n",
       "      <td>-18.749599</td>\n",
       "      <td>-26.275571</td>\n",
       "      <td>-23.382871</td>\n",
       "      <td>-24.075157</td>\n",
       "    </tr>\n",
       "    <tr>\n",
       "      <th>2</th>\n",
       "      <td>-12.947257</td>\n",
       "      <td>9.314880</td>\n",
       "      <td>57.067438</td>\n",
       "      <td>17.668439</td>\n",
       "      <td>29.627222</td>\n",
       "      <td>42.874710</td>\n",
       "      <td>33.335187</td>\n",
       "      <td>45.966470</td>\n",
       "      <td>24.401234</td>\n",
       "      <td>28.162084</td>\n",
       "    </tr>\n",
       "    <tr>\n",
       "      <th>3</th>\n",
       "      <td>-2.578890</td>\n",
       "      <td>26.755643</td>\n",
       "      <td>29.074738</td>\n",
       "      <td>31.612642</td>\n",
       "      <td>34.948250</td>\n",
       "      <td>3.448015</td>\n",
       "      <td>19.267403</td>\n",
       "      <td>26.293892</td>\n",
       "      <td>25.601335</td>\n",
       "      <td>21.092202</td>\n",
       "    </tr>\n",
       "    <tr>\n",
       "      <th>4</th>\n",
       "      <td>14.542841</td>\n",
       "      <td>18.172752</td>\n",
       "      <td>5.003015</td>\n",
       "      <td>7.657519</td>\n",
       "      <td>18.248086</td>\n",
       "      <td>15.553693</td>\n",
       "      <td>18.055960</td>\n",
       "      <td>13.521349</td>\n",
       "      <td>12.854861</td>\n",
       "      <td>13.828460</td>\n",
       "    </tr>\n",
       "  </tbody>\n",
       "</table>\n",
       "</div>"
      ],
      "text/plain": [
       "      Test A     Test B     Test C     Test D     Test E     Test F  \\\n",
       "0 -83.415033 -52.053060 -37.223523 -40.035189 -54.796907 -51.111332   \n",
       "1 -50.151290 -28.024803 -49.713917 -37.385677 -29.947317 -19.940957   \n",
       "2 -12.947257   9.314880  57.067438  17.668439  29.627222  42.874710   \n",
       "3  -2.578890  26.755643  29.074738  31.612642  34.948250   3.448015   \n",
       "4  14.542841  18.172752   5.003015   7.657519  18.248086  15.553693   \n",
       "\n",
       "      Test G     Test H     Test I     Test J  \n",
       "0 -42.531472 -39.297351 -39.721740 -37.989025  \n",
       "1 -18.749599 -26.275571 -23.382871 -24.075157  \n",
       "2  33.335187  45.966470  24.401234  28.162084  \n",
       "3  19.267403  26.293892  25.601335  21.092202  \n",
       "4  18.055960  13.521349  12.854861  13.828460  "
      ]
     },
     "execution_count": 12,
     "metadata": {},
     "output_type": "execute_result"
    }
   ],
   "source": [
    "tests_df.head()"
   ]
  },
  {
   "cell_type": "code",
   "execution_count": 13,
   "metadata": {
    "collapsed": true
   },
   "outputs": [],
   "source": [
    "plot_df = pd.melt(tests_df, value_vars=list(tests_df.columns), value_name=value_column)"
   ]
  },
  {
   "cell_type": "code",
   "execution_count": 14,
   "metadata": {},
   "outputs": [
    {
     "data": {
      "text/html": [
       "<div>\n",
       "<style scoped>\n",
       "    .dataframe tbody tr th:only-of-type {\n",
       "        vertical-align: middle;\n",
       "    }\n",
       "\n",
       "    .dataframe tbody tr th {\n",
       "        vertical-align: top;\n",
       "    }\n",
       "\n",
       "    .dataframe thead th {\n",
       "        text-align: right;\n",
       "    }\n",
       "</style>\n",
       "<table border=\"1\" class=\"dataframe\">\n",
       "  <thead>\n",
       "    <tr style=\"text-align: right;\">\n",
       "      <th></th>\n",
       "      <th>variable</th>\n",
       "      <th>prcterror</th>\n",
       "    </tr>\n",
       "  </thead>\n",
       "  <tbody>\n",
       "    <tr>\n",
       "      <th>0</th>\n",
       "      <td>Test A</td>\n",
       "      <td>-83.415033</td>\n",
       "    </tr>\n",
       "    <tr>\n",
       "      <th>1</th>\n",
       "      <td>Test A</td>\n",
       "      <td>-50.151290</td>\n",
       "    </tr>\n",
       "    <tr>\n",
       "      <th>2</th>\n",
       "      <td>Test A</td>\n",
       "      <td>-12.947257</td>\n",
       "    </tr>\n",
       "    <tr>\n",
       "      <th>3</th>\n",
       "      <td>Test A</td>\n",
       "      <td>-2.578890</td>\n",
       "    </tr>\n",
       "    <tr>\n",
       "      <th>4</th>\n",
       "      <td>Test A</td>\n",
       "      <td>14.542841</td>\n",
       "    </tr>\n",
       "  </tbody>\n",
       "</table>\n",
       "</div>"
      ],
      "text/plain": [
       "  variable  prcterror\n",
       "0   Test A -83.415033\n",
       "1   Test A -50.151290\n",
       "2   Test A -12.947257\n",
       "3   Test A  -2.578890\n",
       "4   Test A  14.542841"
      ]
     },
     "execution_count": 14,
     "metadata": {},
     "output_type": "execute_result"
    }
   ],
   "source": [
    "plot_df.head()"
   ]
  },
  {
   "cell_type": "code",
   "execution_count": 29,
   "metadata": {},
   "outputs": [
    {
     "data": {
      "image/png": "[encoded data removed]",
      "text/plain": [
       "<Figure size 576x720 with 1 Axes>"
      ]
     },
     "metadata": {},
     "output_type": "display_data"
    }
   ],
   "source": [
    "plt.figure(figsize=(8,10))\n",
    "#sns.boxplot(x=\"variable\", y=value_column, data=plot_df, orient=\"v\")\n",
    "ax = sns.boxplot(x=value_column, y=\"variable\", data=plot_df, orient=\"h\", whis=0.98, showfliers=False)\n",
    "ax.set(xlabel='Percentage error', ylabel='')\n",
    "result_folder = \"/media/tais/My_Book_1/MAUPP/Traitement/Population_modelling_dasymetry/Results/Dakar/Random_Forest\"\n",
    "plt.savefig(os.path.join(result_folder, \"Dakar_boxplot_%s.svg\"%value_column), dpi=300, bbox_inches='tight')"
   ]
  },
  {
   "cell_type": "code",
   "execution_count": null,
   "metadata": {
    "collapsed": true
   },
   "outputs": [],
   "source": []
  },
  {
   "cell_type": "code",
   "execution_count": 30,
   "metadata": {
    "scrolled": false
   },
   "outputs": [
    {
     "name": "stderr",
     "output_type": "stream",
     "text": [
      "/usr/local/lib/python2.7/dist-packages/scipy/stats/stats.py:1713: FutureWarning: Using a non-tuple sequence for multidimensional indexing is deprecated; use `arr[tuple(seq)]` instead of `arr[seq]`. In the future this will be interpreted as an array index, `arr[np.array(seq)]`, which will result either in an error or a different result.\n",
      "  return np.add.reduce(sorted[indexer] * weights, axis=axis) / sumval\n"
     ]
    },
    {
     "data": {
      "image/png": "[encoded data removed]",
      "text/plain": [
       "<Figure size 576x720 with 1 Axes>"
      ]
     },
     "metadata": {},
     "output_type": "display_data"
    }
   ],
   "source": [
    "plt.figure(figsize=(8,10))\n",
    "sns.violinplot(x=value_column, y=\"variable\", data=plot_df, orient=\"h\", cut=0)\n",
    "#sns.violinplot(x=value_column, y=\"variable\", data=plot_df[plot_df[value_column] < 200], orient=\"h\", cut=0)\n",
    "ax.set(xlabel='Percentage error', ylabel='')\n",
    "result_folder = \"/media/tais/My_Book_1/MAUPP/Traitement/Population_modelling_dasymetry/Results/Dakar/Random_Forest\"\n",
    "plt.savefig(os.path.join(result_folder, \"Dakar_violin_%s.svg\"%value_column), dpi=300, bbox_inches='tight')"
   ]
  },
  {
   "cell_type": "code",
   "execution_count": null,
   "metadata": {
    "collapsed": true
   },
   "outputs": [],
   "source": []
  }
 ],
 "metadata": {
  "kernelspec": {
   "display_name": "Python 2",
   "language": "python",
   "name": "python2"
  },
  "language_info": {
   "codemirror_mode": {
    "name": "ipython",
    "version": 2
   },
   "file_extension": ".py",
   "mimetype": "text/x-python",
   "name": "python",
   "nbconvert_exporter": "python",
   "pygments_lexer": "ipython2",
   "version": "2.7.12"
  }
 },
 "nbformat": 4,
 "nbformat_minor": 2
}
