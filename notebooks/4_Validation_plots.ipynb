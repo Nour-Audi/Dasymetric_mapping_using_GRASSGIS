{
 "cells": [
  {
   "cell_type": "code",
   "execution_count": 167,
   "metadata": {
    "collapsed": true
   },
   "outputs": [],
   "source": [
    "import os\n",
    "import seaborn as sns\n",
    "import pandas as pd\n",
    "import geopandas as gpd\n",
    "from matplotlib import pyplot as plt"
   ]
  },
  {
   "cell_type": "code",
   "execution_count": 168,
   "metadata": {
    "collapsed": true
   },
   "outputs": [],
   "source": [
    "# Set style preset parameters from Seaborn \n",
    "sns.set()\n",
    "#sns.set_style(\"darkgrid\")\n",
    "sns.set_context(\"paper\")"
   ]
  },
  {
   "cell_type": "code",
   "execution_count": 169,
   "metadata": {
    "collapsed": true
   },
   "outputs": [],
   "source": [
    "# For plot to appear in the notebook\n",
    "%matplotlib inline "
   ]
  },
  {
   "cell_type": "code",
   "execution_count": 170,
   "metadata": {
    "collapsed": true
   },
   "outputs": [],
   "source": [
    "value_column = 'prcterror'\n",
    "tests_df = pd.DataFrame()\n",
    "for test in ['0','A','B','C','D','E','F','G','H','I','J']:\n",
    "    folder = \"/media/tais/My_Book_1/MAUPP/Traitement/Population_modelling_dasymetry/Results/Dakar/Random_Forest/Test_%s\"%test\n",
    "    file_name = \"Test_%s_validation_level1\"%test\n",
    "    filepath = os.path.join(folder, file_name + '.dbf')\n",
    "    gdf = gpd.read_file(filepath)\n",
    "    tests_df['Test_%s'%test] = gdf[value_column]"
   ]
  },
  {
   "cell_type": "code",
   "execution_count": 171,
   "metadata": {
    "scrolled": true
   },
   "outputs": [
    {
     "data": {
      "text/html": [
       "<div>\n",
       "<style scoped>\n",
       "    .dataframe tbody tr th:only-of-type {\n",
       "        vertical-align: middle;\n",
       "    }\n",
       "\n",
       "    .dataframe tbody tr th {\n",
       "        vertical-align: top;\n",
       "    }\n",
       "\n",
       "    .dataframe thead th {\n",
       "        text-align: right;\n",
       "    }\n",
       "</style>\n",
       "<table border=\"1\" class=\"dataframe\">\n",
       "  <thead>\n",
       "    <tr style=\"text-align: right;\">\n",
       "      <th></th>\n",
       "      <th>Test_0</th>\n",
       "      <th>Test_A</th>\n",
       "      <th>Test_B</th>\n",
       "      <th>Test_C</th>\n",
       "      <th>Test_D</th>\n",
       "      <th>Test_E</th>\n",
       "      <th>Test_F</th>\n",
       "      <th>Test_G</th>\n",
       "      <th>Test_H</th>\n",
       "      <th>Test_I</th>\n",
       "      <th>Test_J</th>\n",
       "    </tr>\n",
       "  </thead>\n",
       "  <tbody>\n",
       "    <tr>\n",
       "      <th>0</th>\n",
       "      <td>-83.542614</td>\n",
       "      <td>-83.415033</td>\n",
       "      <td>-52.053060</td>\n",
       "      <td>-37.223523</td>\n",
       "      <td>-40.035189</td>\n",
       "      <td>-54.796907</td>\n",
       "      <td>-51.111332</td>\n",
       "      <td>-42.531472</td>\n",
       "      <td>-39.297351</td>\n",
       "      <td>-39.721740</td>\n",
       "      <td>-37.989025</td>\n",
       "    </tr>\n",
       "    <tr>\n",
       "      <th>1</th>\n",
       "      <td>-44.327537</td>\n",
       "      <td>-50.151290</td>\n",
       "      <td>-28.024803</td>\n",
       "      <td>-49.713917</td>\n",
       "      <td>-37.385677</td>\n",
       "      <td>-29.947317</td>\n",
       "      <td>-19.940957</td>\n",
       "      <td>-18.749599</td>\n",
       "      <td>-26.275571</td>\n",
       "      <td>-23.382871</td>\n",
       "      <td>-24.075157</td>\n",
       "    </tr>\n",
       "    <tr>\n",
       "      <th>2</th>\n",
       "      <td>-64.946155</td>\n",
       "      <td>-12.947257</td>\n",
       "      <td>9.314880</td>\n",
       "      <td>57.067438</td>\n",
       "      <td>17.668439</td>\n",
       "      <td>29.627222</td>\n",
       "      <td>42.874710</td>\n",
       "      <td>33.335187</td>\n",
       "      <td>45.966470</td>\n",
       "      <td>24.401234</td>\n",
       "      <td>28.162084</td>\n",
       "    </tr>\n",
       "    <tr>\n",
       "      <th>3</th>\n",
       "      <td>92.645311</td>\n",
       "      <td>-2.578890</td>\n",
       "      <td>26.755643</td>\n",
       "      <td>29.074738</td>\n",
       "      <td>31.612642</td>\n",
       "      <td>34.948250</td>\n",
       "      <td>3.448015</td>\n",
       "      <td>19.267403</td>\n",
       "      <td>26.293892</td>\n",
       "      <td>25.601335</td>\n",
       "      <td>21.092202</td>\n",
       "    </tr>\n",
       "    <tr>\n",
       "      <th>4</th>\n",
       "      <td>11.850389</td>\n",
       "      <td>14.542841</td>\n",
       "      <td>18.172752</td>\n",
       "      <td>5.003015</td>\n",
       "      <td>7.657519</td>\n",
       "      <td>18.248086</td>\n",
       "      <td>15.553693</td>\n",
       "      <td>18.055960</td>\n",
       "      <td>13.521349</td>\n",
       "      <td>12.854861</td>\n",
       "      <td>13.828460</td>\n",
       "    </tr>\n",
       "  </tbody>\n",
       "</table>\n",
       "</div>"
      ],
      "text/plain": [
       "      Test_0     Test_A     Test_B     Test_C     Test_D     Test_E  \\\n",
       "0 -83.542614 -83.415033 -52.053060 -37.223523 -40.035189 -54.796907   \n",
       "1 -44.327537 -50.151290 -28.024803 -49.713917 -37.385677 -29.947317   \n",
       "2 -64.946155 -12.947257   9.314880  57.067438  17.668439  29.627222   \n",
       "3  92.645311  -2.578890  26.755643  29.074738  31.612642  34.948250   \n",
       "4  11.850389  14.542841  18.172752   5.003015   7.657519  18.248086   \n",
       "\n",
       "      Test_F     Test_G     Test_H     Test_I     Test_J  \n",
       "0 -51.111332 -42.531472 -39.297351 -39.721740 -37.989025  \n",
       "1 -19.940957 -18.749599 -26.275571 -23.382871 -24.075157  \n",
       "2  42.874710  33.335187  45.966470  24.401234  28.162084  \n",
       "3   3.448015  19.267403  26.293892  25.601335  21.092202  \n",
       "4  15.553693  18.055960  13.521349  12.854861  13.828460  "
      ]
     },
     "execution_count": 171,
     "metadata": {},
     "output_type": "execute_result"
    }
   ],
   "source": [
    "tests_df.head()"
   ]
  },
  {
   "cell_type": "code",
   "execution_count": 172,
   "metadata": {},
   "outputs": [],
   "source": [
    "plot_df = pd.melt(tests_df, value_vars=list(tests_df.columns), value_name=value_column)"
   ]
  },
  {
   "cell_type": "code",
   "execution_count": 173,
   "metadata": {},
   "outputs": [
    {
     "data": {
      "text/html": [
       "<div>\n",
       "<style scoped>\n",
       "    .dataframe tbody tr th:only-of-type {\n",
       "        vertical-align: middle;\n",
       "    }\n",
       "\n",
       "    .dataframe tbody tr th {\n",
       "        vertical-align: top;\n",
       "    }\n",
       "\n",
       "    .dataframe thead th {\n",
       "        text-align: right;\n",
       "    }\n",
       "</style>\n",
       "<table border=\"1\" class=\"dataframe\">\n",
       "  <thead>\n",
       "    <tr style=\"text-align: right;\">\n",
       "      <th></th>\n",
       "      <th>variable</th>\n",
       "      <th>prcterror</th>\n",
       "    </tr>\n",
       "  </thead>\n",
       "  <tbody>\n",
       "    <tr>\n",
       "      <th>0</th>\n",
       "      <td>Test_0</td>\n",
       "      <td>-83.542614</td>\n",
       "    </tr>\n",
       "    <tr>\n",
       "      <th>1</th>\n",
       "      <td>Test_0</td>\n",
       "      <td>-44.327537</td>\n",
       "    </tr>\n",
       "    <tr>\n",
       "      <th>2</th>\n",
       "      <td>Test_0</td>\n",
       "      <td>-64.946155</td>\n",
       "    </tr>\n",
       "    <tr>\n",
       "      <th>3</th>\n",
       "      <td>Test_0</td>\n",
       "      <td>92.645311</td>\n",
       "    </tr>\n",
       "    <tr>\n",
       "      <th>4</th>\n",
       "      <td>Test_0</td>\n",
       "      <td>11.850389</td>\n",
       "    </tr>\n",
       "  </tbody>\n",
       "</table>\n",
       "</div>"
      ],
      "text/plain": [
       "  variable  prcterror\n",
       "0   Test_0 -83.542614\n",
       "1   Test_0 -44.327537\n",
       "2   Test_0 -64.946155\n",
       "3   Test_0  92.645311\n",
       "4   Test_0  11.850389"
      ]
     },
     "execution_count": 173,
     "metadata": {},
     "output_type": "execute_result"
    }
   ],
   "source": [
    "plot_df.head()"
   ]
  },
  {
   "cell_type": "code",
   "execution_count": 174,
   "metadata": {},
   "outputs": [
    {
     "data": {
      "image/png": "[encoded data removed]",
      "text/plain": [
       "<Figure size 576x720 with 1 Axes>"
      ]
     },
     "metadata": {},
     "output_type": "display_data"
    }
   ],
   "source": [
    "plt.figure(figsize=(8,10))\n",
    "#sns.boxplot(x=\"variable\", y=\"abserror\", data=plot_df, orient=\"v\")\n",
    "sns.boxplot(x=value_column, y=\"variable\", data=plot_df, orient=\"h\", whis=0.98, showfliers=False)\n",
    "plt.MultipleLocator(10)\n",
    "result_folder = \"/media/tais/My_Book_1/MAUPP/Traitement/Population_modelling_dasymetry/Results/Dakar/Random_Forest\"\n",
    "plt.savefig(os.path.join(result_folder, \"Dakar_boxplot_%s.svg\"%value_column), dpi=300, bbox_inches='tight')"
   ]
  },
  {
   "cell_type": "code",
   "execution_count": null,
   "metadata": {
    "collapsed": true
   },
   "outputs": [],
   "source": []
  },
  {
   "cell_type": "code",
   "execution_count": 175,
   "metadata": {
    "scrolled": false
   },
   "outputs": [
    {
     "data": {
      "image/png": "[encoded data removed]",
      "text/plain": [
       "<Figure size 576x720 with 1 Axes>"
      ]
     },
     "metadata": {},
     "output_type": "display_data"
    }
   ],
   "source": [
    "plt.figure(figsize=(8,10))\n",
    "sns.violinplot(x=value_column, y=\"variable\", data=plot_df, orient=\"h\", cut=0)\n",
    "#sns.violinplot(x=value_column, y=\"variable\", data=plot_df[plot_df[value_column] < 200], orient=\"h\", cut=0)\n",
    "result_folder = \"/media/tais/My_Book_1/MAUPP/Traitement/Population_modelling_dasymetry/Results/Dakar/Random_Forest\"\n",
    "plt.savefig(os.path.join(result_folder, \"Dakar_violin_%s.svg\"%value_column), dpi=300, bbox_inches='tight')"
   ]
  },
  {
   "cell_type": "code",
   "execution_count": null,
   "metadata": {
    "collapsed": true
   },
   "outputs": [],
   "source": []
  }
 ],
 "metadata": {
  "kernelspec": {
   "display_name": "Python 2",
   "language": "python",
   "name": "python2"
  },
  "language_info": {
   "codemirror_mode": {
    "name": "ipython",
    "version": 2
   },
   "file_extension": ".py",
   "mimetype": "text/x-python",
   "name": "python",
   "nbconvert_exporter": "python",
   "pygments_lexer": "ipython2",
   "version": "2.7.12"
  }
 },
 "nbformat": 4,
 "nbformat_minor": 2
}
