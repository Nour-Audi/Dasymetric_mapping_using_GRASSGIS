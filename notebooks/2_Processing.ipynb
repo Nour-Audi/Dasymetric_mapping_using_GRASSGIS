{
 "cells": [
  {
   "cell_type": "code",
   "execution_count": 1,
   "metadata": {
    "collapsed": true,
    "scrolled": true
   },
   "outputs": [],
   "source": [
    "%load_ext autoreload\n",
    "%autoreload 2   # Change to %autoreload when development phase is over"
   ]
  },
  {
   "cell_type": "markdown",
   "metadata": {},
   "source": [
    "# Table of Contents"
   ]
  },
  {
   "cell_type": "markdown",
   "metadata": {},
   "source": [
    "<div id=\"toc\"></div>"
   ]
  },
  {
   "cell_type": "markdown",
   "metadata": {},
   "source": [
    "The following cell is a Javascript section of code for building the Jupyter notebook's table of content."
   ]
  },
  {
   "cell_type": "code",
   "execution_count": 2,
   "metadata": {
    "scrolled": false
   },
   "outputs": [
    {
     "data": {
      "application/javascript": [
       "$.getScript('https://kmahelona.github.io/ipython_notebook_goodies/ipython_notebook_toc.js')"
      ],
      "text/plain": [
       "<IPython.core.display.Javascript object>"
      ]
     },
     "metadata": {},
     "output_type": "display_data"
    }
   ],
   "source": [
    "%%javascript\n",
    "$.getScript('https://kmahelona.github.io/ipython_notebook_goodies/ipython_notebook_toc.js')"
   ]
  },
  {
   "cell_type": "markdown",
   "metadata": {},
   "source": [
    "**-_-_-_-_-_-_-_-_-_-_-_-_-_-_-_-_-_-_-_-_-_-_-_-_-_-_-_-_-_-_-_-_-_-_-_-_-_-_-_-_-_-_-_-_-_-_-_-_-_-_-_-_-_-_-_-_-_-_-_-_-**"
   ]
  },
  {
   "cell_type": "markdown",
   "metadata": {},
   "source": [
    "# Define working environment"
   ]
  },
  {
   "cell_type": "markdown",
   "metadata": {},
   "source": [
    "**Import libraries**"
   ]
  },
  {
   "cell_type": "code",
   "execution_count": 3,
   "metadata": {
    "collapsed": true
   },
   "outputs": [],
   "source": [
    "## Import libraries needed for setting parameters of operating system \n",
    "import os\n",
    "import sys\n",
    "## Import library for temporary files creation \n",
    "import tempfile \n",
    "## Import library for time management \n",
    "import time\n",
    "## Import multiprocessing and functools libraries\n",
    "import multiprocessing\n",
    "from multiprocessing import Pool\n",
    "from functools import partial\n",
    "## Import pickle for transfert variable between notebooks\n",
    "import pickle"
   ]
  },
  {
   "cell_type": "code",
   "execution_count": 4,
   "metadata": {
    "collapsed": true
   },
   "outputs": [],
   "source": [
    "## Import Pandas library\n",
    "import pandas as pd\n",
    "## Import Numpy library\n",
    "import numpy as np"
   ]
  },
  {
   "cell_type": "code",
   "execution_count": 5,
   "metadata": {
    "collapsed": true,
    "scrolled": true
   },
   "outputs": [],
   "source": [
    "## Import Matplotlib \n",
    "import matplotlib as mpl \n",
    "## agg backend is used to create plot as a .png file\n",
    "mpl.use('agg')\n",
    "## Import Matplotlib.pyplot for creating graphs\n",
    "import matplotlib.pyplot as plt "
   ]
  },
  {
   "cell_type": "code",
   "execution_count": 6,
   "metadata": {
    "collapsed": true
   },
   "outputs": [],
   "source": [
    "%matplotlib inline"
   ]
  },
  {
   "cell_type": "markdown",
   "metadata": {},
   "source": [
    "** Add folder with SCR provided belong to this notebook**"
   ]
  },
  {
   "cell_type": "code",
   "execution_count": 7,
   "metadata": {
    "collapsed": true,
    "scrolled": false
   },
   "outputs": [],
   "source": [
    "# Add local module to the path\n",
    "src = os.path.abspath('../SRC')\n",
    "if src not in sys.path:\n",
    "    sys.path.append(src)"
   ]
  },
  {
   "cell_type": "markdown",
   "metadata": {},
   "source": [
    "** Environment variables when working on Linux Mint **"
   ]
  },
  {
   "cell_type": "code",
   "execution_count": 8,
   "metadata": {
    "collapsed": true
   },
   "outputs": [],
   "source": [
    "import environ_variables as envi"
   ]
  },
  {
   "cell_type": "code",
   "execution_count": 9,
   "metadata": {
    "scrolled": true
   },
   "outputs": [
    {
     "name": "stdout",
     "output_type": "stream",
     "text": [
      "MDMSESSION = mate \t\n",
      "MANDATORY_PATH = /usr/share/gconf/mate.mandatory.path \t\n",
      "MATE_DESKTOP_SESSION_ID = this-is-deprecated \t\n",
      "LESSOPEN = | /usr/bin/lesspipe %s \t\n",
      "MDM_LANG = fr_BE.UTF-8 \t\n",
      "LOGNAME = tais \t\n",
      "USER = tais \t\n",
      "HOME = /home/tais \t\n",
      "XDG_VTNR = 8 \t\n",
      "PATH = /usr/local/bin:/home/tais/BIN:/home/tais/bin:/home/tais/.local/bin:/usr/local/sbin:/usr/local/bin:/usr/sbin:/usr/bin:/sbin:/bin:/usr/games:/usr/local/games:/home/tais/SRC/GRASS/grass_trunk/dist.x86_64-pc-linux-gnu/bin:/home/tais/SRC/GRASS/grass_trunk/dist.x86_64-pc-linux-gnu/script:/home/tais/SRC/GRASS/grass_trunk/dist.x86_64-pc-linux-gnu/lib \t\n",
      "CLICOLOR = 1 \t\n",
      "DISPLAY = :0.0 \t\n",
      "SSH_AGENT_PID = 23350 \t\n",
      "LANG = fr_BE.UTF-8 \t\n",
      "TERM = xterm-color \t\n",
      "SHELL = /bin/bash \t\n",
      "GIS_LOCK = $$ \t\n",
      "XAUTHORITY = /home/tais/.Xauthority \t\n",
      "SESSION_MANAGER = local/tais-HP-Z620-Workstation:@/tmp/.ICE-unix/23279,unix/tais-HP-Z620-Workstation:/tmp/.ICE-unix/23279 \t\n",
      "SHLVL = 1 \t\n",
      "QT_LINUX_ACCESSIBILITY_ALWAYS_ON = 1 \t\n",
      "INSIDE_CAJA_PYTHON =  \t\n",
      "QT_ACCESSIBILITY = 1 \t\n",
      "LD_LIBRARY_PATH = :/home/tais/SRC/GRASS/grass_trunk/dist.x86_64-pc-linux-gnu/lib \t\n",
      "COMPIZ_CONFIG_PROFILE = mate \t\n",
      "WINDOWPATH = 8 \t\n",
      "GTK_OVERLAY_SCROLLING = 0 \t\n",
      "PYTHONPATH = :/home/tais/SRC/GRASS/grass_trunk/dist.x86_64-pc-linux-gnu/etc/python:/home/tais/SRC/GRASS/grass_trunk/dist.x86_64-pc-linux-gnu/etc/python/grass:/home/tais/SRC/GRASS/grass_trunk/dist.x86_64-pc-linux-gnu/etc/python/grass/script \t\n",
      "GISBASE = /home/tais/SRC/GRASS/grass_trunk/dist.x86_64-pc-linux-gnu \t\n",
      "CLUTTER_BACKEND = x11 \t\n",
      "USERNAME = tais \t\n",
      "XDG_SESSION_DESKTOP = mate \t\n",
      "GDM_XSERVER_LOCATION = local \t\n",
      "XDG_RUNTIME_DIR = /run/user/1000 \t\n",
      "JPY_PARENT_PID = 24629 \t\n",
      "QT_STYLE_OVERRIDE = gtk \t\n",
      "SSH_AUTH_SOCK = /run/user/1000/keyring/ssh \t\n",
      "VTE_VERSION = 4205 \t\n",
      "GDMSESSION = mate \t\n",
      "GISRC = /home/tais/.grass7/rc \t\n",
      "GIT_PAGER = cat \t\n",
      "XDG_CONFIG_DIRS = /etc/xdg/xdg-mate:/etc/xdg \t\n",
      "XDG_CURRENT_DESKTOP = MATE \t\n",
      "XDG_SESSION_ID = c22 \t\n",
      "DBUS_SESSION_BUS_ADDRESS = unix:abstract=/tmp/dbus-xdym3eTAWO,guid=52e7fafde79454df643477325bf482ea \t\n",
      "_ = /usr/local/bin/jupyter \t\n",
      "XDG_SESSION_COOKIE = 8441891e86e24d76b9616edf516d5734-1542750954.483395-365921662 \t\n",
      "DESKTOP_SESSION = mate \t\n",
      "WINDOWID = 81788934 \t\n",
      "LESSCLOSE = /usr/bin/lesspipe %s %s \t\n",
      "DEFAULTS_PATH = /usr/share/gconf/mate.default.path \t\n",
      "MPLBACKEND = module://ipykernel.pylab.backend_inline \t\n",
      "MDM_XSERVER_LOCATION = local \t\n",
      "GTK_MODULES = gail:atk-bridge \t\n",
      "XDG_DATA_DIRS = /usr/share/mate:/usr/local/share/:/usr/share/:/usr/share/mdm/ \t\n",
      "PWD = /media/tais/data/Dropbox/ULB/MAUPP/Traitements/population_modeling \t\n",
      "COLORTERM = mate-terminal \t\n",
      "PYTHONLIB = /usr/lib/python2.7 \t\n",
      "LS_COLORS = rs=0:di=01;34:ln=01;36:mh=00:pi=40;33:so=01;35:do=01;35:bd=40;33;01:cd=40;33;01:or=40;31;01:mi=00:su=37;41:sg=30;43:ca=30;41:tw=30;42:ow=34;42:st=37;44:ex=01;32:*.tar=01;31:*.tgz=01;31:*.arc=01;31:*.arj=01;31:*.taz=01;31:*.lha=01;31:*.lz4=01;31:*.lzh=01;31:*.lzma=01;31:*.tlz=01;31:*.txz=01;31:*.tzo=01;31:*.t7z=01;31:*.zip=01;31:*.z=01;31:*.Z=01;31:*.dz=01;31:*.gz=01;31:*.lrz=01;31:*.lz=01;31:*.lzo=01;31:*.xz=01;31:*.bz2=01;31:*.bz=01;31:*.tbz=01;31:*.tbz2=01;31:*.tz=01;31:*.deb=01;31:*.rpm=01;31:*.jar=01;31:*.war=01;31:*.ear=01;31:*.sar=01;31:*.rar=01;31:*.alz=01;31:*.ace=01;31:*.zoo=01;31:*.cpio=01;31:*.7z=01;31:*.rz=01;31:*.cab=01;31:*.jpg=01;35:*.jpeg=01;35:*.gif=01;35:*.bmp=01;35:*.pbm=01;35:*.pgm=01;35:*.ppm=01;35:*.tga=01;35:*.xbm=01;35:*.xpm=01;35:*.tif=01;35:*.tiff=01;35:*.png=01;35:*.svg=01;35:*.svgz=01;35:*.mng=01;35:*.pcx=01;35:*.mov=01;35:*.mpg=01;35:*.mpeg=01;35:*.m2v=01;35:*.mkv=01;35:*.webm=01;35:*.ogm=01;35:*.mp4=01;35:*.m4v=01;35:*.mp4v=01;35:*.vob=01;35:*.qt=01;35:*.nuv=01;35:*.wmv=01;35:*.asf=01;35:*.rm=01;35:*.rmvb=01;35:*.flc=01;35:*.avi=01;35:*.fli=01;35:*.flv=01;35:*.gl=01;35:*.dl=01;35:*.xcf=01;35:*.xwd=01;35:*.yuv=01;35:*.cgm=01;35:*.emf=01;35:*.ogv=01;35:*.ogx=01;35:*.aac=00;36:*.au=00;36:*.flac=00;36:*.m4a=00;36:*.mid=00;36:*.midi=00;36:*.mka=00;36:*.mp3=00;36:*.mpc=00;36:*.ogg=00;36:*.ra=00;36:*.wav=00;36:*.oga=00;36:*.opus=00;36:*.spx=00;36:*.xspf=00;36: \t\n",
      "PAGER = cat \t\n",
      "XDG_SEAT = seat0 \t\n"
     ]
    }
   ],
   "source": [
    "# Set environmental variables\n",
    "envi.setup_environmental_variables() \n",
    "# Display current environment variables of your computer\n",
    "envi.print_environmental_variables()"
   ]
  },
  {
   "cell_type": "markdown",
   "metadata": {},
   "source": [
    "** GRASS GIS Python libraries **"
   ]
  },
  {
   "cell_type": "code",
   "execution_count": 10,
   "metadata": {
    "collapsed": true
   },
   "outputs": [],
   "source": [
    "## Import libraries needed to launch GRASS GIS in the jupyter notebook\n",
    "import grass.script.setup as gsetup\n",
    "## Import libraries needed to call GRASS using Python\n",
    "import grass.script as gscript"
   ]
  },
  {
   "cell_type": "markdown",
   "metadata": {},
   "source": [
    "**-_-_-_-_-_-_-_-_-_-_-_-_-_-_-_-_-_-_-_-_-_-_-_-_-_-_-_-_-_-_-_-_-_-_-_-_-_-_-_-_-_-_-_-_-_-_-_-_-_-_-_-_-_-_-_-_-_-_-_-_-**"
   ]
  },
  {
   "cell_type": "markdown",
   "metadata": {},
   "source": [
    "# User inputs"
   ]
  },
  {
   "cell_type": "markdown",
   "metadata": {},
   "source": [
    "Here after:\n",
    "- Enter the path to the directory you want to use as \"[GRASSDATA](https://grass.osgeo.org/programming7/loc_struct.png)\". \n",
    "- Enter the name of the location in which you want to work and its projection information in [EPSG code](http://spatialreference.org/ref/epsg/) format. Please note that the GRASSDATA folder and locations will be automatically created if not existing yet. If the location name already exists, the projection information will not be used.  \n",
    "- Enter the name you want for the mapsets which will be used later for Unsupervised Segmentation Parameter Optimization (USPO), Segmentation and Classification steps."
   ]
  },
  {
   "cell_type": "code",
   "execution_count": 11,
   "metadata": {
    "collapsed": true
   },
   "outputs": [],
   "source": [
    "## Define a empty dictionnary for saving user inputs\n",
    "user={}"
   ]
  },
  {
   "cell_type": "code",
   "execution_count": 12,
   "metadata": {
    "collapsed": true
   },
   "outputs": [],
   "source": [
    "## Enter the path to GRASSDATA folder\n",
    "user[\"gisdb\"] = \"/media/tais/My_Book_1/MAUPP/Traitement/Population_modelling_dasymetry/GRASSDATA\"\n",
    "## Enter the name of the location (existing or for a new one)\n",
    "user[\"location\"] = \"Dakar_32628\"\n",
    "## Enter the EPSG code for this location \n",
    "user[\"locationepsg\"] = \"32628\"\n",
    "## Enter the name of the permanent mapset\n",
    "user[\"permanent_mapset\"] = \"PERMANENT\"\n",
    "## Enter the name of a working mapset\n",
    "user[\"dasym_mapset\"] = \"DASYMETRY\""
   ]
  },
  {
   "cell_type": "code",
   "execution_count": 119,
   "metadata": {
    "collapsed": true
   },
   "outputs": [],
   "source": [
    "# Set the name of the layers\n",
    "Land_cover = 'landcover'  # VHR Land cover map\n",
    "Land_use = 'landuse' # VHR Land use map\n",
    "mr_builtup = 'MR_builtup' # MR built-up map\n",
    "mr_built_pixelvalue = '1' # The value of built pixels in the MR built-up map\n",
    "## Name of the column containing the population count\n",
    "population_column = \"POPULATION\"\n",
    "## Name of the column containing the density (response variable)\n",
    "response_column = \"popdens\"\n",
    "# Define the list of columns to keep during 'rasterisation' of the vector \n",
    "list_of_columns = [population_column, response_column]\n",
    "# Set a name for the empty grid layer\n",
    "clumped_grid = 'clumped_grid'\n",
    "# Set the resolution of the grid\n",
    "tile_size = 100"
   ]
  },
  {
   "cell_type": "markdown",
   "metadata": {},
   "source": [
    "** Functions defined by the user **"
   ]
  },
  {
   "cell_type": "code",
   "execution_count": 14,
   "metadata": {
    "collapsed": true
   },
   "outputs": [],
   "source": [
    "# Import function that check existance and create GRASS GIS database folder if needed\n",
    "from grass_database import check_gisdb, check_location, check_mapset, working_mapset"
   ]
  },
  {
   "cell_type": "code",
   "execution_count": 15,
   "metadata": {
    "collapsed": true
   },
   "outputs": [],
   "source": [
    "## Import functions for processing time information\n",
    "from processing_time import start_processing, print_processing_time"
   ]
  },
  {
   "cell_type": "code",
   "execution_count": 16,
   "metadata": {
    "collapsed": true
   },
   "outputs": [],
   "source": [
    "# Import function that generate a random name in the GRASS GIS environement\n",
    "from random_layer_name import random_layer_name"
   ]
  },
  {
   "cell_type": "code",
   "execution_count": 17,
   "metadata": {
    "collapsed": true
   },
   "outputs": [],
   "source": [
    "# Import function that create color file for raster\n",
    "from colorise_raster import create_color_rule"
   ]
  },
  {
   "cell_type": "code",
   "execution_count": 18,
   "metadata": {
    "collapsed": true
   },
   "outputs": [],
   "source": [
    "# Import function that clip multiple raster according to extention of a vector layer\n",
    "from create_clumped_grid import create_clumped_grid"
   ]
  },
  {
   "cell_type": "code",
   "execution_count": 19,
   "metadata": {
    "collapsed": true
   },
   "outputs": [],
   "source": [
    "# Import function that create temp directories\n",
    "from create_tempdirs import create_tempdirs"
   ]
  },
  {
   "cell_type": "code",
   "execution_count": 20,
   "metadata": {
    "collapsed": true
   },
   "outputs": [],
   "source": [
    "# Import function that rasterise a polygon layer and save the 'gridded' version as vector\n",
    "from gridded_bound import gridded_admin_boundaries"
   ]
  },
  {
   "cell_type": "code",
   "execution_count": 21,
   "metadata": {
    "collapsed": true
   },
   "outputs": [],
   "source": [
    "# Import function that get list of class of categorical raster\n",
    "from data_prep import data_prep"
   ]
  },
  {
   "cell_type": "code",
   "execution_count": 22,
   "metadata": {
    "collapsed": true
   },
   "outputs": [],
   "source": [
    "# Import csv functions (joint etc)\n",
    "import csv_func\n",
    "from csv_func import ordered_list_of_path, join_2csv, join_multiplecsv"
   ]
  },
  {
   "cell_type": "markdown",
   "metadata": {
    "collapsed": true
   },
   "source": [
    "**Check for existance of GRASSDATA folder, location and mapsets**"
   ]
  },
  {
   "cell_type": "markdown",
   "metadata": {},
   "source": [
    "Here after, the python script will check if GRASSDATA folder, locations and mapsets already exist. If not, they will be automatically created."
   ]
  },
  {
   "cell_type": "code",
   "execution_count": 23,
   "metadata": {
    "scrolled": true
   },
   "outputs": [
    {
     "name": "stdout",
     "output_type": "stream",
     "text": [
      "GRASSDATA folder already exist\n"
     ]
    }
   ],
   "source": [
    "# Check if the GRASS GIS database exists and create it if not\n",
    "check_gisdb(user[\"gisdb\"])"
   ]
  },
  {
   "cell_type": "code",
   "execution_count": 24,
   "metadata": {},
   "outputs": [
    {
     "name": "stdout",
     "output_type": "stream",
     "text": [
      "Location Dakar_32628 already exist\n"
     ]
    }
   ],
   "source": [
    "# Check if the location exists and create it if not, with the CRS defined by the epsg code \n",
    "check_location(user[\"gisdb\"],user[\"location\"],user[\"locationepsg\"])"
   ]
  },
  {
   "cell_type": "code",
   "execution_count": 25,
   "metadata": {},
   "outputs": [
    {
     "name": "stdout",
     "output_type": "stream",
     "text": [
      "'PERMANENT' mapset already exists in location 'Dakar_32628'\n"
     ]
    }
   ],
   "source": [
    "# Check if the mapset exists and create it if not\n",
    "check_mapset(user[\"gisdb\"],user[\"location\"],user[\"permanent_mapset\"])"
   ]
  },
  {
   "cell_type": "code",
   "execution_count": 26,
   "metadata": {},
   "outputs": [
    {
     "name": "stdout",
     "output_type": "stream",
     "text": [
      "'DASYMETRY' mapset already exists in location 'Dakar_32628'\n"
     ]
    }
   ],
   "source": [
    "# Check if the mapset exists and create it if not\n",
    "check_mapset(user[\"gisdb\"],user[\"location\"],user[\"dasym_mapset\"])"
   ]
  },
  {
   "cell_type": "markdown",
   "metadata": {},
   "source": [
    "**-_-_-_-_-_-_-_-_-_-_-_-_-_-_-_-_-_-_-_-_-_-_-_-_-_-_-_-_-_-_-_-_-_-_-_-_-_-_-_-_-_-_-_-_-_-_-_-_-_-_-_-_-_-_-_-_-_-_-_-_-**"
   ]
  },
  {
   "cell_type": "markdown",
   "metadata": {},
   "source": [
    "# Launch GRASS GIS working session on DASY_COVAR mapset"
   ]
  },
  {
   "cell_type": "code",
   "execution_count": 27,
   "metadata": {},
   "outputs": [
    {
     "name": "stdout",
     "output_type": "stream",
     "text": [
      "You are now working in mapset 'DASYMETRY'\n"
     ]
    }
   ],
   "source": [
    "# Change the current working GRASS GIS session mapset\n",
    "working_mapset(user[\"gisdb\"],user[\"location\"],user[\"dasym_mapset\"])"
   ]
  },
  {
   "cell_type": "markdown",
   "metadata": {},
   "source": [
    "### Set several variables and parameter"
   ]
  },
  {
   "cell_type": "code",
   "execution_count": 28,
   "metadata": {
    "collapsed": true
   },
   "outputs": [],
   "source": [
    "# Declare list that will contain the name/paths of temporary layers/files\n",
    "TMP_MAPS = []\n",
    "TMP_CSV = []\n",
    "\n",
    "# Declare strings that will contain the log of the processing\n",
    "log_text = \"\"\n",
    "log_text_extend = \"\""
   ]
  },
  {
   "cell_type": "code",
   "execution_count": 29,
   "metadata": {
    "collapsed": true
   },
   "outputs": [],
   "source": [
    "# Set the number of job that could be runned in parallel\n",
    "n_jobs = 15\n",
    "# Check if the computer has enough cores\n",
    "if(n_jobs >= multiprocessing.cpu_count()):\n",
    "    gscript.fatal(_(\"Requested number of jobs is > or = to available ressources. \\\n",
    "                    Try to reduce to at maximum <%s> jobs\")%(int(multiprocessing.cpu_count())-1))"
   ]
  },
  {
   "cell_type": "markdown",
   "metadata": {},
   "source": [
    "### Create temporary directories for output"
   ]
  },
  {
   "cell_type": "raw",
   "metadata": {},
   "source": [
    "outputdirectory_admin = \"/media/tais/My_Book_1/MAUPP/Traitement/Population_modelling_dasymetry/GRASSDATA/\\\n",
    "Dakar_32628/DASYMETRY/.tmp/tais-HP-Z620-Workstation/19203.0/admin_level\""
   ]
  },
  {
   "cell_type": "raw",
   "metadata": {
    "collapsed": true
   },
   "source": [
    "outputdirectory_grid = \"/media/tais/My_Book_1/MAUPP/Traitement/Population_modelling_dasymetry/GRASSDATA/\\\n",
    "Dakar_32628/DASYMETRY/.tmp/tais-HP-Z620-Workstation/19203.0/grid_level\""
   ]
  },
  {
   "cell_type": "code",
   "execution_count": 30,
   "metadata": {
    "collapsed": true
   },
   "outputs": [],
   "source": [
    "# Create temporary folder and get their paths\n",
    "outputdirectory_admin, outputdirectory_grid = create_tempdirs([\"admin_level\", \"grid_level\"])"
   ]
  },
  {
   "cell_type": "markdown",
   "metadata": {
    "collapsed": true
   },
   "source": [
    "# Data preparation"
   ]
  },
  {
   "cell_type": "markdown",
   "metadata": {
    "collapsed": true
   },
   "source": [
    "## Create a clumped grid for dasymetry"
   ]
  },
  {
   "cell_type": "markdown",
   "metadata": {
    "collapsed": true
   },
   "source": [
    "This grid will be the reference grid for re-allocation of population count."
   ]
  },
  {
   "cell_type": "code",
   "execution_count": 31,
   "metadata": {
    "collapsed": true
   },
   "outputs": [],
   "source": [
    "# Create clumped grid\n",
    "create_clumped_grid(tile_size=tile_size, mask_raster=Land_cover, output=clumped_grid)"
   ]
  },
  {
   "cell_type": "markdown",
   "metadata": {},
   "source": [
    "## Create layers with grid boundary for both levels"
   ]
  },
  {
   "cell_type": "code",
   "execution_count": 131,
   "metadata": {
    "collapsed": true
   },
   "outputs": [],
   "source": [
    "import gridded_bound"
   ]
  },
  {
   "cell_type": "code",
   "execution_count": 132,
   "metadata": {
    "scrolled": true
   },
   "outputs": [
    {
     "data": {
      "text/plain": [
       "<module 'gridded_bound' from '/media/tais/data/Dropbox/ULB/MAUPP/Traitements/population_modeling/SRC/gridded_bound.py'>"
      ]
     },
     "execution_count": 132,
     "metadata": {},
     "output_type": "execute_result"
    }
   ],
   "source": [
    "reload(gridded_bound)"
   ]
  },
  {
   "cell_type": "code",
   "execution_count": 133,
   "metadata": {
    "collapsed": true
   },
   "outputs": [],
   "source": [
    "from gridded_bound import gridded_admin_boundaries"
   ]
  },
  {
   "cell_type": "code",
   "execution_count": 134,
   "metadata": {
    "collapsed": true
   },
   "outputs": [],
   "source": [
    "# Create layer with boundaries corresponding to the grid \n",
    "gridded_admin_units, gridded_vector = gridded_admin_boundaries(\"admin_level0\", 'cluster', \n",
    "                                                               list_of_columns, clumped_grid)"
   ]
  },
  {
   "cell_type": "markdown",
   "metadata": {},
   "source": [
    "## Get list of values from categorical raster (land cover and land use)"
   ]
  },
  {
   "cell_type": "code",
   "execution_count": 33,
   "metadata": {},
   "outputs": [],
   "source": [
    "# Data preparation : extract list of classes from the Land Cover\n",
    "lc_classes_list = data_prep(Land_cover)[2]\n",
    "message=\"Classes of raster '\"+str(Land_cover)+\"': \"+\",\".join(lc_classes_list)\n",
    "log_text+=message+'\\n'"
   ]
  },
  {
   "cell_type": "code",
   "execution_count": 34,
   "metadata": {},
   "outputs": [],
   "source": [
    "# Data preparation : extract list of classes from the land use\n",
    "lu_classes_list = data_prep(Land_use)[2]\n",
    "message=\"Classes of raster '\"+str(Land_use)+\"': \"+\",\".join(lu_classes_list)\n",
    "log_text+=message+'\\n\\n'"
   ]
  },
  {
   "cell_type": "code",
   "execution_count": 35,
   "metadata": {},
   "outputs": [
    {
     "name": "stdout",
     "output_type": "stream",
     "text": [
      "Classes of raster 'landcover': 10,22,23,33,34,45,111,112,113\n",
      "Classes of raster 'landuse': 1,2,3,4,5,6,7,8\n",
      "\n",
      "\n"
     ]
    }
   ],
   "source": [
    "print log_text"
   ]
  },
  {
   "cell_type": "markdown",
   "metadata": {},
   "source": [
    "## Compute proportion of each land cover and land use class"
   ]
  },
  {
   "cell_type": "code",
   "execution_count": 36,
   "metadata": {},
   "outputs": [
    {
     "data": {
      "text/plain": [
       "<module 'categorical_prop' from '/media/tais/data/Dropbox/ULB/MAUPP/Traitements/population_modeling/SRC/categorical_prop.pyc'>"
      ]
     },
     "execution_count": 36,
     "metadata": {},
     "output_type": "execute_result"
    }
   ],
   "source": [
    "import categorical_prop\n",
    "reload(categorical_prop)"
   ]
  },
  {
   "cell_type": "code",
   "execution_count": 37,
   "metadata": {
    "collapsed": true
   },
   "outputs": [],
   "source": [
    "# Import function that compute proportion of each class of categorical raster in admin units (or raster segments)\n",
    "from categorical_prop import proportion_class"
   ]
  },
  {
   "cell_type": "markdown",
   "metadata": {},
   "source": [
    "### VHR Land cover proportions"
   ]
  },
  {
   "cell_type": "code",
   "execution_count": 38,
   "metadata": {
    "scrolled": false
   },
   "outputs": [
    {
     "data": {
      "text/plain": [
       "'Proportion of each class of categorical raster computed in: 12 minutes and 53.3 seconds'"
      ]
     },
     "execution_count": 38,
     "metadata": {},
     "output_type": "execute_result"
    }
   ],
   "source": [
    "# Save time at starting\n",
    "start = start_processing() \n",
    "## Compute proportion of each class of categorical raster (parallel processing).\n",
    "gscript.run_command('g.region', raster=Land_cover.split(\"@\")[0])  #Set the region to match the extend of the raster\n",
    "p=Pool(n_jobs) #Create a 'pool' of processes and launch them using 'map' function\n",
    "func=partial(proportion_class,Land_cover.split(\"@\")[0]) # Set fixed argument of the function\n",
    "output=p.map(func,lc_classes_list) # Launch the processes for as many items in the list (if function with a return, the returned results are ordered thanks to 'map' function)\n",
    "p.close()\n",
    "p.join()\n",
    "temp_rasterlist,temp_csvlist_1,temp_csvlist_2=zip(*output)\n",
    "[TMP_MAPS.append(x) for x in temp_rasterlist]  # Append the name of binary rasters to the list of temporary maps\n",
    "[TMP_CSV.append(x) for x in temp_csvlist_1]  # Append the paths to .csv files to the list of temporary .csv\n",
    "[TMP_CSV.append(x) for x in temp_csvlist_2]  # Append the paths to .csv files to the list of temporary .csv\n",
    "# Print processing time\n",
    "print_processing_time(begintime=start, printmessage=\"Proportion of each class of categorical raster computed in: \")  "
   ]
  },
  {
   "cell_type": "markdown",
   "metadata": {},
   "source": [
    "### VHR Land use proportions"
   ]
  },
  {
   "cell_type": "code",
   "execution_count": 39,
   "metadata": {
    "scrolled": true
   },
   "outputs": [
    {
     "data": {
      "text/plain": [
       "'Proportion of each class of categorical raster computed in: 12 minutes and 12.8 seconds'"
      ]
     },
     "execution_count": 39,
     "metadata": {},
     "output_type": "execute_result"
    }
   ],
   "source": [
    "# Save time at starting\n",
    "start = start_processing() \n",
    "## Compute proportion of each class of categorical raster (parallel processing).\n",
    "gscript.run_command('g.region', raster=Land_use.split(\"@\")[0])  #Set the region to match the extend of the raster\n",
    "p=Pool(n_jobs) #Create a 'pool' of processes and launch them using 'map' function\n",
    "func=partial(proportion_class,Land_use.split(\"@\")[0]) # Set fixed argument of the function\n",
    "output=p.map(func,lu_classes_list) # Launch the processes for as many items in the list (if function with a return, the returned results are ordered thanks to 'map' function)\n",
    "p.close()\n",
    "p.join()\n",
    "temp_rasterlist,temp_csvlist_1,temp_csvlist_2=zip(*output)\n",
    "[TMP_MAPS.append(x) for x in temp_rasterlist]  # Append the name of binary rasters to the list of temporary maps\n",
    "[TMP_CSV.append(x) for x in temp_csvlist_1]  # Append the paths to .csv files to the list of temporary .csv\n",
    "[TMP_CSV.append(x) for x in temp_csvlist_2]  # Append the paths to .csv files to the list of temporary .csv\n",
    "# Print processing time\n",
    "print_processing_time(begintime=start, printmessage=\"Proportion of each class of categorical raster computed in: \")  "
   ]
  },
  {
   "cell_type": "markdown",
   "metadata": {},
   "source": [
    "### MR Built-up proportion"
   ]
  },
  {
   "cell_type": "code",
   "execution_count": 40,
   "metadata": {
    "scrolled": true
   },
   "outputs": [
    {
     "data": {
      "text/plain": [
       "'Proportion of MR Built-up raster computed in: 4.6 seconds'"
      ]
     },
     "execution_count": 40,
     "metadata": {},
     "output_type": "execute_result"
    }
   ],
   "source": [
    "# Save time at starting\n",
    "start = start_processing() \n",
    "## Compute proportion of each class of categorical raster (parallel processing).\n",
    "gscript.run_command('g.region', raster=mr_builtup.split(\"@\")[0])  #Set the region to match the extend of the raster\n",
    "temp_rasterlist,temp_csvlist_1,temp_csvlist_2 = proportion_class(mr_builtup.split(\"@\")[0], mr_built_pixelvalue)\n",
    "TMP_MAPS.append(temp_rasterlist)  # Append the name of binary rasters to the list of temporary maps\n",
    "TMP_CSV.append(temp_csvlist_1)  # Append the paths to .csv files to the list of temporary .csv\n",
    "TMP_CSV.append(temp_csvlist_2)  # Append the paths to .csv files to the list of temporary .csv\n",
    "# Print processing time\n",
    "print_processing_time(begintime=start, printmessage=\"Proportion of MR Built-up raster computed in: \")  "
   ]
  },
  {
   "cell_type": "markdown",
   "metadata": {},
   "source": [
    "### Join all .csv files with statistics"
   ]
  },
  {
   "cell_type": "code",
   "execution_count": 41,
   "metadata": {
    "collapsed": true
   },
   "outputs": [],
   "source": [
    "## Join .csv files of statistics\n",
    "for directory in [outputdirectory_grid, outputdirectory_admin]:\n",
    "    allstatfile=os.path.join(directory,\"all_stats.csv\")\n",
    "    pattern_A=\"LC_*_prop.csv\"   #Add all csv with proportions of Land cover classes\n",
    "    pattern_B=\"LU_*_prop.csv\"  #Add all csv with proportions of Land use classes\n",
    "    pattern_C=\"MR_*_prop.csv\" \n",
    "    list_paths = ordered_list_of_path(directory,pattern_A,pattern_B,pattern_C)\n",
    "    join_multiplecsv(list_paths,allstatfile,separator=\",\",join='inner', fillempty='NULL', overwrite=True)"
   ]
  },
  {
   "cell_type": "markdown",
   "metadata": {},
   "source": [
    "### Visualisation of .csv files with statistics to be used"
   ]
  },
  {
   "cell_type": "markdown",
   "metadata": {},
   "source": [
    "**Admin level**"
   ]
  },
  {
   "cell_type": "code",
   "execution_count": 42,
   "metadata": {},
   "outputs": [
    {
     "name": "stdout",
     "output_type": "stream",
     "text": [
      "There are 92 rows in the dataframe\n"
     ]
    }
   ],
   "source": [
    "## Use pandas for preview of .csv content\n",
    "df_level0 = pd.read_csv(os.path.join(outputdirectory_admin,\"all_stats.csv\"))\n",
    "print \"There are %s rows in the dataframe\"%len(df_level0)"
   ]
  },
  {
   "cell_type": "code",
   "execution_count": 43,
   "metadata": {
    "scrolled": true
   },
   "outputs": [
    {
     "data": {
      "text/html": [
       "<div>\n",
       "<style scoped>\n",
       "    .dataframe tbody tr th:only-of-type {\n",
       "        vertical-align: middle;\n",
       "    }\n",
       "\n",
       "    .dataframe tbody tr th {\n",
       "        vertical-align: top;\n",
       "    }\n",
       "\n",
       "    .dataframe thead th {\n",
       "        text-align: right;\n",
       "    }\n",
       "</style>\n",
       "<table border=\"1\" class=\"dataframe\">\n",
       "  <thead>\n",
       "    <tr style=\"text-align: right;\">\n",
       "      <th></th>\n",
       "      <th>cat</th>\n",
       "      <th>LC_10_proportion</th>\n",
       "      <th>LC_22_proportion</th>\n",
       "      <th>LC_23_proportion</th>\n",
       "      <th>LC_33_proportion</th>\n",
       "      <th>LC_34_proportion</th>\n",
       "      <th>LC_45_proportion</th>\n",
       "      <th>LC_111_proportion</th>\n",
       "      <th>LC_112_proportion</th>\n",
       "      <th>LC_113_proportion</th>\n",
       "      <th>LU_1_proportion</th>\n",
       "      <th>LU_2_proportion</th>\n",
       "      <th>LU_3_proportion</th>\n",
       "      <th>LU_4_proportion</th>\n",
       "      <th>LU_5_proportion</th>\n",
       "      <th>LU_6_proportion</th>\n",
       "      <th>LU_7_proportion</th>\n",
       "      <th>LU_8_proportion</th>\n",
       "      <th>MR_1_proportion</th>\n",
       "    </tr>\n",
       "  </thead>\n",
       "  <tbody>\n",
       "    <tr>\n",
       "      <th>84</th>\n",
       "      <td>90</td>\n",
       "      <td>3.96580</td>\n",
       "      <td>2.77577</td>\n",
       "      <td>3.55138</td>\n",
       "      <td>0.00000</td>\n",
       "      <td>0.02184</td>\n",
       "      <td>46.70633</td>\n",
       "      <td>18.21779</td>\n",
       "      <td>16.60036</td>\n",
       "      <td>8.16073</td>\n",
       "      <td>0.00000</td>\n",
       "      <td>0.00000</td>\n",
       "      <td>1.36527</td>\n",
       "      <td>30.02197</td>\n",
       "      <td>26.87200</td>\n",
       "      <td>9.61087</td>\n",
       "      <td>3.23424</td>\n",
       "      <td>28.89565</td>\n",
       "      <td>78.39394</td>\n",
       "    </tr>\n",
       "    <tr>\n",
       "      <th>85</th>\n",
       "      <td>92</td>\n",
       "      <td>6.16764</td>\n",
       "      <td>2.33436</td>\n",
       "      <td>4.94733</td>\n",
       "      <td>0.00000</td>\n",
       "      <td>0.00151</td>\n",
       "      <td>38.90530</td>\n",
       "      <td>27.76267</td>\n",
       "      <td>16.33108</td>\n",
       "      <td>3.55011</td>\n",
       "      <td>13.10305</td>\n",
       "      <td>0.00000</td>\n",
       "      <td>2.73451</td>\n",
       "      <td>3.07596</td>\n",
       "      <td>53.88644</td>\n",
       "      <td>6.93691</td>\n",
       "      <td>16.73747</td>\n",
       "      <td>3.52566</td>\n",
       "      <td>77.76247</td>\n",
       "    </tr>\n",
       "    <tr>\n",
       "      <th>86</th>\n",
       "      <td>93</td>\n",
       "      <td>1.43462</td>\n",
       "      <td>1.10928</td>\n",
       "      <td>2.34982</td>\n",
       "      <td>0.00000</td>\n",
       "      <td>0.00000</td>\n",
       "      <td>46.41957</td>\n",
       "      <td>29.16700</td>\n",
       "      <td>15.26735</td>\n",
       "      <td>4.25236</td>\n",
       "      <td>0.00000</td>\n",
       "      <td>2.12664</td>\n",
       "      <td>5.98514</td>\n",
       "      <td>0.00000</td>\n",
       "      <td>57.44911</td>\n",
       "      <td>6.31248</td>\n",
       "      <td>20.66817</td>\n",
       "      <td>7.45846</td>\n",
       "      <td>77.29529</td>\n",
       "    </tr>\n",
       "    <tr>\n",
       "      <th>87</th>\n",
       "      <td>95</td>\n",
       "      <td>13.68807</td>\n",
       "      <td>8.26795</td>\n",
       "      <td>7.58359</td>\n",
       "      <td>0.19986</td>\n",
       "      <td>0.00097</td>\n",
       "      <td>34.02854</td>\n",
       "      <td>20.39778</td>\n",
       "      <td>10.17210</td>\n",
       "      <td>5.66114</td>\n",
       "      <td>0.00000</td>\n",
       "      <td>0.00000</td>\n",
       "      <td>2.29235</td>\n",
       "      <td>45.21770</td>\n",
       "      <td>34.26444</td>\n",
       "      <td>12.35599</td>\n",
       "      <td>0.37252</td>\n",
       "      <td>5.49701</td>\n",
       "      <td>72.53374</td>\n",
       "    </tr>\n",
       "    <tr>\n",
       "      <th>88</th>\n",
       "      <td>96</td>\n",
       "      <td>2.39342</td>\n",
       "      <td>2.30185</td>\n",
       "      <td>7.65571</td>\n",
       "      <td>0.13946</td>\n",
       "      <td>0.00000</td>\n",
       "      <td>38.21395</td>\n",
       "      <td>41.54643</td>\n",
       "      <td>7.49493</td>\n",
       "      <td>0.25424</td>\n",
       "      <td>0.02348</td>\n",
       "      <td>0.13196</td>\n",
       "      <td>0.50821</td>\n",
       "      <td>0.42431</td>\n",
       "      <td>67.14502</td>\n",
       "      <td>18.69895</td>\n",
       "      <td>1.14071</td>\n",
       "      <td>11.92734</td>\n",
       "      <td>84.87500</td>\n",
       "    </tr>\n",
       "    <tr>\n",
       "      <th>89</th>\n",
       "      <td>97</td>\n",
       "      <td>4.68674</td>\n",
       "      <td>5.06791</td>\n",
       "      <td>7.62459</td>\n",
       "      <td>4.18132</td>\n",
       "      <td>0.00000</td>\n",
       "      <td>35.72444</td>\n",
       "      <td>36.14971</td>\n",
       "      <td>6.15971</td>\n",
       "      <td>0.40559</td>\n",
       "      <td>0.00000</td>\n",
       "      <td>7.56006</td>\n",
       "      <td>0.00000</td>\n",
       "      <td>0.01659</td>\n",
       "      <td>26.39159</td>\n",
       "      <td>10.62459</td>\n",
       "      <td>49.17638</td>\n",
       "      <td>6.23079</td>\n",
       "      <td>88.60000</td>\n",
       "    </tr>\n",
       "    <tr>\n",
       "      <th>90</th>\n",
       "      <td>98</td>\n",
       "      <td>7.64500</td>\n",
       "      <td>5.19525</td>\n",
       "      <td>16.41952</td>\n",
       "      <td>1.38934</td>\n",
       "      <td>0.00227</td>\n",
       "      <td>29.30280</td>\n",
       "      <td>36.41366</td>\n",
       "      <td>3.48624</td>\n",
       "      <td>0.14591</td>\n",
       "      <td>0.00000</td>\n",
       "      <td>1.85828</td>\n",
       "      <td>0.85765</td>\n",
       "      <td>0.21008</td>\n",
       "      <td>8.37321</td>\n",
       "      <td>18.58202</td>\n",
       "      <td>65.73093</td>\n",
       "      <td>4.38783</td>\n",
       "      <td>88.76768</td>\n",
       "    </tr>\n",
       "    <tr>\n",
       "      <th>91</th>\n",
       "      <td>99</td>\n",
       "      <td>3.72483</td>\n",
       "      <td>3.31699</td>\n",
       "      <td>1.42572</td>\n",
       "      <td>0.00000</td>\n",
       "      <td>0.00220</td>\n",
       "      <td>48.56620</td>\n",
       "      <td>17.14320</td>\n",
       "      <td>20.56331</td>\n",
       "      <td>5.25756</td>\n",
       "      <td>0.00000</td>\n",
       "      <td>0.00000</td>\n",
       "      <td>6.48800</td>\n",
       "      <td>3.57705</td>\n",
       "      <td>71.63279</td>\n",
       "      <td>14.71686</td>\n",
       "      <td>0.36076</td>\n",
       "      <td>3.22453</td>\n",
       "      <td>65.56557</td>\n",
       "    </tr>\n",
       "  </tbody>\n",
       "</table>\n",
       "</div>"
      ],
      "text/plain": [
       "    cat  LC_10_proportion  LC_22_proportion  LC_23_proportion  \\\n",
       "84   90           3.96580           2.77577           3.55138   \n",
       "85   92           6.16764           2.33436           4.94733   \n",
       "86   93           1.43462           1.10928           2.34982   \n",
       "87   95          13.68807           8.26795           7.58359   \n",
       "88   96           2.39342           2.30185           7.65571   \n",
       "89   97           4.68674           5.06791           7.62459   \n",
       "90   98           7.64500           5.19525          16.41952   \n",
       "91   99           3.72483           3.31699           1.42572   \n",
       "\n",
       "    LC_33_proportion  LC_34_proportion  LC_45_proportion  LC_111_proportion  \\\n",
       "84           0.00000           0.02184          46.70633           18.21779   \n",
       "85           0.00000           0.00151          38.90530           27.76267   \n",
       "86           0.00000           0.00000          46.41957           29.16700   \n",
       "87           0.19986           0.00097          34.02854           20.39778   \n",
       "88           0.13946           0.00000          38.21395           41.54643   \n",
       "89           4.18132           0.00000          35.72444           36.14971   \n",
       "90           1.38934           0.00227          29.30280           36.41366   \n",
       "91           0.00000           0.00220          48.56620           17.14320   \n",
       "\n",
       "    LC_112_proportion  LC_113_proportion  LU_1_proportion  LU_2_proportion  \\\n",
       "84           16.60036            8.16073          0.00000          0.00000   \n",
       "85           16.33108            3.55011         13.10305          0.00000   \n",
       "86           15.26735            4.25236          0.00000          2.12664   \n",
       "87           10.17210            5.66114          0.00000          0.00000   \n",
       "88            7.49493            0.25424          0.02348          0.13196   \n",
       "89            6.15971            0.40559          0.00000          7.56006   \n",
       "90            3.48624            0.14591          0.00000          1.85828   \n",
       "91           20.56331            5.25756          0.00000          0.00000   \n",
       "\n",
       "    LU_3_proportion  LU_4_proportion  LU_5_proportion  LU_6_proportion  \\\n",
       "84          1.36527         30.02197         26.87200          9.61087   \n",
       "85          2.73451          3.07596         53.88644          6.93691   \n",
       "86          5.98514          0.00000         57.44911          6.31248   \n",
       "87          2.29235         45.21770         34.26444         12.35599   \n",
       "88          0.50821          0.42431         67.14502         18.69895   \n",
       "89          0.00000          0.01659         26.39159         10.62459   \n",
       "90          0.85765          0.21008          8.37321         18.58202   \n",
       "91          6.48800          3.57705         71.63279         14.71686   \n",
       "\n",
       "    LU_7_proportion  LU_8_proportion  MR_1_proportion  \n",
       "84          3.23424         28.89565         78.39394  \n",
       "85         16.73747          3.52566         77.76247  \n",
       "86         20.66817          7.45846         77.29529  \n",
       "87          0.37252          5.49701         72.53374  \n",
       "88          1.14071         11.92734         84.87500  \n",
       "89         49.17638          6.23079         88.60000  \n",
       "90         65.73093          4.38783         88.76768  \n",
       "91          0.36076          3.22453         65.56557  "
      ]
     },
     "execution_count": 43,
     "metadata": {},
     "output_type": "execute_result"
    }
   ],
   "source": [
    "## Display tail of the dataframe\n",
    "df_level0.tail(8)"
   ]
  },
  {
   "cell_type": "markdown",
   "metadata": {},
   "source": [
    "**Grid level**"
   ]
  },
  {
   "cell_type": "code",
   "execution_count": 44,
   "metadata": {},
   "outputs": [
    {
     "name": "stdout",
     "output_type": "stream",
     "text": [
      "There are 20059 rows in the dataframe\n"
     ]
    }
   ],
   "source": [
    "## Use pandas for preview of .csv content\n",
    "df_grid = pd.read_csv(os.path.join(outputdirectory_grid,\"all_stats.csv\"))\n",
    "print \"There are %s rows in the dataframe\"%len(df_grid)"
   ]
  },
  {
   "cell_type": "code",
   "execution_count": 45,
   "metadata": {
    "scrolled": true
   },
   "outputs": [
    {
     "data": {
      "text/html": [
       "<div>\n",
       "<style scoped>\n",
       "    .dataframe tbody tr th:only-of-type {\n",
       "        vertical-align: middle;\n",
       "    }\n",
       "\n",
       "    .dataframe tbody tr th {\n",
       "        vertical-align: top;\n",
       "    }\n",
       "\n",
       "    .dataframe thead th {\n",
       "        text-align: right;\n",
       "    }\n",
       "</style>\n",
       "<table border=\"1\" class=\"dataframe\">\n",
       "  <thead>\n",
       "    <tr style=\"text-align: right;\">\n",
       "      <th></th>\n",
       "      <th>cat</th>\n",
       "      <th>LC_10_proportion</th>\n",
       "      <th>LC_22_proportion</th>\n",
       "      <th>LC_23_proportion</th>\n",
       "      <th>LC_33_proportion</th>\n",
       "      <th>LC_34_proportion</th>\n",
       "      <th>LC_45_proportion</th>\n",
       "      <th>LC_111_proportion</th>\n",
       "      <th>LC_112_proportion</th>\n",
       "      <th>LC_113_proportion</th>\n",
       "      <th>LU_1_proportion</th>\n",
       "      <th>LU_2_proportion</th>\n",
       "      <th>LU_3_proportion</th>\n",
       "      <th>LU_4_proportion</th>\n",
       "      <th>LU_5_proportion</th>\n",
       "      <th>LU_6_proportion</th>\n",
       "      <th>LU_7_proportion</th>\n",
       "      <th>LU_8_proportion</th>\n",
       "      <th>MR_1_proportion</th>\n",
       "    </tr>\n",
       "  </thead>\n",
       "  <tbody>\n",
       "    <tr>\n",
       "      <th>20051</th>\n",
       "      <td>20052</td>\n",
       "      <td>0.00000</td>\n",
       "      <td>9.12409</td>\n",
       "      <td>39.01606</td>\n",
       "      <td>0.0</td>\n",
       "      <td>0.0</td>\n",
       "      <td>15.34307</td>\n",
       "      <td>2.24818</td>\n",
       "      <td>1.57664</td>\n",
       "      <td>32.69197</td>\n",
       "      <td>0.0</td>\n",
       "      <td>0.0</td>\n",
       "      <td>0.0</td>\n",
       "      <td>100.00000</td>\n",
       "      <td>0.0</td>\n",
       "      <td>0.00000</td>\n",
       "      <td>0.0</td>\n",
       "      <td>0.0</td>\n",
       "      <td>0.0</td>\n",
       "    </tr>\n",
       "    <tr>\n",
       "      <th>20052</th>\n",
       "      <td>20053</td>\n",
       "      <td>0.07250</td>\n",
       "      <td>21.85250</td>\n",
       "      <td>0.24000</td>\n",
       "      <td>0.0</td>\n",
       "      <td>0.0</td>\n",
       "      <td>22.07500</td>\n",
       "      <td>13.18250</td>\n",
       "      <td>29.14000</td>\n",
       "      <td>13.43750</td>\n",
       "      <td>0.0</td>\n",
       "      <td>0.0</td>\n",
       "      <td>0.0</td>\n",
       "      <td>81.54250</td>\n",
       "      <td>10.9</td>\n",
       "      <td>7.55750</td>\n",
       "      <td>0.0</td>\n",
       "      <td>0.0</td>\n",
       "      <td>0.0</td>\n",
       "    </tr>\n",
       "    <tr>\n",
       "      <th>20053</th>\n",
       "      <td>20054</td>\n",
       "      <td>0.08250</td>\n",
       "      <td>32.91500</td>\n",
       "      <td>15.84250</td>\n",
       "      <td>0.0</td>\n",
       "      <td>0.0</td>\n",
       "      <td>45.70250</td>\n",
       "      <td>4.52250</td>\n",
       "      <td>0.93500</td>\n",
       "      <td>0.00000</td>\n",
       "      <td>0.0</td>\n",
       "      <td>0.0</td>\n",
       "      <td>0.0</td>\n",
       "      <td>83.33500</td>\n",
       "      <td>0.0</td>\n",
       "      <td>16.66500</td>\n",
       "      <td>0.0</td>\n",
       "      <td>0.0</td>\n",
       "      <td>0.0</td>\n",
       "    </tr>\n",
       "    <tr>\n",
       "      <th>20054</th>\n",
       "      <td>20055</td>\n",
       "      <td>0.51564</td>\n",
       "      <td>0.10978</td>\n",
       "      <td>17.11577</td>\n",
       "      <td>0.0</td>\n",
       "      <td>0.0</td>\n",
       "      <td>80.83167</td>\n",
       "      <td>1.42715</td>\n",
       "      <td>0.00000</td>\n",
       "      <td>0.00000</td>\n",
       "      <td>0.0</td>\n",
       "      <td>0.0</td>\n",
       "      <td>0.0</td>\n",
       "      <td>100.00000</td>\n",
       "      <td>0.0</td>\n",
       "      <td>0.00000</td>\n",
       "      <td>0.0</td>\n",
       "      <td>0.0</td>\n",
       "      <td>0.0</td>\n",
       "    </tr>\n",
       "    <tr>\n",
       "      <th>20055</th>\n",
       "      <td>20056</td>\n",
       "      <td>0.00000</td>\n",
       "      <td>3.17250</td>\n",
       "      <td>1.24500</td>\n",
       "      <td>0.0</td>\n",
       "      <td>0.0</td>\n",
       "      <td>66.67000</td>\n",
       "      <td>2.97750</td>\n",
       "      <td>4.09250</td>\n",
       "      <td>21.84250</td>\n",
       "      <td>0.0</td>\n",
       "      <td>0.0</td>\n",
       "      <td>0.0</td>\n",
       "      <td>35.79750</td>\n",
       "      <td>0.0</td>\n",
       "      <td>64.20250</td>\n",
       "      <td>0.0</td>\n",
       "      <td>0.0</td>\n",
       "      <td>0.0</td>\n",
       "    </tr>\n",
       "    <tr>\n",
       "      <th>20056</th>\n",
       "      <td>20057</td>\n",
       "      <td>0.57673</td>\n",
       "      <td>0.00000</td>\n",
       "      <td>47.84518</td>\n",
       "      <td>0.0</td>\n",
       "      <td>0.0</td>\n",
       "      <td>51.57808</td>\n",
       "      <td>0.00000</td>\n",
       "      <td>0.00000</td>\n",
       "      <td>0.00000</td>\n",
       "      <td>0.0</td>\n",
       "      <td>0.0</td>\n",
       "      <td>0.0</td>\n",
       "      <td>57.59175</td>\n",
       "      <td>0.0</td>\n",
       "      <td>42.40825</td>\n",
       "      <td>0.0</td>\n",
       "      <td>0.0</td>\n",
       "      <td>0.0</td>\n",
       "    </tr>\n",
       "    <tr>\n",
       "      <th>20057</th>\n",
       "      <td>20058</td>\n",
       "      <td>2.32475</td>\n",
       "      <td>9.09926</td>\n",
       "      <td>13.57300</td>\n",
       "      <td>0.0</td>\n",
       "      <td>0.0</td>\n",
       "      <td>74.27601</td>\n",
       "      <td>0.00000</td>\n",
       "      <td>0.00000</td>\n",
       "      <td>0.72698</td>\n",
       "      <td>0.0</td>\n",
       "      <td>0.0</td>\n",
       "      <td>0.0</td>\n",
       "      <td>0.00000</td>\n",
       "      <td>0.0</td>\n",
       "      <td>100.00000</td>\n",
       "      <td>0.0</td>\n",
       "      <td>0.0</td>\n",
       "      <td>0.0</td>\n",
       "    </tr>\n",
       "    <tr>\n",
       "      <th>20058</th>\n",
       "      <td>20059</td>\n",
       "      <td>2.98658</td>\n",
       "      <td>0.76309</td>\n",
       "      <td>13.28392</td>\n",
       "      <td>0.0</td>\n",
       "      <td>0.0</td>\n",
       "      <td>82.07613</td>\n",
       "      <td>0.68854</td>\n",
       "      <td>0.20174</td>\n",
       "      <td>0.00000</td>\n",
       "      <td>0.0</td>\n",
       "      <td>0.0</td>\n",
       "      <td>0.0</td>\n",
       "      <td>69.49939</td>\n",
       "      <td>0.0</td>\n",
       "      <td>30.50061</td>\n",
       "      <td>0.0</td>\n",
       "      <td>0.0</td>\n",
       "      <td>0.0</td>\n",
       "    </tr>\n",
       "  </tbody>\n",
       "</table>\n",
       "</div>"
      ],
      "text/plain": [
       "         cat  LC_10_proportion  LC_22_proportion  LC_23_proportion  \\\n",
       "20051  20052           0.00000           9.12409          39.01606   \n",
       "20052  20053           0.07250          21.85250           0.24000   \n",
       "20053  20054           0.08250          32.91500          15.84250   \n",
       "20054  20055           0.51564           0.10978          17.11577   \n",
       "20055  20056           0.00000           3.17250           1.24500   \n",
       "20056  20057           0.57673           0.00000          47.84518   \n",
       "20057  20058           2.32475           9.09926          13.57300   \n",
       "20058  20059           2.98658           0.76309          13.28392   \n",
       "\n",
       "       LC_33_proportion  LC_34_proportion  LC_45_proportion  \\\n",
       "20051               0.0               0.0          15.34307   \n",
       "20052               0.0               0.0          22.07500   \n",
       "20053               0.0               0.0          45.70250   \n",
       "20054               0.0               0.0          80.83167   \n",
       "20055               0.0               0.0          66.67000   \n",
       "20056               0.0               0.0          51.57808   \n",
       "20057               0.0               0.0          74.27601   \n",
       "20058               0.0               0.0          82.07613   \n",
       "\n",
       "       LC_111_proportion  LC_112_proportion  LC_113_proportion  \\\n",
       "20051            2.24818            1.57664           32.69197   \n",
       "20052           13.18250           29.14000           13.43750   \n",
       "20053            4.52250            0.93500            0.00000   \n",
       "20054            1.42715            0.00000            0.00000   \n",
       "20055            2.97750            4.09250           21.84250   \n",
       "20056            0.00000            0.00000            0.00000   \n",
       "20057            0.00000            0.00000            0.72698   \n",
       "20058            0.68854            0.20174            0.00000   \n",
       "\n",
       "       LU_1_proportion  LU_2_proportion  LU_3_proportion  LU_4_proportion  \\\n",
       "20051              0.0              0.0              0.0        100.00000   \n",
       "20052              0.0              0.0              0.0         81.54250   \n",
       "20053              0.0              0.0              0.0         83.33500   \n",
       "20054              0.0              0.0              0.0        100.00000   \n",
       "20055              0.0              0.0              0.0         35.79750   \n",
       "20056              0.0              0.0              0.0         57.59175   \n",
       "20057              0.0              0.0              0.0          0.00000   \n",
       "20058              0.0              0.0              0.0         69.49939   \n",
       "\n",
       "       LU_5_proportion  LU_6_proportion  LU_7_proportion  LU_8_proportion  \\\n",
       "20051              0.0          0.00000              0.0              0.0   \n",
       "20052             10.9          7.55750              0.0              0.0   \n",
       "20053              0.0         16.66500              0.0              0.0   \n",
       "20054              0.0          0.00000              0.0              0.0   \n",
       "20055              0.0         64.20250              0.0              0.0   \n",
       "20056              0.0         42.40825              0.0              0.0   \n",
       "20057              0.0        100.00000              0.0              0.0   \n",
       "20058              0.0         30.50061              0.0              0.0   \n",
       "\n",
       "       MR_1_proportion  \n",
       "20051              0.0  \n",
       "20052              0.0  \n",
       "20053              0.0  \n",
       "20054              0.0  \n",
       "20055              0.0  \n",
       "20056              0.0  \n",
       "20057              0.0  \n",
       "20058              0.0  "
      ]
     },
     "execution_count": 45,
     "metadata": {},
     "output_type": "execute_result"
    }
   ],
   "source": [
    "## Display tail of the dataframe\n",
    "df_grid.tail(8)"
   ]
  },
  {
   "cell_type": "markdown",
   "metadata": {},
   "source": [
    "# Create simple weighting layer for MR built-up and VHR built-up"
   ]
  },
  {
   "cell_type": "markdown",
   "metadata": {},
   "source": [
    "The weights are created simply by using the proportion computed for each grid"
   ]
  },
  {
   "cell_type": "code",
   "execution_count": 46,
   "metadata": {
    "collapsed": true
   },
   "outputs": [],
   "source": [
    "## Get the Grid statistics in a dataframe\n",
    "all_stats_grid=os.path.join(outputdirectory_grid,\"all_stats.csv\") # for grid level\n",
    "df_grid = pd.read_csv(all_stats_grid)\n",
    "## Compute sum of VHR built-up proportion (3 classes of built-up)\n",
    "df_grid['VHR_built_proportion'] = df_grid[\"LC_111_proportion\"]+df_grid[\"LC_112_proportion\"]+df_grid[\"LC_113_proportion\"]"
   ]
  },
  {
   "cell_type": "code",
   "execution_count": 47,
   "metadata": {},
   "outputs": [
    {
     "data": {
      "text/html": [
       "<div>\n",
       "<style scoped>\n",
       "    .dataframe tbody tr th:only-of-type {\n",
       "        vertical-align: middle;\n",
       "    }\n",
       "\n",
       "    .dataframe tbody tr th {\n",
       "        vertical-align: top;\n",
       "    }\n",
       "\n",
       "    .dataframe thead th {\n",
       "        text-align: right;\n",
       "    }\n",
       "</style>\n",
       "<table border=\"1\" class=\"dataframe\">\n",
       "  <thead>\n",
       "    <tr style=\"text-align: right;\">\n",
       "      <th></th>\n",
       "      <th>cat</th>\n",
       "      <th>LC_10_proportion</th>\n",
       "      <th>LC_22_proportion</th>\n",
       "      <th>LC_23_proportion</th>\n",
       "      <th>LC_33_proportion</th>\n",
       "      <th>LC_34_proportion</th>\n",
       "      <th>LC_45_proportion</th>\n",
       "      <th>LC_111_proportion</th>\n",
       "      <th>LC_112_proportion</th>\n",
       "      <th>LC_113_proportion</th>\n",
       "      <th>LU_1_proportion</th>\n",
       "      <th>LU_2_proportion</th>\n",
       "      <th>LU_3_proportion</th>\n",
       "      <th>LU_4_proportion</th>\n",
       "      <th>LU_5_proportion</th>\n",
       "      <th>LU_6_proportion</th>\n",
       "      <th>LU_7_proportion</th>\n",
       "      <th>LU_8_proportion</th>\n",
       "      <th>MR_1_proportion</th>\n",
       "      <th>VHR_built_proportion</th>\n",
       "    </tr>\n",
       "  </thead>\n",
       "  <tbody>\n",
       "    <tr>\n",
       "      <th>20054</th>\n",
       "      <td>20055</td>\n",
       "      <td>0.51564</td>\n",
       "      <td>0.10978</td>\n",
       "      <td>17.11577</td>\n",
       "      <td>0.0</td>\n",
       "      <td>0.0</td>\n",
       "      <td>80.83167</td>\n",
       "      <td>1.42715</td>\n",
       "      <td>0.00000</td>\n",
       "      <td>0.00000</td>\n",
       "      <td>0.0</td>\n",
       "      <td>0.0</td>\n",
       "      <td>0.0</td>\n",
       "      <td>100.00000</td>\n",
       "      <td>0.0</td>\n",
       "      <td>0.00000</td>\n",
       "      <td>0.0</td>\n",
       "      <td>0.0</td>\n",
       "      <td>0.0</td>\n",
       "      <td>1.42715</td>\n",
       "    </tr>\n",
       "    <tr>\n",
       "      <th>20055</th>\n",
       "      <td>20056</td>\n",
       "      <td>0.00000</td>\n",
       "      <td>3.17250</td>\n",
       "      <td>1.24500</td>\n",
       "      <td>0.0</td>\n",
       "      <td>0.0</td>\n",
       "      <td>66.67000</td>\n",
       "      <td>2.97750</td>\n",
       "      <td>4.09250</td>\n",
       "      <td>21.84250</td>\n",
       "      <td>0.0</td>\n",
       "      <td>0.0</td>\n",
       "      <td>0.0</td>\n",
       "      <td>35.79750</td>\n",
       "      <td>0.0</td>\n",
       "      <td>64.20250</td>\n",
       "      <td>0.0</td>\n",
       "      <td>0.0</td>\n",
       "      <td>0.0</td>\n",
       "      <td>28.91250</td>\n",
       "    </tr>\n",
       "    <tr>\n",
       "      <th>20056</th>\n",
       "      <td>20057</td>\n",
       "      <td>0.57673</td>\n",
       "      <td>0.00000</td>\n",
       "      <td>47.84518</td>\n",
       "      <td>0.0</td>\n",
       "      <td>0.0</td>\n",
       "      <td>51.57808</td>\n",
       "      <td>0.00000</td>\n",
       "      <td>0.00000</td>\n",
       "      <td>0.00000</td>\n",
       "      <td>0.0</td>\n",
       "      <td>0.0</td>\n",
       "      <td>0.0</td>\n",
       "      <td>57.59175</td>\n",
       "      <td>0.0</td>\n",
       "      <td>42.40825</td>\n",
       "      <td>0.0</td>\n",
       "      <td>0.0</td>\n",
       "      <td>0.0</td>\n",
       "      <td>0.00000</td>\n",
       "    </tr>\n",
       "    <tr>\n",
       "      <th>20057</th>\n",
       "      <td>20058</td>\n",
       "      <td>2.32475</td>\n",
       "      <td>9.09926</td>\n",
       "      <td>13.57300</td>\n",
       "      <td>0.0</td>\n",
       "      <td>0.0</td>\n",
       "      <td>74.27601</td>\n",
       "      <td>0.00000</td>\n",
       "      <td>0.00000</td>\n",
       "      <td>0.72698</td>\n",
       "      <td>0.0</td>\n",
       "      <td>0.0</td>\n",
       "      <td>0.0</td>\n",
       "      <td>0.00000</td>\n",
       "      <td>0.0</td>\n",
       "      <td>100.00000</td>\n",
       "      <td>0.0</td>\n",
       "      <td>0.0</td>\n",
       "      <td>0.0</td>\n",
       "      <td>0.72698</td>\n",
       "    </tr>\n",
       "    <tr>\n",
       "      <th>20058</th>\n",
       "      <td>20059</td>\n",
       "      <td>2.98658</td>\n",
       "      <td>0.76309</td>\n",
       "      <td>13.28392</td>\n",
       "      <td>0.0</td>\n",
       "      <td>0.0</td>\n",
       "      <td>82.07613</td>\n",
       "      <td>0.68854</td>\n",
       "      <td>0.20174</td>\n",
       "      <td>0.00000</td>\n",
       "      <td>0.0</td>\n",
       "      <td>0.0</td>\n",
       "      <td>0.0</td>\n",
       "      <td>69.49939</td>\n",
       "      <td>0.0</td>\n",
       "      <td>30.50061</td>\n",
       "      <td>0.0</td>\n",
       "      <td>0.0</td>\n",
       "      <td>0.0</td>\n",
       "      <td>0.89028</td>\n",
       "    </tr>\n",
       "  </tbody>\n",
       "</table>\n",
       "</div>"
      ],
      "text/plain": [
       "         cat  LC_10_proportion  LC_22_proportion  LC_23_proportion  \\\n",
       "20054  20055           0.51564           0.10978          17.11577   \n",
       "20055  20056           0.00000           3.17250           1.24500   \n",
       "20056  20057           0.57673           0.00000          47.84518   \n",
       "20057  20058           2.32475           9.09926          13.57300   \n",
       "20058  20059           2.98658           0.76309          13.28392   \n",
       "\n",
       "       LC_33_proportion  LC_34_proportion  LC_45_proportion  \\\n",
       "20054               0.0               0.0          80.83167   \n",
       "20055               0.0               0.0          66.67000   \n",
       "20056               0.0               0.0          51.57808   \n",
       "20057               0.0               0.0          74.27601   \n",
       "20058               0.0               0.0          82.07613   \n",
       "\n",
       "       LC_111_proportion  LC_112_proportion  LC_113_proportion  \\\n",
       "20054            1.42715            0.00000            0.00000   \n",
       "20055            2.97750            4.09250           21.84250   \n",
       "20056            0.00000            0.00000            0.00000   \n",
       "20057            0.00000            0.00000            0.72698   \n",
       "20058            0.68854            0.20174            0.00000   \n",
       "\n",
       "       LU_1_proportion  LU_2_proportion  LU_3_proportion  LU_4_proportion  \\\n",
       "20054              0.0              0.0              0.0        100.00000   \n",
       "20055              0.0              0.0              0.0         35.79750   \n",
       "20056              0.0              0.0              0.0         57.59175   \n",
       "20057              0.0              0.0              0.0          0.00000   \n",
       "20058              0.0              0.0              0.0         69.49939   \n",
       "\n",
       "       LU_5_proportion  LU_6_proportion  LU_7_proportion  LU_8_proportion  \\\n",
       "20054              0.0          0.00000              0.0              0.0   \n",
       "20055              0.0         64.20250              0.0              0.0   \n",
       "20056              0.0         42.40825              0.0              0.0   \n",
       "20057              0.0        100.00000              0.0              0.0   \n",
       "20058              0.0         30.50061              0.0              0.0   \n",
       "\n",
       "       MR_1_proportion  VHR_built_proportion  \n",
       "20054              0.0               1.42715  \n",
       "20055              0.0              28.91250  \n",
       "20056              0.0               0.00000  \n",
       "20057              0.0               0.72698  \n",
       "20058              0.0               0.89028  "
      ]
     },
     "execution_count": 47,
     "metadata": {},
     "output_type": "execute_result"
    }
   ],
   "source": [
    "df_grid.tail()"
   ]
  },
  {
   "cell_type": "markdown",
   "metadata": {},
   "source": [
    "## Test A - MR built-up layer"
   ]
  },
  {
   "cell_type": "code",
   "execution_count": 48,
   "metadata": {
    "collapsed": true
   },
   "outputs": [],
   "source": [
    "# Name of test\n",
    "test = 'A'\n",
    "# Name of column with the proportion to use as weight \n",
    "weight_column = 'MR_1_proportion'"
   ]
  },
  {
   "cell_type": "code",
   "execution_count": 49,
   "metadata": {
    "collapsed": true
   },
   "outputs": [],
   "source": [
    "## Define a reclassification rule\n",
    "cat_list=df_grid['cat'].tolist()\n",
    "weight_list=df_grid[weight_column].tolist()\n",
    "rule=\"\"\n",
    "for i, cat in enumerate(cat_list):\n",
    "    rule+=str(cat)\n",
    "    rule+=\"=\"\n",
    "    rule+=str(int(round((weight_list[i]*10000),0)))  #reclass rule of r.reclass requier INTEGER values but random forest prediction could be very low values.\n",
    "    rule+=\"\\n\"\n",
    "rule+=\"*\"\n",
    "rule+=\"=\"\n",
    "rule+=\"NULL\"\n",
    "## Create a temporary 'weight_reclass_rules.csv' file for r.reclass\n",
    "outputcsv=\"%s_weight_reclass_rules.csv\"%gscript.tempfile()\n",
    "TMP_CSV.append(outputcsv)\n",
    "f = open(outputcsv, 'w')\n",
    "f.write(rule)\n",
    "f.close()"
   ]
  },
  {
   "cell_type": "code",
   "execution_count": 50,
   "metadata": {},
   "outputs": [
    {
     "data": {
      "text/plain": [
       "0"
      ]
     },
     "execution_count": 50,
     "metadata": {},
     "output_type": "execute_result"
    }
   ],
   "source": [
    "# Name of the weighting layer to produce \n",
    "output_weighting_layer = \"Test_%s_weight\"%test\n",
    "\n",
    "## Reclass segments raster layer\n",
    "gscript.run_command('g.region', raster=clumped_grid)\n",
    "gscript.run_command('r.reclass', quiet=True, overwrite=True, \n",
    "                    input=clumped_grid, output=\"weight_int\", rules=outputcsv)\n",
    "gscript.run_command('r.mapcalc', expression=\"%s=float(weight_int)/float(10000)\"%output_weighting_layer, \n",
    "                    quiet=True, overwrite=True)"
   ]
  },
  {
   "cell_type": "code",
   "execution_count": 51,
   "metadata": {
    "collapsed": true
   },
   "outputs": [],
   "source": [
    "message = \"-------------- TEST %s --------------\\n\"%test\n",
    "message += \"Simple weighting layer (not RF) based on '%s'\"%weight_column\n",
    "log_text+=message+'\\n\\n'"
   ]
  },
  {
   "cell_type": "markdown",
   "metadata": {},
   "source": [
    "## Test B - VHR built-up layer"
   ]
  },
  {
   "cell_type": "code",
   "execution_count": 52,
   "metadata": {
    "collapsed": true
   },
   "outputs": [],
   "source": [
    "# Name of test\n",
    "test = 'B'\n",
    "# Name of column with the proportion to use as weight \n",
    "weight_column = 'VHR_built_proportion'"
   ]
  },
  {
   "cell_type": "code",
   "execution_count": 53,
   "metadata": {
    "collapsed": true
   },
   "outputs": [],
   "source": [
    "## Define a reclassification rule\n",
    "cat_list=df_grid['cat'].tolist()\n",
    "weight_list=df_grid[weight_column].tolist()\n",
    "rule=\"\"\n",
    "for i, cat in enumerate(cat_list):\n",
    "    rule+=str(cat)\n",
    "    rule+=\"=\"\n",
    "    rule+=str(int(round((weight_list[i]*10000),0)))  #reclass rule of r.reclass requier INTEGER values but random forest prediction could be very low values.\n",
    "    rule+=\"\\n\"\n",
    "rule+=\"*\"\n",
    "rule+=\"=\"\n",
    "rule+=\"NULL\"\n",
    "## Create a temporary 'weight_reclass_rules.csv' file for r.reclass\n",
    "outputcsv=\"%s_weight_reclass_rules.csv\"%gscript.tempfile()\n",
    "TMP_CSV.append(outputcsv)\n",
    "f = open(outputcsv, 'w')\n",
    "f.write(rule)\n",
    "f.close()"
   ]
  },
  {
   "cell_type": "code",
   "execution_count": 54,
   "metadata": {},
   "outputs": [
    {
     "data": {
      "text/plain": [
       "0"
      ]
     },
     "execution_count": 54,
     "metadata": {},
     "output_type": "execute_result"
    }
   ],
   "source": [
    "# Name of the weighting layer to produce \n",
    "output_weighting_layer = \"Test_%s_weight\"%test\n",
    "\n",
    "## Reclass segments raster layer\n",
    "gscript.run_command('g.region', raster=clumped_grid)\n",
    "gscript.run_command('r.reclass', quiet=True, overwrite=True, \n",
    "                    input=clumped_grid, output=\"weight_int\", rules=outputcsv)\n",
    "gscript.run_command('r.mapcalc', expression=\"%s=float(weight_int)/float(10000)\"%output_weighting_layer, \n",
    "                    quiet=True, overwrite=True)"
   ]
  },
  {
   "cell_type": "code",
   "execution_count": 55,
   "metadata": {
    "collapsed": true
   },
   "outputs": [],
   "source": [
    "message = \"-------------- TEST %s --------------\\n\"%test\n",
    "message += \"Simple weighting layer (not RF) based on '%s'\"%weight_column\n",
    "log_text+=message+'\\n\\n'"
   ]
  },
  {
   "cell_type": "markdown",
   "metadata": {},
   "source": [
    "# Evaluate the importance of thematic detail in VHR layers"
   ]
  },
  {
   "cell_type": "markdown",
   "metadata": {},
   "source": [
    "## Random Forest for creation of weights"
   ]
  },
  {
   "cell_type": "markdown",
   "metadata": {},
   "source": [
    "### Define parameters"
   ]
  },
  {
   "cell_type": "code",
   "execution_count": 56,
   "metadata": {
    "collapsed": true
   },
   "outputs": [],
   "source": [
    "# Minimum feature importance for a feature to be kept in the final model\n",
    "min_fimportance = 0.00\n",
    "#min_fimportance = 0.05"
   ]
  },
  {
   "cell_type": "code",
   "execution_count": 57,
   "metadata": {
    "collapsed": true
   },
   "outputs": [],
   "source": [
    "# Parameter for the Grid Search for hyperparameter optimization\n",
    "param_grid = {'oob_score': [True],'bootstrap': [True],\n",
    "              'max_features': ['sqrt',0.05,0.1,0.2,0.3],\n",
    "              'n_estimators': [250, 350, 500, 750]}\n",
    "#try: literal_eval(param_grid)\n",
    "#except: gscript.fatal(_(\"The syntax of the Python dictionary with model parameter is not as expected. Please refer to the manual\"))"
   ]
  },
  {
   "cell_type": "code",
   "execution_count": 58,
   "metadata": {},
   "outputs": [],
   "source": [
    "# Kfold parameter\n",
    "kfold = 3\n",
    "# Is kfold valid ?\n",
    "maxfold=int(gscript.parse_command('v.db.univar', flags='g', map=gridded_vector, column='cat')['n'])   ## Corespond to leave-one-out cross-validation\n",
    "if(kfold > maxfold):\n",
    "    gscript.fatal(_(\"<kfold> parameter must be lower than %s (number of administratives area)\"%maxfold))\n",
    "if(kfold < 2):\n",
    "    gscript.fatal(_(\"<kfold> parameter must be higher than 2\"))"
   ]
  },
  {
   "cell_type": "code",
   "execution_count": 59,
   "metadata": {
    "collapsed": true
   },
   "outputs": [],
   "source": [
    "## Define the name of the legend classes for each input raster\n",
    "# For VHR land cover\n",
    "lc_class_name = \"/media/tais/My_Book_1/MAUPP/Traitement/Population_modelling_dasymetry/data/dakar/legend_VHR_landcover.txt\"\n",
    "# For VHR land use\n",
    "lu_class_name = \"/media/tais/My_Book_1/MAUPP/Traitement/Population_modelling_dasymetry/data/dakar/legend_VHR_landuse.txt\"\n",
    "# For MR built-up\n",
    "mr_class_name = \"/media/tais/My_Book_1/MAUPP/Traitement/Population_modelling_dasymetry/data/dakar/legend_MR_builtup.txt\""
   ]
  },
  {
   "cell_type": "code",
   "execution_count": 60,
   "metadata": {
    "collapsed": true
   },
   "outputs": [],
   "source": [
    "# Function that update the labels of feature importance plot according to the legend class name provided\n",
    "from legend_csv import labels_from_csv"
   ]
  },
  {
   "cell_type": "markdown",
   "metadata": {},
   "source": [
    "## Test C - 3 built-up classes comming from VHR"
   ]
  },
  {
   "cell_type": "code",
   "execution_count": 61,
   "metadata": {
    "collapsed": true
   },
   "outputs": [],
   "source": [
    "# Name of test\n",
    "test = 'C'"
   ]
  },
  {
   "cell_type": "code",
   "execution_count": 62,
   "metadata": {
    "collapsed": true
   },
   "outputs": [],
   "source": [
    "# Name of the weighting layer to produce \n",
    "output_weighting_layer = \"Test_%s_weight\"%test\n",
    "# Path to the folder where to save outputs\n",
    "outputfolder = \"/media/tais/My_Book_1/MAUPP/Traitement/Population_modelling_dasymetry/Results/Dakar/Random_Forest/Test_%s\"%test\n",
    "# Name of plot with feature importance (without file extension) \n",
    "plot_name = \"RF_feature_importance\"\n",
    "# Generate paths for output of the test\n",
    "path_plot = os.path.join(outputfolder,plot_name)"
   ]
  },
  {
   "cell_type": "code",
   "execution_count": 63,
   "metadata": {
    "collapsed": true
   },
   "outputs": [],
   "source": [
    "# Define classes of each input layer to be used in the test (lists of values)\n",
    "lc_classes = ['111','112','113']  # land cover layer\n",
    "lu_classes = []  # land use layer\n",
    "mr_classes = []  # medium resolution built-up layer"
   ]
  },
  {
   "cell_type": "code",
   "execution_count": 64,
   "metadata": {
    "collapsed": true
   },
   "outputs": [],
   "source": [
    "# Name of layer that will be use to force weights to zero if absence of a built-up class \n",
    "layer_to_mask_weights = Land_cover\n",
    "# Value of built-up classes in the 'layer_to_mask_weights' layer (list)\n",
    "built_up_pixels = ['111','112','113']"
   ]
  },
  {
   "cell_type": "code",
   "execution_count": 65,
   "metadata": {},
   "outputs": [
    {
     "name": "stderr",
     "output_type": "stream",
     "text": [
      "/usr/local/lib/python2.7/dist-packages/sklearn/ensemble/weight_boosting.py:29: DeprecationWarning: numpy.core.umath_tests is an internal NumPy module and should not be imported. It will be removed in a future NumPy release.\n",
      "  from numpy.core.umath_tests import inner1d\n"
     ]
    }
   ],
   "source": [
    "import rf_model"
   ]
  },
  {
   "cell_type": "code",
   "execution_count": 66,
   "metadata": {},
   "outputs": [
    {
     "data": {
      "text/plain": [
       "<module 'rf_model' from '/media/tais/data/Dropbox/ULB/MAUPP/Traitements/population_modeling/SRC/rf_model.pyc'>"
      ]
     },
     "execution_count": 66,
     "metadata": {},
     "output_type": "execute_result"
    }
   ],
   "source": [
    "reload(rf_model)"
   ]
  },
  {
   "cell_type": "code",
   "execution_count": 67,
   "metadata": {
    "collapsed": true
   },
   "outputs": [],
   "source": [
    "# Function that train a random forest model on admin units level and predict at grid level\n",
    "from rf_model import RandomForest"
   ]
  },
  {
   "cell_type": "code",
   "execution_count": 68,
   "metadata": {},
   "outputs": [
    {
     "name": "stdout",
     "output_type": "stream",
     "text": [
      "-------------- TEST C --------------\n",
      "Random Forest classifier for creating the weighting layer\n",
      "VHR land cover classes used: 111, 112, 113 \n",
      "VHR land use classes used: None \n",
      "MR built-up classe used: None \n",
      "Layer 'landcover' used to force zero weights when proportion of class '111', '112', '113' is null\n",
      "\n"
     ]
    }
   ],
   "source": [
    "message = \"-------------- TEST %s --------------\\n\"%test\n",
    "message += \"Random Forest classifier for creating the weighting layer\\n\"\n",
    "message += \"VHR land cover classes used: %s \\n\"%(\", \".join(lc_classes) if len(lc_classes)>0 else 'None')\n",
    "message += \"VHR land use classes used: %s \\n\"%(\", \".join(lu_classes) if len(lu_classes)>0 else 'None')\n",
    "message += \"MR built-up classe used: %s \\n\"%(\", \".join(mr_classes) if len(mr_classes)>0 else 'None')\n",
    "message += \"Layer '%s' used to force zero weights when proportion of class '%s' is null\\n\"%(layer_to_mask_weights, \"', '\".join(built_up_pixels))\n",
    "print message\n",
    "log_text+=message+'\\n'"
   ]
  },
  {
   "cell_type": "code",
   "execution_count": 69,
   "metadata": {
    "scrolled": false
   },
   "outputs": [
    {
     "name": "stderr",
     "output_type": "stream",
     "text": [
      "/usr/local/lib/python2.7/dist-packages/sklearn/utils/__init__.py:54: FutureWarning: Conversion of the second argument of issubdtype from `int` to `np.signedinteger` is deprecated. In future, it will be treated as `np.int64 == np.dtype(int).type`.\n",
      "  if np.issubdtype(mask.dtype, np.int):\n"
     ]
    },
    {
     "name": "stdout",
     "output_type": "stream",
     "text": [
      "Parameter grid for Random Forest tuning :\n",
      "    max_features : sqrt, 0.05, 0.1, 0.2, 0.3\n",
      "    n_estimators : 250, 350, 500, 750\n",
      "    oob_score : True\n",
      "    bootstrap : True\n",
      "\n",
      "Optimized parameters for Random Forest after grid search 3-fold cross-validation tuning :\n",
      "    max_features : 0.2\n",
      "    n_estimators : 250\n",
      "    oob_score : True\n",
      "    bootstrap : True\n",
      "\n",
      "Mean cross-validated score (OOB) and stddev of the best_estimator : 0.685 (+/-0.076)\n",
      "\n",
      "Final Random Forest model run - internal Out-of-bag score (OOB) : 0.760\n"
     ]
    },
    {
     "data": {
      "image/png": "[encoded data removed]",
      "text/plain": [
       "<Figure size 288x66.24 with 1 Axes>"
      ]
     },
     "metadata": {},
     "output_type": "display_data"
    }
   ],
   "source": [
    "# Run the random forest model\n",
    "RandomForest(output_weighting_layer,gridded_vector.split(\"@\")[0],'cat', lc_classes, lu_classes, mr_classes)"
   ]
  },
  {
   "cell_type": "markdown",
   "metadata": {},
   "source": [
    "## Test D"
   ]
  },
  {
   "cell_type": "code",
   "execution_count": 70,
   "metadata": {
    "collapsed": true
   },
   "outputs": [],
   "source": [
    "# Name of test\n",
    "test = 'D'"
   ]
  },
  {
   "cell_type": "code",
   "execution_count": 71,
   "metadata": {
    "collapsed": true
   },
   "outputs": [],
   "source": [
    "# Name of the weighting layer to produce \n",
    "output_weighting_layer = \"Test_%s_weight\"%test\n",
    "# Path to the folder where to save outputs\n",
    "outputfolder = \"/media/tais/My_Book_1/MAUPP/Traitement/Population_modelling_dasymetry/Results/Dakar/Random_Forest/Test_%s\"%test\n",
    "# Name of plot with feature importance (without file extension) \n",
    "plot_name = \"RF_feature_importance\"\n",
    "# Generate paths for output of the test\n",
    "path_plot = os.path.join(outputfolder,plot_name)"
   ]
  },
  {
   "cell_type": "code",
   "execution_count": 72,
   "metadata": {
    "collapsed": true
   },
   "outputs": [],
   "source": [
    "# Define classes of each input layer to be used in the test (lists of values)\n",
    "lc_classes = lc_classes_list  # land cover layer\n",
    "lu_classes = []  # land use layer\n",
    "mr_classes = []  # medium resolution built-up layer"
   ]
  },
  {
   "cell_type": "code",
   "execution_count": 73,
   "metadata": {
    "collapsed": true
   },
   "outputs": [],
   "source": [
    "# Name of layer that will be use to force weights to zero if absence of a built-up class \n",
    "layer_to_mask_weights = Land_cover\n",
    "# Value of built-up classes in the 'layer_to_mask_weights' layer (list)\n",
    "built_up_pixels = ['111','112','113']"
   ]
  },
  {
   "cell_type": "code",
   "execution_count": 74,
   "metadata": {
    "collapsed": true
   },
   "outputs": [],
   "source": [
    "import rf_model"
   ]
  },
  {
   "cell_type": "code",
   "execution_count": 75,
   "metadata": {},
   "outputs": [
    {
     "data": {
      "text/plain": [
       "<module 'rf_model' from '/media/tais/data/Dropbox/ULB/MAUPP/Traitements/population_modeling/SRC/rf_model.pyc'>"
      ]
     },
     "execution_count": 75,
     "metadata": {},
     "output_type": "execute_result"
    }
   ],
   "source": [
    "reload(rf_model)"
   ]
  },
  {
   "cell_type": "code",
   "execution_count": 76,
   "metadata": {
    "collapsed": true
   },
   "outputs": [],
   "source": [
    "# Function that train a random forest model on admin units level and predict at grid level\n",
    "from rf_model import RandomForest"
   ]
  },
  {
   "cell_type": "code",
   "execution_count": 77,
   "metadata": {},
   "outputs": [
    {
     "name": "stdout",
     "output_type": "stream",
     "text": [
      "-------------- TEST D --------------\n",
      "Random Forest classifier for creating the weighting layer\n",
      "VHR land cover classes used: 10, 22, 23, 33, 34, 45, 111, 112, 113 \n",
      "VHR land use classes used: None \n",
      "MR built-up classe used: None \n",
      "Layer 'landcover' used to force zero weights when proportion of class '111', '112', '113' is null\n",
      "\n"
     ]
    }
   ],
   "source": [
    "message = \"-------------- TEST %s --------------\\n\"%test\n",
    "message += \"Random Forest classifier for creating the weighting layer\\n\"\n",
    "message += \"VHR land cover classes used: %s \\n\"%(\", \".join(lc_classes) if len(lc_classes)>0 else 'None')\n",
    "message += \"VHR land use classes used: %s \\n\"%(\", \".join(lu_classes) if len(lu_classes)>0 else 'None')\n",
    "message += \"MR built-up classe used: %s \\n\"%(\", \".join(mr_classes) if len(mr_classes)>0 else 'None')\n",
    "message += \"Layer '%s' used to force zero weights when proportion of class '%s' is null\\n\"%(layer_to_mask_weights, \"', '\".join(built_up_pixels))\n",
    "print message\n",
    "log_text+=message+'\\n'"
   ]
  },
  {
   "cell_type": "code",
   "execution_count": 78,
   "metadata": {
    "scrolled": false
   },
   "outputs": [
    {
     "name": "stdout",
     "output_type": "stream",
     "text": [
      "Parameter grid for Random Forest tuning :\n",
      "    max_features : sqrt, 0.05, 0.1, 0.2, 0.3\n",
      "    n_estimators : 250, 350, 500, 750\n",
      "    oob_score : True\n",
      "    bootstrap : True\n",
      "\n",
      "Optimized parameters for Random Forest after grid search 3-fold cross-validation tuning :\n",
      "    max_features : sqrt\n",
      "    n_estimators : 500\n",
      "    oob_score : True\n",
      "    bootstrap : True\n",
      "\n",
      "Mean cross-validated score (OOB) and stddev of the best_estimator : 0.679 (+/-0.057)\n",
      "\n",
      "Final Random Forest model run - internal Out-of-bag score (OOB) : 0.756\n"
     ]
    },
    {
     "data": {
      "image/png": "[encoded data removed]",
      "text/plain": [
       "<Figure size 288x165.6 with 1 Axes>"
      ]
     },
     "metadata": {},
     "output_type": "display_data"
    }
   ],
   "source": [
    "# Run the random forest model\n",
    "RandomForest(output_weighting_layer,gridded_vector.split(\"@\")[0],'cat', lc_classes, lu_classes, mr_classes)"
   ]
  },
  {
   "cell_type": "markdown",
   "metadata": {},
   "source": [
    "## Test E"
   ]
  },
  {
   "cell_type": "code",
   "execution_count": 79,
   "metadata": {
    "collapsed": true
   },
   "outputs": [],
   "source": [
    "# Name of test\n",
    "test = 'E'"
   ]
  },
  {
   "cell_type": "code",
   "execution_count": 80,
   "metadata": {
    "collapsed": true
   },
   "outputs": [],
   "source": [
    "# Name of the weighting layer to produce \n",
    "output_weighting_layer = \"Test_%s_weight\"%test\n",
    "# Path to the folder where to save outputs\n",
    "outputfolder = \"/media/tais/My_Book_1/MAUPP/Traitement/Population_modelling_dasymetry/Results/Dakar/Random_Forest/Test_%s\"%test\n",
    "# Name of plot with feature importance (without file extension) \n",
    "plot_name = \"RF_feature_importance\"\n",
    "# Generate paths for output of the test\n",
    "path_plot = os.path.join(outputfolder,plot_name)"
   ]
  },
  {
   "cell_type": "code",
   "execution_count": 81,
   "metadata": {
    "collapsed": true
   },
   "outputs": [],
   "source": [
    "# Define classes of each input layer to be used in the test (lists of values)\n",
    "lc_classes = ['111','112','113']  # land cover layer\n",
    "lu_classes = lu_classes_list  # land use layer\n",
    "mr_classes = []  # medium resolution built-up layer"
   ]
  },
  {
   "cell_type": "code",
   "execution_count": 82,
   "metadata": {
    "collapsed": true
   },
   "outputs": [],
   "source": [
    "# Name of layer that will be use to force weights to zero if absence of a built-up class \n",
    "layer_to_mask_weights = Land_cover\n",
    "# Value of built-up classes in the 'layer_to_mask_weights' layer (list)\n",
    "built_up_pixels = ['111','112','113']"
   ]
  },
  {
   "cell_type": "code",
   "execution_count": 83,
   "metadata": {
    "collapsed": true
   },
   "outputs": [],
   "source": [
    "import rf_model"
   ]
  },
  {
   "cell_type": "code",
   "execution_count": 84,
   "metadata": {},
   "outputs": [
    {
     "data": {
      "text/plain": [
       "<module 'rf_model' from '/media/tais/data/Dropbox/ULB/MAUPP/Traitements/population_modeling/SRC/rf_model.pyc'>"
      ]
     },
     "execution_count": 84,
     "metadata": {},
     "output_type": "execute_result"
    }
   ],
   "source": [
    "reload(rf_model)"
   ]
  },
  {
   "cell_type": "code",
   "execution_count": 85,
   "metadata": {
    "collapsed": true
   },
   "outputs": [],
   "source": [
    "# Function that train a random forest model on admin units level and predict at grid level\n",
    "from rf_model import RandomForest"
   ]
  },
  {
   "cell_type": "code",
   "execution_count": 86,
   "metadata": {},
   "outputs": [
    {
     "name": "stdout",
     "output_type": "stream",
     "text": [
      "-------------- TEST E --------------\n",
      "Random Forest classifier for creating the weighting layer\n",
      "VHR land cover classes used: 111, 112, 113 \n",
      "VHR land use classes used: 1, 2, 3, 4, 5, 6, 7, 8 \n",
      "MR built-up classe used: None \n",
      "Layer 'landcover' used to force zero weights when proportion of class '111', '112', '113' is null\n",
      "\n"
     ]
    }
   ],
   "source": [
    "message = \"-------------- TEST %s --------------\\n\"%test\n",
    "message += \"Random Forest classifier for creating the weighting layer\\n\"\n",
    "message += \"VHR land cover classes used: %s \\n\"%(\", \".join(lc_classes) if len(lc_classes)>0 else 'None')\n",
    "message += \"VHR land use classes used: %s \\n\"%(\", \".join(lu_classes) if len(lu_classes)>0 else 'None')\n",
    "message += \"MR built-up classe used: %s \\n\"%(\", \".join(mr_classes) if len(mr_classes)>0 else 'None')\n",
    "message += \"Layer '%s' used to force zero weights when proportion of class '%s' is null\\n\"%(layer_to_mask_weights, \"', '\".join(built_up_pixels))\n",
    "print message\n",
    "log_text+=message+'\\n'"
   ]
  },
  {
   "cell_type": "code",
   "execution_count": 87,
   "metadata": {
    "scrolled": false
   },
   "outputs": [
    {
     "name": "stdout",
     "output_type": "stream",
     "text": [
      "Parameter grid for Random Forest tuning :\n",
      "    max_features : sqrt, 0.05, 0.1, 0.2, 0.3\n",
      "    n_estimators : 250, 350, 500, 750\n",
      "    oob_score : True\n",
      "    bootstrap : True\n",
      "\n",
      "Optimized parameters for Random Forest after grid search 3-fold cross-validation tuning :\n",
      "    max_features : sqrt\n",
      "    n_estimators : 350\n",
      "    oob_score : True\n",
      "    bootstrap : True\n",
      "\n",
      "Mean cross-validated score (OOB) and stddev of the best_estimator : 0.788 (+/-0.024)\n",
      "\n",
      "Final Random Forest model run - internal Out-of-bag score (OOB) : 0.843\n"
     ]
    },
    {
     "data": {
      "image/png": "[encoded data removed]",
      "text/plain": [
       "<Figure size 288x198.72 with 1 Axes>"
      ]
     },
     "metadata": {},
     "output_type": "display_data"
    }
   ],
   "source": [
    "# Run the random forest model\n",
    "RandomForest(output_weighting_layer,gridded_vector.split(\"@\")[0],'cat', lc_classes, lu_classes, mr_classes)"
   ]
  },
  {
   "cell_type": "markdown",
   "metadata": {},
   "source": [
    "## Test F"
   ]
  },
  {
   "cell_type": "code",
   "execution_count": 88,
   "metadata": {
    "collapsed": true
   },
   "outputs": [],
   "source": [
    "# Name of test\n",
    "test = 'F'"
   ]
  },
  {
   "cell_type": "code",
   "execution_count": 89,
   "metadata": {
    "collapsed": true
   },
   "outputs": [],
   "source": [
    "# Name of the weighting layer to produce \n",
    "output_weighting_layer = \"Test_%s_weight\"%test\n",
    "# Path to the folder where to save outputs\n",
    "outputfolder = \"/media/tais/My_Book_1/MAUPP/Traitement/Population_modelling_dasymetry/Results/Dakar/Random_Forest/Test_%s\"%test\n",
    "# Name of plot with feature importance (without file extension) \n",
    "plot_name = \"RF_feature_importance\"\n",
    "# Generate paths for output of the test\n",
    "path_plot = os.path.join(outputfolder,plot_name)"
   ]
  },
  {
   "cell_type": "code",
   "execution_count": 90,
   "metadata": {
    "collapsed": true
   },
   "outputs": [],
   "source": [
    "# Define classes of each input layer to be used in the test (lists of values)\n",
    "lc_classes = lc_classes_list  # land cover layer\n",
    "lu_classes = lu_classes_list  # land use layer\n",
    "mr_classes = []  # medium resolution built-up layer"
   ]
  },
  {
   "cell_type": "code",
   "execution_count": 91,
   "metadata": {
    "collapsed": true
   },
   "outputs": [],
   "source": [
    "# Name of layer that will be use to force weights to zero if absence of a built-up class \n",
    "layer_to_mask_weights = Land_cover\n",
    "# Value of built-up classes in the 'layer_to_mask_weights' layer (list)\n",
    "built_up_pixels = ['111','112','113']"
   ]
  },
  {
   "cell_type": "code",
   "execution_count": 92,
   "metadata": {
    "collapsed": true
   },
   "outputs": [],
   "source": [
    "import rf_model"
   ]
  },
  {
   "cell_type": "code",
   "execution_count": 93,
   "metadata": {},
   "outputs": [
    {
     "data": {
      "text/plain": [
       "<module 'rf_model' from '/media/tais/data/Dropbox/ULB/MAUPP/Traitements/population_modeling/SRC/rf_model.pyc'>"
      ]
     },
     "execution_count": 93,
     "metadata": {},
     "output_type": "execute_result"
    }
   ],
   "source": [
    "reload(rf_model)"
   ]
  },
  {
   "cell_type": "code",
   "execution_count": 94,
   "metadata": {
    "collapsed": true
   },
   "outputs": [],
   "source": [
    "# Function that train a random forest model on admin units level and predict at grid level\n",
    "from rf_model import RandomForest"
   ]
  },
  {
   "cell_type": "code",
   "execution_count": 95,
   "metadata": {},
   "outputs": [
    {
     "name": "stdout",
     "output_type": "stream",
     "text": [
      "-------------- TEST F --------------\n",
      "Random Forest classifier for creating the weighting layer\n",
      "VHR land cover classes used: 10, 22, 23, 33, 34, 45, 111, 112, 113 \n",
      "VHR land use classes used: 1, 2, 3, 4, 5, 6, 7, 8 \n",
      "MR built-up classe used: None \n",
      "Layer 'landcover' used to force zero weights when proportion of class '111', '112', '113' is null\n",
      "\n"
     ]
    }
   ],
   "source": [
    "message = \"-------------- TEST %s --------------\\n\"%test\n",
    "message += \"Random Forest classifier for creating the weighting layer\\n\"\n",
    "message += \"VHR land cover classes used: %s \\n\"%(\", \".join(lc_classes) if len(lc_classes)>0 else 'None')\n",
    "message += \"VHR land use classes used: %s \\n\"%(\", \".join(lu_classes) if len(lu_classes)>0 else 'None')\n",
    "message += \"MR built-up classe used: %s \\n\"%(\", \".join(mr_classes) if len(mr_classes)>0 else 'None')\n",
    "message += \"Layer '%s' used to force zero weights when proportion of class '%s' is null\\n\"%(layer_to_mask_weights, \"', '\".join(built_up_pixels))\n",
    "print message\n",
    "log_text+=message+'\\n'"
   ]
  },
  {
   "cell_type": "code",
   "execution_count": 96,
   "metadata": {
    "scrolled": false
   },
   "outputs": [
    {
     "name": "stdout",
     "output_type": "stream",
     "text": [
      "Parameter grid for Random Forest tuning :\n",
      "    max_features : sqrt, 0.05, 0.1, 0.2, 0.3\n",
      "    n_estimators : 250, 350, 500, 750\n",
      "    oob_score : True\n",
      "    bootstrap : True\n",
      "\n",
      "Optimized parameters for Random Forest after grid search 3-fold cross-validation tuning :\n",
      "    max_features : 0.3\n",
      "    n_estimators : 750\n",
      "    oob_score : True\n",
      "    bootstrap : True\n",
      "\n",
      "Mean cross-validated score (OOB) and stddev of the best_estimator : 0.778 (+/-0.023)\n",
      "\n",
      "Final Random Forest model run - internal Out-of-bag score (OOB) : 0.838\n"
     ]
    },
    {
     "data": {
      "image/png": "[encoded data removed]",
      "text/plain": [
       "<Figure size 288x298.08 with 1 Axes>"
      ]
     },
     "metadata": {},
     "output_type": "display_data"
    }
   ],
   "source": [
    "# Run the random forest model\n",
    "RandomForest(output_weighting_layer,gridded_vector.split(\"@\")[0],'cat', lc_classes, lu_classes, mr_classes)"
   ]
  },
  {
   "cell_type": "markdown",
   "metadata": {},
   "source": [
    "## Test G"
   ]
  },
  {
   "cell_type": "code",
   "execution_count": 97,
   "metadata": {
    "collapsed": true
   },
   "outputs": [],
   "source": [
    "# Name of test\n",
    "test = 'G'"
   ]
  },
  {
   "cell_type": "code",
   "execution_count": 98,
   "metadata": {
    "collapsed": true
   },
   "outputs": [],
   "source": [
    "# Name of the weighting layer to produce \n",
    "output_weighting_layer = \"Test_%s_weight\"%test\n",
    "# Path to the folder where to save outputs\n",
    "outputfolder = \"/media/tais/My_Book_1/MAUPP/Traitement/Population_modelling_dasymetry/Results/Dakar/Random_Forest/Test_%s\"%test\n",
    "# Name of plot with feature importance (without file extension) \n",
    "plot_name = \"RF_feature_importance\"\n",
    "# Generate paths for output of the test\n",
    "path_plot = os.path.join(outputfolder,plot_name)"
   ]
  },
  {
   "cell_type": "code",
   "execution_count": 99,
   "metadata": {
    "collapsed": true
   },
   "outputs": [],
   "source": [
    "# Define classes of each input layer to be used in the test (lists of values)\n",
    "lc_classes = lc_classes_list  # land cover layer\n",
    "lu_classes = lu_classes_list  # land use layer\n",
    "mr_classes = ['1']  # medium resolution built-up layer"
   ]
  },
  {
   "cell_type": "code",
   "execution_count": 100,
   "metadata": {
    "collapsed": true
   },
   "outputs": [],
   "source": [
    "# Name of layer that will be use to force weights to zero if absence of a built-up class \n",
    "layer_to_mask_weights = Land_cover\n",
    "# Value of built-up classes in the 'layer_to_mask_weights' layer (list)\n",
    "built_up_pixels = ['111','112','113']"
   ]
  },
  {
   "cell_type": "code",
   "execution_count": 101,
   "metadata": {
    "collapsed": true
   },
   "outputs": [],
   "source": [
    "import rf_model"
   ]
  },
  {
   "cell_type": "code",
   "execution_count": 102,
   "metadata": {},
   "outputs": [
    {
     "data": {
      "text/plain": [
       "<module 'rf_model' from '/media/tais/data/Dropbox/ULB/MAUPP/Traitements/population_modeling/SRC/rf_model.pyc'>"
      ]
     },
     "execution_count": 102,
     "metadata": {},
     "output_type": "execute_result"
    }
   ],
   "source": [
    "reload(rf_model)"
   ]
  },
  {
   "cell_type": "code",
   "execution_count": 103,
   "metadata": {
    "collapsed": true
   },
   "outputs": [],
   "source": [
    "# Function that train a random forest model on admin units level and predict at grid level\n",
    "from rf_model import RandomForest"
   ]
  },
  {
   "cell_type": "code",
   "execution_count": 104,
   "metadata": {},
   "outputs": [
    {
     "name": "stdout",
     "output_type": "stream",
     "text": [
      "-------------- TEST G --------------\n",
      "Random Forest classifier for creating the weighting layer\n",
      "VHR land cover classes used: 10, 22, 23, 33, 34, 45, 111, 112, 113 \n",
      "VHR land use classes used: 1, 2, 3, 4, 5, 6, 7, 8 \n",
      "MR built-up classe used: 1 \n",
      "Layer 'landcover' used to force zero weights when proportion of class '111', '112', '113' is null\n",
      "\n"
     ]
    }
   ],
   "source": [
    "message = \"-------------- TEST %s --------------\\n\"%test\n",
    "message += \"Random Forest classifier for creating the weighting layer\\n\"\n",
    "message += \"VHR land cover classes used: %s \\n\"%(\", \".join(lc_classes) if len(lc_classes)>0 else 'None')\n",
    "message += \"VHR land use classes used: %s \\n\"%(\", \".join(lu_classes) if len(lu_classes)>0 else 'None')\n",
    "message += \"MR built-up classe used: %s \\n\"%(\", \".join(mr_classes) if len(mr_classes)>0 else 'None')\n",
    "message += \"Layer '%s' used to force zero weights when proportion of class '%s' is null\\n\"%(layer_to_mask_weights, \"', '\".join(built_up_pixels))\n",
    "print message\n",
    "log_text+=message+'\\n'"
   ]
  },
  {
   "cell_type": "code",
   "execution_count": 105,
   "metadata": {
    "scrolled": false
   },
   "outputs": [
    {
     "name": "stdout",
     "output_type": "stream",
     "text": [
      "Parameter grid for Random Forest tuning :\n",
      "    max_features : sqrt, 0.05, 0.1, 0.2, 0.3\n",
      "    n_estimators : 250, 350, 500, 750\n",
      "    oob_score : True\n",
      "    bootstrap : True\n",
      "\n",
      "Optimized parameters for Random Forest after grid search 3-fold cross-validation tuning :\n",
      "    max_features : 0.3\n",
      "    n_estimators : 350\n",
      "    oob_score : True\n",
      "    bootstrap : True\n",
      "\n",
      "Mean cross-validated score (OOB) and stddev of the best_estimator : 0.772 (+/-0.022)\n",
      "\n",
      "Final Random Forest model run - internal Out-of-bag score (OOB) : 0.836\n"
     ]
    },
    {
     "data": {
      "image/png": "[encoded data removed]",
      "text/plain": [
       "<Figure size 288x314.64 with 1 Axes>"
      ]
     },
     "metadata": {},
     "output_type": "display_data"
    }
   ],
   "source": [
    "# Run the random forest model\n",
    "RandomForest(output_weighting_layer,gridded_vector.split(\"@\")[0],'cat', lc_classes, lu_classes, mr_classes)"
   ]
  },
  {
   "cell_type": "markdown",
   "metadata": {},
   "source": [
    "# Reallocate the population count using weighting layer"
   ]
  },
  {
   "cell_type": "code",
   "execution_count": 114,
   "metadata": {},
   "outputs": [
    {
     "name": "stdout",
     "output_type": "stream",
     "text": [
      "Vector layer containing the variable to disagregate : 'admin_level0_100m_gridded'\n",
      "Attribute column containing the variable : 'POPULATION'\n"
     ]
    }
   ],
   "source": [
    "# Name of the layer containing the population count to disagregate\n",
    "print \"Vector layer containing the variable to disagregate : '%s'\"%gridded_vector\n",
    "print \"Attribute column containing the variable : '%s'\"%population_column"
   ]
  },
  {
   "cell_type": "code",
   "execution_count": 115,
   "metadata": {},
   "outputs": [
    {
     "ename": "CalledModuleError",
     "evalue": "Module None : ['v.area.weigh', '--o', '--q', 'column=POPULATION', 'output=Test_A_prediction', 'vector=admin_level0_100m_gridded', 'weight=Test_A_weight'] s'est terminée avec une erreur\nLe processus s'est terminé avec un code de retour non null 1. Voir les erreus dans la sortie (d'erreurs).",
     "output_type": "error",
     "traceback": [
      "\u001b[0;31m---------------------------------------------------------------------------\u001b[0m",
      "\u001b[0;31mCalledModuleError\u001b[0m                         Traceback (most recent call last)",
      "\u001b[0;32m<ipython-input-115-6d69a1c7e02e>\u001b[0m in \u001b[0;36m<module>\u001b[0;34m()\u001b[0m\n\u001b[1;32m      7\u001b[0m     \u001b[0mpredict_raster\u001b[0m \u001b[0;34m=\u001b[0m \u001b[0;34m\"Test_%s_prediction\"\u001b[0m\u001b[0;34m%\u001b[0m\u001b[0mtest\u001b[0m\u001b[0;34m\u001b[0m\u001b[0m\n\u001b[1;32m      8\u001b[0m     gscript.run_command('v.area.weigh', overwrite=True, quiet=True, vector=gridded_vector, \n\u001b[0;32m----> 9\u001b[0;31m                         column=population_column, weight=weight_raster, output=predict_raster)\n\u001b[0m\u001b[1;32m     10\u001b[0m     \u001b[0moutput_file\u001b[0m \u001b[0;34m=\u001b[0m \u001b[0mos\u001b[0m\u001b[0;34m.\u001b[0m\u001b[0mpath\u001b[0m\u001b[0;34m.\u001b[0m\u001b[0mjoin\u001b[0m\u001b[0;34m(\u001b[0m\u001b[0moutputfolder\u001b[0m\u001b[0;34m,\u001b[0m\u001b[0mpredict_raster\u001b[0m\u001b[0;34m+\u001b[0m\u001b[0;34m'.tiff'\u001b[0m\u001b[0;34m)\u001b[0m\u001b[0;34m\u001b[0m\u001b[0m\n\u001b[1;32m     11\u001b[0m     gscript.run_command('r.out.gdal', overwrite=True, input=predict_raster, \n",
      "\u001b[0;32m/home/tais/SRC/GRASS/grass_trunk/dist.x86_64-pc-linux-gnu/etc/python/grass/script/core.pyc\u001b[0m in \u001b[0;36mrun_command\u001b[0;34m(*args, **kwargs)\u001b[0m\n\u001b[1;32m    419\u001b[0m     \u001b[0;32melse\u001b[0m\u001b[0;34m:\u001b[0m\u001b[0;34m\u001b[0m\u001b[0m\n\u001b[1;32m    420\u001b[0m         \u001b[0mreturncode\u001b[0m \u001b[0;34m=\u001b[0m \u001b[0mps\u001b[0m\u001b[0;34m.\u001b[0m\u001b[0mwait\u001b[0m\u001b[0;34m(\u001b[0m\u001b[0;34m)\u001b[0m\u001b[0;34m\u001b[0m\u001b[0m\n\u001b[0;32m--> 421\u001b[0;31m     \u001b[0;32mreturn\u001b[0m \u001b[0mhandle_errors\u001b[0m\u001b[0;34m(\u001b[0m\u001b[0mreturncode\u001b[0m\u001b[0;34m,\u001b[0m \u001b[0mreturncode\u001b[0m\u001b[0;34m,\u001b[0m \u001b[0margs\u001b[0m\u001b[0;34m,\u001b[0m \u001b[0mkwargs\u001b[0m\u001b[0;34m)\u001b[0m\u001b[0;34m\u001b[0m\u001b[0m\n\u001b[0m\u001b[1;32m    422\u001b[0m \u001b[0;34m\u001b[0m\u001b[0m\n\u001b[1;32m    423\u001b[0m \u001b[0;34m\u001b[0m\u001b[0m\n",
      "\u001b[0;32m/home/tais/SRC/GRASS/grass_trunk/dist.x86_64-pc-linux-gnu/etc/python/grass/script/core.pyc\u001b[0m in \u001b[0;36mhandle_errors\u001b[0;34m(returncode, result, args, kwargs)\u001b[0m\n\u001b[1;32m    330\u001b[0m         \u001b[0margs\u001b[0m \u001b[0;34m=\u001b[0m \u001b[0mmake_command\u001b[0m\u001b[0;34m(\u001b[0m\u001b[0;34m*\u001b[0m\u001b[0margs\u001b[0m\u001b[0;34m,\u001b[0m \u001b[0;34m**\u001b[0m\u001b[0mkwargs\u001b[0m\u001b[0;34m)\u001b[0m\u001b[0;34m\u001b[0m\u001b[0m\n\u001b[1;32m    331\u001b[0m         raise CalledModuleError(module=None, code=repr(args),\n\u001b[0;32m--> 332\u001b[0;31m                                 returncode=returncode)\n\u001b[0m\u001b[1;32m    333\u001b[0m \u001b[0;34m\u001b[0m\u001b[0m\n\u001b[1;32m    334\u001b[0m def start_command(prog, flags=b\"\", overwrite=False, quiet=False,\n",
      "\u001b[0;31mCalledModuleError\u001b[0m: Module None : ['v.area.weigh', '--o', '--q', 'column=POPULATION', 'output=Test_A_prediction', 'vector=admin_level0_100m_gridded', 'weight=Test_A_weight'] s'est terminée avec une erreur\nLe processus s'est terminé avec un code de retour non null 1. Voir les erreus dans la sortie (d'erreurs)."
     ]
    }
   ],
   "source": [
    "# Export weighing layers\n",
    "for test in ['A','B','C','D','E','F','G']:\n",
    "    outputfolder = \"/media/tais/My_Book_1/MAUPP/Traitement/Population_modelling_dasymetry/Results/Dakar/Random_Forest/Test_%s\"%test\n",
    "    if not os.path.exists(outputfolder):  #Create folder where to save the plot if not exists\n",
    "        os.makedirs(outputfolder)\n",
    "    weight_raster = \"Test_%s_weight\"%test\n",
    "    predict_raster = \"Test_%s_prediction\"%test   \n",
    "    gscript.run_command('v.area.weigh', overwrite=True, quiet=True, vector=gridded_vector, \n",
    "                        column=population_column, weight=weight_raster, output=predict_raster)\n",
    "    output_file = os.path.join(outputfolder,predict_raster+'.tiff')\n",
    "    gscript.run_command('r.out.gdal', overwrite=True, input=predict_raster, \n",
    "                output=output_file, format='GTiff', createopt='COMPRESS=DEFLATE')"
   ]
  },
  {
   "cell_type": "markdown",
   "metadata": {},
   "source": [
    "# Validation"
   ]
  },
  {
   "cell_type": "code",
   "execution_count": null,
   "metadata": {
    "collapsed": true
   },
   "outputs": [],
   "source": []
  },
  {
   "cell_type": "code",
   "execution_count": null,
   "metadata": {
    "collapsed": true
   },
   "outputs": [],
   "source": []
  },
  {
   "cell_type": "code",
   "execution_count": null,
   "metadata": {
    "collapsed": true
   },
   "outputs": [],
   "source": []
  },
  {
   "cell_type": "code",
   "execution_count": null,
   "metadata": {
    "collapsed": true
   },
   "outputs": [],
   "source": [
    "tests = [\"Test_1\",\"Test_2\",\"Test_3\",\"Test_4\"]"
   ]
  },
  {
   "cell_type": "code",
   "execution_count": null,
   "metadata": {
    "collapsed": true
   },
   "outputs": [],
   "source": [
    "\n",
    "for test in tests:\n",
    "    "
   ]
  },
  {
   "cell_type": "code",
   "execution_count": null,
   "metadata": {
    "collapsed": true
   },
   "outputs": [],
   "source": []
  },
  {
   "cell_type": "code",
   "execution_count": null,
   "metadata": {
    "collapsed": true
   },
   "outputs": [],
   "source": []
  },
  {
   "cell_type": "code",
   "execution_count": null,
   "metadata": {
    "collapsed": true
   },
   "outputs": [],
   "source": [
    "for raster_layer in TMP_MAPS:\n",
    "    gscript.run_command('g.remove', flags='f', type='raster', name=raster_layer)"
   ]
  },
  {
   "cell_type": "code",
   "execution_count": null,
   "metadata": {
    "collapsed": true
   },
   "outputs": [],
   "source": []
  },
  {
   "cell_type": "code",
   "execution_count": null,
   "metadata": {
    "collapsed": true
   },
   "outputs": [],
   "source": []
  },
  {
   "cell_type": "code",
   "execution_count": null,
   "metadata": {
    "collapsed": true
   },
   "outputs": [],
   "source": []
  },
  {
   "cell_type": "code",
   "execution_count": null,
   "metadata": {
    "collapsed": true
   },
   "outputs": [],
   "source": []
  },
  {
   "cell_type": "markdown",
   "metadata": {
    "collapsed": true
   },
   "source": [
    "# Export log file"
   ]
  },
  {
   "cell_type": "code",
   "execution_count": null,
   "metadata": {
    "collapsed": true
   },
   "outputs": [],
   "source": [
    "## Export the log file\n",
    "end_time=time.ctime()\n",
    "logging=open(log_file+'.txt', 'w')\n",
    "logging.write('Log file of r.population.density\\n')\n",
    "logging.write('Run started on '+str(start_time)+' and finished on '+str(end_time)+'\\n')\n",
    "logging.write('Selected spatial resolution for weighting layer : '+tile_size+' meters\\n')\n",
    "logging.write('Administrative layer used : '+vector+'\\n')\n",
    "logging.write(log_text)\n",
    "if flags['f'] :\n",
    "    logging.write(\"\\n\")\n",
    "    logging.write(log_text_extend)\n",
    "logging.close()"
   ]
  },
  {
   "cell_type": "code",
   "execution_count": null,
   "metadata": {
    "scrolled": true
   },
   "outputs": [],
   "source": [
    "print log_text"
   ]
  },
  {
   "cell_type": "markdown",
   "metadata": {
    "collapsed": true
   },
   "source": [
    "# Export layers for archive or visualisation in another GIS"
   ]
  },
  {
   "cell_type": "markdown",
   "metadata": {
    "collapsed": true
   },
   "source": [
    "**VHR binary layers**"
   ]
  },
  {
   "cell_type": "code",
   "execution_count": null,
   "metadata": {
    "collapsed": true,
    "scrolled": false
   },
   "outputs": [],
   "source": [
    "# Set output folder\n",
    "output_folder = '/media/tais/My_Book_1/MAUPP/Traitement/Population_modelling_dasymetry/Results/Dakar/binary_rasters'\n",
    "gscript.run_command('r.mask', overwrite=True, raster='maskcopy')  # Apply mask\n",
    "# Export all binary raster\n",
    "for binary_raster in TMP_MAPS:\n",
    "    output_file = os.path.join(output_folder,'Dakar_binary_%s.tiff'%binary_raster)\n",
    "    gscript.run_command('g.region', raster=binary_raster)\n",
    "    gscript.run_command('r.out.gdal', overwrite=True, input=binary_raster, output=output_file, format='GTiff', createopt='COMPRESS=DEFLATE')\n",
    "gscript.run_command('r.mask', flags='r')  # Remove mask"
   ]
  },
  {
   "cell_type": "markdown",
   "metadata": {
    "collapsed": true
   },
   "source": [
    "**MR built-up mask**"
   ]
  },
  {
   "cell_type": "code",
   "execution_count": null,
   "metadata": {
    "collapsed": true
   },
   "outputs": [],
   "source": []
  },
  {
   "cell_type": "markdown",
   "metadata": {},
   "source": [
    "**VHR built-up mask**"
   ]
  },
  {
   "cell_type": "code",
   "execution_count": null,
   "metadata": {
    "collapsed": true
   },
   "outputs": [],
   "source": []
  },
  {
   "cell_type": "markdown",
   "metadata": {
    "collapsed": true
   },
   "source": [
    "**Create VHR built-up binary (classes 111,112,113)**"
   ]
  },
  {
   "cell_type": "code",
   "execution_count": null,
   "metadata": {
    "collapsed": true,
    "scrolled": false
   },
   "outputs": [],
   "source": [
    "# Set output folder\n",
    "output_folder = '/media/tais/My_Book_1/MAUPP/Traitement/Population_modelling_dasymetry/Results/Dakar/binary_rasters'\n",
    "gscript.run_command('r.mask', overwrite=True, raster='maskcopy')  # Apply mask\n",
    "vhr_builtup = 'VHR_builtup'\n",
    "gscript.use_temp_region()  # Define temp region\n",
    "gscript.run_command('g.region', raster=Land_cover)\n",
    "gscript.run_command('r.mapcalc', \n",
    "                    expression='%s=if(%s==111,111,if(%s==112,112,if(%s==113,113,0)))'%(vhr_builtup,Land_cover,Land_cover,Land_cover),\n",
    "                    overwrite=True, quiet=True) # Mapcalc to create binary raster for the expected class 'cl'\n",
    "# Export raster\n",
    "output_file = os.path.join(output_folder,'Dakar_%s.tiff'%vhr_builtup)\n",
    "gscript.run_command('r.out.gdal', overwrite=True, input=vhr_builtup, output=output_file, format='GTiff', createopt='COMPRESS=DEFLATE')\n",
    "gscript.run_command('r.mask', flags='r')  # Remove mask\n",
    "gscript.del_temp_region() # Remove temp region"
   ]
  },
  {
   "cell_type": "markdown",
   "metadata": {
    "collapsed": true
   },
   "source": [
    "**Clumped Grid**"
   ]
  },
  {
   "cell_type": "code",
   "execution_count": null,
   "metadata": {
    "collapsed": true,
    "scrolled": true
   },
   "outputs": [],
   "source": [
    "# Set output folder\n",
    "output_folder = '/media/tais/My_Book_1/MAUPP/Traitement/Population_modelling_dasymetry/Results/Dakar'\n",
    "# Export clumped grid\n",
    "output_file = os.path.join(output_folder,'Dakar_%s.tiff'%clumped_grid)\n",
    "gscript.run_command('g.region', raster=clumped_grid)\n",
    "gscript.run_command('r.out.gdal', overwrite=True, input=clumped_grid, output=output_file, format='GTiff', createopt='COMPRESS=DEFLATE')"
   ]
  },
  {
   "cell_type": "markdown",
   "metadata": {
    "collapsed": true
   },
   "source": [
    "**Gridded administrative units (level0)**"
   ]
  },
  {
   "cell_type": "code",
   "execution_count": null,
   "metadata": {
    "collapsed": true
   },
   "outputs": [],
   "source": [
    "# Set output folder\n",
    "output_folder = '/media/tais/My_Book_1/MAUPP/Traitement/Population_modelling_dasymetry/Results/Dakar'\n",
    "# Export gridded admin units (level0)\n",
    "output_file = os.path.join(output_folder,'Dakar_%s.shp'%gridded_vector)\n",
    "gscript.run_command('v.out.ogr', overwrite=True, flags='m', type='area', \n",
    "                    input=gridded_vector, output=output_file, format='ESRI_Shapefile')"
   ]
  },
  {
   "cell_type": "code",
   "execution_count": null,
   "metadata": {
    "collapsed": true
   },
   "outputs": [],
   "source": []
  },
  {
   "cell_type": "markdown",
   "metadata": {
    "collapsed": true
   },
   "source": [
    "**Weighting layers**"
   ]
  },
  {
   "cell_type": "code",
   "execution_count": 107,
   "metadata": {},
   "outputs": [],
   "source": [
    "# Export weighing layers\n",
    "for test in ['A','B','C','D','E','F','G']:\n",
    "    outputfolder = \"/media/tais/My_Book_1/MAUPP/Traitement/Population_modelling_dasymetry/Results/Dakar/Random_Forest/Test_%s\"%test\n",
    "    if not os.path.exists(outputfolder):  #Create folder where to save the plot if not exists\n",
    "        os.makedirs(outputfolder)\n",
    "    layer = \"Test_%s_weight\"%test\n",
    "    output_file = os.path.join(outputfolder,layer+'.tiff')\n",
    "    gscript.run_command('r.out.gdal', overwrite=True, input=layer, \n",
    "                        output=output_file, format='GTiff', createopt='COMPRESS=DEFLATE')"
   ]
  },
  {
   "cell_type": "code",
   "execution_count": null,
   "metadata": {
    "collapsed": true
   },
   "outputs": [],
   "source": []
  }
 ],
 "metadata": {
  "anaconda-cloud": {},
  "kernelspec": {
   "display_name": "Python 2",
   "language": "python",
   "name": "python2"
  },
  "language_info": {
   "codemirror_mode": {
    "name": "ipython",
    "version": 2
   },
   "file_extension": ".py",
   "mimetype": "text/x-python",
   "name": "python",
   "nbconvert_exporter": "python",
   "pygments_lexer": "ipython2",
   "version": "2.7.12"
  }
 },
 "nbformat": 4,
 "nbformat_minor": 1
}
