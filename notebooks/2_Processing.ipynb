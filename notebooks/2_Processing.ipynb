{
 "cells": [
  {
   "cell_type": "code",
   "execution_count": 1,
   "metadata": {
    "collapsed": true,
    "scrolled": true
   },
   "outputs": [],
   "source": [
    "%load_ext autoreload\n",
    "%autoreload 2   # Change to %autoreload when development phase is over"
   ]
  },
  {
   "cell_type": "markdown",
   "metadata": {},
   "source": [
    "# Table of Contents"
   ]
  },
  {
   "cell_type": "markdown",
   "metadata": {},
   "source": [
    "<div id=\"toc\"></div>"
   ]
  },
  {
   "cell_type": "markdown",
   "metadata": {},
   "source": [
    "The following cell is a Javascript section of code for building the Jupyter notebook's table of content."
   ]
  },
  {
   "cell_type": "code",
   "execution_count": 2,
   "metadata": {
    "scrolled": false
   },
   "outputs": [
    {
     "data": {
      "application/javascript": [
       "$.getScript('https://kmahelona.github.io/ipython_notebook_goodies/ipython_notebook_toc.js')"
      ],
      "text/plain": [
       "<IPython.core.display.Javascript object>"
      ]
     },
     "metadata": {},
     "output_type": "display_data"
    }
   ],
   "source": [
    "%%javascript\n",
    "$.getScript('https://kmahelona.github.io/ipython_notebook_goodies/ipython_notebook_toc.js')"
   ]
  },
  {
   "cell_type": "markdown",
   "metadata": {},
   "source": [
    "**-_-_-_-_-_-_-_-_-_-_-_-_-_-_-_-_-_-_-_-_-_-_-_-_-_-_-_-_-_-_-_-_-_-_-_-_-_-_-_-_-_-_-_-_-_-_-_-_-_-_-_-_-_-_-_-_-_-_-_-_-**"
   ]
  },
  {
   "cell_type": "markdown",
   "metadata": {},
   "source": [
    "# Define working environment"
   ]
  },
  {
   "cell_type": "markdown",
   "metadata": {},
   "source": [
    "**Import libraries**"
   ]
  },
  {
   "cell_type": "code",
   "execution_count": 3,
   "metadata": {
    "collapsed": true
   },
   "outputs": [],
   "source": [
    "## Import libraries needed for setting parameters of operating system \n",
    "import os\n",
    "import sys\n",
    "## Import library for temporary files creation \n",
    "import tempfile \n",
    "## Import library for time management \n",
    "import time\n",
    "## Import multiprocessing and functools libraries\n",
    "import multiprocessing\n",
    "from multiprocessing import Pool\n",
    "from functools import partial\n",
    "## Import pickle for transfert variable between notebooks\n",
    "import pickle"
   ]
  },
  {
   "cell_type": "code",
   "execution_count": 4,
   "metadata": {
    "collapsed": true
   },
   "outputs": [],
   "source": [
    "## Import Pandas library\n",
    "import pandas as pd\n",
    "## Import Numpy library\n",
    "import numpy as np"
   ]
  },
  {
   "cell_type": "code",
   "execution_count": 5,
   "metadata": {
    "collapsed": true,
    "scrolled": true
   },
   "outputs": [],
   "source": [
    "## Import Matplotlib \n",
    "import matplotlib as mpl \n",
    "## agg backend is used to create plot as a .png file\n",
    "mpl.use('agg')\n",
    "## Import Matplotlib.pyplot for creating graphs\n",
    "import matplotlib.pyplot as plt "
   ]
  },
  {
   "cell_type": "code",
   "execution_count": 6,
   "metadata": {
    "collapsed": true
   },
   "outputs": [],
   "source": [
    "%matplotlib inline"
   ]
  },
  {
   "cell_type": "markdown",
   "metadata": {},
   "source": [
    "** Add folder with SCR provided belong to this notebook**"
   ]
  },
  {
   "cell_type": "code",
   "execution_count": 7,
   "metadata": {
    "collapsed": true,
    "scrolled": false
   },
   "outputs": [],
   "source": [
    "# Add local module to the path\n",
    "src = os.path.abspath('../SRC')\n",
    "if src not in sys.path:\n",
    "    sys.path.append(src)"
   ]
  },
  {
   "cell_type": "markdown",
   "metadata": {},
   "source": [
    "** Environment variables when working on Linux Mint **"
   ]
  },
  {
   "cell_type": "code",
   "execution_count": 8,
   "metadata": {
    "collapsed": true
   },
   "outputs": [],
   "source": [
    "import environ_variables as envi"
   ]
  },
  {
   "cell_type": "code",
   "execution_count": 9,
   "metadata": {
    "scrolled": true
   },
   "outputs": [
    {
     "name": "stdout",
     "output_type": "stream",
     "text": [
      "MDMSESSION = mate \t\n",
      "MANDATORY_PATH = /usr/share/gconf/mate.mandatory.path \t\n",
      "MATE_DESKTOP_SESSION_ID = this-is-deprecated \t\n",
      "LESSOPEN = | /usr/bin/lesspipe %s \t\n",
      "MDM_LANG = fr_BE.UTF-8 \t\n",
      "LOGNAME = tais \t\n",
      "USER = tais \t\n",
      "HOME = /home/tais \t\n",
      "XDG_VTNR = 8 \t\n",
      "PATH = /usr/local/bin:/home/tais/BIN:/home/tais/bin:/home/tais/.local/bin:/usr/local/sbin:/usr/local/bin:/usr/sbin:/usr/bin:/sbin:/bin:/usr/games:/usr/local/games:/home/tais/SRC/GRASS/grass_trunk/dist.x86_64-pc-linux-gnu/bin:/home/tais/SRC/GRASS/grass_trunk/dist.x86_64-pc-linux-gnu/script:/home/tais/SRC/GRASS/grass_trunk/dist.x86_64-pc-linux-gnu/lib \t\n",
      "CLICOLOR = 1 \t\n",
      "DISPLAY = :0.0 \t\n",
      "SSH_AGENT_PID = 24445 \t\n",
      "LANG = fr_BE.UTF-8 \t\n",
      "TERM = xterm-color \t\n",
      "SHELL = /bin/bash \t\n",
      "GIS_LOCK = $$ \t\n",
      "XAUTHORITY = /home/tais/.Xauthority \t\n",
      "SESSION_MANAGER = local/tais-HP-Z620-Workstation:@/tmp/.ICE-unix/24374,unix/tais-HP-Z620-Workstation:/tmp/.ICE-unix/24374 \t\n",
      "SHLVL = 1 \t\n",
      "QT_LINUX_ACCESSIBILITY_ALWAYS_ON = 1 \t\n",
      "INSIDE_CAJA_PYTHON =  \t\n",
      "QT_ACCESSIBILITY = 1 \t\n",
      "LD_LIBRARY_PATH = :/home/tais/SRC/GRASS/grass_trunk/dist.x86_64-pc-linux-gnu/lib \t\n",
      "COMPIZ_CONFIG_PROFILE = mate \t\n",
      "WINDOWPATH = 8 \t\n",
      "GTK_OVERLAY_SCROLLING = 0 \t\n",
      "PYTHONPATH = :/home/tais/SRC/GRASS/grass_trunk/dist.x86_64-pc-linux-gnu/etc/python:/home/tais/SRC/GRASS/grass_trunk/dist.x86_64-pc-linux-gnu/etc/python/grass:/home/tais/SRC/GRASS/grass_trunk/dist.x86_64-pc-linux-gnu/etc/python/grass/script \t\n",
      "GISBASE = /home/tais/SRC/GRASS/grass_trunk/dist.x86_64-pc-linux-gnu \t\n",
      "CLUTTER_BACKEND = x11 \t\n",
      "USERNAME = tais \t\n",
      "XDG_SESSION_DESKTOP = mate \t\n",
      "GDM_XSERVER_LOCATION = local \t\n",
      "XDG_RUNTIME_DIR = /run/user/1000 \t\n",
      "JPY_PARENT_PID = 26161 \t\n",
      "QT_STYLE_OVERRIDE = gtk \t\n",
      "SSH_AUTH_SOCK = /run/user/1000/keyring/ssh \t\n",
      "VTE_VERSION = 4205 \t\n",
      "GDMSESSION = mate \t\n",
      "GISRC = /home/tais/.grass7/rc \t\n",
      "GIT_PAGER = cat \t\n",
      "XDG_CONFIG_DIRS = /etc/xdg/xdg-mate:/etc/xdg \t\n",
      "XDG_CURRENT_DESKTOP = MATE \t\n",
      "XDG_SESSION_ID = c12 \t\n",
      "DBUS_SESSION_BUS_ADDRESS = unix:abstract=/tmp/dbus-VLHaz3GNhQ,guid=9844ad5686b20be4a3cc19e85bf3eff0 \t\n",
      "_ = /usr/local/bin/jupyter \t\n",
      "XDG_SESSION_COOKIE = 8441891e86e24d76b9616edf516d5734-1542713328.464012-1210388652 \t\n",
      "DESKTOP_SESSION = mate \t\n",
      "WINDOWID = 62914566 \t\n",
      "LESSCLOSE = /usr/bin/lesspipe %s %s \t\n",
      "DEFAULTS_PATH = /usr/share/gconf/mate.default.path \t\n",
      "MPLBACKEND = module://ipykernel.pylab.backend_inline \t\n",
      "MDM_XSERVER_LOCATION = local \t\n",
      "GTK_MODULES = gail:atk-bridge \t\n",
      "XDG_DATA_DIRS = /usr/share/mate:/usr/local/share/:/usr/share/:/usr/share/mdm/ \t\n",
      "PWD = /media/tais/data/Dropbox/ULB/MAUPP/Traitements/population_modeling \t\n",
      "COLORTERM = mate-terminal \t\n",
      "PYTHONLIB = /usr/lib/python2.7 \t\n",
      "LS_COLORS = rs=0:di=01;34:ln=01;36:mh=00:pi=40;33:so=01;35:do=01;35:bd=40;33;01:cd=40;33;01:or=40;31;01:mi=00:su=37;41:sg=30;43:ca=30;41:tw=30;42:ow=34;42:st=37;44:ex=01;32:*.tar=01;31:*.tgz=01;31:*.arc=01;31:*.arj=01;31:*.taz=01;31:*.lha=01;31:*.lz4=01;31:*.lzh=01;31:*.lzma=01;31:*.tlz=01;31:*.txz=01;31:*.tzo=01;31:*.t7z=01;31:*.zip=01;31:*.z=01;31:*.Z=01;31:*.dz=01;31:*.gz=01;31:*.lrz=01;31:*.lz=01;31:*.lzo=01;31:*.xz=01;31:*.bz2=01;31:*.bz=01;31:*.tbz=01;31:*.tbz2=01;31:*.tz=01;31:*.deb=01;31:*.rpm=01;31:*.jar=01;31:*.war=01;31:*.ear=01;31:*.sar=01;31:*.rar=01;31:*.alz=01;31:*.ace=01;31:*.zoo=01;31:*.cpio=01;31:*.7z=01;31:*.rz=01;31:*.cab=01;31:*.jpg=01;35:*.jpeg=01;35:*.gif=01;35:*.bmp=01;35:*.pbm=01;35:*.pgm=01;35:*.ppm=01;35:*.tga=01;35:*.xbm=01;35:*.xpm=01;35:*.tif=01;35:*.tiff=01;35:*.png=01;35:*.svg=01;35:*.svgz=01;35:*.mng=01;35:*.pcx=01;35:*.mov=01;35:*.mpg=01;35:*.mpeg=01;35:*.m2v=01;35:*.mkv=01;35:*.webm=01;35:*.ogm=01;35:*.mp4=01;35:*.m4v=01;35:*.mp4v=01;35:*.vob=01;35:*.qt=01;35:*.nuv=01;35:*.wmv=01;35:*.asf=01;35:*.rm=01;35:*.rmvb=01;35:*.flc=01;35:*.avi=01;35:*.fli=01;35:*.flv=01;35:*.gl=01;35:*.dl=01;35:*.xcf=01;35:*.xwd=01;35:*.yuv=01;35:*.cgm=01;35:*.emf=01;35:*.ogv=01;35:*.ogx=01;35:*.aac=00;36:*.au=00;36:*.flac=00;36:*.m4a=00;36:*.mid=00;36:*.midi=00;36:*.mka=00;36:*.mp3=00;36:*.mpc=00;36:*.ogg=00;36:*.ra=00;36:*.wav=00;36:*.oga=00;36:*.opus=00;36:*.spx=00;36:*.xspf=00;36: \t\n",
      "PAGER = cat \t\n",
      "XDG_SEAT = seat0 \t\n"
     ]
    }
   ],
   "source": [
    "# Set environmental variables\n",
    "envi.setup_environmental_variables() \n",
    "# Display current environment variables of your computer\n",
    "envi.print_environmental_variables()"
   ]
  },
  {
   "cell_type": "markdown",
   "metadata": {},
   "source": [
    "** GRASS GIS Python libraries **"
   ]
  },
  {
   "cell_type": "code",
   "execution_count": 10,
   "metadata": {
    "collapsed": true
   },
   "outputs": [],
   "source": [
    "## Import libraries needed to launch GRASS GIS in the jupyter notebook\n",
    "import grass.script.setup as gsetup\n",
    "## Import libraries needed to call GRASS using Python\n",
    "import grass.script as gscript"
   ]
  },
  {
   "cell_type": "markdown",
   "metadata": {},
   "source": [
    "**-_-_-_-_-_-_-_-_-_-_-_-_-_-_-_-_-_-_-_-_-_-_-_-_-_-_-_-_-_-_-_-_-_-_-_-_-_-_-_-_-_-_-_-_-_-_-_-_-_-_-_-_-_-_-_-_-_-_-_-_-**"
   ]
  },
  {
   "cell_type": "markdown",
   "metadata": {},
   "source": [
    "# User inputs"
   ]
  },
  {
   "cell_type": "markdown",
   "metadata": {},
   "source": [
    "Here after:\n",
    "- Enter the path to the directory you want to use as \"[GRASSDATA](https://grass.osgeo.org/programming7/loc_struct.png)\". \n",
    "- Enter the name of the location in which you want to work and its projection information in [EPSG code](http://spatialreference.org/ref/epsg/) format. Please note that the GRASSDATA folder and locations will be automatically created if not existing yet. If the location name already exists, the projection information will not be used.  \n",
    "- Enter the name you want for the mapsets which will be used later for Unsupervised Segmentation Parameter Optimization (USPO), Segmentation and Classification steps."
   ]
  },
  {
   "cell_type": "code",
   "execution_count": 11,
   "metadata": {
    "collapsed": true
   },
   "outputs": [],
   "source": [
    "## Define a empty dictionnary for saving user inputs\n",
    "user={}"
   ]
  },
  {
   "cell_type": "code",
   "execution_count": 12,
   "metadata": {
    "collapsed": true
   },
   "outputs": [],
   "source": [
    "## Enter the path to GRASSDATA folder\n",
    "user[\"gisdb\"] = \"/media/tais/My_Book_1/MAUPP/Traitement/Population_modelling_dasymetry/GRASSDATA\"\n",
    "## Enter the name of the location (existing or for a new one)\n",
    "user[\"location\"] = \"Dakar_32628\"\n",
    "## Enter the EPSG code for this location \n",
    "user[\"locationepsg\"] = \"32628\"\n",
    "## Enter the name of the permanent mapset\n",
    "user[\"permanent_mapset\"] = \"PERMANENT\"\n",
    "## Enter the name of a working mapset\n",
    "user[\"dasym_mapset\"] = \"DASYMETRY\""
   ]
  },
  {
   "cell_type": "code",
   "execution_count": 13,
   "metadata": {
    "collapsed": true
   },
   "outputs": [],
   "source": [
    "# Set the name of the layers\n",
    "Land_cover = 'landcover'  # VHR Land cover map\n",
    "Land_use = 'landuse' # VHR Land use map\n",
    "mr_builtup = 'MR_builtup' # MR built-up map\n",
    "mr_built_pixelvalue = '1' # The value of built pixels in the MR built-up map\n",
    "## Name of the column containing the population count\n",
    "population_column = \"POPULATION\"\n",
    "## Name of the column containing the density (response variable)\n",
    "response_column = \"popdens\"\n",
    "\n",
    "# Set a name for the empty grid layer\n",
    "clumped_grid = 'clumped_grid'\n",
    "# Set the resolution of the grid\n",
    "tile_size = 100"
   ]
  },
  {
   "cell_type": "markdown",
   "metadata": {},
   "source": [
    "** Functions defined by the user **"
   ]
  },
  {
   "cell_type": "code",
   "execution_count": 14,
   "metadata": {
    "collapsed": true
   },
   "outputs": [],
   "source": [
    "# Import function that check existance and create GRASS GIS database folder if needed\n",
    "from grass_database import check_gisdb, check_location, check_mapset, working_mapset"
   ]
  },
  {
   "cell_type": "code",
   "execution_count": 15,
   "metadata": {
    "collapsed": true
   },
   "outputs": [],
   "source": [
    "## Import functions for processing time information\n",
    "from processing_time import start_processing, print_processing_time"
   ]
  },
  {
   "cell_type": "code",
   "execution_count": 16,
   "metadata": {
    "collapsed": true
   },
   "outputs": [],
   "source": [
    "# Import function that generate a random name in the GRASS GIS environement\n",
    "from random_layer_name import random_layer_name"
   ]
  },
  {
   "cell_type": "code",
   "execution_count": 17,
   "metadata": {
    "collapsed": true
   },
   "outputs": [],
   "source": [
    "# Import function that create color file for raster\n",
    "from colorise_raster import create_color_rule"
   ]
  },
  {
   "cell_type": "code",
   "execution_count": 18,
   "metadata": {
    "collapsed": true
   },
   "outputs": [],
   "source": [
    "# Import function that clip multiple raster according to extention of a vector layer\n",
    "from create_clumped_grid import create_clumped_grid"
   ]
  },
  {
   "cell_type": "code",
   "execution_count": 19,
   "metadata": {
    "collapsed": true
   },
   "outputs": [],
   "source": [
    "# Import function that create temp directories\n",
    "from create_tempdirs import create_tempdirs"
   ]
  },
  {
   "cell_type": "code",
   "execution_count": 20,
   "metadata": {
    "collapsed": true
   },
   "outputs": [],
   "source": [
    "# Import function that rasterise a polygon layer and save the 'gridded' version as vector\n",
    "from gridded_bound import gridded_admin_boundaries"
   ]
  },
  {
   "cell_type": "code",
   "execution_count": 21,
   "metadata": {
    "collapsed": true
   },
   "outputs": [],
   "source": [
    "# Import function that get list of class of categorical raster\n",
    "from data_prep import data_prep"
   ]
  },
  {
   "cell_type": "code",
   "execution_count": 22,
   "metadata": {
    "collapsed": true
   },
   "outputs": [],
   "source": [
    "# Import csv functions (joint etc)\n",
    "import csv_func\n",
    "from csv_func import ordered_list_of_path, join_2csv, join_multiplecsv"
   ]
  },
  {
   "cell_type": "markdown",
   "metadata": {
    "collapsed": true
   },
   "source": [
    "**Check for existance of GRASSDATA folder, location and mapsets**"
   ]
  },
  {
   "cell_type": "markdown",
   "metadata": {},
   "source": [
    "Here after, the python script will check if GRASSDATA folder, locations and mapsets already exist. If not, they will be automatically created."
   ]
  },
  {
   "cell_type": "code",
   "execution_count": 23,
   "metadata": {
    "scrolled": true
   },
   "outputs": [
    {
     "name": "stdout",
     "output_type": "stream",
     "text": [
      "GRASSDATA folder already exist\n"
     ]
    }
   ],
   "source": [
    "# Check if the GRASS GIS database exists and create it if not\n",
    "check_gisdb(user[\"gisdb\"])"
   ]
  },
  {
   "cell_type": "code",
   "execution_count": 24,
   "metadata": {},
   "outputs": [
    {
     "name": "stdout",
     "output_type": "stream",
     "text": [
      "Location Dakar_32628 already exist\n"
     ]
    }
   ],
   "source": [
    "# Check if the location exists and create it if not, with the CRS defined by the epsg code \n",
    "check_location(user[\"gisdb\"],user[\"location\"],user[\"locationepsg\"])"
   ]
  },
  {
   "cell_type": "code",
   "execution_count": 25,
   "metadata": {},
   "outputs": [
    {
     "name": "stdout",
     "output_type": "stream",
     "text": [
      "'PERMANENT' mapset already exists in location 'Dakar_32628'\n"
     ]
    }
   ],
   "source": [
    "# Check if the mapset exists and create it if not\n",
    "check_mapset(user[\"gisdb\"],user[\"location\"],user[\"permanent_mapset\"])"
   ]
  },
  {
   "cell_type": "code",
   "execution_count": 26,
   "metadata": {},
   "outputs": [
    {
     "name": "stdout",
     "output_type": "stream",
     "text": [
      "'DASYMETRY' mapset already exists in location 'Dakar_32628'\n"
     ]
    }
   ],
   "source": [
    "# Check if the mapset exists and create it if not\n",
    "check_mapset(user[\"gisdb\"],user[\"location\"],user[\"dasym_mapset\"])"
   ]
  },
  {
   "cell_type": "markdown",
   "metadata": {},
   "source": [
    "**-_-_-_-_-_-_-_-_-_-_-_-_-_-_-_-_-_-_-_-_-_-_-_-_-_-_-_-_-_-_-_-_-_-_-_-_-_-_-_-_-_-_-_-_-_-_-_-_-_-_-_-_-_-_-_-_-_-_-_-_-**"
   ]
  },
  {
   "cell_type": "markdown",
   "metadata": {},
   "source": [
    "# Launch GRASS GIS working session on DASY_COVAR mapset"
   ]
  },
  {
   "cell_type": "code",
   "execution_count": 99,
   "metadata": {},
   "outputs": [
    {
     "name": "stdout",
     "output_type": "stream",
     "text": [
      "You are now working in mapset 'DASYMETRY'\n"
     ]
    }
   ],
   "source": [
    "# Change the current working GRASS GIS session mapset\n",
    "working_mapset(user[\"gisdb\"],user[\"location\"],user[\"dasym_mapset\"])"
   ]
  },
  {
   "cell_type": "markdown",
   "metadata": {},
   "source": [
    "### Set several variables and parameter"
   ]
  },
  {
   "cell_type": "code",
   "execution_count": 100,
   "metadata": {
    "collapsed": true
   },
   "outputs": [],
   "source": [
    "# Declare list that will contain the name/paths of temporary layers/files\n",
    "TMP_MAPS = []\n",
    "TMP_CSV = []\n",
    "\n",
    "# Declare strings that will contain the log of the processing\n",
    "log_text = \"\"\n",
    "log_text_extend = \"\""
   ]
  },
  {
   "cell_type": "code",
   "execution_count": 101,
   "metadata": {
    "collapsed": true
   },
   "outputs": [],
   "source": [
    "# Set the number of job that could be runned in parallel\n",
    "n_jobs = 15\n",
    "# Check if the computer has enough cores\n",
    "if(n_jobs >= multiprocessing.cpu_count()):\n",
    "    gscript.fatal(_(\"Requested number of jobs is > or = to available ressources. \\\n",
    "                    Try to reduce to at maximum <%s> jobs\")%(int(multiprocessing.cpu_count())-1))"
   ]
  },
  {
   "cell_type": "markdown",
   "metadata": {},
   "source": [
    "### Create temporary directories for output"
   ]
  },
  {
   "cell_type": "raw",
   "metadata": {},
   "source": [
    "outputdirectory_admin = \"/media/tais/My_Book_1/MAUPP/Traitement/Population_modelling_dasymetry/GRASSDATA/\\\n",
    "Dakar_32628/DASYMETRY/.tmp/tais-HP-Z620-Workstation/11636.0/admin_level\""
   ]
  },
  {
   "cell_type": "raw",
   "metadata": {
    "collapsed": true
   },
   "source": [
    "outputdirectory_grid = \"/media/tais/My_Book_1/MAUPP/Traitement/Population_modelling_dasymetry/GRASSDATA/\\\n",
    "Dakar_32628/DASYMETRY/.tmp/tais-HP-Z620-Workstation/11636.0/grid_level\""
   ]
  },
  {
   "cell_type": "code",
   "execution_count": 102,
   "metadata": {
    "collapsed": true
   },
   "outputs": [],
   "source": [
    "# Create temporary folder and get their paths\n",
    "outputdirectory_admin, outputdirectory_grid = create_tempdirs([\"admin_level\", \"grid_level\"])"
   ]
  },
  {
   "cell_type": "markdown",
   "metadata": {
    "collapsed": true
   },
   "source": [
    "# Data preparation"
   ]
  },
  {
   "cell_type": "markdown",
   "metadata": {
    "collapsed": true
   },
   "source": [
    "## Create a clumped grid for dasymetry"
   ]
  },
  {
   "cell_type": "markdown",
   "metadata": {
    "collapsed": true
   },
   "source": [
    "This grid will be the reference grid for re-allocation of population count."
   ]
  },
  {
   "cell_type": "code",
   "execution_count": 103,
   "metadata": {
    "collapsed": true
   },
   "outputs": [],
   "source": [
    "# Create clumped grid\n",
    "create_clumped_grid(tile_size=tile_size, mask_raster=Land_cover, output=clumped_grid)"
   ]
  },
  {
   "cell_type": "markdown",
   "metadata": {},
   "source": [
    "## Create layers with grid boundary for both levels"
   ]
  },
  {
   "cell_type": "code",
   "execution_count": 104,
   "metadata": {
    "collapsed": true
   },
   "outputs": [],
   "source": [
    "# Create layer with boundaries corresponding to the grid \n",
    "gridded_admin_units, gridded_vector = gridded_admin_boundaries(\"admin_level0\", 'cluster', \n",
    "                                                               response_column, clumped_grid)"
   ]
  },
  {
   "cell_type": "markdown",
   "metadata": {},
   "source": [
    "## Get list of values from categorical raster (land cover and land use)"
   ]
  },
  {
   "cell_type": "code",
   "execution_count": 105,
   "metadata": {},
   "outputs": [
    {
     "name": "stdout",
     "output_type": "stream",
     "text": [
      "Classes of raster 'landcover' used: 10,22,23,33,34,45,111,112,113\n"
     ]
    }
   ],
   "source": [
    "# Data preparation : extract list of classes from the Land Cover\n",
    "lc_classes_list = data_prep(Land_cover)[2]\n",
    "message=\"Classes of raster '\"+str(Land_cover)+\"' used: \"+\",\".join(lc_classes_list)\n",
    "log_text+=message+'\\n'\n",
    "print message"
   ]
  },
  {
   "cell_type": "code",
   "execution_count": 106,
   "metadata": {},
   "outputs": [
    {
     "name": "stdout",
     "output_type": "stream",
     "text": [
      "Classes of raster 'landuse' used: 1,2,3,4,5,6,7,8\n"
     ]
    }
   ],
   "source": [
    "# Data preparation : extract list of classes from the land use\n",
    "lu_classes_list = data_prep(Land_use)[2]\n",
    "message=\"Classes of raster '\"+str(Land_use)+\"' used: \"+\",\".join(lu_classes_list)\n",
    "log_text+=message+'\\n'\n",
    "print message"
   ]
  },
  {
   "cell_type": "markdown",
   "metadata": {},
   "source": [
    "## Compute proportion of each land cover and land use class"
   ]
  },
  {
   "cell_type": "code",
   "execution_count": null,
   "metadata": {
    "collapsed": true
   },
   "outputs": [],
   "source": [
    "import categorical_prop\n",
    "reload(categorical_prop)"
   ]
  },
  {
   "cell_type": "code",
   "execution_count": 110,
   "metadata": {
    "collapsed": true
   },
   "outputs": [],
   "source": [
    "# Import function that compute proportion of each class of categorical raster in admin units (or raster segments)\n",
    "from categorical_prop import proportion_class"
   ]
  },
  {
   "cell_type": "markdown",
   "metadata": {},
   "source": [
    "### VHR Land cover proportions"
   ]
  },
  {
   "cell_type": "code",
   "execution_count": 111,
   "metadata": {
    "scrolled": false
   },
   "outputs": [
    {
     "data": {
      "text/plain": [
       "'Proportion of each class of categorical raster computed in: 3 minutes and 2.9 seconds'"
      ]
     },
     "execution_count": 111,
     "metadata": {},
     "output_type": "execute_result"
    }
   ],
   "source": [
    "# Save time at starting\n",
    "start = start_processing() \n",
    "## Compute proportion of each class of categorical raster (parallel processing).\n",
    "gscript.run_command('g.region', raster=Land_cover.split(\"@\")[0])  #Set the region to match the extend of the raster\n",
    "p=Pool(n_jobs) #Create a 'pool' of processes and launch them using 'map' function\n",
    "func=partial(proportion_class,Land_cover.split(\"@\")[0]) # Set fixed argument of the function\n",
    "output=p.map(func,lc_classes_list) # Launch the processes for as many items in the list (if function with a return, the returned results are ordered thanks to 'map' function)\n",
    "p.close()\n",
    "p.join()\n",
    "temp_rasterlist,temp_csvlist_1,temp_csvlist_2=zip(*output)\n",
    "[TMP_MAPS.append(x) for x in temp_rasterlist]  # Append the name of binary rasters to the list of temporary maps\n",
    "[TMP_CSV.append(x) for x in temp_csvlist_1]  # Append the paths to .csv files to the list of temporary .csv\n",
    "[TMP_CSV.append(x) for x in temp_csvlist_2]  # Append the paths to .csv files to the list of temporary .csv\n",
    "# Print processing time\n",
    "print_processing_time(begintime=start, printmessage=\"Proportion of each class of categorical raster computed in: \")  "
   ]
  },
  {
   "cell_type": "markdown",
   "metadata": {},
   "source": [
    "### VHR Land use proportions"
   ]
  },
  {
   "cell_type": "code",
   "execution_count": 112,
   "metadata": {
    "scrolled": false
   },
   "outputs": [
    {
     "data": {
      "text/plain": [
       "'Proportion of each class of categorical raster computed in: 3 minutes and 8.0 seconds'"
      ]
     },
     "execution_count": 112,
     "metadata": {},
     "output_type": "execute_result"
    }
   ],
   "source": [
    "# Save time at starting\n",
    "start = start_processing() \n",
    "## Compute proportion of each class of categorical raster (parallel processing).\n",
    "gscript.run_command('g.region', raster=Land_use.split(\"@\")[0])  #Set the region to match the extend of the raster\n",
    "p=Pool(n_jobs) #Create a 'pool' of processes and launch them using 'map' function\n",
    "func=partial(proportion_class,Land_use.split(\"@\")[0]) # Set fixed argument of the function\n",
    "output=p.map(func,lu_classes_list) # Launch the processes for as many items in the list (if function with a return, the returned results are ordered thanks to 'map' function)\n",
    "p.close()\n",
    "p.join()\n",
    "temp_rasterlist,temp_csvlist_1,temp_csvlist_2=zip(*output)\n",
    "[TMP_MAPS.append(x) for x in temp_rasterlist]  # Append the name of binary rasters to the list of temporary maps\n",
    "[TMP_CSV.append(x) for x in temp_csvlist_1]  # Append the paths to .csv files to the list of temporary .csv\n",
    "[TMP_CSV.append(x) for x in temp_csvlist_2]  # Append the paths to .csv files to the list of temporary .csv\n",
    "# Print processing time\n",
    "print_processing_time(begintime=start, printmessage=\"Proportion of each class of categorical raster computed in: \")  "
   ]
  },
  {
   "cell_type": "markdown",
   "metadata": {},
   "source": [
    "### MR Built-up proportion"
   ]
  },
  {
   "cell_type": "code",
   "execution_count": 113,
   "metadata": {
    "scrolled": true
   },
   "outputs": [
    {
     "name": "stdout",
     "output_type": "stream",
     "text": [
      "An 'ZeroDivisionError' has been registered for the following <cat>2318\n",
      "2316\n",
      "2317\n",
      "2314\n",
      "2315\n",
      "2312\n",
      "2313\n",
      "2447\n",
      "2448\n",
      "100\n",
      "2684\n",
      "2680\n",
      "1655\n",
      "2682\n",
      "2683\n",
      "99\n",
      "98\n",
      "97\n",
      "96\n",
      "2860\n",
      "2861\n",
      "2862\n",
      "2863\n",
      "2866\n",
      "2867\n",
      "3348\n",
      "1579\n",
      "1578\n",
      "684\n",
      "681\n",
      "683\n",
      "682\n",
      "4031\n",
      "4032\n",
      "174\n",
      "171\n",
      "170\n",
      "3594\n",
      "3083\n",
      "2699\n",
      "2542\n",
      "2544\n",
      "1782\n",
      "1783\n",
      "2388\n",
      "2760\n",
      "1842\n",
      "1841\n",
      "2512\n",
      "2842\n",
      "2840\n",
      "2841\n",
      "3325\n",
      "534\n",
      "533\n",
      "2992\n",
      "3297\n",
      "2187\n",
      "2681\n",
      "2236\n",
      "2727\n",
      "2726\n",
      "2725\n",
      "2729\n",
      "2728\n",
      "3089\n",
      "3088\n",
      "1946\n",
      "2859\n",
      "2853\n",
      "2855\n",
      "2857\n",
      "2856\n",
      "1492\n",
      "1493\n",
      "1705\n",
      "2983\n",
      "2987\n",
      "2986\n",
      "2985\n",
      "2984\n",
      "2526\n",
      "2864\n",
      "2865\n",
      "3082\n",
      "2464\n",
      "2465\n",
      "2466\n",
      "2467\n",
      "230\n",
      "1\n",
      "147\n",
      "144\n",
      "145\n",
      "143\n",
      "2468\n",
      "2712\n",
      "2793\n",
      "518\n",
      "2880\n",
      "2\n",
      "11\n",
      "10\n",
      "12\n",
      "17\n",
      "19\n",
      "18\n",
      "1534\n",
      "2239\n",
      "2238\n",
      "2237\n",
      "2525\n",
      "2524\n",
      "2708\n",
      "2705\n",
      "2704\n",
      "2707\n",
      "2706\n",
      "2701\n",
      "2700\n",
      "2703\n",
      "2702\n",
      "3\n",
      "2511\n",
      "61\n",
      "62\n",
      "63\n",
      "64\n",
      "68\n",
      "636\n",
      "3735\n",
      "3932\n",
      "4\n",
      "3007\n",
      "2396\n",
      "2394\n",
      "2395\n",
      "2392\n",
      "2393\n",
      "2390\n",
      "2391\n",
      "2778\n",
      "2779\n",
      "2777\n",
      "4081\n",
      "2604\n",
      "2605\n",
      "2601\n",
      "2602\n",
      "2603\n",
      "3269\n",
      "3268\n",
      "752\n",
      "2952\n",
      "635\n",
      "1354\n",
      "3854\n",
      "3855\n",
      "2543\n",
      "2541\n",
      "2547\n",
      "2546\n",
      "2545\n",
      "2549\n",
      "2548\n",
      "2389\n",
      "2763\n",
      "2762\n",
      "2761\n",
      "2764\n",
      "1947\n",
      "6\n",
      "743\n",
      "2469\n",
      "20\n",
      "21\n",
      "22\n",
      "3931\n",
      "3933\n",
      "7\n",
      "3663\n",
      "2370\n",
      "2371\n",
      "2372\n",
      "1878\n",
      "2622\n",
      "2623\n",
      "2620\n",
      "2621\n",
      "2626\n",
      "2627\n",
      "2624\n",
      "2625\n",
      "2628\n",
      "2629\n",
      "2028\n",
      "2029\n",
      "2759\n",
      "79\n",
      "78\n",
      "1040\n",
      "1689\n",
      "3035\n",
      "2698\n",
      "2292\n",
      "1863\n",
      "1865\n",
      "1864\n",
      "967\n",
      "2109\n",
      "2108\n",
      "9\n",
      "890\n",
      "3131\n",
      "3130\n",
      "5\n",
      "300\n",
      "2858\n",
      "2991\n",
      "2648\n",
      "2647\n",
      "3033\n",
      "4078\n",
      "596\n",
      "32\n",
      "31\n",
      "30\n",
      "4100\n",
      "3894\n",
      "8\n",
      "2854\n",
      "2654\n",
      "130\n",
      "3034\n",
      "80\n",
      "81\n",
      "3036\n",
      "1656\n",
      "1654\n",
      "2839\n",
      "4003\n",
      "4004\n",
      "4005\n",
      "3628\n",
      "120\n",
      "121\n",
      "122\n",
      "123\n",
      "3372\n",
      "2933\n",
      "2930\n",
      "2808\n",
      "2806\n",
      "2807\n",
      "1353\n",
      "1352\n",
      "4054\n",
      "1273\n",
      "3180\n",
      "2471\n",
      "2470\n",
      "119\n",
      "118\n",
      "2785\n",
      "2784\n",
      "2787\n",
      "2786\n",
      "2781\n",
      "2780\n",
      "2783\n",
      "2782\n",
      "2677\n",
      "2676\n",
      "2679\n",
      "2678\n",
      "2929\n",
      "2928\n",
      "2925\n",
      "2924\n",
      "2927\n",
      "2926\n",
      "2813\n",
      "2812\n",
      "3179\n",
      "3178\n",
      "724\n",
      "723\n",
      "48\n",
      "46\n",
      "47\n",
      "45\n",
      "1298\n",
      "1297\n",
      "3699\n"
     ]
    },
    {
     "data": {
      "text/plain": [
       "'Proportion of MR Built-up raster computed in: 3 minutes and 6.0 seconds'"
      ]
     },
     "execution_count": 113,
     "metadata": {},
     "output_type": "execute_result"
    }
   ],
   "source": [
    "# Save time at starting\n",
    "start = start_processing() \n",
    "## Compute proportion of each class of categorical raster (parallel processing).\n",
    "gscript.run_command('g.region', raster=mr_builtup.split(\"@\")[0])  #Set the region to match the extend of the raster\n",
    "temp_rasterlist,temp_csvlist_1,temp_csvlist_2 = proportion_class(mr_builtup.split(\"@\")[0], mr_built_pixelvalue)\n",
    "TMP_MAPS.append(temp_rasterlist)  # Append the name of binary rasters to the list of temporary maps\n",
    "TMP_CSV.append(temp_csvlist_1)  # Append the paths to .csv files to the list of temporary .csv\n",
    "TMP_CSV.append(temp_csvlist_2)  # Append the paths to .csv files to the list of temporary .csv\n",
    "# Print processing time\n",
    "print_processing_time(begintime=start, printmessage=\"Proportion of MR Built-up raster computed in: \")  "
   ]
  },
  {
   "cell_type": "markdown",
   "metadata": {},
   "source": [
    "### Join all .csv files with statistics"
   ]
  },
  {
   "cell_type": "code",
   "execution_count": 114,
   "metadata": {},
   "outputs": [],
   "source": [
    "## Join .csv files of statistics\n",
    "for directory in [outputdirectory_grid, outputdirectory_admin]:\n",
    "    allstatfile=os.path.join(directory,\"all_stats.csv\")\n",
    "    pattern_A=\"LC_*_prop.csv\"   #Add all csv with proportions of Land cover classes\n",
    "    pattern_B=\"LU_*_prop.csv\"  #Add all csv with proportions of Land use classes\n",
    "    pattern_C=\"MR_*_prop.csv\" \n",
    "    list_paths = ordered_list_of_path(directory,pattern_A,pattern_B,pattern_C)\n",
    "    join_multiplecsv(list_paths,allstatfile,separator=\",\",join='inner', fillempty='NULL', overwrite=True)"
   ]
  },
  {
   "cell_type": "markdown",
   "metadata": {},
   "source": [
    "### Visualisation of .csv files with statistics to be used"
   ]
  },
  {
   "cell_type": "markdown",
   "metadata": {},
   "source": [
    "**Admin level 0**"
   ]
  },
  {
   "cell_type": "code",
   "execution_count": 115,
   "metadata": {},
   "outputs": [
    {
     "name": "stdout",
     "output_type": "stream",
     "text": [
      "There are 31 rows in the dataframe\n"
     ]
    }
   ],
   "source": [
    "## Use pandas for preview of .csv content\n",
    "df_level0 = pd.read_csv(os.path.join(outputdirectory_admin,\"all_stats.csv\"))\n",
    "print \"There are %s rows in the dataframe\"%len(df_level0)"
   ]
  },
  {
   "cell_type": "code",
   "execution_count": 116,
   "metadata": {
    "scrolled": true
   },
   "outputs": [
    {
     "data": {
      "text/html": [
       "<div>\n",
       "<style scoped>\n",
       "    .dataframe tbody tr th:only-of-type {\n",
       "        vertical-align: middle;\n",
       "    }\n",
       "\n",
       "    .dataframe tbody tr th {\n",
       "        vertical-align: top;\n",
       "    }\n",
       "\n",
       "    .dataframe thead th {\n",
       "        text-align: right;\n",
       "    }\n",
       "</style>\n",
       "<table border=\"1\" class=\"dataframe\">\n",
       "  <thead>\n",
       "    <tr style=\"text-align: right;\">\n",
       "      <th></th>\n",
       "      <th>cat</th>\n",
       "      <th>LC_10_proportion</th>\n",
       "      <th>LC_22_proportion</th>\n",
       "      <th>LC_23_proportion</th>\n",
       "      <th>LC_33_proportion</th>\n",
       "      <th>LC_34_proportion</th>\n",
       "      <th>LC_45_proportion</th>\n",
       "      <th>LC_111_proportion</th>\n",
       "      <th>LC_112_proportion</th>\n",
       "      <th>LC_113_proportion</th>\n",
       "      <th>LU_1_proportion</th>\n",
       "      <th>LU_2_proportion</th>\n",
       "      <th>LU_3_proportion</th>\n",
       "      <th>LU_4_proportion</th>\n",
       "      <th>LU_5_proportion</th>\n",
       "      <th>LU_6_proportion</th>\n",
       "      <th>LU_7_proportion</th>\n",
       "      <th>LU_8_proportion</th>\n",
       "      <th>MR_1_proportion</th>\n",
       "    </tr>\n",
       "  </thead>\n",
       "  <tbody>\n",
       "    <tr>\n",
       "      <th>23</th>\n",
       "      <td>74</td>\n",
       "      <td>5.44609</td>\n",
       "      <td>5.91458</td>\n",
       "      <td>2.68124</td>\n",
       "      <td>0.00000</td>\n",
       "      <td>0.00000</td>\n",
       "      <td>49.08486</td>\n",
       "      <td>21.50611</td>\n",
       "      <td>13.46562</td>\n",
       "      <td>1.90150</td>\n",
       "      <td>0.00000</td>\n",
       "      <td>0.00000</td>\n",
       "      <td>3.45283</td>\n",
       "      <td>26.16983</td>\n",
       "      <td>52.79673</td>\n",
       "      <td>16.88105</td>\n",
       "      <td>0.00000</td>\n",
       "      <td>0.69956</td>\n",
       "      <td>100.0</td>\n",
       "    </tr>\n",
       "    <tr>\n",
       "      <th>24</th>\n",
       "      <td>77</td>\n",
       "      <td>1.36316</td>\n",
       "      <td>1.31126</td>\n",
       "      <td>0.30541</td>\n",
       "      <td>0.00000</td>\n",
       "      <td>0.00000</td>\n",
       "      <td>38.92091</td>\n",
       "      <td>33.22673</td>\n",
       "      <td>21.52354</td>\n",
       "      <td>3.34899</td>\n",
       "      <td>0.00000</td>\n",
       "      <td>0.00000</td>\n",
       "      <td>0.62612</td>\n",
       "      <td>0.24419</td>\n",
       "      <td>83.74707</td>\n",
       "      <td>7.59626</td>\n",
       "      <td>4.97949</td>\n",
       "      <td>2.80686</td>\n",
       "      <td>100.0</td>\n",
       "    </tr>\n",
       "    <tr>\n",
       "      <th>25</th>\n",
       "      <td>83</td>\n",
       "      <td>8.87466</td>\n",
       "      <td>2.95357</td>\n",
       "      <td>4.83873</td>\n",
       "      <td>0.08761</td>\n",
       "      <td>0.00013</td>\n",
       "      <td>33.43845</td>\n",
       "      <td>25.37711</td>\n",
       "      <td>19.33013</td>\n",
       "      <td>5.09961</td>\n",
       "      <td>10.18482</td>\n",
       "      <td>0.00029</td>\n",
       "      <td>0.87334</td>\n",
       "      <td>12.74738</td>\n",
       "      <td>63.29016</td>\n",
       "      <td>9.10216</td>\n",
       "      <td>2.15430</td>\n",
       "      <td>1.64754</td>\n",
       "      <td>100.0</td>\n",
       "    </tr>\n",
       "    <tr>\n",
       "      <th>26</th>\n",
       "      <td>88</td>\n",
       "      <td>12.13554</td>\n",
       "      <td>4.77274</td>\n",
       "      <td>11.22076</td>\n",
       "      <td>0.06122</td>\n",
       "      <td>0.00476</td>\n",
       "      <td>38.60738</td>\n",
       "      <td>11.72347</td>\n",
       "      <td>13.50141</td>\n",
       "      <td>7.97272</td>\n",
       "      <td>0.00000</td>\n",
       "      <td>0.00000</td>\n",
       "      <td>5.58492</td>\n",
       "      <td>42.58864</td>\n",
       "      <td>44.30365</td>\n",
       "      <td>6.49330</td>\n",
       "      <td>0.22309</td>\n",
       "      <td>0.80640</td>\n",
       "      <td>100.0</td>\n",
       "    </tr>\n",
       "    <tr>\n",
       "      <th>27</th>\n",
       "      <td>92</td>\n",
       "      <td>6.05789</td>\n",
       "      <td>2.15854</td>\n",
       "      <td>4.21849</td>\n",
       "      <td>0.00000</td>\n",
       "      <td>0.00154</td>\n",
       "      <td>39.25266</td>\n",
       "      <td>28.18448</td>\n",
       "      <td>16.52687</td>\n",
       "      <td>3.59954</td>\n",
       "      <td>12.02512</td>\n",
       "      <td>0.00000</td>\n",
       "      <td>2.78709</td>\n",
       "      <td>2.62003</td>\n",
       "      <td>54.90128</td>\n",
       "      <td>7.05765</td>\n",
       "      <td>17.04959</td>\n",
       "      <td>3.55924</td>\n",
       "      <td>100.0</td>\n",
       "    </tr>\n",
       "    <tr>\n",
       "      <th>28</th>\n",
       "      <td>93</td>\n",
       "      <td>1.43462</td>\n",
       "      <td>1.10928</td>\n",
       "      <td>2.34982</td>\n",
       "      <td>0.00000</td>\n",
       "      <td>0.00000</td>\n",
       "      <td>46.41957</td>\n",
       "      <td>29.16700</td>\n",
       "      <td>15.26735</td>\n",
       "      <td>4.25236</td>\n",
       "      <td>0.00000</td>\n",
       "      <td>2.12664</td>\n",
       "      <td>5.98514</td>\n",
       "      <td>0.00000</td>\n",
       "      <td>57.44911</td>\n",
       "      <td>6.31248</td>\n",
       "      <td>20.66817</td>\n",
       "      <td>7.45846</td>\n",
       "      <td>100.0</td>\n",
       "    </tr>\n",
       "    <tr>\n",
       "      <th>29</th>\n",
       "      <td>98</td>\n",
       "      <td>7.46917</td>\n",
       "      <td>5.18816</td>\n",
       "      <td>16.77252</td>\n",
       "      <td>1.43169</td>\n",
       "      <td>0.00234</td>\n",
       "      <td>29.03204</td>\n",
       "      <td>36.52068</td>\n",
       "      <td>3.43304</td>\n",
       "      <td>0.15036</td>\n",
       "      <td>0.00000</td>\n",
       "      <td>1.91493</td>\n",
       "      <td>0.88379</td>\n",
       "      <td>0.21648</td>\n",
       "      <td>8.23175</td>\n",
       "      <td>19.05581</td>\n",
       "      <td>65.23036</td>\n",
       "      <td>4.46688</td>\n",
       "      <td>100.0</td>\n",
       "    </tr>\n",
       "    <tr>\n",
       "      <th>30</th>\n",
       "      <td>99</td>\n",
       "      <td>3.72483</td>\n",
       "      <td>3.31699</td>\n",
       "      <td>1.42572</td>\n",
       "      <td>0.00000</td>\n",
       "      <td>0.00220</td>\n",
       "      <td>48.56620</td>\n",
       "      <td>17.14320</td>\n",
       "      <td>20.56331</td>\n",
       "      <td>5.25756</td>\n",
       "      <td>0.00000</td>\n",
       "      <td>0.00000</td>\n",
       "      <td>6.48800</td>\n",
       "      <td>3.57705</td>\n",
       "      <td>71.63279</td>\n",
       "      <td>14.71686</td>\n",
       "      <td>0.36076</td>\n",
       "      <td>3.22453</td>\n",
       "      <td>100.0</td>\n",
       "    </tr>\n",
       "  </tbody>\n",
       "</table>\n",
       "</div>"
      ],
      "text/plain": [
       "    cat  LC_10_proportion  LC_22_proportion  LC_23_proportion  \\\n",
       "23   74           5.44609           5.91458           2.68124   \n",
       "24   77           1.36316           1.31126           0.30541   \n",
       "25   83           8.87466           2.95357           4.83873   \n",
       "26   88          12.13554           4.77274          11.22076   \n",
       "27   92           6.05789           2.15854           4.21849   \n",
       "28   93           1.43462           1.10928           2.34982   \n",
       "29   98           7.46917           5.18816          16.77252   \n",
       "30   99           3.72483           3.31699           1.42572   \n",
       "\n",
       "    LC_33_proportion  LC_34_proportion  LC_45_proportion  LC_111_proportion  \\\n",
       "23           0.00000           0.00000          49.08486           21.50611   \n",
       "24           0.00000           0.00000          38.92091           33.22673   \n",
       "25           0.08761           0.00013          33.43845           25.37711   \n",
       "26           0.06122           0.00476          38.60738           11.72347   \n",
       "27           0.00000           0.00154          39.25266           28.18448   \n",
       "28           0.00000           0.00000          46.41957           29.16700   \n",
       "29           1.43169           0.00234          29.03204           36.52068   \n",
       "30           0.00000           0.00220          48.56620           17.14320   \n",
       "\n",
       "    LC_112_proportion  LC_113_proportion  LU_1_proportion  LU_2_proportion  \\\n",
       "23           13.46562            1.90150          0.00000          0.00000   \n",
       "24           21.52354            3.34899          0.00000          0.00000   \n",
       "25           19.33013            5.09961         10.18482          0.00029   \n",
       "26           13.50141            7.97272          0.00000          0.00000   \n",
       "27           16.52687            3.59954         12.02512          0.00000   \n",
       "28           15.26735            4.25236          0.00000          2.12664   \n",
       "29            3.43304            0.15036          0.00000          1.91493   \n",
       "30           20.56331            5.25756          0.00000          0.00000   \n",
       "\n",
       "    LU_3_proportion  LU_4_proportion  LU_5_proportion  LU_6_proportion  \\\n",
       "23          3.45283         26.16983         52.79673         16.88105   \n",
       "24          0.62612          0.24419         83.74707          7.59626   \n",
       "25          0.87334         12.74738         63.29016          9.10216   \n",
       "26          5.58492         42.58864         44.30365          6.49330   \n",
       "27          2.78709          2.62003         54.90128          7.05765   \n",
       "28          5.98514          0.00000         57.44911          6.31248   \n",
       "29          0.88379          0.21648          8.23175         19.05581   \n",
       "30          6.48800          3.57705         71.63279         14.71686   \n",
       "\n",
       "    LU_7_proportion  LU_8_proportion  MR_1_proportion  \n",
       "23          0.00000          0.69956            100.0  \n",
       "24          4.97949          2.80686            100.0  \n",
       "25          2.15430          1.64754            100.0  \n",
       "26          0.22309          0.80640            100.0  \n",
       "27         17.04959          3.55924            100.0  \n",
       "28         20.66817          7.45846            100.0  \n",
       "29         65.23036          4.46688            100.0  \n",
       "30          0.36076          3.22453            100.0  "
      ]
     },
     "execution_count": 116,
     "metadata": {},
     "output_type": "execute_result"
    }
   ],
   "source": [
    "## Display tail of the dataframe\n",
    "df_level0.tail(8)"
   ]
  },
  {
   "cell_type": "markdown",
   "metadata": {},
   "source": [
    "**Grid level**"
   ]
  },
  {
   "cell_type": "code",
   "execution_count": 117,
   "metadata": {},
   "outputs": [
    {
     "name": "stdout",
     "output_type": "stream",
     "text": [
      "There are 4195 rows in the dataframe\n"
     ]
    }
   ],
   "source": [
    "## Use pandas for preview of .csv content\n",
    "df_grid = pd.read_csv(os.path.join(outputdirectory_grid,\"all_stats.csv\"))\n",
    "print \"There are %s rows in the dataframe\"%len(df_grid)"
   ]
  },
  {
   "cell_type": "code",
   "execution_count": 118,
   "metadata": {
    "scrolled": true
   },
   "outputs": [
    {
     "data": {
      "text/html": [
       "<div>\n",
       "<style scoped>\n",
       "    .dataframe tbody tr th:only-of-type {\n",
       "        vertical-align: middle;\n",
       "    }\n",
       "\n",
       "    .dataframe tbody tr th {\n",
       "        vertical-align: top;\n",
       "    }\n",
       "\n",
       "    .dataframe thead th {\n",
       "        text-align: right;\n",
       "    }\n",
       "</style>\n",
       "<table border=\"1\" class=\"dataframe\">\n",
       "  <thead>\n",
       "    <tr style=\"text-align: right;\">\n",
       "      <th></th>\n",
       "      <th>cat</th>\n",
       "      <th>LC_10_proportion</th>\n",
       "      <th>LC_22_proportion</th>\n",
       "      <th>LC_23_proportion</th>\n",
       "      <th>LC_33_proportion</th>\n",
       "      <th>LC_34_proportion</th>\n",
       "      <th>LC_45_proportion</th>\n",
       "      <th>LC_111_proportion</th>\n",
       "      <th>LC_112_proportion</th>\n",
       "      <th>LC_113_proportion</th>\n",
       "      <th>LU_1_proportion</th>\n",
       "      <th>LU_2_proportion</th>\n",
       "      <th>LU_3_proportion</th>\n",
       "      <th>LU_4_proportion</th>\n",
       "      <th>LU_5_proportion</th>\n",
       "      <th>LU_6_proportion</th>\n",
       "      <th>LU_7_proportion</th>\n",
       "      <th>LU_8_proportion</th>\n",
       "      <th>MR_1_proportion</th>\n",
       "    </tr>\n",
       "  </thead>\n",
       "  <tbody>\n",
       "    <tr>\n",
       "      <th>4187</th>\n",
       "      <td>4188</td>\n",
       "      <td>8.46750</td>\n",
       "      <td>6.90500</td>\n",
       "      <td>1.20000</td>\n",
       "      <td>0.0</td>\n",
       "      <td>0.0</td>\n",
       "      <td>22.71250</td>\n",
       "      <td>43.93000</td>\n",
       "      <td>13.52500</td>\n",
       "      <td>3.26000</td>\n",
       "      <td>0.0</td>\n",
       "      <td>0.0</td>\n",
       "      <td>0.0</td>\n",
       "      <td>0.00000</td>\n",
       "      <td>100.00000</td>\n",
       "      <td>0.000</td>\n",
       "      <td>0.0</td>\n",
       "      <td>0.00000</td>\n",
       "      <td>100.0</td>\n",
       "    </tr>\n",
       "    <tr>\n",
       "      <th>4188</th>\n",
       "      <td>4189</td>\n",
       "      <td>6.02250</td>\n",
       "      <td>3.20000</td>\n",
       "      <td>0.16500</td>\n",
       "      <td>0.0</td>\n",
       "      <td>0.0</td>\n",
       "      <td>29.77000</td>\n",
       "      <td>39.67250</td>\n",
       "      <td>19.48500</td>\n",
       "      <td>1.68500</td>\n",
       "      <td>0.0</td>\n",
       "      <td>0.0</td>\n",
       "      <td>0.0</td>\n",
       "      <td>0.00000</td>\n",
       "      <td>99.82500</td>\n",
       "      <td>0.175</td>\n",
       "      <td>0.0</td>\n",
       "      <td>0.00000</td>\n",
       "      <td>100.0</td>\n",
       "    </tr>\n",
       "    <tr>\n",
       "      <th>4189</th>\n",
       "      <td>4190</td>\n",
       "      <td>2.21000</td>\n",
       "      <td>9.04250</td>\n",
       "      <td>0.96250</td>\n",
       "      <td>0.0</td>\n",
       "      <td>0.0</td>\n",
       "      <td>35.73000</td>\n",
       "      <td>34.89750</td>\n",
       "      <td>17.15750</td>\n",
       "      <td>0.00000</td>\n",
       "      <td>0.0</td>\n",
       "      <td>0.0</td>\n",
       "      <td>0.0</td>\n",
       "      <td>9.57750</td>\n",
       "      <td>87.96500</td>\n",
       "      <td>2.455</td>\n",
       "      <td>0.0</td>\n",
       "      <td>0.00250</td>\n",
       "      <td>100.0</td>\n",
       "    </tr>\n",
       "    <tr>\n",
       "      <th>4190</th>\n",
       "      <td>4191</td>\n",
       "      <td>21.83230</td>\n",
       "      <td>2.78172</td>\n",
       "      <td>0.00000</td>\n",
       "      <td>0.0</td>\n",
       "      <td>0.0</td>\n",
       "      <td>27.70186</td>\n",
       "      <td>28.18545</td>\n",
       "      <td>15.94055</td>\n",
       "      <td>3.55812</td>\n",
       "      <td>0.0</td>\n",
       "      <td>0.0</td>\n",
       "      <td>0.0</td>\n",
       "      <td>0.00000</td>\n",
       "      <td>99.47649</td>\n",
       "      <td>0.000</td>\n",
       "      <td>0.0</td>\n",
       "      <td>0.52351</td>\n",
       "      <td>100.0</td>\n",
       "    </tr>\n",
       "    <tr>\n",
       "      <th>4191</th>\n",
       "      <td>4192</td>\n",
       "      <td>12.41513</td>\n",
       "      <td>2.59134</td>\n",
       "      <td>0.57010</td>\n",
       "      <td>0.0</td>\n",
       "      <td>0.0</td>\n",
       "      <td>33.85074</td>\n",
       "      <td>32.48769</td>\n",
       "      <td>16.51205</td>\n",
       "      <td>1.57295</td>\n",
       "      <td>0.0</td>\n",
       "      <td>0.0</td>\n",
       "      <td>0.0</td>\n",
       "      <td>0.00000</td>\n",
       "      <td>100.00000</td>\n",
       "      <td>0.000</td>\n",
       "      <td>0.0</td>\n",
       "      <td>0.00000</td>\n",
       "      <td>100.0</td>\n",
       "    </tr>\n",
       "    <tr>\n",
       "      <th>4192</th>\n",
       "      <td>4193</td>\n",
       "      <td>15.18500</td>\n",
       "      <td>3.56750</td>\n",
       "      <td>4.58750</td>\n",
       "      <td>0.0</td>\n",
       "      <td>0.0</td>\n",
       "      <td>34.42250</td>\n",
       "      <td>32.62250</td>\n",
       "      <td>8.70500</td>\n",
       "      <td>0.91000</td>\n",
       "      <td>0.0</td>\n",
       "      <td>0.0</td>\n",
       "      <td>0.0</td>\n",
       "      <td>0.00000</td>\n",
       "      <td>74.82000</td>\n",
       "      <td>25.180</td>\n",
       "      <td>0.0</td>\n",
       "      <td>0.00000</td>\n",
       "      <td>100.0</td>\n",
       "    </tr>\n",
       "    <tr>\n",
       "      <th>4193</th>\n",
       "      <td>4194</td>\n",
       "      <td>8.31750</td>\n",
       "      <td>5.70250</td>\n",
       "      <td>0.92000</td>\n",
       "      <td>0.0</td>\n",
       "      <td>0.0</td>\n",
       "      <td>37.93500</td>\n",
       "      <td>21.88750</td>\n",
       "      <td>25.23750</td>\n",
       "      <td>0.00000</td>\n",
       "      <td>0.0</td>\n",
       "      <td>0.0</td>\n",
       "      <td>0.0</td>\n",
       "      <td>32.55750</td>\n",
       "      <td>49.76250</td>\n",
       "      <td>17.680</td>\n",
       "      <td>0.0</td>\n",
       "      <td>0.00000</td>\n",
       "      <td>100.0</td>\n",
       "    </tr>\n",
       "    <tr>\n",
       "      <th>4194</th>\n",
       "      <td>4195</td>\n",
       "      <td>15.30695</td>\n",
       "      <td>2.94180</td>\n",
       "      <td>0.04207</td>\n",
       "      <td>0.0</td>\n",
       "      <td>0.0</td>\n",
       "      <td>25.66183</td>\n",
       "      <td>40.25962</td>\n",
       "      <td>14.54972</td>\n",
       "      <td>1.23802</td>\n",
       "      <td>0.0</td>\n",
       "      <td>0.0</td>\n",
       "      <td>0.0</td>\n",
       "      <td>1.82397</td>\n",
       "      <td>98.17603</td>\n",
       "      <td>0.000</td>\n",
       "      <td>0.0</td>\n",
       "      <td>0.00000</td>\n",
       "      <td>100.0</td>\n",
       "    </tr>\n",
       "  </tbody>\n",
       "</table>\n",
       "</div>"
      ],
      "text/plain": [
       "       cat  LC_10_proportion  LC_22_proportion  LC_23_proportion  \\\n",
       "4187  4188           8.46750           6.90500           1.20000   \n",
       "4188  4189           6.02250           3.20000           0.16500   \n",
       "4189  4190           2.21000           9.04250           0.96250   \n",
       "4190  4191          21.83230           2.78172           0.00000   \n",
       "4191  4192          12.41513           2.59134           0.57010   \n",
       "4192  4193          15.18500           3.56750           4.58750   \n",
       "4193  4194           8.31750           5.70250           0.92000   \n",
       "4194  4195          15.30695           2.94180           0.04207   \n",
       "\n",
       "      LC_33_proportion  LC_34_proportion  LC_45_proportion  LC_111_proportion  \\\n",
       "4187               0.0               0.0          22.71250           43.93000   \n",
       "4188               0.0               0.0          29.77000           39.67250   \n",
       "4189               0.0               0.0          35.73000           34.89750   \n",
       "4190               0.0               0.0          27.70186           28.18545   \n",
       "4191               0.0               0.0          33.85074           32.48769   \n",
       "4192               0.0               0.0          34.42250           32.62250   \n",
       "4193               0.0               0.0          37.93500           21.88750   \n",
       "4194               0.0               0.0          25.66183           40.25962   \n",
       "\n",
       "      LC_112_proportion  LC_113_proportion  LU_1_proportion  LU_2_proportion  \\\n",
       "4187           13.52500            3.26000              0.0              0.0   \n",
       "4188           19.48500            1.68500              0.0              0.0   \n",
       "4189           17.15750            0.00000              0.0              0.0   \n",
       "4190           15.94055            3.55812              0.0              0.0   \n",
       "4191           16.51205            1.57295              0.0              0.0   \n",
       "4192            8.70500            0.91000              0.0              0.0   \n",
       "4193           25.23750            0.00000              0.0              0.0   \n",
       "4194           14.54972            1.23802              0.0              0.0   \n",
       "\n",
       "      LU_3_proportion  LU_4_proportion  LU_5_proportion  LU_6_proportion  \\\n",
       "4187              0.0          0.00000        100.00000            0.000   \n",
       "4188              0.0          0.00000         99.82500            0.175   \n",
       "4189              0.0          9.57750         87.96500            2.455   \n",
       "4190              0.0          0.00000         99.47649            0.000   \n",
       "4191              0.0          0.00000        100.00000            0.000   \n",
       "4192              0.0          0.00000         74.82000           25.180   \n",
       "4193              0.0         32.55750         49.76250           17.680   \n",
       "4194              0.0          1.82397         98.17603            0.000   \n",
       "\n",
       "      LU_7_proportion  LU_8_proportion  MR_1_proportion  \n",
       "4187              0.0          0.00000            100.0  \n",
       "4188              0.0          0.00000            100.0  \n",
       "4189              0.0          0.00250            100.0  \n",
       "4190              0.0          0.52351            100.0  \n",
       "4191              0.0          0.00000            100.0  \n",
       "4192              0.0          0.00000            100.0  \n",
       "4193              0.0          0.00000            100.0  \n",
       "4194              0.0          0.00000            100.0  "
      ]
     },
     "execution_count": 118,
     "metadata": {},
     "output_type": "execute_result"
    }
   ],
   "source": [
    "## Display tail of the dataframe\n",
    "df_grid.tail(8)"
   ]
  },
  {
   "cell_type": "markdown",
   "metadata": {
    "collapsed": true
   },
   "source": [
    "# Export layers for archive or visualisation in another GIS"
   ]
  },
  {
   "cell_type": "markdown",
   "metadata": {
    "collapsed": true
   },
   "source": [
    "**Binary layers**"
   ]
  },
  {
   "cell_type": "code",
   "execution_count": null,
   "metadata": {
    "collapsed": true,
    "scrolled": false
   },
   "outputs": [],
   "source": [
    "# Set output folder\n",
    "output_folder = '/media/tais/My_Book_1/MAUPP/Traitement/Population_modelling_dasymetry/Results/Dakar/binary_rasters'\n",
    "gscript.run_command('r.mask', overwrite=True, raster='maskcopy')  # Apply mask\n",
    "# Export all binary raster\n",
    "for binary_raster in TMP_MAPS:\n",
    "    output_file = os.path.join(output_folder,'Dakar_binary_%s.tiff'%binary_raster)\n",
    "    gscript.run_command('g.region', raster=binary_raster)\n",
    "    gscript.run_command('r.out.gdal', overwrite=True, input=binary_raster, output=output_file, format='GTiff', createopt='COMPRESS=DEFLATE')\n",
    "gscript.run_command('r.mask', flags='r')  # Remove mask"
   ]
  },
  {
   "cell_type": "markdown",
   "metadata": {
    "collapsed": true
   },
   "source": [
    "**Create VHR built-up binary (classes 111,112,113)**"
   ]
  },
  {
   "cell_type": "code",
   "execution_count": null,
   "metadata": {
    "collapsed": true,
    "scrolled": false
   },
   "outputs": [],
   "source": [
    "# Set output folder\n",
    "output_folder = '/media/tais/My_Book_1/MAUPP/Traitement/Population_modelling_dasymetry/Results/Dakar/binary_rasters'\n",
    "gscript.run_command('r.mask', overwrite=True, raster='maskcopy')  # Apply mask\n",
    "vhr_builtup = 'VHR_builtup'\n",
    "gscript.use_temp_region()  # Define temp region\n",
    "gscript.run_command('g.region', raster=Land_cover)\n",
    "gscript.run_command('r.mapcalc', \n",
    "                    expression='%s=if(%s==111,111,if(%s==112,112,if(%s==113,113,0)))'%(vhr_builtup,Land_cover,Land_cover,Land_cover),\n",
    "                    overwrite=True, quiet=True) # Mapcalc to create binary raster for the expected class 'cl'\n",
    "# Export raster\n",
    "output_file = os.path.join(output_folder,'Dakar_%s.tiff'%vhr_builtup)\n",
    "gscript.run_command('r.out.gdal', overwrite=True, input=vhr_builtup, output=output_file, format='GTiff', createopt='COMPRESS=DEFLATE')\n",
    "gscript.run_command('r.mask', flags='r')  # Remove mask\n",
    "gscript.del_temp_region() # Remove temp region"
   ]
  },
  {
   "cell_type": "markdown",
   "metadata": {
    "collapsed": true
   },
   "source": [
    "**Clumped Grid**"
   ]
  },
  {
   "cell_type": "code",
   "execution_count": null,
   "metadata": {
    "collapsed": true,
    "scrolled": true
   },
   "outputs": [],
   "source": [
    "# Set output folder\n",
    "output_folder = '/media/tais/My_Book_1/MAUPP/Traitement/Population_modelling_dasymetry/Results/Dakar'\n",
    "# Export clumped grid\n",
    "output_file = os.path.join(output_folder,'Dakar_%s.tiff'%clumped_grid)\n",
    "gscript.run_command('g.region', raster=clumped_grid)\n",
    "gscript.run_command('r.out.gdal', overwrite=True, input=clumped_grid, output=output_file, format='GTiff', createopt='COMPRESS=DEFLATE')"
   ]
  },
  {
   "cell_type": "markdown",
   "metadata": {
    "collapsed": true
   },
   "source": [
    "**Gridded administrative units (level0)**"
   ]
  },
  {
   "cell_type": "code",
   "execution_count": null,
   "metadata": {
    "collapsed": true
   },
   "outputs": [],
   "source": [
    "# Set output folder\n",
    "output_folder = '/media/tais/My_Book_1/MAUPP/Traitement/Population_modelling_dasymetry/Results/Dakar'\n",
    "# Export gridded admin units (level0)\n",
    "output_file = os.path.join(output_folder,'Dakar_%s.shp'%gridded_vector)\n",
    "gscript.run_command('v.out.ogr', overwrite=True, flags='m', type='area', \n",
    "                    input=gridded_vector, output=output_file, format='ESRI_Shapefile')"
   ]
  },
  {
   "cell_type": "markdown",
   "metadata": {},
   "source": [
    "# Compare MR and VHR for dasymetry using percentage of built-up as weight layer"
   ]
  },
  {
   "cell_type": "code",
   "execution_count": null,
   "metadata": {
    "collapsed": true
   },
   "outputs": [],
   "source": []
  },
  {
   "cell_type": "code",
   "execution_count": null,
   "metadata": {
    "collapsed": true
   },
   "outputs": [],
   "source": []
  },
  {
   "cell_type": "code",
   "execution_count": null,
   "metadata": {
    "collapsed": true
   },
   "outputs": [],
   "source": []
  },
  {
   "cell_type": "code",
   "execution_count": null,
   "metadata": {
    "collapsed": true
   },
   "outputs": [],
   "source": []
  },
  {
   "cell_type": "code",
   "execution_count": null,
   "metadata": {
    "collapsed": true
   },
   "outputs": [],
   "source": []
  },
  {
   "cell_type": "code",
   "execution_count": null,
   "metadata": {
    "collapsed": true
   },
   "outputs": [],
   "source": []
  },
  {
   "cell_type": "markdown",
   "metadata": {},
   "source": [
    "# Evaluate the importance of thematic detail in VHR layers"
   ]
  },
  {
   "cell_type": "markdown",
   "metadata": {},
   "source": [
    "## Random Forest for creation of weights"
   ]
  },
  {
   "cell_type": "markdown",
   "metadata": {},
   "source": [
    "### Define parameters"
   ]
  },
  {
   "cell_type": "code",
   "execution_count": 194,
   "metadata": {
    "collapsed": true
   },
   "outputs": [],
   "source": [
    "# Function that update the labels of feature importance plot according to the legend class name provided\n",
    "from legend_csv import labels_from_csv"
   ]
  },
  {
   "cell_type": "code",
   "execution_count": 195,
   "metadata": {
    "collapsed": true
   },
   "outputs": [],
   "source": [
    "# Minimum feature importance for a feature to be kept in the final model\n",
    "min_fimportance = 0.00\n",
    "#min_fimportance = 0.05"
   ]
  },
  {
   "cell_type": "code",
   "execution_count": 196,
   "metadata": {
    "collapsed": true
   },
   "outputs": [],
   "source": [
    "# Parameter for the Grid Search for hyperparameter optimization\n",
    "param_grid = {'oob_score': [True],'bootstrap': [True],\n",
    "              'max_features': ['sqrt',0.05,0.1,0.2,0.3],\n",
    "              'n_estimators': [250, 350, 500, 750]}\n",
    "#try: literal_eval(param_grid)\n",
    "#except: gscript.fatal(_(\"The syntax of the Python dictionary with model parameter is not as expected. Please refer to the manual\"))"
   ]
  },
  {
   "cell_type": "code",
   "execution_count": 197,
   "metadata": {
    "collapsed": true
   },
   "outputs": [],
   "source": [
    "# Kfold parameter\n",
    "kfold = 3\n",
    "# Is kfold valid ?\n",
    "maxfold=int(gscript.parse_command('v.db.univar', flags='g', map=gridded_vector, column='cat')['n'])   ## Corespond to leave-one-out cross-validation\n",
    "if(kfold > maxfold):\n",
    "    gscript.fatal(_(\"<kfold> parameter must be lower than %s (number of administratives area)\"%maxfold))\n",
    "if(kfold < 2):\n",
    "    gscript.fatal(_(\"<kfold> parameter must be higher than 2\"))"
   ]
  },
  {
   "cell_type": "code",
   "execution_count": 198,
   "metadata": {
    "collapsed": true
   },
   "outputs": [],
   "source": [
    "## Define the name of the legend classes for each input raster\n",
    "# For VHR land cover\n",
    "lc_class_name = \"/media/tais/My_Book_1/MAUPP/Traitement/Population_modelling_dasymetry/data/dakar/legend_VHR_landcover.txt\"\n",
    "# For VHR land use\n",
    "lu_class_name = \"/media/tais/My_Book_1/MAUPP/Traitement/Population_modelling_dasymetry/data/dakar/legend_VHR_landuse.txt\"\n",
    "# For MR built-up\n",
    "mr_class_name = \"/media/tais/My_Book_1/MAUPP/Traitement/Population_modelling_dasymetry/data/dakar/legend_MR_builtup.txt\""
   ]
  },
  {
   "cell_type": "markdown",
   "metadata": {},
   "source": [
    "## Test A"
   ]
  },
  {
   "cell_type": "code",
   "execution_count": 199,
   "metadata": {
    "collapsed": true
   },
   "outputs": [],
   "source": [
    "test = 'A'"
   ]
  },
  {
   "cell_type": "code",
   "execution_count": 200,
   "metadata": {
    "collapsed": true
   },
   "outputs": [],
   "source": [
    "# Name of the weighting layer to produce \n",
    "output_weighting_layer = \"Test_%s_weight\"%test\n",
    "# Path to the folder where to save outputs\n",
    "outputfolder = \"/media/tais/My_Book_1/MAUPP/Traitement/Population_modelling_dasymetry/Results/Dakar/Random_Forest/Test_%s\"%test\n",
    "# Name of plot with feature importance (without file extension) \n",
    "plot_name = \"RF_feature_importance\"\n",
    "# Generate paths for output of the test\n",
    "path_plot = os.path.join(outputfolder,plot_name)"
   ]
  },
  {
   "cell_type": "code",
   "execution_count": 201,
   "metadata": {
    "collapsed": true
   },
   "outputs": [],
   "source": [
    "# Define classes of each input layer to be used in the test (lists of values)\n",
    "lc_classes = []  # land cover layer\n",
    "lu_classes = []  # land use layer\n",
    "mr_classes = [1]  # medium resolution built-up layer"
   ]
  },
  {
   "cell_type": "code",
   "execution_count": 231,
   "metadata": {},
   "outputs": [],
   "source": [
    "# Name of layer that will be use to force weights to zero if absence of a built-up class \n",
    "layer_to_mask_weights = mr_builtup\n",
    "# Value of built-up classes in the 'layer_to_mask_weights' layer (list)\n",
    "built_up_pixels = ['1']"
   ]
  },
  {
   "cell_type": "code",
   "execution_count": 232,
   "metadata": {},
   "outputs": [],
   "source": [
    "import rf_model"
   ]
  },
  {
   "cell_type": "code",
   "execution_count": 233,
   "metadata": {},
   "outputs": [
    {
     "data": {
      "text/plain": [
       "<module 'rf_model' from '/media/tais/data/Dropbox/ULB/MAUPP/Traitements/population_modeling/SRC/rf_model.py'>"
      ]
     },
     "execution_count": 233,
     "metadata": {},
     "output_type": "execute_result"
    }
   ],
   "source": [
    "reload(rf_model)"
   ]
  },
  {
   "cell_type": "code",
   "execution_count": 234,
   "metadata": {
    "collapsed": true
   },
   "outputs": [],
   "source": [
    "# Function that train a random forest model on admin units level and predict at grid level\n",
    "from rf_model import RandomForest"
   ]
  },
  {
   "cell_type": "code",
   "execution_count": 235,
   "metadata": {
    "scrolled": true
   },
   "outputs": [
    {
     "name": "stdout",
     "output_type": "stream",
     "text": [
      "Parameter grid for Random Forest tuning :\n",
      "    max_features : sqrt, 0.05, 0.1, 0.2, 0.3\n",
      "    n_estimators : 250, 350, 500, 750\n",
      "    oob_score : True\n",
      "    bootstrap : True\n",
      "\n",
      "Optimized parameters for Random Forest after grid search 3-fold cross-validation tuning :\n",
      "    max_features : 0.3\n",
      "    n_estimators : 350\n",
      "    oob_score : True\n",
      "    bootstrap : True\n",
      "\n",
      "Mean cross-validated score (OOB) and stddev of the best_estimator : -0.246 (+/-0.176)\n",
      "\n",
      "Final Random Forest model run - internal Out-of-bag score (OOB) : -0.071\n"
     ]
    }
   ],
   "source": [
    "# Run the random forest model\n",
    "RandomForest(output_weighting_layer,gridded_vector.split(\"@\")[0],'cat', lc_classes, lu_classes, mr_classes)"
   ]
  },
  {
   "cell_type": "code",
   "execution_count": null,
   "metadata": {
    "collapsed": true
   },
   "outputs": [],
   "source": []
  },
  {
   "cell_type": "markdown",
   "metadata": {},
   "source": [
    "## Test B"
   ]
  },
  {
   "cell_type": "code",
   "execution_count": 191,
   "metadata": {
    "collapsed": true
   },
   "outputs": [],
   "source": [
    "test = 'B'"
   ]
  },
  {
   "cell_type": "code",
   "execution_count": 192,
   "metadata": {
    "collapsed": true
   },
   "outputs": [],
   "source": [
    "# Name of the weighting layer to produce \n",
    "output_weighting_layer = \"Test_%s_weight\"%test\n",
    "# Path to the folder where to save outputs\n",
    "outputfolder = \"/media/tais/My_Book_1/MAUPP/Traitement/Population_modelling_dasymetry/Results/Dakar/Random_Forest/Test_%s\"%test\n",
    "# Name of plot with feature importance (without file extension) \n",
    "plot_name = \"RF_feature_importance\"\n",
    "# Generate paths for output of the test\n",
    "path_plot = os.path.join(outputfolder,plot_name)"
   ]
  },
  {
   "cell_type": "code",
   "execution_count": 193,
   "metadata": {
    "collapsed": true
   },
   "outputs": [],
   "source": [
    "# Define classes of each input layer to be used in the test (lists of values)\n",
    "lc_classes = []  # land cover layer\n",
    "lu_classes = []  # land use layer\n",
    "mr_classes = []  # medium resolution built-up layer"
   ]
  },
  {
   "cell_type": "code",
   "execution_count": 182,
   "metadata": {
    "collapsed": true
   },
   "outputs": [],
   "source": [
    "# Name of layer that will be use to force weights to zero if absence of a built-up class \n",
    "layer_to_mask_weights = Land_cover\n",
    "# Value of built-up classes in the 'layer_to_mask_weights' layer (list)\n",
    "built_up_pixels = ['111','112','113']"
   ]
  },
  {
   "cell_type": "code",
   "execution_count": null,
   "metadata": {
    "collapsed": true
   },
   "outputs": [],
   "source": []
  },
  {
   "cell_type": "code",
   "execution_count": null,
   "metadata": {
    "collapsed": true
   },
   "outputs": [],
   "source": []
  },
  {
   "cell_type": "code",
   "execution_count": null,
   "metadata": {
    "collapsed": true
   },
   "outputs": [],
   "source": []
  },
  {
   "cell_type": "code",
   "execution_count": 182,
   "metadata": {
    "collapsed": true
   },
   "outputs": [],
   "source": [
    "# Name of layer that will be use to force weights to zero if absence of a built-up class \n",
    "layer_to_mask_weights = Land_cover\n",
    "# Value of built-up classes in the 'layer_to_mask_weights' layer (list)\n",
    "built_up = ['111','112','113']"
   ]
  },
  {
   "cell_type": "code",
   "execution_count": null,
   "metadata": {
    "collapsed": true
   },
   "outputs": [],
   "source": []
  },
  {
   "cell_type": "code",
   "execution_count": null,
   "metadata": {
    "collapsed": true
   },
   "outputs": [],
   "source": []
  },
  {
   "cell_type": "code",
   "execution_count": null,
   "metadata": {
    "collapsed": true
   },
   "outputs": [],
   "source": []
  },
  {
   "cell_type": "code",
   "execution_count": null,
   "metadata": {
    "collapsed": true
   },
   "outputs": [],
   "source": []
  },
  {
   "cell_type": "code",
   "execution_count": null,
   "metadata": {
    "collapsed": true
   },
   "outputs": [],
   "source": []
  },
  {
   "cell_type": "code",
   "execution_count": null,
   "metadata": {
    "collapsed": true
   },
   "outputs": [],
   "source": []
  },
  {
   "cell_type": "code",
   "execution_count": null,
   "metadata": {
    "collapsed": true
   },
   "outputs": [],
   "source": []
  },
  {
   "cell_type": "markdown",
   "metadata": {},
   "source": [
    "# Reallocate the population count using weighting layer"
   ]
  },
  {
   "cell_type": "code",
   "execution_count": null,
   "metadata": {
    "collapsed": true
   },
   "outputs": [],
   "source": []
  },
  {
   "cell_type": "code",
   "execution_count": null,
   "metadata": {
    "collapsed": true
   },
   "outputs": [],
   "source": []
  },
  {
   "cell_type": "code",
   "execution_count": null,
   "metadata": {
    "collapsed": true
   },
   "outputs": [],
   "source": []
  },
  {
   "cell_type": "code",
   "execution_count": null,
   "metadata": {
    "collapsed": true
   },
   "outputs": [],
   "source": []
  },
  {
   "cell_type": "code",
   "execution_count": null,
   "metadata": {
    "collapsed": true
   },
   "outputs": [],
   "source": []
  },
  {
   "cell_type": "markdown",
   "metadata": {},
   "source": [
    "# Validation"
   ]
  },
  {
   "cell_type": "code",
   "execution_count": null,
   "metadata": {
    "collapsed": true
   },
   "outputs": [],
   "source": []
  },
  {
   "cell_type": "code",
   "execution_count": null,
   "metadata": {
    "collapsed": true
   },
   "outputs": [],
   "source": []
  },
  {
   "cell_type": "code",
   "execution_count": null,
   "metadata": {
    "collapsed": true
   },
   "outputs": [],
   "source": []
  },
  {
   "cell_type": "code",
   "execution_count": null,
   "metadata": {
    "collapsed": true
   },
   "outputs": [],
   "source": [
    "tests = [\"Test_1\",\"Test_2\",\"Test_3\",\"Test_4\"]"
   ]
  },
  {
   "cell_type": "code",
   "execution_count": null,
   "metadata": {
    "collapsed": true
   },
   "outputs": [],
   "source": [
    "\n",
    "for test in tests:\n",
    "    "
   ]
  },
  {
   "cell_type": "code",
   "execution_count": null,
   "metadata": {
    "collapsed": true
   },
   "outputs": [],
   "source": []
  },
  {
   "cell_type": "code",
   "execution_count": null,
   "metadata": {
    "collapsed": true
   },
   "outputs": [],
   "source": []
  },
  {
   "cell_type": "code",
   "execution_count": 85,
   "metadata": {},
   "outputs": [],
   "source": [
    "for raster_layer in TMP_MAPS:\n",
    "    gscript.run_command('g.remove', flags='f', type='raster', name=raster_layer)"
   ]
  },
  {
   "cell_type": "code",
   "execution_count": null,
   "metadata": {
    "collapsed": true
   },
   "outputs": [],
   "source": []
  }
 ],
 "metadata": {
  "anaconda-cloud": {},
  "kernelspec": {
   "display_name": "Python 2",
   "language": "python",
   "name": "python2"
  },
  "language_info": {
   "codemirror_mode": {
    "name": "ipython",
    "version": 2
   },
   "file_extension": ".py",
   "mimetype": "text/x-python",
   "name": "python",
   "nbconvert_exporter": "python",
   "pygments_lexer": "ipython2",
   "version": "2.7.12"
  }
 },
 "nbformat": 4,
 "nbformat_minor": 1
}
