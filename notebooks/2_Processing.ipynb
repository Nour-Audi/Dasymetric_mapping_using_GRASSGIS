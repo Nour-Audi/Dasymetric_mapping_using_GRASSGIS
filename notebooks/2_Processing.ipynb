{
 "cells": [
  {
   "cell_type": "code",
   "execution_count": null,
   "metadata": {
    "collapsed": true,
    "scrolled": true
   },
   "outputs": [],
   "source": [
    "%load_ext autoreload\n",
    "%autoreload 2   # Change to %autoreload when development phase is over"
   ]
  },
  {
   "cell_type": "markdown",
   "metadata": {},
   "source": [
    "# Table of Contents"
   ]
  },
  {
   "cell_type": "markdown",
   "metadata": {},
   "source": [
    "<div id=\"toc\"></div>"
   ]
  },
  {
   "cell_type": "markdown",
   "metadata": {},
   "source": [
    "The following cell is a Javascript section of code for building the Jupyter notebook's table of content."
   ]
  },
  {
   "cell_type": "code",
   "execution_count": null,
   "metadata": {
    "scrolled": false
   },
   "outputs": [],
   "source": [
    "%%javascript\n",
    "$.getScript('https://kmahelona.github.io/ipython_notebook_goodies/ipython_notebook_toc.js')"
   ]
  },
  {
   "cell_type": "markdown",
   "metadata": {},
   "source": [
    "**-_-_-_-_-_-_-_-_-_-_-_-_-_-_-_-_-_-_-_-_-_-_-_-_-_-_-_-_-_-_-_-_-_-_-_-_-_-_-_-_-_-_-_-_-_-_-_-_-_-_-_-_-_-_-_-_-_-_-_-_-**"
   ]
  },
  {
   "cell_type": "markdown",
   "metadata": {},
   "source": [
    "# Define working environment"
   ]
  },
  {
   "cell_type": "markdown",
   "metadata": {},
   "source": [
    "**Import libraries**"
   ]
  },
  {
   "cell_type": "code",
   "execution_count": null,
   "metadata": {
    "collapsed": true
   },
   "outputs": [],
   "source": [
    "## Import libraries needed for setting parameters of operating system \n",
    "import os\n",
    "import sys\n",
    "## Import library for temporary files creation \n",
    "import tempfile \n",
    "## Import library for time management \n",
    "import time\n",
    "## Import multiprocessing and functools libraries\n",
    "import multiprocessing\n",
    "from multiprocessing import Pool\n",
    "from functools import partial\n",
    "## Import pickle for transfert variable between notebooks\n",
    "import pickle"
   ]
  },
  {
   "cell_type": "code",
   "execution_count": null,
   "metadata": {
    "collapsed": true
   },
   "outputs": [],
   "source": [
    "## Import Pandas library\n",
    "import pandas as pd\n",
    "## Import Numpy library\n",
    "import numpy as np"
   ]
  },
  {
   "cell_type": "code",
   "execution_count": null,
   "metadata": {
    "collapsed": true,
    "scrolled": true
   },
   "outputs": [],
   "source": [
    "## Import Matplotlib \n",
    "import matplotlib as mpl \n",
    "## agg backend is used to create plot as a .png file\n",
    "mpl.use('agg')\n",
    "## Import Matplotlib.pyplot for creating graphs\n",
    "import matplotlib.pyplot as plt "
   ]
  },
  {
   "cell_type": "code",
   "execution_count": null,
   "metadata": {
    "collapsed": true
   },
   "outputs": [],
   "source": [
    "%matplotlib inline"
   ]
  },
  {
   "cell_type": "markdown",
   "metadata": {},
   "source": [
    "** Add folder with SCR provided belong to this notebook**"
   ]
  },
  {
   "cell_type": "code",
   "execution_count": null,
   "metadata": {
    "collapsed": true,
    "scrolled": false
   },
   "outputs": [],
   "source": [
    "# Add local module to the path\n",
    "src = os.path.abspath('../SRC')\n",
    "if src not in sys.path:\n",
    "    sys.path.append(src)"
   ]
  },
  {
   "cell_type": "markdown",
   "metadata": {},
   "source": [
    "** Environment variables when working on Linux Mint **"
   ]
  },
  {
   "cell_type": "code",
   "execution_count": null,
   "metadata": {
    "collapsed": true
   },
   "outputs": [],
   "source": [
    "import environ_variables as envi"
   ]
  },
  {
   "cell_type": "code",
   "execution_count": null,
   "metadata": {
    "scrolled": true
   },
   "outputs": [],
   "source": [
    "# Set environmental variables\n",
    "envi.setup_environmental_variables() \n",
    "# Display current environment variables of your computer\n",
    "envi.print_environmental_variables()"
   ]
  },
  {
   "cell_type": "markdown",
   "metadata": {},
   "source": [
    "** GRASS GIS Python libraries **"
   ]
  },
  {
   "cell_type": "code",
   "execution_count": null,
   "metadata": {
    "collapsed": true
   },
   "outputs": [],
   "source": [
    "## Import libraries needed to launch GRASS GIS in the jupyter notebook\n",
    "import grass.script.setup as gsetup\n",
    "## Import libraries needed to call GRASS using Python\n",
    "import grass.script as gscript"
   ]
  },
  {
   "cell_type": "markdown",
   "metadata": {},
   "source": [
    "**-_-_-_-_-_-_-_-_-_-_-_-_-_-_-_-_-_-_-_-_-_-_-_-_-_-_-_-_-_-_-_-_-_-_-_-_-_-_-_-_-_-_-_-_-_-_-_-_-_-_-_-_-_-_-_-_-_-_-_-_-**"
   ]
  },
  {
   "cell_type": "markdown",
   "metadata": {},
   "source": [
    "# User inputs"
   ]
  },
  {
   "cell_type": "markdown",
   "metadata": {},
   "source": [
    "Here after:\n",
    "- Enter the path to the directory you want to use as \"[GRASSDATA](https://grass.osgeo.org/programming7/loc_struct.png)\". \n",
    "- Enter the name of the location in which you want to work and its projection information in [EPSG code](http://spatialreference.org/ref/epsg/) format. Please note that the GRASSDATA folder and locations will be automatically created if not existing yet. If the location name already exists, the projection information will not be used.  \n",
    "- Enter the name you want for the mapsets which will be used later for Unsupervised Segmentation Parameter Optimization (USPO), Segmentation and Classification steps."
   ]
  },
  {
   "cell_type": "code",
   "execution_count": null,
   "metadata": {
    "collapsed": true
   },
   "outputs": [],
   "source": [
    "## Define a empty dictionnary for saving user inputs\n",
    "user={}"
   ]
  },
  {
   "cell_type": "code",
   "execution_count": null,
   "metadata": {
    "collapsed": true
   },
   "outputs": [],
   "source": [
    "## Enter the path to GRASSDATA folder\n",
    "user[\"gisdb\"] = \"/media/tais/My_Book_1/MAUPP/Traitement/Population_modelling_dasymetry/GRASSDATA\"\n",
    "## Enter the name of the location (existing or for a new one)\n",
    "user[\"location\"] = \"Dakar_32628\"\n",
    "## Enter the EPSG code for this location \n",
    "user[\"locationepsg\"] = \"32628\"\n",
    "## Enter the name of the permanent mapset\n",
    "user[\"permanent_mapset\"] = \"PERMANENT\"\n",
    "## Enter the name of a working mapset\n",
    "user[\"dasym_mapset\"] = \"DASYMETRY\""
   ]
  },
  {
   "cell_type": "code",
   "execution_count": null,
   "metadata": {
    "collapsed": true
   },
   "outputs": [],
   "source": [
    "# Set the name of the layers\n",
    "Land_cover = 'landcover'  # VHR Land cover map\n",
    "Land_use = 'landuse' # VHR Land use map\n",
    "mr_builtup = 'MR_builtup' # MR built-up map\n",
    "mr_built_pixelvalue = '1' # The value of built pixels in the MR built-up map\n",
    "## Name of the column containing the population count\n",
    "population_column = \"POPULATION\"\n",
    "## Name of the column containing the density (response variable)\n",
    "response_column = \"popdens\"\n",
    "# Define the list of columns to keep during 'rasterisation' of the vector \n",
    "list_of_columns = [population_column, response_column]\n",
    "# Set a name for the empty grid layer\n",
    "clumped_grid = 'clumped_grid'\n",
    "# Set the resolution of the grid\n",
    "tile_size = 100"
   ]
  },
  {
   "cell_type": "code",
   "execution_count": 462,
   "metadata": {
    "scrolled": true
   },
   "outputs": [],
   "source": [
    "# Name of the folder where to save all the different tests results\n",
    "outputdirectory_results = \"/media/tais/My_Book_1/MAUPP/Traitement/Population_modelling_dasymetry/Results/Dakar/Random_Forest\""
   ]
  },
  {
   "cell_type": "markdown",
   "metadata": {},
   "source": [
    "** Functions defined by the user **"
   ]
  },
  {
   "cell_type": "code",
   "execution_count": null,
   "metadata": {
    "collapsed": true
   },
   "outputs": [],
   "source": [
    "# Import function that check existance and create GRASS GIS database folder if needed\n",
    "from grass_database import check_gisdb, check_location, check_mapset, working_mapset"
   ]
  },
  {
   "cell_type": "code",
   "execution_count": null,
   "metadata": {
    "collapsed": true
   },
   "outputs": [],
   "source": [
    "## Import functions for processing time information\n",
    "from processing_time import start_processing, print_processing_time"
   ]
  },
  {
   "cell_type": "code",
   "execution_count": null,
   "metadata": {
    "collapsed": true
   },
   "outputs": [],
   "source": [
    "# Import function that generate a random name in the GRASS GIS environement\n",
    "from random_layer_name import random_layer_name"
   ]
  },
  {
   "cell_type": "code",
   "execution_count": null,
   "metadata": {
    "collapsed": true
   },
   "outputs": [],
   "source": [
    "# Import function that create color file for raster\n",
    "from colorise_raster import create_color_rule"
   ]
  },
  {
   "cell_type": "code",
   "execution_count": null,
   "metadata": {
    "collapsed": true
   },
   "outputs": [],
   "source": [
    "# Import function that clip multiple raster according to extention of a vector layer\n",
    "from create_clumped_grid import create_clumped_grid"
   ]
  },
  {
   "cell_type": "code",
   "execution_count": null,
   "metadata": {
    "collapsed": true
   },
   "outputs": [],
   "source": [
    "# Import function that create temp directories\n",
    "from create_tempdirs import create_tempdirs"
   ]
  },
  {
   "cell_type": "code",
   "execution_count": null,
   "metadata": {
    "collapsed": true
   },
   "outputs": [],
   "source": [
    "# Import function that rasterise a polygon layer and save the 'gridded' version as vector\n",
    "from gridded_bound import gridded_admin_boundaries"
   ]
  },
  {
   "cell_type": "code",
   "execution_count": null,
   "metadata": {
    "collapsed": true
   },
   "outputs": [],
   "source": [
    "# Import function that get list of class of categorical raster\n",
    "from data_prep import data_prep"
   ]
  },
  {
   "cell_type": "code",
   "execution_count": null,
   "metadata": {
    "collapsed": true
   },
   "outputs": [],
   "source": [
    "# Import csv functions (joint etc)\n",
    "import csv_func\n",
    "from csv_func import ordered_list_of_path, join_2csv, join_multiplecsv"
   ]
  },
  {
   "cell_type": "markdown",
   "metadata": {
    "collapsed": true
   },
   "source": [
    "**Check for existance of GRASSDATA folder, location and mapsets**"
   ]
  },
  {
   "cell_type": "markdown",
   "metadata": {},
   "source": [
    "Here after, the python script will check if GRASSDATA folder, locations and mapsets already exist. If not, they will be automatically created."
   ]
  },
  {
   "cell_type": "code",
   "execution_count": null,
   "metadata": {
    "scrolled": true
   },
   "outputs": [],
   "source": [
    "# Check if the GRASS GIS database exists and create it if not\n",
    "check_gisdb(user[\"gisdb\"])"
   ]
  },
  {
   "cell_type": "code",
   "execution_count": null,
   "metadata": {},
   "outputs": [],
   "source": [
    "# Check if the location exists and create it if not, with the CRS defined by the epsg code \n",
    "check_location(user[\"gisdb\"],user[\"location\"],user[\"locationepsg\"])"
   ]
  },
  {
   "cell_type": "code",
   "execution_count": null,
   "metadata": {},
   "outputs": [],
   "source": [
    "# Check if the mapset exists and create it if not\n",
    "check_mapset(user[\"gisdb\"],user[\"location\"],user[\"permanent_mapset\"])"
   ]
  },
  {
   "cell_type": "code",
   "execution_count": null,
   "metadata": {},
   "outputs": [],
   "source": [
    "# Check if the mapset exists and create it if not\n",
    "check_mapset(user[\"gisdb\"],user[\"location\"],user[\"dasym_mapset\"])"
   ]
  },
  {
   "cell_type": "markdown",
   "metadata": {},
   "source": [
    "**-_-_-_-_-_-_-_-_-_-_-_-_-_-_-_-_-_-_-_-_-_-_-_-_-_-_-_-_-_-_-_-_-_-_-_-_-_-_-_-_-_-_-_-_-_-_-_-_-_-_-_-_-_-_-_-_-_-_-_-_-**"
   ]
  },
  {
   "cell_type": "markdown",
   "metadata": {},
   "source": [
    "# Launch GRASS GIS working session on DASY_COVAR mapset"
   ]
  },
  {
   "cell_type": "code",
   "execution_count": null,
   "metadata": {},
   "outputs": [],
   "source": [
    "# Change the current working GRASS GIS session mapset\n",
    "working_mapset(user[\"gisdb\"],user[\"location\"],user[\"dasym_mapset\"])"
   ]
  },
  {
   "cell_type": "markdown",
   "metadata": {},
   "source": [
    "### Set several variables and parameter"
   ]
  },
  {
   "cell_type": "code",
   "execution_count": null,
   "metadata": {
    "collapsed": true
   },
   "outputs": [],
   "source": [
    "# Declare list that will contain the name/paths of temporary layers/files\n",
    "TMP_BINARIES = []\n",
    "TMP_MAPS = []\n",
    "TMP_CSV = []\n",
    "\n",
    "# Declare strings that will contain the log of the processing\n",
    "log_text = \"\"\n",
    "log_text_extend = \"\""
   ]
  },
  {
   "cell_type": "code",
   "execution_count": null,
   "metadata": {
    "collapsed": true
   },
   "outputs": [],
   "source": [
    "# Set the number of job that could be runned in parallel\n",
    "n_jobs = 15\n",
    "# Check if the computer has enough cores\n",
    "if(n_jobs >= multiprocessing.cpu_count()):\n",
    "    gscript.fatal(_(\"Requested number of jobs is > or = to available ressources. \\\n",
    "                    Try to reduce to at maximum <%s> jobs\")%(int(multiprocessing.cpu_count())-1))"
   ]
  },
  {
   "cell_type": "markdown",
   "metadata": {},
   "source": [
    "### Create temporary directories for output"
   ]
  },
  {
   "cell_type": "raw",
   "metadata": {},
   "source": [
    "outputdirectory_admin = \"/media/tais/My_Book_1/MAUPP/Traitement/Population_modelling_dasymetry/GRASSDATA/\\\n",
    "Dakar_32628/DASYMETRY/.tmp/tais-HP-Z620-Workstation/19203.0/admin_level\""
   ]
  },
  {
   "cell_type": "raw",
   "metadata": {
    "collapsed": true
   },
   "source": [
    "outputdirectory_grid = \"/media/tais/My_Book_1/MAUPP/Traitement/Population_modelling_dasymetry/GRASSDATA/\\\n",
    "Dakar_32628/DASYMETRY/.tmp/tais-HP-Z620-Workstation/19203.0/grid_level\""
   ]
  },
  {
   "cell_type": "code",
   "execution_count": null,
   "metadata": {
    "collapsed": true
   },
   "outputs": [],
   "source": [
    "# Create temporary folder and get their paths\n",
    "outputdirectory_admin, outputdirectory_grid = create_tempdirs([\"admin_level\", \"grid_level\"])"
   ]
  },
  {
   "cell_type": "markdown",
   "metadata": {
    "collapsed": true
   },
   "source": [
    "# Data preparation"
   ]
  },
  {
   "cell_type": "markdown",
   "metadata": {
    "collapsed": true
   },
   "source": [
    "## Create a clumped grid for dasymetry"
   ]
  },
  {
   "cell_type": "markdown",
   "metadata": {
    "collapsed": true
   },
   "source": [
    "This grid will be the reference grid for re-allocation of population count."
   ]
  },
  {
   "cell_type": "code",
   "execution_count": null,
   "metadata": {
    "collapsed": true
   },
   "outputs": [],
   "source": [
    "# Create clumped grid\n",
    "create_clumped_grid(tile_size=tile_size, mask_raster=Land_cover, output=clumped_grid)"
   ]
  },
  {
   "cell_type": "markdown",
   "metadata": {},
   "source": [
    "## Create layers with grid boundary for both levels"
   ]
  },
  {
   "cell_type": "code",
   "execution_count": null,
   "metadata": {
    "collapsed": true
   },
   "outputs": [],
   "source": [
    "# Create layer with boundaries corresponding to the grid \n",
    "gridded_admin_units, gridded_vector = gridded_admin_boundaries(\"admin_level0\", 'cluster', \n",
    "                                                               list_of_columns, clumped_grid)"
   ]
  },
  {
   "cell_type": "markdown",
   "metadata": {},
   "source": [
    "## Create additional VHR built-up mask"
   ]
  },
  {
   "cell_type": "markdown",
   "metadata": {},
   "source": [
    "- Mask of VHR built-up classe (not matter the built class)\n",
    "- Mask with only VHR built-up classe (including the distinction between classes) "
   ]
  },
  {
   "cell_type": "code",
   "execution_count": null,
   "metadata": {
    "collapsed": true,
    "scrolled": false
   },
   "outputs": [],
   "source": [
    "gscript.run_command('r.mask', overwrite=True, raster='maskcopy')  # Apply mask\n",
    "gscript.use_temp_region()  # Define temp region\n",
    "gscript.run_command('g.region', raster=Land_cover)\n",
    "## Mask with all built pixels equal to 1\n",
    "VHR_builtup_classes = 'VHR_builtup_classes'\n",
    "formula = '%s=if(%s==111,111,if(%s==112,112,if(%s==113,113,0)))'%(VHR_builtup_classes,Land_cover,Land_cover,Land_cover)\n",
    "gscript.run_command('r.mapcalc', expression=formula, overwrite=True, quiet=True) # Mapcalc to create binary raster for the expected class 'cl'\n",
    "## Mask with all built pixels equal with conservation of the class distinction\n",
    "VHR_builtup_mask = 'VHR_builtup_mask'\n",
    "formula = '%s=if(%s==111 || %s==112 || %s==113,1,0)'%(VHR_builtup_mask,Land_cover,Land_cover,Land_cover)\n",
    "gscript.run_command('r.mapcalc', expression=formula, overwrite=True, quiet=True) # Mapcalc to create binary raster for the expected class 'cl'\n",
    "gscript.run_command('g.copy', overwrite=True, quiet=True, raster='%s,LC_999'%VHR_builtup_mask)\n",
    "gscript.run_command('r.mask', flags='r')  # Remove mask\n",
    "gscript.del_temp_region() # Remove temp region"
   ]
  },
  {
   "cell_type": "markdown",
   "metadata": {},
   "source": [
    "## Get list of values from categorical raster (land cover and land use)"
   ]
  },
  {
   "cell_type": "code",
   "execution_count": null,
   "metadata": {},
   "outputs": [],
   "source": [
    "# Data preparation : extract list of classes from the Land Cover\n",
    "lc_classes_list = data_prep(Land_cover)[2]\n",
    "message=\"Classes of raster '\"+str(Land_cover)+\"': \"+\",\".join(lc_classes_list)\n",
    "log_text+=message+'\\n'"
   ]
  },
  {
   "cell_type": "code",
   "execution_count": null,
   "metadata": {},
   "outputs": [],
   "source": [
    "# Data preparation : extract list of classes from the land use\n",
    "lu_classes_list = data_prep(Land_use)[2]\n",
    "message=\"Classes of raster '\"+str(Land_use)+\"': \"+\",\".join(lu_classes_list)\n",
    "log_text+=message+'\\n\\n'"
   ]
  },
  {
   "cell_type": "code",
   "execution_count": null,
   "metadata": {},
   "outputs": [],
   "source": [
    "print log_text"
   ]
  },
  {
   "cell_type": "markdown",
   "metadata": {},
   "source": [
    "## Compute proportion of each land cover and land use class"
   ]
  },
  {
   "cell_type": "code",
   "execution_count": null,
   "metadata": {},
   "outputs": [],
   "source": [
    "import categorical_prop\n",
    "reload(categorical_prop)"
   ]
  },
  {
   "cell_type": "code",
   "execution_count": null,
   "metadata": {
    "collapsed": true
   },
   "outputs": [],
   "source": [
    "# Import function that compute proportion of each class of categorical raster in admin units (or raster segments)\n",
    "from categorical_prop import proportion_class"
   ]
  },
  {
   "cell_type": "markdown",
   "metadata": {},
   "source": [
    "### VHR Land cover proportions"
   ]
  },
  {
   "cell_type": "code",
   "execution_count": null,
   "metadata": {
    "scrolled": false
   },
   "outputs": [],
   "source": [
    "# Save time at starting\n",
    "start = start_processing() \n",
    "## Compute proportion of each class of categorical raster (parallel processing).\n",
    "gscript.run_command('g.region', raster=Land_cover.split(\"@\")[0])  #Set the region to match the extend of the raster\n",
    "p=Pool(n_jobs) #Create a 'pool' of processes and launch them using 'map' function\n",
    "func=partial(proportion_class,Land_cover.split(\"@\")[0]) # Set fixed argument of the function\n",
    "output=p.map(func,lc_classes_list) # Launch the processes for as many items in the list (if function with a return, the returned results are ordered thanks to 'map' function)\n",
    "p.close()\n",
    "p.join()\n",
    "temp_rasterlist,temp_csvlist_1,temp_csvlist_2=zip(*output)\n",
    "[TMP_BINARIES.append(x) for x in temp_rasterlist]  # Append the name of binary rasters to the list of temporary maps\n",
    "[TMP_CSV.append(x) for x in temp_csvlist_1]  # Append the paths to .csv files to the list of temporary .csv\n",
    "[TMP_CSV.append(x) for x in temp_csvlist_2]  # Append the paths to .csv files to the list of temporary .csv\n",
    "# Print processing time\n",
    "print_processing_time(begintime=start, printmessage=\"Proportion of each class of categorical raster computed in: \")  "
   ]
  },
  {
   "cell_type": "markdown",
   "metadata": {},
   "source": [
    "### VHR Land use proportions"
   ]
  },
  {
   "cell_type": "code",
   "execution_count": null,
   "metadata": {
    "scrolled": true
   },
   "outputs": [],
   "source": [
    "# Save time at starting\n",
    "start = start_processing() \n",
    "## Compute proportion of each class of categorical raster (parallel processing).\n",
    "gscript.run_command('g.region', raster=Land_use.split(\"@\")[0])  #Set the region to match the extend of the raster\n",
    "p=Pool(n_jobs) #Create a 'pool' of processes and launch them using 'map' function\n",
    "func=partial(proportion_class,Land_use.split(\"@\")[0]) # Set fixed argument of the function\n",
    "output=p.map(func,lu_classes_list) # Launch the processes for as many items in the list (if function with a return, the returned results are ordered thanks to 'map' function)\n",
    "p.close()\n",
    "p.join()\n",
    "temp_rasterlist,temp_csvlist_1,temp_csvlist_2=zip(*output)\n",
    "[TMP_BINARIES.append(x) for x in temp_rasterlist]  # Append the name of binary rasters to the list of temporary maps\n",
    "[TMP_CSV.append(x) for x in temp_csvlist_1]  # Append the paths to .csv files to the list of temporary .csv\n",
    "[TMP_CSV.append(x) for x in temp_csvlist_2]  # Append the paths to .csv files to the list of temporary .csv\n",
    "# Print processing time\n",
    "print_processing_time(begintime=start, printmessage=\"Proportion of each class of categorical raster computed in: \")  "
   ]
  },
  {
   "cell_type": "markdown",
   "metadata": {},
   "source": [
    "### MR Built-up proportion"
   ]
  },
  {
   "cell_type": "code",
   "execution_count": null,
   "metadata": {
    "scrolled": true
   },
   "outputs": [],
   "source": [
    "# Save time at starting\n",
    "start = start_processing() \n",
    "## Compute proportion of each class of categorical raster (parallel processing).\n",
    "gscript.run_command('g.region', raster=mr_builtup.split(\"@\")[0])  #Set the region to match the extend of the raster\n",
    "temp_rasterlist,temp_csvlist_1,temp_csvlist_2 = proportion_class(mr_builtup.split(\"@\")[0], mr_built_pixelvalue)\n",
    "TMP_BINARIES.append(temp_rasterlist)  # Append the name of binary rasters to the list of temporary maps\n",
    "TMP_CSV.append(temp_csvlist_1)  # Append the paths to .csv files to the list of temporary .csv\n",
    "TMP_CSV.append(temp_csvlist_2)  # Append the paths to .csv files to the list of temporary .csv\n",
    "# Print processing time\n",
    "print_processing_time(begintime=start, printmessage=\"Proportion of MR Built-up raster computed in: \")  "
   ]
  },
  {
   "cell_type": "markdown",
   "metadata": {},
   "source": [
    "### Join all .csv files with statistics"
   ]
  },
  {
   "cell_type": "code",
   "execution_count": null,
   "metadata": {
    "collapsed": true
   },
   "outputs": [],
   "source": [
    "## Join .csv files of statistics\n",
    "for directory in [outputdirectory_grid, outputdirectory_admin]:\n",
    "    allstatfile=os.path.join(directory,\"all_stats.csv\")\n",
    "    pattern_A=\"LC_*_prop.csv\"   #Add all csv with proportions of Land cover classes\n",
    "    pattern_B=\"LU_*_prop.csv\"  #Add all csv with proportions of Land use classes\n",
    "    pattern_C=\"MR_*_prop.csv\" \n",
    "    list_paths = ordered_list_of_path(directory,pattern_A,pattern_B,pattern_C)\n",
    "    join_multiplecsv(list_paths,allstatfile,separator=\",\",join='inner', fillempty='NULL', overwrite=True)"
   ]
  },
  {
   "cell_type": "markdown",
   "metadata": {},
   "source": [
    "### Add a new column containing the proportion of VHR built pixels (all VHR building class summed)"
   ]
  },
  {
   "cell_type": "code",
   "execution_count": null,
   "metadata": {
    "collapsed": true
   },
   "outputs": [],
   "source": [
    "## Add new columns in .csv file\n",
    "for directory in [outputdirectory_grid, outputdirectory_admin]:\n",
    "    ## Get the .csv in a dataframe\n",
    "    all_stats_csv=os.path.join(directory,\"all_stats.csv\") \n",
    "    df = pd.read_csv(all_stats_csv)\n",
    "    ## Compute sum of VHR built-up proportion (3 classes of built-up)\n",
    "    df['LC_999_proportion'] = df[\"LC_111_proportion\"]+df[\"LC_112_proportion\"]+df[\"LC_113_proportion\"]\n",
    "    df.to_csv(all_stats_csv, index=False)"
   ]
  },
  {
   "cell_type": "markdown",
   "metadata": {},
   "source": [
    "### Visualisation of .csv files with statistics to be used"
   ]
  },
  {
   "cell_type": "markdown",
   "metadata": {},
   "source": [
    "**Admin level**"
   ]
  },
  {
   "cell_type": "code",
   "execution_count": null,
   "metadata": {},
   "outputs": [],
   "source": [
    "## Use pandas for preview of .csv content\n",
    "df_level0 = pd.read_csv(os.path.join(outputdirectory_admin,\"all_stats.csv\"))\n",
    "print \"There are %s rows in the dataframe\"%len(df_level0)"
   ]
  },
  {
   "cell_type": "code",
   "execution_count": null,
   "metadata": {
    "scrolled": true
   },
   "outputs": [],
   "source": [
    "## Display tail of the dataframe\n",
    "df_level0.tail(8)"
   ]
  },
  {
   "cell_type": "markdown",
   "metadata": {},
   "source": [
    "**Grid level**"
   ]
  },
  {
   "cell_type": "code",
   "execution_count": null,
   "metadata": {},
   "outputs": [],
   "source": [
    "## Use pandas for preview of .csv content\n",
    "df_grid = pd.read_csv(os.path.join(outputdirectory_grid,\"all_stats.csv\"))\n",
    "print \"There are %s rows in the dataframe\"%len(df_grid)"
   ]
  },
  {
   "cell_type": "code",
   "execution_count": null,
   "metadata": {
    "scrolled": true
   },
   "outputs": [],
   "source": [
    "## Display tail of the dataframe\n",
    "df_grid.tail()"
   ]
  },
  {
   "cell_type": "markdown",
   "metadata": {},
   "source": [
    "# Create weighting layer"
   ]
  },
  {
   "cell_type": "markdown",
   "metadata": {},
   "source": [
    "## Random Forest for creation of weights"
   ]
  },
  {
   "cell_type": "markdown",
   "metadata": {},
   "source": [
    "### Define parameters"
   ]
  },
  {
   "cell_type": "code",
   "execution_count": null,
   "metadata": {
    "collapsed": true
   },
   "outputs": [],
   "source": [
    "# Minimum feature importance for a feature to be kept in the final model\n",
    "min_fimportance = 0.00\n",
    "#min_fimportance = 0.05"
   ]
  },
  {
   "cell_type": "code",
   "execution_count": null,
   "metadata": {
    "collapsed": true
   },
   "outputs": [],
   "source": [
    "# Parameter for the Grid Search for hyperparameter optimization\n",
    "param_grid = {'oob_score': [True],'bootstrap': [True],\n",
    "              'max_features': ['sqrt',0.05,0.1,0.2,0.3],\n",
    "              'n_estimators': [250, 350, 500, 750]}\n",
    "#try: literal_eval(param_grid)\n",
    "#except: gscript.fatal(_(\"The syntax of the Python dictionary with model parameter is not as expected. Please refer to the manual\"))"
   ]
  },
  {
   "cell_type": "code",
   "execution_count": null,
   "metadata": {},
   "outputs": [],
   "source": [
    "# Kfold parameter\n",
    "kfold = 3\n",
    "# Is kfold valid ?\n",
    "maxfold=int(gscript.parse_command('v.db.univar', flags='g', map=gridded_vector, column='cat')['n'])   ## Corespond to leave-one-out cross-validation\n",
    "if(kfold > maxfold):\n",
    "    gscript.fatal(_(\"<kfold> parameter must be lower than %s (number of administratives area)\"%maxfold))\n",
    "if(kfold < 2):\n",
    "    gscript.fatal(_(\"<kfold> parameter must be higher than 2\"))"
   ]
  },
  {
   "cell_type": "code",
   "execution_count": null,
   "metadata": {
    "collapsed": true
   },
   "outputs": [],
   "source": [
    "## Define the name of the legend classes for each input raster\n",
    "# For VHR land cover\n",
    "lc_class_name = \"/media/tais/My_Book_1/MAUPP/Traitement/Population_modelling_dasymetry/data/dakar/legend_VHR_landcover.txt\"\n",
    "# For VHR land use\n",
    "lu_class_name = \"/media/tais/My_Book_1/MAUPP/Traitement/Population_modelling_dasymetry/data/dakar/legend_VHR_landuse.txt\"\n",
    "# For MR built-up\n",
    "mr_built_mask_class_name = \"/media/tais/My_Book_1/MAUPP/Traitement/Population_modelling_dasymetry/data/dakar/legend_MR_builtup.txt\""
   ]
  },
  {
   "cell_type": "code",
   "execution_count": null,
   "metadata": {
    "collapsed": true
   },
   "outputs": [],
   "source": [
    "# Function that update the labels of feature importance plot according to the legend class name provided\n",
    "from legend_csv import labels_from_csv"
   ]
  },
  {
   "cell_type": "code",
   "execution_count": null,
   "metadata": {
    "collapsed": true
   },
   "outputs": [],
   "source": [
    "# Function that allow creating a weighting layer from a clumped grid and a dataframe containing the grid values\n",
    "from simple_weighting import create_simple_weighting_layer_from_df"
   ]
  },
  {
   "cell_type": "markdown",
   "metadata": {},
   "source": [
    "## Test A - MR built-up layer"
   ]
  },
  {
   "cell_type": "markdown",
   "metadata": {},
   "source": [
    "Here, the weights are created simply by using a specific class proportion computed for each grid"
   ]
  },
  {
   "cell_type": "code",
   "execution_count": null,
   "metadata": {},
   "outputs": [],
   "source": [
    "# Name of test\n",
    "test = 'A'\n",
    "# Name of column with the proportion to use as weight \n",
    "weight_column = 'MR_1_proportion'\n",
    "# Create the weighting layer\n",
    "function_log = create_simple_weighting_layer_from_df(df_grid, weight_column, clumped_grid, test)\n",
    "log_text+=function_log+'\\n'  # Save the function log in the whole log of the notebook\n",
    "print function_log"
   ]
  },
  {
   "cell_type": "markdown",
   "metadata": {},
   "source": [
    "## Test B - VHR built-up layer"
   ]
  },
  {
   "cell_type": "markdown",
   "metadata": {},
   "source": [
    "Here, the weights are created simply by using a specific class proportion computed for each grid"
   ]
  },
  {
   "cell_type": "code",
   "execution_count": null,
   "metadata": {},
   "outputs": [],
   "source": [
    "# Name of test\n",
    "test = 'B'\n",
    "# Name of column with the proportion to use as weight \n",
    "weight_column = 'LC_999_proportion'\n",
    "# Create the weighting layer\n",
    "function_log = create_simple_weighting_layer_from_df(df_grid, weight_column, clumped_grid, test)\n",
    "log_text+=function_log+'\\n'  # Save the function log in the whole log of the notebook\n",
    "print function_log"
   ]
  },
  {
   "cell_type": "markdown",
   "metadata": {},
   "source": [
    "## Test C - 3 built-up classes comming from VHR"
   ]
  },
  {
   "cell_type": "markdown",
   "metadata": {},
   "source": [
    "Here, the weights are created simply by using a specific class proportion computed for each grid"
   ]
  },
  {
   "cell_type": "code",
   "execution_count": 463,
   "metadata": {
    "collapsed": true
   },
   "outputs": [],
   "source": [
    "# Name of test\n",
    "test = 'C'\n",
    "\n",
    "# Define classes of each input layer to be used in the test (lists of values)\n",
    "lc_classes = ['111','112','113']  # land cover layer\n",
    "lu_classes = []  # land use layer\n",
    "mr_classes = []  # medium resolution built-up layer\n",
    "\n",
    "# Name of layer that will be use to force weights to zero if absence of a built-up class \n",
    "layer_to_mask_weights = Land_cover\n",
    "# Value of built-up classes in the 'layer_to_mask_weights' layer (list)\n",
    "built_up_pixels = ['999']   # Class 999 correspond to all VHR built pixels"
   ]
  },
  {
   "cell_type": "code",
   "execution_count": 493,
   "metadata": {
    "collapsed": true,
    "scrolled": true
   },
   "outputs": [],
   "source": [
    "from rf_model import RandomForest"
   ]
  },
  {
   "cell_type": "code",
   "execution_count": 475,
   "metadata": {
    "scrolled": true
   },
   "outputs": [
    {
     "name": "stdout",
     "output_type": "stream",
     "text": [
      "Working of random forest model...\n",
      "... starting grid search for RF hyperparameters...\n",
      "... starting prediction of weights...\n",
      "\n",
      "Creation of weighting layer...\n",
      "\n",
      "Creation of feature importance plot...\n",
      "\n",
      "\n",
      "-------------- TEST C --------------\n",
      "Random Forest classifier for creating the weighting layer\n",
      "VHR land cover classes used: 111, 112, 113 \n",
      "VHR land use classes used: None \n",
      "MR built-up classe used: None \n",
      "Layer 'landcover' used to force zero weights when proportion of class '999' is null\n",
      "Selected covariates for the random forest model (with feature importance upper than 0.0 %) : \n",
      "LC_111_proportion\n",
      "LC_112_proportion\n",
      "LC_113_proportion\n",
      "\n",
      "Parameter grid for Random Forest tuning :\n",
      "    max_features : sqrt, 0.05, 0.1, 0.2, 0.3\n",
      "    n_estimators : 250, 350, 500, 750\n",
      "    oob_score : True\n",
      "    bootstrap : True\n",
      "\n",
      "Optimized parameters for Random Forest after grid search 3-fold cross-validation tuning :\n",
      "    max_features : sqrt\n",
      "    n_estimators : 250\n",
      "    oob_score : True\n",
      "    bootstrap : True\n",
      "\n",
      "Mean cross-validated score (OOB) and stddev of the best_estimator : 0.676 (+/-0.078)\n",
      "\n",
      "Mean cross-validated score (OOB) and stddev for every tested set of parameter :\n",
      "0.676 (+/-0.078) for {'max_features': 'sqrt', 'n_estimators': 250, 'oob_score': True, 'bootstrap': True}\n",
      "0.673 (+/-0.080) for {'max_features': 'sqrt', 'n_estimators': 350, 'oob_score': True, 'bootstrap': True}\n",
      "0.675 (+/-0.081) for {'max_features': 'sqrt', 'n_estimators': 500, 'oob_score': True, 'bootstrap': True}\n",
      "0.672 (+/-0.087) for {'max_features': 'sqrt', 'n_estimators': 750, 'oob_score': True, 'bootstrap': True}\n",
      "0.676 (+/-0.078) for {'max_features': 0.05, 'n_estimators': 250, 'oob_score': True, 'bootstrap': True}\n",
      "0.673 (+/-0.080) for {'max_features': 0.05, 'n_estimators': 350, 'oob_score': True, 'bootstrap': True}\n",
      "0.675 (+/-0.081) for {'max_features': 0.05, 'n_estimators': 500, 'oob_score': True, 'bootstrap': True}\n",
      "0.672 (+/-0.087) for {'max_features': 0.05, 'n_estimators': 750, 'oob_score': True, 'bootstrap': True}\n",
      "0.676 (+/-0.078) for {'max_features': 0.1, 'n_estimators': 250, 'oob_score': True, 'bootstrap': True}\n",
      "0.673 (+/-0.080) for {'max_features': 0.1, 'n_estimators': 350, 'oob_score': True, 'bootstrap': True}\n",
      "0.675 (+/-0.081) for {'max_features': 0.1, 'n_estimators': 500, 'oob_score': True, 'bootstrap': True}\n",
      "0.672 (+/-0.087) for {'max_features': 0.1, 'n_estimators': 750, 'oob_score': True, 'bootstrap': True}\n",
      "0.676 (+/-0.078) for {'max_features': 0.2, 'n_estimators': 250, 'oob_score': True, 'bootstrap': True}\n",
      "0.673 (+/-0.080) for {'max_features': 0.2, 'n_estimators': 350, 'oob_score': True, 'bootstrap': True}\n",
      "0.675 (+/-0.081) for {'max_features': 0.2, 'n_estimators': 500, 'oob_score': True, 'bootstrap': True}\n",
      "0.672 (+/-0.087) for {'max_features': 0.2, 'n_estimators': 750, 'oob_score': True, 'bootstrap': True}\n",
      "0.676 (+/-0.078) for {'max_features': 0.3, 'n_estimators': 250, 'oob_score': True, 'bootstrap': True}\n",
      "0.673 (+/-0.080) for {'max_features': 0.3, 'n_estimators': 350, 'oob_score': True, 'bootstrap': True}\n",
      "0.675 (+/-0.081) for {'max_features': 0.3, 'n_estimators': 500, 'oob_score': True, 'bootstrap': True}\n",
      "0.672 (+/-0.087) for {'max_features': 0.3, 'n_estimators': 750, 'oob_score': True, 'bootstrap': True}\n",
      "\n",
      "Final Random Forest model run - internal Out-of-bag score (OOB) : 0.767\n",
      "\n"
     ]
    },
    {
     "data": {
      "image/png": "[encoded data removed]",
      "text/plain": [
       "<Figure size 288x66.24 with 1 Axes>"
      ]
     },
     "metadata": {},
     "output_type": "display_data"
    }
   ],
   "source": [
    "# Run the random forest model\n",
    "function_log = RandomForest(output_weighting_layer,gridded_vector.split(\"@\")[0],\n",
    "                            'cat', lc_classes, lu_classes, mr_classes,\n",
    "                            layer_to_mask_weights, built_up_pixels, test)\n",
    "log_text+=function_log+'\\n'  # Save the function log in the whole log of the notebook"
   ]
  },
  {
   "cell_type": "markdown",
   "metadata": {},
   "source": [
    "## Test D"
   ]
  },
  {
   "cell_type": "code",
   "execution_count": 474,
   "metadata": {
    "collapsed": true
   },
   "outputs": [],
   "source": [
    "# Function that train a random forest model on admin units level and predict at grid level\n",
    "from rf_model import RandomForest"
   ]
  },
  {
   "cell_type": "code",
   "execution_count": null,
   "metadata": {
    "collapsed": true
   },
   "outputs": [],
   "source": [
    "# Name of test\n",
    "test = 'D'\n",
    "\n",
    "# Define classes of each input layer to be used in the test (lists of values)\n",
    "lc_classes = lc_classes_list  # land cover layer\n",
    "lu_classes = []  # land use layer\n",
    "mr_classes = []  # medium resolution built-up layer\n",
    "\n",
    "# Name of layer that will be use to force weights to zero if absence of a built-up class \n",
    "layer_to_mask_weights = Land_cover\n",
    "# Value of built-up classes in the 'layer_to_mask_weights' layer (list)\n",
    "built_up_pixels = ['999']   # Class 999 correspond to all VHR built pixels"
   ]
  },
  {
   "cell_type": "code",
   "execution_count": null,
   "metadata": {
    "scrolled": false
   },
   "outputs": [],
   "source": [
    "# Run the random forest model\n",
    "function_log = RandomForest(output_weighting_layer,gridded_vector.split(\"@\")[0],\n",
    "                            'cat', lc_classes, lu_classes, mr_classes,\n",
    "                            layer_to_mask_weights, built_up_pixels, test)\n",
    "log_text+=function_log+'\\n'  # Save the function log in the whole log of the notebook"
   ]
  },
  {
   "cell_type": "markdown",
   "metadata": {},
   "source": [
    "## Test E"
   ]
  },
  {
   "cell_type": "code",
   "execution_count": null,
   "metadata": {
    "collapsed": true
   },
   "outputs": [],
   "source": [
    "# Name of test\n",
    "test = 'E'\n",
    "\n",
    "# Define classes of each input layer to be used in the test (lists of values)\n",
    "lc_classes = ['111','112','113']  # land cover layer\n",
    "lu_classes = lu_classes_list  # land use layer\n",
    "mr_classes = []  # medium resolution built-up layer\n",
    "\n",
    "# Name of layer that will be use to force weights to zero if absence of a built-up class \n",
    "layer_to_mask_weights = Land_cover\n",
    "# Value of built-up classes in the 'layer_to_mask_weights' layer (list)\n",
    "built_up_pixels = ['999']   # Class 999 correspond to all VHR built pixels"
   ]
  },
  {
   "cell_type": "code",
   "execution_count": null,
   "metadata": {
    "collapsed": true
   },
   "outputs": [],
   "source": [
    "import rf_model"
   ]
  },
  {
   "cell_type": "code",
   "execution_count": null,
   "metadata": {
    "collapsed": true
   },
   "outputs": [],
   "source": [
    "reload(rf_model)"
   ]
  },
  {
   "cell_type": "code",
   "execution_count": null,
   "metadata": {
    "collapsed": true
   },
   "outputs": [],
   "source": [
    "# Function that train a random forest model on admin units level and predict at grid level\n",
    "from rf_model import RandomForest"
   ]
  },
  {
   "cell_type": "code",
   "execution_count": null,
   "metadata": {
    "scrolled": false
   },
   "outputs": [],
   "source": [
    "# Run the random forest model\n",
    "function_log = RandomForest(output_weighting_layer,gridded_vector.split(\"@\")[0],\n",
    "                            'cat', lc_classes, lu_classes, mr_classes,\n",
    "                            layer_to_mask_weights, built_up_pixels, test)\n",
    "log_text+=function_log+'\\n'  # Save the function log in the whole log of the notebook"
   ]
  },
  {
   "cell_type": "markdown",
   "metadata": {},
   "source": [
    "## Test F"
   ]
  },
  {
   "cell_type": "code",
   "execution_count": 476,
   "metadata": {
    "collapsed": true
   },
   "outputs": [],
   "source": [
    "# Name of test\n",
    "test = 'F'\n",
    "\n",
    "# Define classes of each input layer to be used in the test (lists of values)\n",
    "lc_classes = ['999']  # land cover layer\n",
    "lu_classes = lu_classes_list  # land use layer\n",
    "mr_classes = []  # medium resolution built-up layer\n",
    "\n",
    "# Name of layer that will be use to force weights to zero if absence of a built-up class \n",
    "layer_to_mask_weights = Land_cover\n",
    "# Value of built-up classes in the 'layer_to_mask_weights' layer (list)\n",
    "built_up_pixels = ['999']"
   ]
  },
  {
   "cell_type": "code",
   "execution_count": 480,
   "metadata": {
    "scrolled": true
   },
   "outputs": [
    {
     "name": "stdout",
     "output_type": "stream",
     "text": [
      "Working of random forest model...\n",
      "... starting grid search for RF hyperparameters...\n",
      "... starting prediction of weights...\n",
      "\n",
      "Creation of weighting layer...\n",
      "\n",
      "Creation of feature importance plot...\n",
      "\n",
      "\n",
      "-------------- TEST F --------------\n",
      "Random Forest classifier for creating the weighting layer\n",
      "VHR land cover classes used: 999 \n",
      "VHR land use classes used: 1, 2, 3, 4, 5, 6, 7, 8 \n",
      "MR built-up classe used: None \n",
      "Layer 'landcover' used to force zero weights when proportion of class '999' is null\n",
      "Selected covariates for the random forest model (with feature importance upper than 0.0 %) : \n",
      "LC_999_proportion\n",
      "LU_1_proportion\n",
      "LU_2_proportion\n",
      "LU_3_proportion\n",
      "LU_4_proportion\n",
      "LU_5_proportion\n",
      "LU_6_proportion\n",
      "LU_7_proportion\n",
      "LU_8_proportion\n",
      "\n",
      "Parameter grid for Random Forest tuning :\n",
      "    max_features : sqrt, 0.05, 0.1, 0.2, 0.3\n",
      "    n_estimators : 250, 350, 500, 750\n",
      "    oob_score : True\n",
      "    bootstrap : True\n",
      "\n",
      "Optimized parameters for Random Forest after grid search 3-fold cross-validation tuning :\n",
      "    max_features : sqrt\n",
      "    n_estimators : 750\n",
      "    oob_score : True\n",
      "    bootstrap : True\n",
      "\n",
      "Mean cross-validated score (OOB) and stddev of the best_estimator : 0.792 (+/-0.060)\n",
      "\n",
      "Mean cross-validated score (OOB) and stddev for every tested set of parameter :\n",
      "0.787 (+/-0.067) for {'max_features': 'sqrt', 'n_estimators': 250, 'oob_score': True, 'bootstrap': True}\n",
      "0.788 (+/-0.065) for {'max_features': 'sqrt', 'n_estimators': 350, 'oob_score': True, 'bootstrap': True}\n",
      "0.789 (+/-0.062) for {'max_features': 'sqrt', 'n_estimators': 500, 'oob_score': True, 'bootstrap': True}\n",
      "0.792 (+/-0.060) for {'max_features': 'sqrt', 'n_estimators': 750, 'oob_score': True, 'bootstrap': True}\n",
      "0.728 (+/-0.067) for {'max_features': 0.05, 'n_estimators': 250, 'oob_score': True, 'bootstrap': True}\n",
      "0.732 (+/-0.064) for {'max_features': 0.05, 'n_estimators': 350, 'oob_score': True, 'bootstrap': True}\n",
      "0.724 (+/-0.068) for {'max_features': 0.05, 'n_estimators': 500, 'oob_score': True, 'bootstrap': True}\n",
      "0.727 (+/-0.069) for {'max_features': 0.05, 'n_estimators': 750, 'oob_score': True, 'bootstrap': True}\n",
      "0.728 (+/-0.067) for {'max_features': 0.1, 'n_estimators': 250, 'oob_score': True, 'bootstrap': True}\n",
      "0.732 (+/-0.064) for {'max_features': 0.1, 'n_estimators': 350, 'oob_score': True, 'bootstrap': True}\n",
      "0.724 (+/-0.068) for {'max_features': 0.1, 'n_estimators': 500, 'oob_score': True, 'bootstrap': True}\n",
      "0.727 (+/-0.069) for {'max_features': 0.1, 'n_estimators': 750, 'oob_score': True, 'bootstrap': True}\n",
      "0.728 (+/-0.067) for {'max_features': 0.2, 'n_estimators': 250, 'oob_score': True, 'bootstrap': True}\n",
      "0.732 (+/-0.064) for {'max_features': 0.2, 'n_estimators': 350, 'oob_score': True, 'bootstrap': True}\n",
      "0.724 (+/-0.068) for {'max_features': 0.2, 'n_estimators': 500, 'oob_score': True, 'bootstrap': True}\n",
      "0.727 (+/-0.069) for {'max_features': 0.2, 'n_estimators': 750, 'oob_score': True, 'bootstrap': True}\n",
      "0.772 (+/-0.060) for {'max_features': 0.3, 'n_estimators': 250, 'oob_score': True, 'bootstrap': True}\n",
      "0.771 (+/-0.061) for {'max_features': 0.3, 'n_estimators': 350, 'oob_score': True, 'bootstrap': True}\n",
      "0.775 (+/-0.061) for {'max_features': 0.3, 'n_estimators': 500, 'oob_score': True, 'bootstrap': True}\n",
      "0.774 (+/-0.062) for {'max_features': 0.3, 'n_estimators': 750, 'oob_score': True, 'bootstrap': True}\n",
      "\n",
      "Final Random Forest model run - internal Out-of-bag score (OOB) : 0.842\n",
      "\n"
     ]
    },
    {
     "data": {
      "image/png": "[encoded data removed]",
      "text/plain": [
       "<Figure size 288x165.6 with 1 Axes>"
      ]
     },
     "metadata": {},
     "output_type": "display_data"
    }
   ],
   "source": [
    "# Run the random forest model\n",
    "function_log = RandomForest(output_weighting_layer,gridded_vector.split(\"@\")[0],\n",
    "                            'cat', lc_classes, lu_classes, mr_classes,\n",
    "                            layer_to_mask_weights, built_up_pixels, test)\n",
    "log_text+=function_log+'\\n'  # Save the function log in the whole log of the notebook"
   ]
  },
  {
   "cell_type": "markdown",
   "metadata": {},
   "source": [
    "## Test G"
   ]
  },
  {
   "cell_type": "code",
   "execution_count": 490,
   "metadata": {
    "collapsed": true
   },
   "outputs": [],
   "source": [
    "# Name of test\n",
    "test = 'G'\n",
    "\n",
    "# Define classes of each input layer to be used in the test (lists of values)\n",
    "lc_classes = []  # land cover layer\n",
    "lu_classes = lu_classes_list  # land use layer\n",
    "mr_classes = ['1']  # medium resolution built-up layer\n",
    "\n",
    "# Name of layer that will be use to force weights to zero if absence of a built-up class \n",
    "layer_to_mask_weights = mr_builtup\n",
    "# Value of built-up classes in the 'layer_to_mask_weights' layer (list)\n",
    "built_up_pixels = ['1']"
   ]
  },
  {
   "cell_type": "code",
   "execution_count": 487,
   "metadata": {
    "scrolled": true
   },
   "outputs": [
    {
     "name": "stdout",
     "output_type": "stream",
     "text": [
      "Working of random forest model...\n",
      "... starting grid search for RF hyperparameters...\n",
      "... starting prediction of weights...\n",
      "\n",
      "Creation of weighting layer...\n",
      "\n",
      "Creation of feature importance plot...\n",
      "\n",
      "\n",
      "-------------- TEST G --------------\n",
      "Random Forest classifier for creating the weighting layer\n",
      "VHR land cover classes used: None \n",
      "VHR land use classes used: 1, 2, 3, 4, 5, 6, 7, 8 \n",
      "MR built-up classe used: 1 \n",
      "Layer 'MR_builtup' used to force zero weights when proportion of class '1' is null\n",
      "Selected covariates for the random forest model (with feature importance upper than 0.0 %) : \n",
      "LU_1_proportion\n",
      "LU_2_proportion\n",
      "LU_3_proportion\n",
      "LU_4_proportion\n",
      "LU_5_proportion\n",
      "LU_6_proportion\n",
      "LU_7_proportion\n",
      "LU_8_proportion\n",
      "MR_1_proportion\n",
      "\n",
      "Parameter grid for Random Forest tuning :\n",
      "    max_features : sqrt, 0.05, 0.1, 0.2, 0.3\n",
      "    n_estimators : 250, 350, 500, 750\n",
      "    oob_score : True\n",
      "    bootstrap : True\n",
      "\n",
      "Optimized parameters for Random Forest after grid search 3-fold cross-validation tuning :\n",
      "    max_features : sqrt\n",
      "    n_estimators : 750\n",
      "    oob_score : True\n",
      "    bootstrap : True\n",
      "\n",
      "Mean cross-validated score (OOB) and stddev of the best_estimator : 0.748 (+/-0.057)\n",
      "\n",
      "Mean cross-validated score (OOB) and stddev for every tested set of parameter :\n",
      "0.748 (+/-0.059) for {'max_features': 'sqrt', 'n_estimators': 250, 'oob_score': True, 'bootstrap': True}\n",
      "0.747 (+/-0.060) for {'max_features': 'sqrt', 'n_estimators': 350, 'oob_score': True, 'bootstrap': True}\n",
      "0.745 (+/-0.059) for {'max_features': 'sqrt', 'n_estimators': 500, 'oob_score': True, 'bootstrap': True}\n",
      "0.748 (+/-0.057) for {'max_features': 'sqrt', 'n_estimators': 750, 'oob_score': True, 'bootstrap': True}\n",
      "0.675 (+/-0.080) for {'max_features': 0.05, 'n_estimators': 250, 'oob_score': True, 'bootstrap': True}\n",
      "0.674 (+/-0.080) for {'max_features': 0.05, 'n_estimators': 350, 'oob_score': True, 'bootstrap': True}\n",
      "0.665 (+/-0.084) for {'max_features': 0.05, 'n_estimators': 500, 'oob_score': True, 'bootstrap': True}\n",
      "0.665 (+/-0.081) for {'max_features': 0.05, 'n_estimators': 750, 'oob_score': True, 'bootstrap': True}\n",
      "0.675 (+/-0.080) for {'max_features': 0.1, 'n_estimators': 250, 'oob_score': True, 'bootstrap': True}\n",
      "0.674 (+/-0.080) for {'max_features': 0.1, 'n_estimators': 350, 'oob_score': True, 'bootstrap': True}\n",
      "0.665 (+/-0.084) for {'max_features': 0.1, 'n_estimators': 500, 'oob_score': True, 'bootstrap': True}\n",
      "0.665 (+/-0.081) for {'max_features': 0.1, 'n_estimators': 750, 'oob_score': True, 'bootstrap': True}\n",
      "0.675 (+/-0.080) for {'max_features': 0.2, 'n_estimators': 250, 'oob_score': True, 'bootstrap': True}\n",
      "0.674 (+/-0.080) for {'max_features': 0.2, 'n_estimators': 350, 'oob_score': True, 'bootstrap': True}\n",
      "0.665 (+/-0.084) for {'max_features': 0.2, 'n_estimators': 500, 'oob_score': True, 'bootstrap': True}\n",
      "0.665 (+/-0.081) for {'max_features': 0.2, 'n_estimators': 750, 'oob_score': True, 'bootstrap': True}\n",
      "0.727 (+/-0.070) for {'max_features': 0.3, 'n_estimators': 250, 'oob_score': True, 'bootstrap': True}\n",
      "0.730 (+/-0.074) for {'max_features': 0.3, 'n_estimators': 350, 'oob_score': True, 'bootstrap': True}\n",
      "0.726 (+/-0.078) for {'max_features': 0.3, 'n_estimators': 500, 'oob_score': True, 'bootstrap': True}\n",
      "0.725 (+/-0.075) for {'max_features': 0.3, 'n_estimators': 750, 'oob_score': True, 'bootstrap': True}\n",
      "\n",
      "Final Random Forest model run - internal Out-of-bag score (OOB) : 0.808\n",
      "\n"
     ]
    },
    {
     "data": {
      "image/png": "[encoded data removed]",
      "text/plain": [
       "<Figure size 288x165.6 with 1 Axes>"
      ]
     },
     "metadata": {},
     "output_type": "display_data"
    }
   ],
   "source": [
    "# Run the random forest model\n",
    "function_log = RandomForest(output_weighting_layer,gridded_vector.split(\"@\")[0],\n",
    "                            'cat', lc_classes, lu_classes, mr_classes,\n",
    "                            layer_to_mask_weights, built_up_pixels, test)\n",
    "log_text+=function_log+'\\n'  # Save the function log in the whole log of the notebook"
   ]
  },
  {
   "cell_type": "markdown",
   "metadata": {},
   "source": [
    "## Test H"
   ]
  },
  {
   "cell_type": "code",
   "execution_count": 491,
   "metadata": {
    "collapsed": true
   },
   "outputs": [],
   "source": [
    "# Name of test\n",
    "test = 'H'\n",
    "\n",
    "# Define classes of each input layer to be used in the test (lists of values)\n",
    "lc_classes = lc_classes_list  # land cover layer\n",
    "lu_classes = lu_classes_list  # land use layer\n",
    "mr_classes = []  # medium resolution built-up layer\n",
    "\n",
    "# Name of layer that will be use to force weights to zero if absence of a built-up class \n",
    "layer_to_mask_weights = Land_cover\n",
    "# Value of built-up classes in the 'layer_to_mask_weights' layer (list)\n",
    "built_up_pixels = ['999']   # Class 999 correspond to all VHR built pixels"
   ]
  },
  {
   "cell_type": "code",
   "execution_count": null,
   "metadata": {
    "scrolled": false
   },
   "outputs": [],
   "source": [
    "# Run the random forest model\n",
    "function_log = RandomForest(output_weighting_layer,gridded_vector.split(\"@\")[0],\n",
    "                            'cat', lc_classes, lu_classes, mr_classes,\n",
    "                            layer_to_mask_weights, built_up_pixels, test)\n",
    "log_text+=function_log+'\\n'  # Save the function log in the whole log of the notebook"
   ]
  },
  {
   "cell_type": "markdown",
   "metadata": {},
   "source": [
    "## Test I"
   ]
  },
  {
   "cell_type": "code",
   "execution_count": 492,
   "metadata": {
    "collapsed": true
   },
   "outputs": [],
   "source": [
    "# Name of test\n",
    "test = 'I'\n",
    "\n",
    "# Define classes of each input layer to be used in the test (lists of values)\n",
    "lc_classes = lc_classes_list  # land cover layer\n",
    "lu_classes = lu_classes_list  # land use layer\n",
    "mr_classes = ['1']  # medium resolution built-up layer\n",
    "\n",
    "# Name of layer that will be use to force weights to zero if absence of a built-up class \n",
    "layer_to_mask_weights = Land_cover\n",
    "# Value of built-up classes in the 'layer_to_mask_weights' layer (list)\n",
    "built_up_pixels = ['999']   # Class 999 correspond to all VHR built pixels"
   ]
  },
  {
   "cell_type": "code",
   "execution_count": null,
   "metadata": {
    "scrolled": false
   },
   "outputs": [],
   "source": [
    "# Run the random forest model\n",
    "function_log = RandomForest(output_weighting_layer,gridded_vector.split(\"@\")[0],\n",
    "                            'cat', lc_classes, lu_classes, mr_classes,\n",
    "                            layer_to_mask_weights, built_up_pixels, test)\n",
    "log_text+=function_log+'\\n'  # Save the function log in the whole log of the notebook"
   ]
  },
  {
   "cell_type": "markdown",
   "metadata": {},
   "source": [
    "# Reallocate the population count using weighting layer"
   ]
  },
  {
   "cell_type": "code",
   "execution_count": null,
   "metadata": {
    "scrolled": true
   },
   "outputs": [],
   "source": [
    "# Name of the layer containing the population count to disagregate\n",
    "print \"Vector layer containing the variable to disagregate : '%s'\"%gridded_vector\n",
    "print \"Attribute column containing the variable : '%s'\"%population_column"
   ]
  },
  {
   "cell_type": "code",
   "execution_count": null,
   "metadata": {},
   "outputs": [],
   "source": [
    "# Export weighing layers\n",
    "for test in ['A','B','C','D','E','F','G','I']:\n",
    "    outputfolder = os.path.join(outputdirectory_results,\"Test_%s\"%test)\n",
    "    if not os.path.exists(outputfolder):  #Create folder where to save the plot if not exists\n",
    "        os.makedirs(outputfolder)\n",
    "    weight_raster = \"Test_%s_weight\"%test\n",
    "    predict_raster = \"Test_%s_prediction\"%test   \n",
    "    gscript.run_command('v.area.weigh', overwrite=True, quiet=True, vector=gridded_vector, \n",
    "                        column=population_column, weight=weight_raster, output=predict_raster)"
   ]
  },
  {
   "cell_type": "markdown",
   "metadata": {},
   "source": [
    "# Validation"
   ]
  },
  {
   "cell_type": "markdown",
   "metadata": {},
   "source": [
    "## Create gridded version of administratives units of level 1"
   ]
  },
  {
   "cell_type": "code",
   "execution_count": null,
   "metadata": {
    "collapsed": true
   },
   "outputs": [],
   "source": [
    "# Function that train a random forest model on admin units level and predict at grid level\n",
    "from rf_model import RandomForest"
   ]
  },
  {
   "cell_type": "code",
   "execution_count": null,
   "metadata": {
    "collapsed": true
   },
   "outputs": [],
   "source": [
    "# Create layer with boundaries corresponding to the grid \n",
    "admin_validation_level1_gridded = gridded_admin_boundaries(\"admin_level1\", 'dissolve_i', \n",
    "                                                           population_column, clumped_grid)[1]"
   ]
  },
  {
   "cell_type": "markdown",
   "metadata": {},
   "source": [
    "## Prediction accuracy assessment"
   ]
  },
  {
   "cell_type": "raw",
   "metadata": {},
   "source": [
    "grid_layer = clumped_grid\n",
    "vector_admin_layer = admin_validation_level1_gridded\n",
    "ref_column = 'cat'\n",
    "pop_column = population_column"
   ]
  },
  {
   "cell_type": "code",
   "execution_count": null,
   "metadata": {
    "collapsed": true
   },
   "outputs": [],
   "source": [
    "test = 'E'\n",
    "prediction_raster_pop = 'Test_%s_prediction'%test\n",
    "output_csv_validation = \"/media/tais/My_Book_1/MAUPP/Traitement/Population_modelling_dasymetry/Results/Dakar/Random_Forest/Test_%s/attribute_table_validation.csv\"%test\n",
    "output_log_validation = \"/media/tais/My_Book_1/MAUPP/Traitement/Population_modelling_dasymetry/Results/Dakar/Random_Forest/Test_%s/log_validation.txt\"%test"
   ]
  },
  {
   "cell_type": "code",
   "execution_count": null,
   "metadata": {
    "collapsed": true
   },
   "outputs": [],
   "source": [
    "def get_ref_and_prediction_table(grid_layer, vector_admin_layer, ref_column, pop_column, prediction_raster_pop):\n",
    "    # Define region to match the resolution and extend of the grid layer\n",
    "    gscript.run_command('g.region', raster=grid_layer)  \n",
    "    # Create raster with administrative unit ids\n",
    "    reference_raster_id = random_layer_name()\n",
    "    reference_raster_pop = random_layer_name()\n",
    "    gscript.run_command('v.to.rast', overwrite=True, quiet=True, input=vector_admin_layer,\n",
    "                        output=reference_raster_id, use='attr', attribute_column=ref_column)\n",
    "    gscript.run_command('v.to.rast', overwrite=True, quiet=True, input=vector_admin_layer, \n",
    "                        output=reference_raster_pop, use='attr', attribute_column=pop_column)\n",
    "       \n",
    "    #Get id for each administrative zones in a list\n",
    "    tmp_file = gscript.tempfile()\n",
    "    gscript.run_command('r.univar', flags='et', overwrite=True, map=reference_raster_id, \n",
    "                        zones=reference_raster_id, output=tmp_file, separator='comma')\n",
    "    fin = open(tmp_file)\n",
    "    fin.next()\n",
    "    id_list = [int(row.split(\",\")[4]) for row in fin] #4 refers to r.univar output for 'min' stat\n",
    "    \n",
    "    #Get the reference population count for each administrative zones in a list\n",
    "    tmp_file=gscript.tempfile()\n",
    "    gscript.run_command('r.univar', flags='et', overwrite=True, map=reference_raster_pop, \n",
    "                        zones=reference_raster_id, output=tmp_file, separator='comma')\n",
    "    fin = open(tmp_file)\n",
    "    fin.next()\n",
    "    ref_list = [float(row.split(\",\")[4]) for row in fin] #4 refers to r.univar output for 'min' stat\n",
    "\n",
    "    #Get the sum of prediction of population for each administrative zones in a list\n",
    "    tmp_file=gscript.tempfile()\n",
    "    gscript.run_command('r.univar', flags='et', overwrite=True, map=prediction_raster_pop, \n",
    "                        zones=reference_raster_id, output=tmp_file, separator='comma')\n",
    "    fin = open(tmp_file)\n",
    "    fin.next()\n",
    "    predict_list = [float(row.split(\",\")[12]) for row in fin] #12 refers to r.univar output for 'sum' stat\n",
    "    \n",
    "    return pd.DataFrame({'Id':id_list,'Reference':ref_list,'Prediction':predict_list})"
   ]
  },
  {
   "cell_type": "code",
   "execution_count": null,
   "metadata": {
    "collapsed": true
   },
   "outputs": [],
   "source": [
    "def compute_validation_statistics(df, output_csv=\"\"):\n",
    "    #### Compute validation statistics for each administrative unit ####\n",
    "    #Compute error\n",
    "    df['error'] = df['Prediction']-df['Reference']\n",
    "    #Compute percentage error raster\n",
    "    df['prcterror'] = df['error']/df['Reference']*100\n",
    "    #Compute squared error raster\n",
    "    df['sqerror'] = df['error']**2\n",
    "    #Compute absolute error raster\n",
    "    df['abserror'] = abs(df['error'])\n",
    "   \n",
    "    if output_csv:\n",
    "        df.to_csv(output_csv, index=False)"
   ]
  },
  {
   "cell_type": "code",
   "execution_count": null,
   "metadata": {},
   "outputs": [],
   "source": [
    "import math as ma\n",
    "\n",
    "def validation(grid_layer, vector_admin_layer, ref_column, pop_column, \n",
    "               prediction_raster_pop, output_csv='', output_log=''):\n",
    "    ## Get a dataframe with unit 'id', reference value and predicted value\n",
    "    df = get_ref_and_prediction_table(grid_layer, vector_admin_layer, \n",
    "                                      ref_column, pop_column, prediction_raster_pop)\n",
    "    ## Compute validation statistics for each administrative unit\n",
    "    compute_validation_statistics(df,output_csv)\n",
    "    \n",
    "    #### Compute overall validation statistics ####\n",
    "    rmse = ma.sqrt(round(df['sqerror'].mean(),2))  #Compute RMSE (Root mean squared error)\n",
    "    mean_ref = df['Reference'].mean()  #Compute mean reference population per admin unit\n",
    "    prct_rmse = (rmse/mean_ref)*100  #Compute %RMSE (Root mean squared error in percentage of the mean reference population by grid)\n",
    "    MAE = df['abserror'].mean()  #Compute MAE (Mean absolute error)\n",
    "    TAE = df['abserror'].sum()  #Compute TAE (Total absolute error)\n",
    "    POPTOT = df['Reference'].sum() #Compute Total reference population\n",
    "    PREDTOT = df['Prediction'].sum() #Compute Total reference population\n",
    "    RTAE = TAE/POPTOT  #Compute RTAE (Relative total absolute error)\n",
    "    corr = np.corrcoef(df['Reference'],df['Prediction'])[0,1]  #Get correlation value\n",
    "    r_squared = (corr**2)  #Get r² value    \n",
    "\n",
    "    #### Outputs print and log\n",
    "    function_log = \"-------------- TEST %s --------------\\n\"%testlabel\n",
    "    function_log+=\"Reference vector : %s \\n\"%vector_admin_layer.split(\"@\")[0]\n",
    "    function_log+=\"Prediction raster : %s \\n\"%prediction_raster_pop.split(\"@\")[0]\n",
    "    function_log+=\"\\n\"\n",
    "    function_log+=\"Total reference population = %s \\n\"%round(POPTOT,1)\n",
    "    function_log+=\"Total predicted population = %s \\n\"%round(PREDTOT,1)\n",
    "    function_log+=\"Number of reference admin zones = %s \\n\"%df['Reference'].count()\n",
    "    function_log+=\"Number of validation admin zones = %s \\n\"%df['Prediction'].count()\n",
    "    function_log+='\\n'\n",
    "    function_log+=\"Mean reference population count per administrative unit = %s \\n\"%round(mean_ref,3)\n",
    "    function_log+=\"Mean absolute error of prediction (MAE) = %s \\n\"%round(MAE,3)\n",
    "    function_log+=\"Root mean squared error of prediction (RMSE) = %s \\n\"%round(rmse,3)\n",
    "    function_log+=\"Root mean squared error of prediction in percentage (Percent_RMSE) = %s \\n\"%round(prct_rmse,3)\n",
    "    function_log+=\"Total absolute error (TAE) = %s \\n\"%round(TAE,3)\n",
    "    function_log+=\"Relative total absolute error (RTAE) = %s \\n\"%round(RTAE,3)\n",
    "    function_log+=\"R squared = %s \\n\"%round(r_squared,3)\n",
    "    if output_log:\n",
    "        fout = open(output_log, 'w')\n",
    "        fout.write(function_log)\n",
    "        fout.close()\n",
    "    \n",
    "    ## Return\n",
    "    return df, function_log"
   ]
  },
  {
   "cell_type": "code",
   "execution_count": null,
   "metadata": {
    "scrolled": true
   },
   "outputs": [],
   "source": [
    "df, function_log = validation(clumped_grid, admin_validation_level1_gridded,\n",
    "                              'cat', population_column, prediction_raster_pop, \n",
    "                              output_csv=output_csv_validation, output_log=output_log_validation)"
   ]
  },
  {
   "cell_type": "code",
   "execution_count": null,
   "metadata": {},
   "outputs": [],
   "source": [
    "df.tail()"
   ]
  },
  {
   "cell_type": "code",
   "execution_count": null,
   "metadata": {},
   "outputs": [],
   "source": [
    "print function_log"
   ]
  },
  {
   "cell_type": "code",
   "execution_count": null,
   "metadata": {
    "collapsed": true
   },
   "outputs": [],
   "source": []
  },
  {
   "cell_type": "code",
   "execution_count": null,
   "metadata": {
    "collapsed": true
   },
   "outputs": [],
   "source": []
  },
  {
   "cell_type": "code",
   "execution_count": null,
   "metadata": {
    "collapsed": true
   },
   "outputs": [],
   "source": []
  },
  {
   "cell_type": "code",
   "execution_count": null,
   "metadata": {
    "collapsed": true
   },
   "outputs": [],
   "source": []
  },
  {
   "cell_type": "code",
   "execution_count": null,
   "metadata": {
    "collapsed": true
   },
   "outputs": [],
   "source": []
  },
  {
   "cell_type": "code",
   "execution_count": null,
   "metadata": {
    "collapsed": true
   },
   "outputs": [],
   "source": []
  },
  {
   "cell_type": "code",
   "execution_count": null,
   "metadata": {
    "collapsed": true
   },
   "outputs": [],
   "source": []
  },
  {
   "cell_type": "code",
   "execution_count": null,
   "metadata": {},
   "outputs": [],
   "source": [
    "\n",
    "\n",
    "    \n",
    "    "
   ]
  },
  {
   "cell_type": "code",
   "execution_count": null,
   "metadata": {
    "collapsed": true
   },
   "outputs": [],
   "source": []
  },
  {
   "cell_type": "code",
   "execution_count": null,
   "metadata": {
    "collapsed": true
   },
   "outputs": [],
   "source": []
  },
  {
   "cell_type": "code",
   "execution_count": null,
   "metadata": {
    "collapsed": true
   },
   "outputs": [],
   "source": []
  },
  {
   "cell_type": "code",
   "execution_count": null,
   "metadata": {
    "collapsed": true
   },
   "outputs": [],
   "source": []
  },
  {
   "cell_type": "code",
   "execution_count": null,
   "metadata": {
    "collapsed": true
   },
   "outputs": [],
   "source": []
  },
  {
   "cell_type": "markdown",
   "metadata": {
    "collapsed": true
   },
   "source": [
    "# Export log file"
   ]
  },
  {
   "cell_type": "code",
   "execution_count": null,
   "metadata": {
    "collapsed": true
   },
   "outputs": [],
   "source": [
    "## Export the log file\n",
    "end_time=time.ctime()\n",
    "logging=open(log_file+'.txt', 'w')\n",
    "logging.write('Log file of r.population.density\\n')\n",
    "logging.write('Run started on '+str(start_time)+' and finished on '+str(end_time)+'\\n')\n",
    "logging.write('Selected spatial resolution for weighting layer : '+tile_size+' meters\\n')\n",
    "logging.write('Administrative layer used : '+vector+'\\n')\n",
    "logging.write(log_text)\n",
    "if flags['f'] :\n",
    "    logging.write(\"\\n\")\n",
    "    logging.write(log_text_extend)\n",
    "logging.close()"
   ]
  },
  {
   "cell_type": "code",
   "execution_count": null,
   "metadata": {
    "scrolled": true
   },
   "outputs": [],
   "source": [
    "print log_text"
   ]
  },
  {
   "cell_type": "markdown",
   "metadata": {
    "collapsed": true
   },
   "source": [
    "# Export layers for archive or visualisation in another GIS"
   ]
  },
  {
   "cell_type": "markdown",
   "metadata": {
    "collapsed": true
   },
   "source": [
    "## VHR binary layers"
   ]
  },
  {
   "cell_type": "code",
   "execution_count": null,
   "metadata": {
    "scrolled": false
   },
   "outputs": [],
   "source": [
    "# Set output folder\n",
    "output_folder = '/media/tais/My_Book_1/MAUPP/Traitement/Population_modelling_dasymetry/Results/Dakar/Binary_rasters'\n",
    "if not os.path.exists(output_folder):  #Create folder if not exists\n",
    "    os.makedirs(output_folder)\n",
    "# Export all binary raster\n",
    "for binary_raster in TMP_BINARIES:\n",
    "    output_file = os.path.join(output_folder,'Dakar_binary_%s.tiff'%binary_raster)\n",
    "    gscript.use_temp_region()  # Define temp region\n",
    "    gscript.run_command('g.region', raster=binary_raster)\n",
    "    gscript.run_command('r.out.gdal', overwrite=True, input=binary_raster, \n",
    "                        output=output_file, format='GTiff', createopt='COMPRESS=DEFLATE')\n",
    "    gscript.del_temp_region() # Remove temp region"
   ]
  },
  {
   "cell_type": "markdown",
   "metadata": {},
   "source": [
    "## VHR built-up masks (combination of different built-up classes)"
   ]
  },
  {
   "cell_type": "markdown",
   "metadata": {
    "collapsed": true
   },
   "source": [
    "**Export of the layers**"
   ]
  },
  {
   "cell_type": "code",
   "execution_count": null,
   "metadata": {
    "collapsed": true,
    "scrolled": false
   },
   "outputs": [],
   "source": [
    "# Set output folder\n",
    "output_folder = '/media/tais/My_Book_1/MAUPP/Traitement/Population_modelling_dasymetry/Results/Dakar/Binary_rasters'\n",
    "if not os.path.exists(output_folder):  #Create folder if not exists\n",
    "    os.makedirs(output_folder)\n",
    "# Export all binary raster\n",
    "for raster_layer in [VHR_builtup_classes, VHR_builtup_mask]:\n",
    "    output_file = os.path.join(output_folder,'Dakar_%s.tiff'%raster_layer)\n",
    "    gscript.use_temp_region()  # Define temp region\n",
    "    gscript.run_command('g.region', raster=raster_layer)\n",
    "    gscript.run_command('r.out.gdal', overwrite=True, input=raster_layer, \n",
    "                        output=output_file, format='GTiff', createopt='COMPRESS=DEFLATE')\n",
    "    gscript.del_temp_region() # Remove temp region"
   ]
  },
  {
   "cell_type": "markdown",
   "metadata": {
    "collapsed": true
   },
   "source": [
    "## Clumped Grid"
   ]
  },
  {
   "cell_type": "code",
   "execution_count": null,
   "metadata": {
    "collapsed": true,
    "scrolled": true
   },
   "outputs": [],
   "source": [
    "# Set output folder\n",
    "output_folder = '/media/tais/My_Book_1/MAUPP/Traitement/Population_modelling_dasymetry/Results/Dakar/Clumped_grid'\n",
    "if not os.path.exists(output_folder):  #Create folder if not exists\n",
    "    os.makedirs(output_folder)\n",
    "# Export clumped grid\n",
    "output_file = os.path.join(output_folder,'Dakar_%s.tiff'%clumped_grid)\n",
    "gscript.use_temp_region()  # Define temp region\n",
    "gscript.run_command('g.region', raster=clumped_grid)\n",
    "gscript.run_command('r.out.gdal', overwrite=True, input=clumped_grid, \n",
    "                    output=output_file, format='GTiff', createopt='COMPRESS=DEFLATE')\n",
    "gscript.del_temp_region() # Remove temp region"
   ]
  },
  {
   "cell_type": "markdown",
   "metadata": {
    "collapsed": true
   },
   "source": [
    "## Gridded administrative units (level0)"
   ]
  },
  {
   "cell_type": "code",
   "execution_count": null,
   "metadata": {},
   "outputs": [],
   "source": [
    "# Set output folder\n",
    "output_folder = '/media/tais/My_Book_1/MAUPP/Traitement/Population_modelling_dasymetry/Results/Dakar/admin0_aggregation'\n",
    "# Export gridded admin units (level0)\n",
    "output_file = os.path.join(output_folder,'Dakar_%s.shp'%gridded_vector)\n",
    "gscript.run_command('v.out.ogr', overwrite=True, flags='m', type='area', \n",
    "                    input=gridded_vector, output=output_file, format='ESRI_Shapefile')"
   ]
  },
  {
   "cell_type": "markdown",
   "metadata": {
    "collapsed": true
   },
   "source": [
    "## Weighting (RF output) and prediction layer - (all tests)"
   ]
  },
  {
   "cell_type": "code",
   "execution_count": null,
   "metadata": {},
   "outputs": [],
   "source": [
    "# Export weighing layers\n",
    "for test in ['A','B','C','D','E','F','G']:\n",
    "    outputfolder = os.path.join(outputdirectory_results,\"Test_%s\"%test)\n",
    "    if not os.path.exists(outputfolder):  #Create folder where to save the plot if not exists\n",
    "        os.makedirs(outputfolder)\n",
    "    layer = \"Test_%s_weight\"%test\n",
    "    output_file = os.path.join(outputfolder,layer+'.tiff')\n",
    "    gscript.run_command('r.out.gdal', overwrite=True, input=layer, \n",
    "                        output=output_file, format='GTiff', createopt='COMPRESS=DEFLATE')\n",
    "    layer = \"Test_%s_prediction\"%test \n",
    "    output_file = os.path.join(outputfolder,layer+'.tiff')\n",
    "    gscript.run_command('r.out.gdal', overwrite=True, input=layer, \n",
    "                        output=output_file, format='GTiff', createopt='COMPRESS=DEFLATE')"
   ]
  },
  {
   "cell_type": "code",
   "execution_count": null,
   "metadata": {
    "collapsed": true
   },
   "outputs": [],
   "source": []
  },
  {
   "cell_type": "code",
   "execution_count": null,
   "metadata": {
    "collapsed": true
   },
   "outputs": [],
   "source": []
  },
  {
   "cell_type": "code",
   "execution_count": null,
   "metadata": {
    "collapsed": true
   },
   "outputs": [],
   "source": []
  },
  {
   "cell_type": "markdown",
   "metadata": {
    "collapsed": true
   },
   "source": [
    "# Cleaning mapset"
   ]
  },
  {
   "cell_type": "code",
   "execution_count": 497,
   "metadata": {},
   "outputs": [
    {
     "name": "stdout",
     "output_type": "stream",
     "text": [
      "Cleaning mapset from temporary layers...\n"
     ]
    }
   ],
   "source": [
    "print \"Cleaning mapset from temporary layers...\"\n",
    "for raster_layer in TMP_MAPS:\n",
    "    gscript.run_command('g.remove', flags='f', type='raster', name=raster_layer)"
   ]
  },
  {
   "cell_type": "code",
   "execution_count": null,
   "metadata": {
    "collapsed": true
   },
   "outputs": [],
   "source": []
  }
 ],
 "metadata": {
  "anaconda-cloud": {},
  "kernelspec": {
   "display_name": "Python 2",
   "language": "python",
   "name": "python2"
  },
  "language_info": {
   "codemirror_mode": {
    "name": "ipython",
    "version": 2
   },
   "file_extension": ".py",
   "mimetype": "text/x-python",
   "name": "python",
   "nbconvert_exporter": "python",
   "pygments_lexer": "ipython2",
   "version": "2.7.12"
  }
 },
 "nbformat": 4,
 "nbformat_minor": 1
}
