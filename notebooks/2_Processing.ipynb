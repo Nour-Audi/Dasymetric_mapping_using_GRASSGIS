{
 "cells": [
  {
   "cell_type": "code",
   "execution_count": 1,
   "metadata": {
    "collapsed": true,
    "scrolled": true
   },
   "outputs": [],
   "source": [
    "%load_ext autoreload\n",
    "%autoreload 2   # Change to %autoreload when development phase is over"
   ]
  },
  {
   "cell_type": "markdown",
   "metadata": {},
   "source": [
    "# Table of Contents"
   ]
  },
  {
   "cell_type": "markdown",
   "metadata": {},
   "source": [
    "<div id=\"toc\"></div>"
   ]
  },
  {
   "cell_type": "markdown",
   "metadata": {},
   "source": [
    "The following cell is a Javascript section of code for building the Jupyter notebook's table of content."
   ]
  },
  {
   "cell_type": "code",
   "execution_count": 2,
   "metadata": {
    "scrolled": false
   },
   "outputs": [
    {
     "data": {
      "application/javascript": [
       "$.getScript('https://kmahelona.github.io/ipython_notebook_goodies/ipython_notebook_toc.js')"
      ],
      "text/plain": [
       "<IPython.core.display.Javascript object>"
      ]
     },
     "metadata": {},
     "output_type": "display_data"
    }
   ],
   "source": [
    "%%javascript\n",
    "$.getScript('https://kmahelona.github.io/ipython_notebook_goodies/ipython_notebook_toc.js')"
   ]
  },
  {
   "cell_type": "markdown",
   "metadata": {},
   "source": [
    "**-_-_-_-_-_-_-_-_-_-_-_-_-_-_-_-_-_-_-_-_-_-_-_-_-_-_-_-_-_-_-_-_-_-_-_-_-_-_-_-_-_-_-_-_-_-_-_-_-_-_-_-_-_-_-_-_-_-_-_-_-**"
   ]
  },
  {
   "cell_type": "markdown",
   "metadata": {},
   "source": [
    "# Define working environment"
   ]
  },
  {
   "cell_type": "markdown",
   "metadata": {},
   "source": [
    "**Import libraries**"
   ]
  },
  {
   "cell_type": "code",
   "execution_count": 3,
   "metadata": {
    "collapsed": true
   },
   "outputs": [],
   "source": [
    "## Import libraries needed for setting parameters of operating system \n",
    "import os\n",
    "import sys\n",
    "## Import library for temporary files creation \n",
    "import tempfile \n",
    "## Import library for time management \n",
    "import time\n",
    "## Import multiprocessing and functools libraries\n",
    "import multiprocessing\n",
    "from multiprocessing import Pool\n",
    "from functools import partial\n",
    "## Import pickle for transfert variable between notebooks\n",
    "import pickle"
   ]
  },
  {
   "cell_type": "code",
   "execution_count": 4,
   "metadata": {
    "collapsed": true
   },
   "outputs": [],
   "source": [
    "## Import Pandas library\n",
    "import pandas as pd\n",
    "## Import Numpy library\n",
    "import numpy as np"
   ]
  },
  {
   "cell_type": "code",
   "execution_count": 5,
   "metadata": {
    "scrolled": true
   },
   "outputs": [],
   "source": [
    "## Import Matplotlib \n",
    "import matplotlib as mpl \n",
    "## agg backend is used to create plot as a .png file\n",
    "mpl.use('agg')\n",
    "## Import Matplotlib.pyplot for creating graphs\n",
    "import matplotlib.pyplot as plt "
   ]
  },
  {
   "cell_type": "code",
   "execution_count": 6,
   "metadata": {
    "collapsed": true
   },
   "outputs": [],
   "source": [
    "%matplotlib inline"
   ]
  },
  {
   "cell_type": "markdown",
   "metadata": {},
   "source": [
    "** Add folder with SCR provided belong to this notebook**"
   ]
  },
  {
   "cell_type": "code",
   "execution_count": 7,
   "metadata": {
    "scrolled": false
   },
   "outputs": [],
   "source": [
    "# Add local module to the path\n",
    "src = os.path.abspath('../SRC')\n",
    "if src not in sys.path:\n",
    "    sys.path.append(src)"
   ]
  },
  {
   "cell_type": "markdown",
   "metadata": {},
   "source": [
    "** Environment variables when working on Linux Mint **"
   ]
  },
  {
   "cell_type": "code",
   "execution_count": 8,
   "metadata": {
    "collapsed": true
   },
   "outputs": [],
   "source": [
    "import environ_variables as envi"
   ]
  },
  {
   "cell_type": "code",
   "execution_count": 9,
   "metadata": {
    "scrolled": true
   },
   "outputs": [
    {
     "name": "stdout",
     "output_type": "stream",
     "text": [
      "MDMSESSION = mate \t\n",
      "MANDATORY_PATH = /usr/share/gconf/mate.mandatory.path \t\n",
      "MATE_DESKTOP_SESSION_ID = this-is-deprecated \t\n",
      "LESSOPEN = | /usr/bin/lesspipe %s \t\n",
      "MDM_LANG = fr_BE.UTF-8 \t\n",
      "LOGNAME = tais \t\n",
      "USER = tais \t\n",
      "HOME = /home/tais \t\n",
      "XDG_VTNR = 7 \t\n",
      "PATH = /usr/local/bin:/home/tais/BIN:/home/tais/bin:/home/tais/.local/bin:/usr/local/sbin:/usr/local/bin:/usr/sbin:/usr/bin:/sbin:/bin:/usr/games:/usr/local/games:/home/tais/SRC/GRASS/grass_trunk/dist.x86_64-pc-linux-gnu/bin:/home/tais/SRC/GRASS/grass_trunk/dist.x86_64-pc-linux-gnu/script:/home/tais/SRC/GRASS/grass_trunk/dist.x86_64-pc-linux-gnu/lib \t\n",
      "CLICOLOR = 1 \t\n",
      "DISPLAY = :0.0 \t\n",
      "SSH_AGENT_PID = 2087 \t\n",
      "LANG = fr_BE.UTF-8 \t\n",
      "TERM = xterm-color \t\n",
      "SHELL = /bin/bash \t\n",
      "GIS_LOCK = $$ \t\n",
      "XAUTHORITY = /home/tais/.Xauthority \t\n",
      "SESSION_MANAGER = local/tais-HP-Z620-Workstation:@/tmp/.ICE-unix/2016,unix/tais-HP-Z620-Workstation:/tmp/.ICE-unix/2016 \t\n",
      "SHLVL = 1 \t\n",
      "QT_LINUX_ACCESSIBILITY_ALWAYS_ON = 1 \t\n",
      "INSIDE_CAJA_PYTHON =  \t\n",
      "QT_ACCESSIBILITY = 1 \t\n",
      "LD_LIBRARY_PATH = :/home/tais/SRC/GRASS/grass_trunk/dist.x86_64-pc-linux-gnu/lib \t\n",
      "COMPIZ_CONFIG_PROFILE = mate \t\n",
      "WINDOWPATH = 7 \t\n",
      "GTK_OVERLAY_SCROLLING = 0 \t\n",
      "PYTHONPATH = :/home/tais/SRC/GRASS/grass_trunk/dist.x86_64-pc-linux-gnu/etc/python:/home/tais/SRC/GRASS/grass_trunk/dist.x86_64-pc-linux-gnu/etc/python/grass:/home/tais/SRC/GRASS/grass_trunk/dist.x86_64-pc-linux-gnu/etc/python/grass/script \t\n",
      "GISBASE = /home/tais/SRC/GRASS/grass_trunk/dist.x86_64-pc-linux-gnu \t\n",
      "CLUTTER_BACKEND = x11 \t\n",
      "USERNAME = tais \t\n",
      "XDG_SESSION_DESKTOP = mate \t\n",
      "GDM_XSERVER_LOCATION = local \t\n",
      "XDG_RUNTIME_DIR = /run/user/1000 \t\n",
      "JPY_PARENT_PID = 8179 \t\n",
      "QT_STYLE_OVERRIDE = gtk \t\n",
      "SSH_AUTH_SOCK = /run/user/1000/keyring/ssh \t\n",
      "VTE_VERSION = 4205 \t\n",
      "GDMSESSION = mate \t\n",
      "GISRC = /home/tais/.grass7/rc \t\n",
      "GIT_PAGER = cat \t\n",
      "XDG_CONFIG_DIRS = /etc/xdg/xdg-mate:/etc/xdg \t\n",
      "XDG_CURRENT_DESKTOP = MATE \t\n",
      "XDG_SESSION_ID = c1 \t\n",
      "DBUS_SESSION_BUS_ADDRESS = unix:abstract=/tmp/dbus-LtwjjVKGOk,guid=51f8bfbf84e9f736cd06f2fd5bee9351 \t\n",
      "_ = /usr/local/bin/jupyter \t\n",
      "XDG_SESSION_COOKIE = 8441891e86e24d76b9616edf516d5734-1542361937.156819-605432184 \t\n",
      "DESKTOP_SESSION = mate \t\n",
      "WINDOWID = 94371846 \t\n",
      "LESSCLOSE = /usr/bin/lesspipe %s %s \t\n",
      "DEFAULTS_PATH = /usr/share/gconf/mate.default.path \t\n",
      "MPLBACKEND = module://ipykernel.pylab.backend_inline \t\n",
      "MDM_XSERVER_LOCATION = local \t\n",
      "GTK_MODULES = gail:atk-bridge \t\n",
      "XDG_DATA_DIRS = /usr/share/mate:/usr/local/share/:/usr/share/:/usr/share/mdm/ \t\n",
      "PWD = /media/tais/data/Dropbox/ULB/MAUPP/Traitements/population_modeling \t\n",
      "COLORTERM = mate-terminal \t\n",
      "PYTHONLIB = /usr/lib/python2.7 \t\n",
      "LS_COLORS = rs=0:di=01;34:ln=01;36:mh=00:pi=40;33:so=01;35:do=01;35:bd=40;33;01:cd=40;33;01:or=40;31;01:mi=00:su=37;41:sg=30;43:ca=30;41:tw=30;42:ow=34;42:st=37;44:ex=01;32:*.tar=01;31:*.tgz=01;31:*.arc=01;31:*.arj=01;31:*.taz=01;31:*.lha=01;31:*.lz4=01;31:*.lzh=01;31:*.lzma=01;31:*.tlz=01;31:*.txz=01;31:*.tzo=01;31:*.t7z=01;31:*.zip=01;31:*.z=01;31:*.Z=01;31:*.dz=01;31:*.gz=01;31:*.lrz=01;31:*.lz=01;31:*.lzo=01;31:*.xz=01;31:*.bz2=01;31:*.bz=01;31:*.tbz=01;31:*.tbz2=01;31:*.tz=01;31:*.deb=01;31:*.rpm=01;31:*.jar=01;31:*.war=01;31:*.ear=01;31:*.sar=01;31:*.rar=01;31:*.alz=01;31:*.ace=01;31:*.zoo=01;31:*.cpio=01;31:*.7z=01;31:*.rz=01;31:*.cab=01;31:*.jpg=01;35:*.jpeg=01;35:*.gif=01;35:*.bmp=01;35:*.pbm=01;35:*.pgm=01;35:*.ppm=01;35:*.tga=01;35:*.xbm=01;35:*.xpm=01;35:*.tif=01;35:*.tiff=01;35:*.png=01;35:*.svg=01;35:*.svgz=01;35:*.mng=01;35:*.pcx=01;35:*.mov=01;35:*.mpg=01;35:*.mpeg=01;35:*.m2v=01;35:*.mkv=01;35:*.webm=01;35:*.ogm=01;35:*.mp4=01;35:*.m4v=01;35:*.mp4v=01;35:*.vob=01;35:*.qt=01;35:*.nuv=01;35:*.wmv=01;35:*.asf=01;35:*.rm=01;35:*.rmvb=01;35:*.flc=01;35:*.avi=01;35:*.fli=01;35:*.flv=01;35:*.gl=01;35:*.dl=01;35:*.xcf=01;35:*.xwd=01;35:*.yuv=01;35:*.cgm=01;35:*.emf=01;35:*.ogv=01;35:*.ogx=01;35:*.aac=00;36:*.au=00;36:*.flac=00;36:*.m4a=00;36:*.mid=00;36:*.midi=00;36:*.mka=00;36:*.mp3=00;36:*.mpc=00;36:*.ogg=00;36:*.ra=00;36:*.wav=00;36:*.oga=00;36:*.opus=00;36:*.spx=00;36:*.xspf=00;36: \t\n",
      "PAGER = cat \t\n",
      "XDG_SEAT = seat0 \t\n"
     ]
    }
   ],
   "source": [
    "# Set environmental variables\n",
    "envi.setup_environmental_variables() \n",
    "# Display current environment variables of your computer\n",
    "envi.print_environmental_variables()"
   ]
  },
  {
   "cell_type": "markdown",
   "metadata": {},
   "source": [
    "** GRASS GIS Python libraries **"
   ]
  },
  {
   "cell_type": "code",
   "execution_count": 10,
   "metadata": {
    "collapsed": true
   },
   "outputs": [],
   "source": [
    "## Import libraries needed to launch GRASS GIS in the jupyter notebook\n",
    "import grass.script.setup as gsetup\n",
    "## Import libraries needed to call GRASS using Python\n",
    "import grass.script as gscript"
   ]
  },
  {
   "cell_type": "markdown",
   "metadata": {},
   "source": [
    "**-_-_-_-_-_-_-_-_-_-_-_-_-_-_-_-_-_-_-_-_-_-_-_-_-_-_-_-_-_-_-_-_-_-_-_-_-_-_-_-_-_-_-_-_-_-_-_-_-_-_-_-_-_-_-_-_-_-_-_-_-**"
   ]
  },
  {
   "cell_type": "markdown",
   "metadata": {},
   "source": [
    "# User inputs"
   ]
  },
  {
   "cell_type": "markdown",
   "metadata": {},
   "source": [
    "Here after:\n",
    "- Enter the path to the directory you want to use as \"[GRASSDATA](https://grass.osgeo.org/programming7/loc_struct.png)\". \n",
    "- Enter the name of the location in which you want to work and its projection information in [EPSG code](http://spatialreference.org/ref/epsg/) format. Please note that the GRASSDATA folder and locations will be automatically created if not existing yet. If the location name already exists, the projection information will not be used.  \n",
    "- Enter the name you want for the mapsets which will be used later for Unsupervised Segmentation Parameter Optimization (USPO), Segmentation and Classification steps."
   ]
  },
  {
   "cell_type": "code",
   "execution_count": 11,
   "metadata": {
    "collapsed": true
   },
   "outputs": [],
   "source": [
    "## Define a empty dictionnary for saving user inputs\n",
    "user={}"
   ]
  },
  {
   "cell_type": "code",
   "execution_count": 12,
   "metadata": {
    "collapsed": true
   },
   "outputs": [],
   "source": [
    "## Enter the path to GRASSDATA folder\n",
    "user[\"gisdb\"] = \"/media/tais/My_Book_1/MAUPP/Traitement/Population_modelling_dasymetry/GRASSDATA\"\n",
    "## Enter the name of the location (existing or for a new one)\n",
    "user[\"location\"] = \"Dakar_32628\"\n",
    "## Enter the EPSG code for this location \n",
    "user[\"locationepsg\"] = \"32628\"\n",
    "## Enter the name of the permanent mapset\n",
    "user[\"permanent_mapset\"] = \"PERMANENT\"\n",
    "## Enter the name of a working mapset\n",
    "user[\"dasym_mapset\"] = \"DASYMETRY\""
   ]
  },
  {
   "cell_type": "code",
   "execution_count": 13,
   "metadata": {
    "collapsed": true
   },
   "outputs": [],
   "source": [
    "# Set the name of the layers\n",
    "Land_cover = 'landcover'  # VHR Land cover map\n",
    "Land_use = 'landuse' # VHR Land use map\n",
    "mr_builtup = 'MR_builtup' # MR built-up map\n",
    "mr_built_pixelvalue = '1' # The value of built pixels in the MR built-up map\n",
    "## Name of the column containing the population count\n",
    "population_column = \"POPULATION\"\n",
    "## Name of the column containing the density (response variable)\n",
    "response_column = \"popdens\"\n",
    "\n",
    "# Set a name for the empty grid layer\n",
    "clumped_grid = 'clumped_grid'\n",
    "# Set the resolution of the grid\n",
    "tile_size = 100"
   ]
  },
  {
   "cell_type": "markdown",
   "metadata": {},
   "source": [
    "** Functions defined by the user **"
   ]
  },
  {
   "cell_type": "code",
   "execution_count": 14,
   "metadata": {
    "collapsed": true
   },
   "outputs": [],
   "source": [
    "# Import function that check existance and create GRASS GIS database folder if needed\n",
    "from grass_database import check_gisdb, check_location, check_mapset, working_mapset"
   ]
  },
  {
   "cell_type": "code",
   "execution_count": 15,
   "metadata": {
    "collapsed": true
   },
   "outputs": [],
   "source": [
    "## Import functions for processing time information\n",
    "from processing_time import start_processing, print_processing_time"
   ]
  },
  {
   "cell_type": "code",
   "execution_count": 16,
   "metadata": {
    "collapsed": true
   },
   "outputs": [],
   "source": [
    "# Import function that generate a random name in the GRASS GIS environement\n",
    "from random_layer_name import random_layer_name"
   ]
  },
  {
   "cell_type": "code",
   "execution_count": 17,
   "metadata": {
    "collapsed": true
   },
   "outputs": [],
   "source": [
    "# Import function that create color file for raster\n",
    "from colorise_raster import create_color_rule"
   ]
  },
  {
   "cell_type": "code",
   "execution_count": 18,
   "metadata": {
    "collapsed": true
   },
   "outputs": [],
   "source": [
    "# Import function that clip multiple raster according to extention of a vector layer\n",
    "from create_clumped_grid import create_clumped_grid"
   ]
  },
  {
   "cell_type": "code",
   "execution_count": 19,
   "metadata": {
    "collapsed": true
   },
   "outputs": [],
   "source": [
    "# Import function that create temp directories\n",
    "from create_tempdirs import create_tempdirs"
   ]
  },
  {
   "cell_type": "code",
   "execution_count": 20,
   "metadata": {
    "collapsed": true
   },
   "outputs": [],
   "source": [
    "# Import function that rasterise a polygon layer and save the 'gridded' version as vector\n",
    "from gridded_bound import gridded_admin_boundaries"
   ]
  },
  {
   "cell_type": "code",
   "execution_count": 21,
   "metadata": {
    "collapsed": true
   },
   "outputs": [],
   "source": [
    "# Import function that get list of class of categorical raster\n",
    "from data_prep import data_prep"
   ]
  },
  {
   "cell_type": "code",
   "execution_count": 25,
   "metadata": {
    "collapsed": true
   },
   "outputs": [],
   "source": [
    "# Import csv functions (joint etc)\n",
    "import csv_func\n",
    "from csv_func import ordered_list_of_path, join_2csv, join_multiplecsv"
   ]
  },
  {
   "cell_type": "markdown",
   "metadata": {
    "collapsed": true
   },
   "source": [
    "**Check for existance of GRASSDATA folder, location and mapsets**"
   ]
  },
  {
   "cell_type": "markdown",
   "metadata": {},
   "source": [
    "Here after, the python script will check if GRASSDATA folder, locations and mapsets already exist. If not, they will be automatically created."
   ]
  },
  {
   "cell_type": "code",
   "execution_count": 26,
   "metadata": {
    "scrolled": true
   },
   "outputs": [
    {
     "name": "stdout",
     "output_type": "stream",
     "text": [
      "GRASSDATA folder already exist\n"
     ]
    }
   ],
   "source": [
    "# Check if the GRASS GIS database exists and create it if not\n",
    "check_gisdb(user[\"gisdb\"])"
   ]
  },
  {
   "cell_type": "code",
   "execution_count": 27,
   "metadata": {},
   "outputs": [
    {
     "name": "stdout",
     "output_type": "stream",
     "text": [
      "Location Dakar_32628 already exist\n"
     ]
    }
   ],
   "source": [
    "# Check if the location exists and create it if not, with the CRS defined by the epsg code \n",
    "check_location(user[\"gisdb\"],user[\"location\"],user[\"locationepsg\"])"
   ]
  },
  {
   "cell_type": "code",
   "execution_count": 28,
   "metadata": {},
   "outputs": [
    {
     "name": "stdout",
     "output_type": "stream",
     "text": [
      "'PERMANENT' mapset already exists in location 'Dakar_32628'\n"
     ]
    }
   ],
   "source": [
    "# Check if the mapset exists and create it if not\n",
    "check_mapset(user[\"gisdb\"],user[\"location\"],user[\"permanent_mapset\"])"
   ]
  },
  {
   "cell_type": "code",
   "execution_count": 29,
   "metadata": {},
   "outputs": [
    {
     "name": "stdout",
     "output_type": "stream",
     "text": [
      "'DASYMETRY' mapset already exists in location 'Dakar_32628'\n"
     ]
    }
   ],
   "source": [
    "# Check if the mapset exists and create it if not\n",
    "check_mapset(user[\"gisdb\"],user[\"location\"],user[\"dasym_mapset\"])"
   ]
  },
  {
   "cell_type": "markdown",
   "metadata": {},
   "source": [
    "**-_-_-_-_-_-_-_-_-_-_-_-_-_-_-_-_-_-_-_-_-_-_-_-_-_-_-_-_-_-_-_-_-_-_-_-_-_-_-_-_-_-_-_-_-_-_-_-_-_-_-_-_-_-_-_-_-_-_-_-_-**"
   ]
  },
  {
   "cell_type": "markdown",
   "metadata": {},
   "source": [
    "# Launch GRASS GIS working session on DASY_COVAR mapset"
   ]
  },
  {
   "cell_type": "code",
   "execution_count": 30,
   "metadata": {},
   "outputs": [
    {
     "name": "stdout",
     "output_type": "stream",
     "text": [
      "You are now working in mapset 'DASYMETRY'\n"
     ]
    }
   ],
   "source": [
    "# Change the current working GRASS GIS session mapset\n",
    "working_mapset(user[\"gisdb\"],user[\"location\"],user[\"dasym_mapset\"])"
   ]
  },
  {
   "cell_type": "markdown",
   "metadata": {},
   "source": [
    "### Set several variables and parameter"
   ]
  },
  {
   "cell_type": "code",
   "execution_count": 31,
   "metadata": {
    "collapsed": true
   },
   "outputs": [],
   "source": [
    "# Declare list that will contain the name/paths of temporary layers/files\n",
    "TMP_MAPS = []\n",
    "TMP_CSV = []"
   ]
  },
  {
   "cell_type": "code",
   "execution_count": 32,
   "metadata": {
    "collapsed": true
   },
   "outputs": [],
   "source": [
    "# Declare strings that will contain the log of the processing\n",
    "log_text = \"\"\n",
    "log_text_extend = \"\""
   ]
  },
  {
   "cell_type": "code",
   "execution_count": 33,
   "metadata": {
    "collapsed": true
   },
   "outputs": [],
   "source": [
    "# Set the number of job that could be runned in parallel\n",
    "n_jobs = 15\n",
    "# Check if the computer has enough cores\n",
    "if(n_jobs >= multiprocessing.cpu_count()):\n",
    "    gscript.fatal(_(\"Requested number of jobs is > or = to available ressources. \\\n",
    "                    Try to reduce to at maximum <%s> jobs\")%(int(multiprocessing.cpu_count())-1))"
   ]
  },
  {
   "cell_type": "markdown",
   "metadata": {},
   "source": [
    "### Create temporary directories for output"
   ]
  },
  {
   "cell_type": "code",
   "execution_count": 34,
   "metadata": {},
   "outputs": [],
   "source": [
    "# Create temporary folder and get their paths\n",
    "outputdirectory_admin, outputdirectory_grid = create_tempdirs([\"admin_level\", \"grid_level\"])"
   ]
  },
  {
   "cell_type": "markdown",
   "metadata": {
    "collapsed": true
   },
   "source": [
    "# Data preparation"
   ]
  },
  {
   "cell_type": "markdown",
   "metadata": {
    "collapsed": true
   },
   "source": [
    "## Create a clumped grid for dasymetry"
   ]
  },
  {
   "cell_type": "markdown",
   "metadata": {
    "collapsed": true
   },
   "source": [
    "This grid will be the reference grid for re-allocation of population count."
   ]
  },
  {
   "cell_type": "code",
   "execution_count": 35,
   "metadata": {},
   "outputs": [],
   "source": [
    "# Create clumped grid\n",
    "create_clumped_grid(tile_size=tile_size, mask_raster=Land_cover, output=clumped_grid)"
   ]
  },
  {
   "cell_type": "markdown",
   "metadata": {},
   "source": [
    "## Create layers with grid boundary for both levels"
   ]
  },
  {
   "cell_type": "code",
   "execution_count": 36,
   "metadata": {},
   "outputs": [],
   "source": [
    "# Create layer with boundaries corresponding to the grid \n",
    "gridded_admin_units, gridded_vector = gridded_admin_boundaries(\"admin_level0\", 'cluster', \n",
    "                                                               response_column, clumped_grid)"
   ]
  },
  {
   "cell_type": "markdown",
   "metadata": {},
   "source": [
    "## Get list of values from categorical raster (land cover and land use)"
   ]
  },
  {
   "cell_type": "code",
   "execution_count": 37,
   "metadata": {},
   "outputs": [
    {
     "name": "stdout",
     "output_type": "stream",
     "text": [
      "Classes of raster 'landcover' used: 10,22,23,33,34,45,111,112,113\n"
     ]
    }
   ],
   "source": [
    "# Data preparation : extract list of classes from the Land Cover\n",
    "lc_classes_list = data_prep(Land_cover)[2]\n",
    "message=\"Classes of raster '\"+str(Land_cover)+\"' used: \"+\",\".join(lc_classes_list)\n",
    "log_text+=message+'\\n'\n",
    "print message"
   ]
  },
  {
   "cell_type": "code",
   "execution_count": 38,
   "metadata": {},
   "outputs": [
    {
     "name": "stdout",
     "output_type": "stream",
     "text": [
      "Classes of raster 'landuse' used: 1,2,3,4,5,6,7,8\n"
     ]
    }
   ],
   "source": [
    "# Data preparation : extract list of classes from the land use\n",
    "lu_classes_list = data_prep(Land_use)[2]\n",
    "message=\"Classes of raster '\"+str(Land_use)+\"' used: \"+\",\".join(lu_classes_list)\n",
    "log_text+=message+'\\n'\n",
    "print message"
   ]
  },
  {
   "cell_type": "markdown",
   "metadata": {},
   "source": [
    "## Compute proportion of each land cover and land use class"
   ]
  },
  {
   "cell_type": "code",
   "execution_count": 48,
   "metadata": {
    "collapsed": true
   },
   "outputs": [],
   "source": [
    "# Import function that compute proportion of each class of categorical raster in admin units (or raster segments)\n",
    "from categorical_prop import proportion_class"
   ]
  },
  {
   "cell_type": "markdown",
   "metadata": {},
   "source": [
    "### VHR Land cover proportions"
   ]
  },
  {
   "cell_type": "code",
   "execution_count": 49,
   "metadata": {
    "scrolled": false
   },
   "outputs": [
    {
     "data": {
      "text/plain": [
       "'Proportion of each class of categorical raster computed in: 3 minutes and 5.5 seconds'"
      ]
     },
     "execution_count": 49,
     "metadata": {},
     "output_type": "execute_result"
    }
   ],
   "source": [
    "# Save time at starting\n",
    "start = start_processing() \n",
    "## Compute proportion of each class of categorical raster (parallel processing).\n",
    "gscript.run_command('g.region', raster=Land_cover.split(\"@\")[0])  #Set the region to match the extend of the raster\n",
    "p=Pool(n_jobs) #Create a 'pool' of processes and launch them using 'map' function\n",
    "func=partial(proportion_class,Land_cover.split(\"@\")[0]) # Set fixed argument of the function\n",
    "output=p.map(func,lc_classes_list) # Launch the processes for as many items in the list (if function with a return, the returned results are ordered thanks to 'map' function)\n",
    "p.close()\n",
    "p.join()\n",
    "temp_rasterlist,temp_csvlist_1,temp_csvlist_2=zip(*output)\n",
    "[TMP_MAPS.append(x) for x in temp_rasterlist]  # Append the name of binary rasters to the list of temporary maps\n",
    "[TMP_CSV.append(x) for x in temp_csvlist_1]  # Append the paths to .csv files to the list of temporary .csv\n",
    "[TMP_CSV.append(x) for x in temp_csvlist_2]  # Append the paths to .csv files to the list of temporary .csv\n",
    "# Print processing time\n",
    "print_processing_time(begintime=start, printmessage=\"Proportion of each class of categorical raster computed in: \")  "
   ]
  },
  {
   "cell_type": "markdown",
   "metadata": {},
   "source": [
    "### VHR Land use proportions"
   ]
  },
  {
   "cell_type": "code",
   "execution_count": 50,
   "metadata": {
    "scrolled": false
   },
   "outputs": [
    {
     "data": {
      "text/plain": [
       "'Proportion of each class of categorical raster computed in: 2 minutes and 49.8 seconds'"
      ]
     },
     "execution_count": 50,
     "metadata": {},
     "output_type": "execute_result"
    }
   ],
   "source": [
    "# Save time at starting\n",
    "start = start_processing() \n",
    "## Compute proportion of each class of categorical raster (parallel processing).\n",
    "gscript.run_command('g.region', raster=Land_use.split(\"@\")[0])  #Set the region to match the extend of the raster\n",
    "p=Pool(n_jobs) #Create a 'pool' of processes and launch them using 'map' function\n",
    "func=partial(proportion_class,Land_use.split(\"@\")[0]) # Set fixed argument of the function\n",
    "output=p.map(func,lu_classes_list) # Launch the processes for as many items in the list (if function with a return, the returned results are ordered thanks to 'map' function)\n",
    "p.close()\n",
    "p.join()\n",
    "temp_rasterlist,temp_csvlist_1,temp_csvlist_2=zip(*output)\n",
    "[TMP_MAPS.append(x) for x in temp_rasterlist]  # Append the name of binary rasters to the list of temporary maps\n",
    "[TMP_CSV.append(x) for x in temp_csvlist_1]  # Append the paths to .csv files to the list of temporary .csv\n",
    "[TMP_CSV.append(x) for x in temp_csvlist_2]  # Append the paths to .csv files to the list of temporary .csv\n",
    "# Print processing time\n",
    "print_processing_time(begintime=start, printmessage=\"Proportion of each class of categorical raster computed in: \")  "
   ]
  },
  {
   "cell_type": "markdown",
   "metadata": {},
   "source": [
    "### MR Built-up proportion"
   ]
  },
  {
   "cell_type": "code",
   "execution_count": 51,
   "metadata": {
    "scrolled": true
   },
   "outputs": [
    {
     "name": "stdout",
     "output_type": "stream",
     "text": [
      "An 'ZeroDivisionError' has been registered for the following <cat>98\n",
      "97\n",
      "96\n",
      "143\n",
      "17\n",
      "61\n",
      "62\n",
      "79\n",
      "78\n",
      "31\n",
      "30\n",
      "120\n",
      "119\n",
      "118\n",
      "46\n",
      "45\n"
     ]
    },
    {
     "data": {
      "text/plain": [
       "'Proportion of MR Built-up raster computed in: 3.5 seconds'"
      ]
     },
     "execution_count": 51,
     "metadata": {},
     "output_type": "execute_result"
    }
   ],
   "source": [
    "# Save time at starting\n",
    "start = start_processing() \n",
    "## Compute proportion of each class of categorical raster (parallel processing).\n",
    "gscript.run_command('g.region', raster=mr_builtup.split(\"@\")[0])  #Set the region to match the extend of the raster\n",
    "temp_rasterlist,temp_csvlist_1,temp_csvlist_2 = proportion_class(mr_builtup.split(\"@\")[0], mr_built_pixelvalue)\n",
    "TMP_MAPS.append(temp_rasterlist)  # Append the name of binary rasters to the list of temporary maps\n",
    "TMP_CSV.append(temp_csvlist_1)  # Append the paths to .csv files to the list of temporary .csv\n",
    "TMP_CSV.append(temp_csvlist_2)  # Append the paths to .csv files to the list of temporary .csv\n",
    "# Print processing time\n",
    "print_processing_time(begintime=start, printmessage=\"Proportion of MR Built-up raster computed in: \")  "
   ]
  },
  {
   "cell_type": "markdown",
   "metadata": {},
   "source": [
    "### Join all .csv files with statistics"
   ]
  },
  {
   "cell_type": "code",
   "execution_count": 52,
   "metadata": {},
   "outputs": [],
   "source": [
    "## Join .csv files of statistics\n",
    "for directory in [outputdirectory_grid, outputdirectory_admin]:\n",
    "    allstatfile=os.path.join(directory,\"all_stats.csv\")\n",
    "    pattern_A=\"LC_*_prop.csv\"   #Add all csv with proportions of Land cover classes\n",
    "    pattern_B=\"LU_*_prop.csv\"  #Add all csv with proportions of Land use classes\n",
    "    pattern_C=\"MR_*_prop.csv\" \n",
    "    list_paths = ordered_list_of_path(directory,pattern_A,pattern_B,pattern_C)\n",
    "    join_multiplecsv(list_paths,allstatfile,separator=\",\",join='inner', fillempty='NULL', overwrite=True)"
   ]
  },
  {
   "cell_type": "markdown",
   "metadata": {},
   "source": [
    "### Visualisation of .csv files with statistics to be used"
   ]
  },
  {
   "cell_type": "markdown",
   "metadata": {},
   "source": [
    "**Admin level 0**"
   ]
  },
  {
   "cell_type": "code",
   "execution_count": 53,
   "metadata": {},
   "outputs": [
    {
     "name": "stdout",
     "output_type": "stream",
     "text": [
      "There are 31 rows in the dataframe\n"
     ]
    }
   ],
   "source": [
    "## Use pandas for preview of .csv content\n",
    "df_level0 = pd.read_csv(os.path.join(outputdirectory_admin,\"all_stats.csv\"))\n",
    "print \"There are %s rows in the dataframe\"%len(df_level0)"
   ]
  },
  {
   "cell_type": "code",
   "execution_count": 54,
   "metadata": {
    "scrolled": true
   },
   "outputs": [
    {
     "data": {
      "text/html": [
       "<div>\n",
       "<style scoped>\n",
       "    .dataframe tbody tr th:only-of-type {\n",
       "        vertical-align: middle;\n",
       "    }\n",
       "\n",
       "    .dataframe tbody tr th {\n",
       "        vertical-align: top;\n",
       "    }\n",
       "\n",
       "    .dataframe thead th {\n",
       "        text-align: right;\n",
       "    }\n",
       "</style>\n",
       "<table border=\"1\" class=\"dataframe\">\n",
       "  <thead>\n",
       "    <tr style=\"text-align: right;\">\n",
       "      <th></th>\n",
       "      <th>cat</th>\n",
       "      <th>LC_10_proportion</th>\n",
       "      <th>LC_22_proportion</th>\n",
       "      <th>LC_23_proportion</th>\n",
       "      <th>LC_33_proportion</th>\n",
       "      <th>LC_34_proportion</th>\n",
       "      <th>LC_45_proportion</th>\n",
       "      <th>LC_111_proportion</th>\n",
       "      <th>LC_112_proportion</th>\n",
       "      <th>LC_113_proportion</th>\n",
       "      <th>LU_1_proportion</th>\n",
       "      <th>LU_2_proportion</th>\n",
       "      <th>LU_3_proportion</th>\n",
       "      <th>LU_4_proportion</th>\n",
       "      <th>LU_5_proportion</th>\n",
       "      <th>LU_6_proportion</th>\n",
       "      <th>LU_7_proportion</th>\n",
       "      <th>LU_8_proportion</th>\n",
       "      <th>MR_1_proportion</th>\n",
       "    </tr>\n",
       "  </thead>\n",
       "  <tbody>\n",
       "    <tr>\n",
       "      <th>23</th>\n",
       "      <td>74</td>\n",
       "      <td>5.44609</td>\n",
       "      <td>5.91458</td>\n",
       "      <td>2.68124</td>\n",
       "      <td>0.00000</td>\n",
       "      <td>0.00000</td>\n",
       "      <td>49.08486</td>\n",
       "      <td>21.50611</td>\n",
       "      <td>13.46562</td>\n",
       "      <td>1.90150</td>\n",
       "      <td>0.00000</td>\n",
       "      <td>0.00000</td>\n",
       "      <td>3.45283</td>\n",
       "      <td>26.16983</td>\n",
       "      <td>52.79673</td>\n",
       "      <td>16.88105</td>\n",
       "      <td>0.00000</td>\n",
       "      <td>0.69956</td>\n",
       "      <td>89.27543</td>\n",
       "    </tr>\n",
       "    <tr>\n",
       "      <th>24</th>\n",
       "      <td>77</td>\n",
       "      <td>1.36316</td>\n",
       "      <td>1.31126</td>\n",
       "      <td>0.30541</td>\n",
       "      <td>0.00000</td>\n",
       "      <td>0.00000</td>\n",
       "      <td>38.92091</td>\n",
       "      <td>33.22673</td>\n",
       "      <td>21.52354</td>\n",
       "      <td>3.34899</td>\n",
       "      <td>0.00000</td>\n",
       "      <td>0.00000</td>\n",
       "      <td>0.62612</td>\n",
       "      <td>0.24419</td>\n",
       "      <td>83.74707</td>\n",
       "      <td>7.59626</td>\n",
       "      <td>4.97949</td>\n",
       "      <td>2.80686</td>\n",
       "      <td>91.02322</td>\n",
       "    </tr>\n",
       "    <tr>\n",
       "      <th>25</th>\n",
       "      <td>83</td>\n",
       "      <td>8.87466</td>\n",
       "      <td>2.95357</td>\n",
       "      <td>4.83873</td>\n",
       "      <td>0.08761</td>\n",
       "      <td>0.00013</td>\n",
       "      <td>33.43845</td>\n",
       "      <td>25.37711</td>\n",
       "      <td>19.33013</td>\n",
       "      <td>5.09961</td>\n",
       "      <td>10.18482</td>\n",
       "      <td>0.00029</td>\n",
       "      <td>0.87334</td>\n",
       "      <td>12.74738</td>\n",
       "      <td>63.29016</td>\n",
       "      <td>9.10216</td>\n",
       "      <td>2.15430</td>\n",
       "      <td>1.64754</td>\n",
       "      <td>95.53912</td>\n",
       "    </tr>\n",
       "    <tr>\n",
       "      <th>26</th>\n",
       "      <td>88</td>\n",
       "      <td>12.13554</td>\n",
       "      <td>4.77274</td>\n",
       "      <td>11.22076</td>\n",
       "      <td>0.06122</td>\n",
       "      <td>0.00476</td>\n",
       "      <td>38.60738</td>\n",
       "      <td>11.72347</td>\n",
       "      <td>13.50141</td>\n",
       "      <td>7.97272</td>\n",
       "      <td>0.00000</td>\n",
       "      <td>0.00000</td>\n",
       "      <td>5.58492</td>\n",
       "      <td>42.58864</td>\n",
       "      <td>44.30365</td>\n",
       "      <td>6.49330</td>\n",
       "      <td>0.22309</td>\n",
       "      <td>0.80640</td>\n",
       "      <td>89.98843</td>\n",
       "    </tr>\n",
       "    <tr>\n",
       "      <th>27</th>\n",
       "      <td>92</td>\n",
       "      <td>6.05789</td>\n",
       "      <td>2.15854</td>\n",
       "      <td>4.21849</td>\n",
       "      <td>0.00000</td>\n",
       "      <td>0.00154</td>\n",
       "      <td>39.25266</td>\n",
       "      <td>28.18448</td>\n",
       "      <td>16.52687</td>\n",
       "      <td>3.59954</td>\n",
       "      <td>12.02512</td>\n",
       "      <td>0.00000</td>\n",
       "      <td>2.78709</td>\n",
       "      <td>2.62003</td>\n",
       "      <td>54.90128</td>\n",
       "      <td>7.05765</td>\n",
       "      <td>17.04959</td>\n",
       "      <td>3.55924</td>\n",
       "      <td>92.10723</td>\n",
       "    </tr>\n",
       "    <tr>\n",
       "      <th>28</th>\n",
       "      <td>93</td>\n",
       "      <td>1.43462</td>\n",
       "      <td>1.10928</td>\n",
       "      <td>2.34982</td>\n",
       "      <td>0.00000</td>\n",
       "      <td>0.00000</td>\n",
       "      <td>46.41957</td>\n",
       "      <td>29.16700</td>\n",
       "      <td>15.26735</td>\n",
       "      <td>4.25236</td>\n",
       "      <td>0.00000</td>\n",
       "      <td>2.12664</td>\n",
       "      <td>5.98514</td>\n",
       "      <td>0.00000</td>\n",
       "      <td>57.44911</td>\n",
       "      <td>6.31248</td>\n",
       "      <td>20.66817</td>\n",
       "      <td>7.45846</td>\n",
       "      <td>88.22892</td>\n",
       "    </tr>\n",
       "    <tr>\n",
       "      <th>29</th>\n",
       "      <td>98</td>\n",
       "      <td>7.46917</td>\n",
       "      <td>5.18816</td>\n",
       "      <td>16.77252</td>\n",
       "      <td>1.43169</td>\n",
       "      <td>0.00234</td>\n",
       "      <td>29.03204</td>\n",
       "      <td>36.52068</td>\n",
       "      <td>3.43304</td>\n",
       "      <td>0.15036</td>\n",
       "      <td>0.00000</td>\n",
       "      <td>1.91493</td>\n",
       "      <td>0.88379</td>\n",
       "      <td>0.21648</td>\n",
       "      <td>8.23175</td>\n",
       "      <td>19.05581</td>\n",
       "      <td>65.23036</td>\n",
       "      <td>4.46688</td>\n",
       "      <td>97.11174</td>\n",
       "    </tr>\n",
       "    <tr>\n",
       "      <th>30</th>\n",
       "      <td>99</td>\n",
       "      <td>3.72483</td>\n",
       "      <td>3.31699</td>\n",
       "      <td>1.42572</td>\n",
       "      <td>0.00000</td>\n",
       "      <td>0.00220</td>\n",
       "      <td>48.56620</td>\n",
       "      <td>17.14320</td>\n",
       "      <td>20.56331</td>\n",
       "      <td>5.25756</td>\n",
       "      <td>0.00000</td>\n",
       "      <td>0.00000</td>\n",
       "      <td>6.48800</td>\n",
       "      <td>3.57705</td>\n",
       "      <td>71.63279</td>\n",
       "      <td>14.71686</td>\n",
       "      <td>0.36076</td>\n",
       "      <td>3.22453</td>\n",
       "      <td>78.68389</td>\n",
       "    </tr>\n",
       "  </tbody>\n",
       "</table>\n",
       "</div>"
      ],
      "text/plain": [
       "    cat  LC_10_proportion  LC_22_proportion  LC_23_proportion  \\\n",
       "23   74           5.44609           5.91458           2.68124   \n",
       "24   77           1.36316           1.31126           0.30541   \n",
       "25   83           8.87466           2.95357           4.83873   \n",
       "26   88          12.13554           4.77274          11.22076   \n",
       "27   92           6.05789           2.15854           4.21849   \n",
       "28   93           1.43462           1.10928           2.34982   \n",
       "29   98           7.46917           5.18816          16.77252   \n",
       "30   99           3.72483           3.31699           1.42572   \n",
       "\n",
       "    LC_33_proportion  LC_34_proportion  LC_45_proportion  LC_111_proportion  \\\n",
       "23           0.00000           0.00000          49.08486           21.50611   \n",
       "24           0.00000           0.00000          38.92091           33.22673   \n",
       "25           0.08761           0.00013          33.43845           25.37711   \n",
       "26           0.06122           0.00476          38.60738           11.72347   \n",
       "27           0.00000           0.00154          39.25266           28.18448   \n",
       "28           0.00000           0.00000          46.41957           29.16700   \n",
       "29           1.43169           0.00234          29.03204           36.52068   \n",
       "30           0.00000           0.00220          48.56620           17.14320   \n",
       "\n",
       "    LC_112_proportion  LC_113_proportion  LU_1_proportion  LU_2_proportion  \\\n",
       "23           13.46562            1.90150          0.00000          0.00000   \n",
       "24           21.52354            3.34899          0.00000          0.00000   \n",
       "25           19.33013            5.09961         10.18482          0.00029   \n",
       "26           13.50141            7.97272          0.00000          0.00000   \n",
       "27           16.52687            3.59954         12.02512          0.00000   \n",
       "28           15.26735            4.25236          0.00000          2.12664   \n",
       "29            3.43304            0.15036          0.00000          1.91493   \n",
       "30           20.56331            5.25756          0.00000          0.00000   \n",
       "\n",
       "    LU_3_proportion  LU_4_proportion  LU_5_proportion  LU_6_proportion  \\\n",
       "23          3.45283         26.16983         52.79673         16.88105   \n",
       "24          0.62612          0.24419         83.74707          7.59626   \n",
       "25          0.87334         12.74738         63.29016          9.10216   \n",
       "26          5.58492         42.58864         44.30365          6.49330   \n",
       "27          2.78709          2.62003         54.90128          7.05765   \n",
       "28          5.98514          0.00000         57.44911          6.31248   \n",
       "29          0.88379          0.21648          8.23175         19.05581   \n",
       "30          6.48800          3.57705         71.63279         14.71686   \n",
       "\n",
       "    LU_7_proportion  LU_8_proportion  MR_1_proportion  \n",
       "23          0.00000          0.69956         89.27543  \n",
       "24          4.97949          2.80686         91.02322  \n",
       "25          2.15430          1.64754         95.53912  \n",
       "26          0.22309          0.80640         89.98843  \n",
       "27         17.04959          3.55924         92.10723  \n",
       "28         20.66817          7.45846         88.22892  \n",
       "29         65.23036          4.46688         97.11174  \n",
       "30          0.36076          3.22453         78.68389  "
      ]
     },
     "execution_count": 54,
     "metadata": {},
     "output_type": "execute_result"
    }
   ],
   "source": [
    "## Display tail of the dataframe\n",
    "df_level0.tail(8)"
   ]
  },
  {
   "cell_type": "markdown",
   "metadata": {},
   "source": [
    "**Grid level**"
   ]
  },
  {
   "cell_type": "code",
   "execution_count": 55,
   "metadata": {},
   "outputs": [
    {
     "name": "stdout",
     "output_type": "stream",
     "text": [
      "There are 4195 rows in the dataframe\n"
     ]
    }
   ],
   "source": [
    "## Use pandas for preview of .csv content\n",
    "df_grid = pd.read_csv(os.path.join(outputdirectory_grid,\"all_stats.csv\"))\n",
    "print \"There are %s rows in the dataframe\"%len(df_grid)"
   ]
  },
  {
   "cell_type": "code",
   "execution_count": 56,
   "metadata": {
    "scrolled": false
   },
   "outputs": [
    {
     "data": {
      "text/html": [
       "<div>\n",
       "<style scoped>\n",
       "    .dataframe tbody tr th:only-of-type {\n",
       "        vertical-align: middle;\n",
       "    }\n",
       "\n",
       "    .dataframe tbody tr th {\n",
       "        vertical-align: top;\n",
       "    }\n",
       "\n",
       "    .dataframe thead th {\n",
       "        text-align: right;\n",
       "    }\n",
       "</style>\n",
       "<table border=\"1\" class=\"dataframe\">\n",
       "  <thead>\n",
       "    <tr style=\"text-align: right;\">\n",
       "      <th></th>\n",
       "      <th>cat</th>\n",
       "      <th>LC_10_proportion</th>\n",
       "      <th>LC_22_proportion</th>\n",
       "      <th>LC_23_proportion</th>\n",
       "      <th>LC_33_proportion</th>\n",
       "      <th>LC_34_proportion</th>\n",
       "      <th>LC_45_proportion</th>\n",
       "      <th>LC_111_proportion</th>\n",
       "      <th>LC_112_proportion</th>\n",
       "      <th>LC_113_proportion</th>\n",
       "      <th>LU_1_proportion</th>\n",
       "      <th>LU_2_proportion</th>\n",
       "      <th>LU_3_proportion</th>\n",
       "      <th>LU_4_proportion</th>\n",
       "      <th>LU_5_proportion</th>\n",
       "      <th>LU_6_proportion</th>\n",
       "      <th>LU_7_proportion</th>\n",
       "      <th>LU_8_proportion</th>\n",
       "      <th>MR_1_proportion</th>\n",
       "    </tr>\n",
       "  </thead>\n",
       "  <tbody>\n",
       "    <tr>\n",
       "      <th>4187</th>\n",
       "      <td>4188</td>\n",
       "      <td>8.46750</td>\n",
       "      <td>6.90500</td>\n",
       "      <td>1.20000</td>\n",
       "      <td>0.0</td>\n",
       "      <td>0.0</td>\n",
       "      <td>22.71250</td>\n",
       "      <td>43.93000</td>\n",
       "      <td>13.52500</td>\n",
       "      <td>3.26000</td>\n",
       "      <td>0.0</td>\n",
       "      <td>0.0</td>\n",
       "      <td>0.0</td>\n",
       "      <td>0.00000</td>\n",
       "      <td>100.00000</td>\n",
       "      <td>0.000</td>\n",
       "      <td>0.0</td>\n",
       "      <td>0.00000</td>\n",
       "      <td>100.0000</td>\n",
       "    </tr>\n",
       "    <tr>\n",
       "      <th>4188</th>\n",
       "      <td>4189</td>\n",
       "      <td>6.02250</td>\n",
       "      <td>3.20000</td>\n",
       "      <td>0.16500</td>\n",
       "      <td>0.0</td>\n",
       "      <td>0.0</td>\n",
       "      <td>29.77000</td>\n",
       "      <td>39.67250</td>\n",
       "      <td>19.48500</td>\n",
       "      <td>1.68500</td>\n",
       "      <td>0.0</td>\n",
       "      <td>0.0</td>\n",
       "      <td>0.0</td>\n",
       "      <td>0.00000</td>\n",
       "      <td>99.82500</td>\n",
       "      <td>0.175</td>\n",
       "      <td>0.0</td>\n",
       "      <td>0.00000</td>\n",
       "      <td>100.0000</td>\n",
       "    </tr>\n",
       "    <tr>\n",
       "      <th>4189</th>\n",
       "      <td>4190</td>\n",
       "      <td>2.21000</td>\n",
       "      <td>9.04250</td>\n",
       "      <td>0.96250</td>\n",
       "      <td>0.0</td>\n",
       "      <td>0.0</td>\n",
       "      <td>35.73000</td>\n",
       "      <td>34.89750</td>\n",
       "      <td>17.15750</td>\n",
       "      <td>0.00000</td>\n",
       "      <td>0.0</td>\n",
       "      <td>0.0</td>\n",
       "      <td>0.0</td>\n",
       "      <td>9.57750</td>\n",
       "      <td>87.96500</td>\n",
       "      <td>2.455</td>\n",
       "      <td>0.0</td>\n",
       "      <td>0.00250</td>\n",
       "      <td>100.0000</td>\n",
       "    </tr>\n",
       "    <tr>\n",
       "      <th>4190</th>\n",
       "      <td>4191</td>\n",
       "      <td>21.83230</td>\n",
       "      <td>2.78172</td>\n",
       "      <td>0.00000</td>\n",
       "      <td>0.0</td>\n",
       "      <td>0.0</td>\n",
       "      <td>27.70186</td>\n",
       "      <td>28.18545</td>\n",
       "      <td>15.94055</td>\n",
       "      <td>3.55812</td>\n",
       "      <td>0.0</td>\n",
       "      <td>0.0</td>\n",
       "      <td>0.0</td>\n",
       "      <td>0.00000</td>\n",
       "      <td>99.47649</td>\n",
       "      <td>0.000</td>\n",
       "      <td>0.0</td>\n",
       "      <td>0.52351</td>\n",
       "      <td>100.0000</td>\n",
       "    </tr>\n",
       "    <tr>\n",
       "      <th>4191</th>\n",
       "      <td>4192</td>\n",
       "      <td>12.41513</td>\n",
       "      <td>2.59134</td>\n",
       "      <td>0.57010</td>\n",
       "      <td>0.0</td>\n",
       "      <td>0.0</td>\n",
       "      <td>33.85074</td>\n",
       "      <td>32.48769</td>\n",
       "      <td>16.51205</td>\n",
       "      <td>1.57295</td>\n",
       "      <td>0.0</td>\n",
       "      <td>0.0</td>\n",
       "      <td>0.0</td>\n",
       "      <td>0.00000</td>\n",
       "      <td>100.00000</td>\n",
       "      <td>0.000</td>\n",
       "      <td>0.0</td>\n",
       "      <td>0.00000</td>\n",
       "      <td>100.0000</td>\n",
       "    </tr>\n",
       "    <tr>\n",
       "      <th>4192</th>\n",
       "      <td>4193</td>\n",
       "      <td>15.18500</td>\n",
       "      <td>3.56750</td>\n",
       "      <td>4.58750</td>\n",
       "      <td>0.0</td>\n",
       "      <td>0.0</td>\n",
       "      <td>34.42250</td>\n",
       "      <td>32.62250</td>\n",
       "      <td>8.70500</td>\n",
       "      <td>0.91000</td>\n",
       "      <td>0.0</td>\n",
       "      <td>0.0</td>\n",
       "      <td>0.0</td>\n",
       "      <td>0.00000</td>\n",
       "      <td>74.82000</td>\n",
       "      <td>25.180</td>\n",
       "      <td>0.0</td>\n",
       "      <td>0.00000</td>\n",
       "      <td>90.6250</td>\n",
       "    </tr>\n",
       "    <tr>\n",
       "      <th>4193</th>\n",
       "      <td>4194</td>\n",
       "      <td>8.31750</td>\n",
       "      <td>5.70250</td>\n",
       "      <td>0.92000</td>\n",
       "      <td>0.0</td>\n",
       "      <td>0.0</td>\n",
       "      <td>37.93500</td>\n",
       "      <td>21.88750</td>\n",
       "      <td>25.23750</td>\n",
       "      <td>0.00000</td>\n",
       "      <td>0.0</td>\n",
       "      <td>0.0</td>\n",
       "      <td>0.0</td>\n",
       "      <td>32.55750</td>\n",
       "      <td>49.76250</td>\n",
       "      <td>17.680</td>\n",
       "      <td>0.0</td>\n",
       "      <td>0.00000</td>\n",
       "      <td>92.1875</td>\n",
       "    </tr>\n",
       "    <tr>\n",
       "      <th>4194</th>\n",
       "      <td>4195</td>\n",
       "      <td>15.30695</td>\n",
       "      <td>2.94180</td>\n",
       "      <td>0.04207</td>\n",
       "      <td>0.0</td>\n",
       "      <td>0.0</td>\n",
       "      <td>25.66183</td>\n",
       "      <td>40.25962</td>\n",
       "      <td>14.54972</td>\n",
       "      <td>1.23802</td>\n",
       "      <td>0.0</td>\n",
       "      <td>0.0</td>\n",
       "      <td>0.0</td>\n",
       "      <td>1.82397</td>\n",
       "      <td>98.17603</td>\n",
       "      <td>0.000</td>\n",
       "      <td>0.0</td>\n",
       "      <td>0.00000</td>\n",
       "      <td>100.0000</td>\n",
       "    </tr>\n",
       "  </tbody>\n",
       "</table>\n",
       "</div>"
      ],
      "text/plain": [
       "       cat  LC_10_proportion  LC_22_proportion  LC_23_proportion  \\\n",
       "4187  4188           8.46750           6.90500           1.20000   \n",
       "4188  4189           6.02250           3.20000           0.16500   \n",
       "4189  4190           2.21000           9.04250           0.96250   \n",
       "4190  4191          21.83230           2.78172           0.00000   \n",
       "4191  4192          12.41513           2.59134           0.57010   \n",
       "4192  4193          15.18500           3.56750           4.58750   \n",
       "4193  4194           8.31750           5.70250           0.92000   \n",
       "4194  4195          15.30695           2.94180           0.04207   \n",
       "\n",
       "      LC_33_proportion  LC_34_proportion  LC_45_proportion  LC_111_proportion  \\\n",
       "4187               0.0               0.0          22.71250           43.93000   \n",
       "4188               0.0               0.0          29.77000           39.67250   \n",
       "4189               0.0               0.0          35.73000           34.89750   \n",
       "4190               0.0               0.0          27.70186           28.18545   \n",
       "4191               0.0               0.0          33.85074           32.48769   \n",
       "4192               0.0               0.0          34.42250           32.62250   \n",
       "4193               0.0               0.0          37.93500           21.88750   \n",
       "4194               0.0               0.0          25.66183           40.25962   \n",
       "\n",
       "      LC_112_proportion  LC_113_proportion  LU_1_proportion  LU_2_proportion  \\\n",
       "4187           13.52500            3.26000              0.0              0.0   \n",
       "4188           19.48500            1.68500              0.0              0.0   \n",
       "4189           17.15750            0.00000              0.0              0.0   \n",
       "4190           15.94055            3.55812              0.0              0.0   \n",
       "4191           16.51205            1.57295              0.0              0.0   \n",
       "4192            8.70500            0.91000              0.0              0.0   \n",
       "4193           25.23750            0.00000              0.0              0.0   \n",
       "4194           14.54972            1.23802              0.0              0.0   \n",
       "\n",
       "      LU_3_proportion  LU_4_proportion  LU_5_proportion  LU_6_proportion  \\\n",
       "4187              0.0          0.00000        100.00000            0.000   \n",
       "4188              0.0          0.00000         99.82500            0.175   \n",
       "4189              0.0          9.57750         87.96500            2.455   \n",
       "4190              0.0          0.00000         99.47649            0.000   \n",
       "4191              0.0          0.00000        100.00000            0.000   \n",
       "4192              0.0          0.00000         74.82000           25.180   \n",
       "4193              0.0         32.55750         49.76250           17.680   \n",
       "4194              0.0          1.82397         98.17603            0.000   \n",
       "\n",
       "      LU_7_proportion  LU_8_proportion  MR_1_proportion  \n",
       "4187              0.0          0.00000         100.0000  \n",
       "4188              0.0          0.00000         100.0000  \n",
       "4189              0.0          0.00250         100.0000  \n",
       "4190              0.0          0.52351         100.0000  \n",
       "4191              0.0          0.00000         100.0000  \n",
       "4192              0.0          0.00000          90.6250  \n",
       "4193              0.0          0.00000          92.1875  \n",
       "4194              0.0          0.00000         100.0000  "
      ]
     },
     "execution_count": 56,
     "metadata": {},
     "output_type": "execute_result"
    }
   ],
   "source": [
    "## Display tail of the dataframe\n",
    "df_grid.tail(8)"
   ]
  },
  {
   "cell_type": "markdown",
   "metadata": {
    "collapsed": true
   },
   "source": [
    "# Export layers for archive or visualisation in another GIS"
   ]
  },
  {
   "cell_type": "markdown",
   "metadata": {
    "collapsed": true
   },
   "source": [
    "**Binary layers**"
   ]
  },
  {
   "cell_type": "code",
   "execution_count": null,
   "metadata": {
    "scrolled": false
   },
   "outputs": [],
   "source": [
    "# Set output folder\n",
    "output_folder = '/media/tais/My_Book_1/MAUPP/Traitement/Population_modelling_dasymetry/Results/Dakar/binary_rasters'\n",
    "gscript.run_command('r.mask', overwrite=True, raster='maskcopy')  # Apply mask\n",
    "# Export all binary raster\n",
    "for binary_raster in TMP_MAPS:\n",
    "    output_file = os.path.join(output_folder,'Dakar_binary_%s.tiff'%binary_raster)\n",
    "    gscript.run_command('g.region', raster=binary_raster)\n",
    "    gscript.run_command('r.out.gdal', overwrite=True, input=binary_raster, output=output_file, format='GTiff', createopt='COMPRESS=DEFLATE')\n",
    "gscript.run_command('r.mask', flags='r')  # Remove mask"
   ]
  },
  {
   "cell_type": "markdown",
   "metadata": {
    "collapsed": true
   },
   "source": [
    "**Create VHR built-up binary (classes 111,112,113)**"
   ]
  },
  {
   "cell_type": "code",
   "execution_count": null,
   "metadata": {
    "collapsed": true,
    "scrolled": false
   },
   "outputs": [],
   "source": [
    "# Set output folder\n",
    "output_folder = '/media/tais/My_Book_1/MAUPP/Traitement/Population_modelling_dasymetry/Results/Dakar/binary_rasters'\n",
    "gscript.run_command('r.mask', overwrite=True, raster='maskcopy')  # Apply mask\n",
    "vhr_builtup = 'VHR_builtup'\n",
    "gscript.use_temp_region()  # Define temp region\n",
    "gscript.run_command('g.region', raster=Land_cover)\n",
    "gscript.run_command('r.mapcalc', \n",
    "                    expression='%s=if(%s==111,111,if(%s==112,112,if(%s==113,113,0)))'%(vhr_builtup,Land_cover,Land_cover,Land_cover),\n",
    "                    overwrite=True, quiet=True) # Mapcalc to create binary raster for the expected class 'cl'\n",
    "# Export raster\n",
    "output_file = os.path.join(output_folder,'Dakar_%s.tiff'%vhr_builtup)\n",
    "gscript.run_command('r.out.gdal', overwrite=True, input=vhr_builtup, output=output_file, format='GTiff', createopt='COMPRESS=DEFLATE')\n",
    "gscript.run_command('r.mask', flags='r')  # Remove mask\n",
    "gscript.del_temp_region() # Remove temp region"
   ]
  },
  {
   "cell_type": "markdown",
   "metadata": {
    "collapsed": true
   },
   "source": [
    "**Clumped Grid**"
   ]
  },
  {
   "cell_type": "code",
   "execution_count": null,
   "metadata": {
    "scrolled": true
   },
   "outputs": [],
   "source": [
    "# Set output folder\n",
    "output_folder = '/media/tais/My_Book_1/MAUPP/Traitement/Population_modelling_dasymetry/Results/Dakar'\n",
    "# Export clumped grid\n",
    "output_file = os.path.join(output_folder,'Dakar_%s.tiff'%clumped_grid)\n",
    "gscript.run_command('g.region', raster=clumped_grid)\n",
    "gscript.run_command('r.out.gdal', overwrite=True, input=clumped_grid, output=output_file, format='GTiff', createopt='COMPRESS=DEFLATE')"
   ]
  },
  {
   "cell_type": "markdown",
   "metadata": {
    "collapsed": true
   },
   "source": [
    "**Gridded administrative units (level0)**"
   ]
  },
  {
   "cell_type": "code",
   "execution_count": null,
   "metadata": {},
   "outputs": [],
   "source": [
    "# Set output folder\n",
    "output_folder = '/media/tais/My_Book_1/MAUPP/Traitement/Population_modelling_dasymetry/Results/Dakar'\n",
    "# Export gridded admin units (level0)\n",
    "output_file = os.path.join(output_folder,'Dakar_%s.shp'%gridded_vector)\n",
    "gscript.run_command('v.out.ogr', overwrite=True, flags='m', type='area', \n",
    "                    input=gridded_vector, output=output_file, format='ESRI_Shapefile')"
   ]
  },
  {
   "cell_type": "markdown",
   "metadata": {},
   "source": [
    "# Random Forest for creation of weights"
   ]
  },
  {
   "cell_type": "code",
   "execution_count": 177,
   "metadata": {
    "collapsed": true
   },
   "outputs": [],
   "source": [
    "# Minimum feature importance for a feature to be kept in the final model\n",
    "min_fimportance = 0.00\n",
    "#min_fimportance = 0.05"
   ]
  },
  {
   "cell_type": "code",
   "execution_count": 112,
   "metadata": {},
   "outputs": [],
   "source": [
    "# Parameter for the Grid Search for hyperparameter optimization\n",
    "param_grid = {'oob_score': [True],'bootstrap': [True],\n",
    "              'max_features': ['sqrt',0.1,0.2,0.3,0.4,0.5],\n",
    "              'n_estimators': [50, 150, 300, 500, 700]}\n",
    "#try: literal_eval(param_grid)\n",
    "#except: gscript.fatal(_(\"The syntax of the Python dictionary with model parameter is not as expected. Please refer to the manual\"))"
   ]
  },
  {
   "cell_type": "code",
   "execution_count": 188,
   "metadata": {},
   "outputs": [],
   "source": [
    "# Kfold parameter\n",
    "kfold = 3\n",
    "# Is kfold valid ?\n",
    "maxfold=int(gscript.parse_command('v.db.univar', flags='g', map=gridded_vector, column='cat')['n'])   ## Corespond to leave-one-out cross-validation\n",
    "if(kfold > maxfold):\n",
    "    gscript.fatal(_(\"<kfold> parameter must be lower than %s (number of administratives area)\"%maxfold))\n",
    "if(kfold < 2):\n",
    "    gscript.fatal(_(\"<kfold> parameter must be higher than 2\"))"
   ]
  },
  {
   "cell_type": "code",
   "execution_count": 288,
   "metadata": {},
   "outputs": [],
   "source": [
    "# Name of the weighting layer to produce \n",
    "output_weighting_layer = \"test_weight\"\n",
    "# Path to the folder where to save outputs\n",
    "outputfolder = \"/media/tais/My_Book_1/MAUPP/Traitement/Population_modelling_dasymetry/Results/Dakar/Random_Forest\"\n",
    "# Name of plot with feature importance (without file extension) \n",
    "plot_name = \"RF_feature_importance\"\n",
    "# Value of built-up classes\n",
    "built_up = \"\""
   ]
  },
  {
   "cell_type": "code",
   "execution_count": 289,
   "metadata": {
    "collapsed": true
   },
   "outputs": [],
   "source": [
    "# Generate paths for output of the test\n",
    "path_plot = os.path.join(outputfolder,plot_name)"
   ]
  },
  {
   "cell_type": "code",
   "execution_count": 307,
   "metadata": {},
   "outputs": [],
   "source": [
    "## Define the name of the legend classes for each input raster\n",
    "# For VHR land cover\n",
    "lc_class_name = \"/media/tais/My_Book_1/MAUPP/Traitement/Population_modelling_dasymetry/data/dakar/legend_VHR_landcover.txt\"\n",
    "# For VHR land use\n",
    "lu_class_name = \"/media/tais/My_Book_1/MAUPP/Traitement/Population_modelling_dasymetry/data/dakar/legend_VHR_landuse.txt\"\n",
    "# For MR built-up\n",
    "mr_class_name = \"/media/tais/My_Book_1/MAUPP/Traitement/Population_modelling_dasymetry/data/dakar/legend_MR_builtup.txt\""
   ]
  },
  {
   "cell_type": "code",
   "execution_count": 312,
   "metadata": {},
   "outputs": [],
   "source": [
    "# Function that perform the random forest regression on admin unit level and predict the response variable in GRID\n",
    "import rf_model\n",
    "reload(rf_model)\n",
    "from rf_model import RandomForest"
   ]
  },
  {
   "cell_type": "code",
   "execution_count": 309,
   "metadata": {},
   "outputs": [
    {
     "data": {
      "text/plain": [
       "<module 'legend_csv' from '/media/tais/data/Dropbox/ULB/MAUPP/Traitements/population_modeling/SRC/legend_csv.pyc'>"
      ]
     },
     "execution_count": 309,
     "metadata": {},
     "output_type": "execute_result"
    }
   ],
   "source": [
    "import legend_csv\n",
    "reload(legend_csv)"
   ]
  },
  {
   "cell_type": "code",
   "execution_count": 313,
   "metadata": {
    "collapsed": true
   },
   "outputs": [],
   "source": [
    "# Function that \n",
    "from legend_csv import labels_from_csv"
   ]
  },
  {
   "cell_type": "code",
   "execution_count": 314,
   "metadata": {
    "scrolled": true
   },
   "outputs": [
    {
     "name": "stdout",
     "output_type": "stream",
     "text": [
      "Parameter grid for Random Forest tuning :\n",
      "    max_features : sqrt, 0.1, 0.2, 0.3, 0.4, 0.5\n",
      "    n_estimators : 50, 150, 300, 500, 700\n",
      "    oob_score : True\n",
      "    bootstrap : True\n",
      "\n",
      "Optimized parameters for Random Forest after grid search 3-fold cross-validation tuning :\n",
      "    max_features : 0.3\n",
      "    n_estimators : 50\n",
      "    oob_score : True\n",
      "    bootstrap : True\n",
      "\n",
      "Mean cross-validated score (OOB) and stddev of the best_estimator : 0.283 (+/-0.203)\n",
      "\n",
      "Final Random Forest model run - internal Out-of-bag score (OOB) : 0.340\n"
     ]
    },
    {
     "data": {
      "image/png": "[encoded data removed]",
      "text/plain": [
       "<Figure size 360x314.64 with 1 Axes>"
      ]
     },
     "metadata": {},
     "output_type": "display_data"
    }
   ],
   "source": [
    "a = RandomForest(output_weighting_layer,gridded_vector.split(\"@\")[0],'cat')"
   ]
  },
  {
   "cell_type": "code",
   "execution_count": null,
   "metadata": {
    "collapsed": true
   },
   "outputs": [],
   "source": []
  },
  {
   "cell_type": "code",
   "execution_count": null,
   "metadata": {
    "collapsed": true
   },
   "outputs": [],
   "source": []
  },
  {
   "cell_type": "code",
   "execution_count": null,
   "metadata": {
    "collapsed": true
   },
   "outputs": [],
   "source": []
  },
  {
   "cell_type": "code",
   "execution_count": null,
   "metadata": {
    "collapsed": true
   },
   "outputs": [],
   "source": []
  },
  {
   "cell_type": "code",
   "execution_count": null,
   "metadata": {
    "collapsed": true
   },
   "outputs": [],
   "source": []
  },
  {
   "cell_type": "code",
   "execution_count": null,
   "metadata": {
    "collapsed": true
   },
   "outputs": [],
   "source": []
  }
 ],
 "metadata": {
  "anaconda-cloud": {},
  "kernelspec": {
   "display_name": "Python 2",
   "language": "python",
   "name": "python2"
  },
  "language_info": {
   "codemirror_mode": {
    "name": "ipython",
    "version": 2
   },
   "file_extension": ".py",
   "mimetype": "text/x-python",
   "name": "python",
   "nbconvert_exporter": "python",
   "pygments_lexer": "ipython2",
   "version": "2.7.12"
  }
 },
 "nbformat": 4,
 "nbformat_minor": 1
}
